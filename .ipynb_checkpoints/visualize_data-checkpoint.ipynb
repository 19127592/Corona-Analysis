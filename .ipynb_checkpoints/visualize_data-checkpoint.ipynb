{
 "cells": [
  {
   "cell_type": "code",
   "execution_count": 29,
   "metadata": {},
   "outputs": [],
   "source": [
    "import pandas as pd\n",
    "import matplotlib.pyplot as plt\n",
    "import plotly.graph_objects as go\n",
    "import plotly.express as px\n",
    "import plotly.io as pio\n",
    "from plotly.subplots import make_subplots\n",
    "from datetime import date, timedelta\n",
    "from IPython.display import display\n",
    "import seaborn as sns\n",
    "sns.set_theme(style=\"whitegrid\")"
   ]
  },
  {
   "cell_type": "code",
   "execution_count": 3,
   "metadata": {},
   "outputs": [],
   "source": [
    "header_by_day = [\"#\",\"Country\",\"Date\",\"TotalCases\",\"NewCases\",\"TotalDeaths\",\"NewDeaths\",\"TotalRecovered\",\"NewRecovered\",\n",
    "\"ActiveCases\",\"Serious,Critical\",\"Tot Cases/1M pop\",\"Deaths/1M pop\",\"TotalTests\",\"Tests/1M pop\",\"Population\",\"Continent\"]\n",
    "\n",
    "header_by_week = [\"#\", \"Country\", \"Cases in the last 7 days\", \"Cases in the preceding 7 days\",\n",
    "\"Weekly case /%/ change\", \"Cases in the last 7 days/1M pop\", \"Deaths in the last 7 days\", \n",
    "\"Deaths in the preceding 7 days\", \"Weekly Death /%/ change\", \"Deaths in the last 7 days/1M pop\", \"Population\", \"Continent\"]"
   ]
  },
  {
   "cell_type": "code",
   "execution_count": 4,
   "metadata": {},
   "outputs": [],
   "source": [
    "def RepresentsInt(s):\n",
    "    try: \n",
    "        int(s)\n",
    "        return True\n",
    "    except ValueError:\n",
    "        return False\n",
    "\n",
    "def convert_numeric(num):\n",
    "    condition = {\",\":\"\",\"+\":\"\",\"%\":\"\"}\n",
    "    if num == \"nan\" or num == \" \" or num == \"  \" or num == \" N/A\":\n",
    "        return 0\n",
    "\n",
    "    for i, j in condition.items():\n",
    "        num = num.replace(i, j)\n",
    "    if RepresentsInt(num) == True:\n",
    "        return int(num)\n",
    "    return float(num)"
   ]
  },
  {
   "cell_type": "code",
   "execution_count": 5,
   "metadata": {},
   "outputs": [],
   "source": [
    "df_covid_by_day = pd.read_csv('Corona_by_day.tsv',sep='\\t')"
   ]
  },
  {
   "cell_type": "code",
   "execution_count": 6,
   "metadata": {},
   "outputs": [],
   "source": [
    "for i in range(3,16):\n",
    "    df_covid_by_day[header_by_day[i]] = df_covid_by_day[header_by_day[i]].apply(lambda x:convert_numeric(str(x)))\n",
    "    \n",
    "df_covid_by_day[header_by_day[16]] = df_covid_by_day[header_by_day[16]].apply(lambda x:str(x).replace(\" \",\"\"))\n",
    "df_covid_by_day['Date'] = pd.to_datetime(df_covid_by_day['Date'],format=\"%d-%m-%Y\")"
   ]
  },
  {
   "cell_type": "code",
   "execution_count": 7,
   "metadata": {},
   "outputs": [],
   "source": [
    "df_covid_by_week = pd.read_csv('Corona_by_week.tsv',sep='\\t')"
   ]
  },
  {
   "cell_type": "code",
   "execution_count": 8,
   "metadata": {},
   "outputs": [],
   "source": [
    "for i in range(2,11):\n",
    "    df_covid_by_week[header_by_week[i]] = df_covid_by_week[header_by_week[i]].apply(lambda x:convert_numeric(str(x)))\n",
    "    \n",
    "df_covid_by_week[header_by_week[-1]] = df_covid_by_week[header_by_week[-1]].apply(lambda x:str(x).replace(\" \",\"\"))"
   ]
  },
  {
   "cell_type": "code",
   "execution_count": 9,
   "metadata": {},
   "outputs": [
    {
     "data": {
      "text/html": [
       "<div>\n",
       "<style scoped>\n",
       "    .dataframe tbody tr th:only-of-type {\n",
       "        vertical-align: middle;\n",
       "    }\n",
       "\n",
       "    .dataframe tbody tr th {\n",
       "        vertical-align: top;\n",
       "    }\n",
       "\n",
       "    .dataframe thead th {\n",
       "        text-align: right;\n",
       "    }\n",
       "</style>\n",
       "<table border=\"1\" class=\"dataframe\">\n",
       "  <thead>\n",
       "    <tr style=\"text-align: right;\">\n",
       "      <th></th>\n",
       "      <th>#</th>\n",
       "      <th>Country</th>\n",
       "      <th>Date</th>\n",
       "      <th>TotalCases</th>\n",
       "      <th>NewCases</th>\n",
       "      <th>TotalDeaths</th>\n",
       "      <th>NewDeaths</th>\n",
       "      <th>TotalRecovered</th>\n",
       "      <th>NewRecovered</th>\n",
       "      <th>ActiveCases</th>\n",
       "      <th>Serious,Critical</th>\n",
       "      <th>Tot Cases/1M pop</th>\n",
       "      <th>Deaths/1M pop</th>\n",
       "      <th>TotalTests</th>\n",
       "      <th>Tests/1M pop</th>\n",
       "      <th>Population</th>\n",
       "      <th>Continent</th>\n",
       "    </tr>\n",
       "  </thead>\n",
       "  <tbody>\n",
       "    <tr>\n",
       "      <th>0</th>\n",
       "      <td>1</td>\n",
       "      <td>USA</td>\n",
       "      <td>2022-02-28</td>\n",
       "      <td>80656025</td>\n",
       "      <td>34828</td>\n",
       "      <td>975951</td>\n",
       "      <td>843</td>\n",
       "      <td>53500262</td>\n",
       "      <td>278579</td>\n",
       "      <td>26179812</td>\n",
       "      <td>7770</td>\n",
       "      <td>241322</td>\n",
       "      <td>2920</td>\n",
       "      <td>950614834</td>\n",
       "      <td>2844228</td>\n",
       "      <td>334225917</td>\n",
       "      <td>NorthAmerica</td>\n",
       "    </tr>\n",
       "    <tr>\n",
       "      <th>1</th>\n",
       "      <td>2</td>\n",
       "      <td>India</td>\n",
       "      <td>2022-02-28</td>\n",
       "      <td>42931045</td>\n",
       "      <td>6915</td>\n",
       "      <td>514054</td>\n",
       "      <td>211</td>\n",
       "      <td>42324550</td>\n",
       "      <td>16864</td>\n",
       "      <td>92441</td>\n",
       "      <td>8944</td>\n",
       "      <td>30610</td>\n",
       "      <td>367</td>\n",
       "      <td>767481346</td>\n",
       "      <td>547211</td>\n",
       "      <td>1402532051</td>\n",
       "      <td>Asia</td>\n",
       "    </tr>\n",
       "    <tr>\n",
       "      <th>2</th>\n",
       "      <td>3</td>\n",
       "      <td>Brazil</td>\n",
       "      <td>2022-02-28</td>\n",
       "      <td>28787620</td>\n",
       "      <td>19516</td>\n",
       "      <td>649443</td>\n",
       "      <td>248</td>\n",
       "      <td>26336373</td>\n",
       "      <td>152750</td>\n",
       "      <td>1801804</td>\n",
       "      <td>8318</td>\n",
       "      <td>133853</td>\n",
       "      <td>3020</td>\n",
       "      <td>63776166</td>\n",
       "      <td>296539</td>\n",
       "      <td>215068475</td>\n",
       "      <td>SouthAmerica</td>\n",
       "    </tr>\n",
       "    <tr>\n",
       "      <th>3</th>\n",
       "      <td>4</td>\n",
       "      <td>France</td>\n",
       "      <td>2022-02-28</td>\n",
       "      <td>22702815</td>\n",
       "      <td>13483</td>\n",
       "      <td>138367</td>\n",
       "      <td>232</td>\n",
       "      <td>20901504</td>\n",
       "      <td>235191</td>\n",
       "      <td>1662944</td>\n",
       "      <td>2484</td>\n",
       "      <td>346537</td>\n",
       "      <td>2112</td>\n",
       "      <td>246629975</td>\n",
       "      <td>3764574</td>\n",
       "      <td>65513384</td>\n",
       "      <td>Europe</td>\n",
       "    </tr>\n",
       "    <tr>\n",
       "      <th>4</th>\n",
       "      <td>5</td>\n",
       "      <td>UK</td>\n",
       "      <td>2022-02-28</td>\n",
       "      <td>18886701</td>\n",
       "      <td>27312</td>\n",
       "      <td>161361</td>\n",
       "      <td>46</td>\n",
       "      <td>17449650</td>\n",
       "      <td>98709</td>\n",
       "      <td>1275690</td>\n",
       "      <td>289</td>\n",
       "      <td>275806</td>\n",
       "      <td>2356</td>\n",
       "      <td>480341745</td>\n",
       "      <td>7014519</td>\n",
       "      <td>68478212</td>\n",
       "      <td>Europe</td>\n",
       "    </tr>\n",
       "    <tr>\n",
       "      <th>...</th>\n",
       "      <td>...</td>\n",
       "      <td>...</td>\n",
       "      <td>...</td>\n",
       "      <td>...</td>\n",
       "      <td>...</td>\n",
       "      <td>...</td>\n",
       "      <td>...</td>\n",
       "      <td>...</td>\n",
       "      <td>...</td>\n",
       "      <td>...</td>\n",
       "      <td>...</td>\n",
       "      <td>...</td>\n",
       "      <td>...</td>\n",
       "      <td>...</td>\n",
       "      <td>...</td>\n",
       "      <td>...</td>\n",
       "      <td>...</td>\n",
       "    </tr>\n",
       "    <tr>\n",
       "      <th>2256</th>\n",
       "      <td>222</td>\n",
       "      <td>Western Sahara</td>\n",
       "      <td>2022-03-09</td>\n",
       "      <td>10</td>\n",
       "      <td>0</td>\n",
       "      <td>1</td>\n",
       "      <td>0</td>\n",
       "      <td>8</td>\n",
       "      <td>0</td>\n",
       "      <td>1</td>\n",
       "      <td>0</td>\n",
       "      <td>16</td>\n",
       "      <td>2</td>\n",
       "      <td>0</td>\n",
       "      <td>0</td>\n",
       "      <td>622025</td>\n",
       "      <td>Africa</td>\n",
       "    </tr>\n",
       "    <tr>\n",
       "      <th>2257</th>\n",
       "      <td>223</td>\n",
       "      <td>MS Zaandam</td>\n",
       "      <td>2022-03-09</td>\n",
       "      <td>9</td>\n",
       "      <td>0</td>\n",
       "      <td>2</td>\n",
       "      <td>0</td>\n",
       "      <td>7</td>\n",
       "      <td>0</td>\n",
       "      <td>0</td>\n",
       "      <td>0</td>\n",
       "      <td>0</td>\n",
       "      <td>0</td>\n",
       "      <td>0</td>\n",
       "      <td>0</td>\n",
       "      <td>0</td>\n",
       "      <td>nan</td>\n",
       "    </tr>\n",
       "    <tr>\n",
       "      <th>2258</th>\n",
       "      <td>224</td>\n",
       "      <td>Marshall Islands</td>\n",
       "      <td>2022-03-09</td>\n",
       "      <td>7</td>\n",
       "      <td>0</td>\n",
       "      <td>0</td>\n",
       "      <td>0</td>\n",
       "      <td>7</td>\n",
       "      <td>0</td>\n",
       "      <td>0</td>\n",
       "      <td>0</td>\n",
       "      <td>117</td>\n",
       "      <td>0</td>\n",
       "      <td>0</td>\n",
       "      <td>0</td>\n",
       "      <td>59862</td>\n",
       "      <td>Australia/Oceania</td>\n",
       "    </tr>\n",
       "    <tr>\n",
       "      <th>2259</th>\n",
       "      <td>225</td>\n",
       "      <td>Saint Helena</td>\n",
       "      <td>2022-03-09</td>\n",
       "      <td>2</td>\n",
       "      <td>0</td>\n",
       "      <td>0</td>\n",
       "      <td>0</td>\n",
       "      <td>2</td>\n",
       "      <td>0</td>\n",
       "      <td>0</td>\n",
       "      <td>0</td>\n",
       "      <td>327</td>\n",
       "      <td>0</td>\n",
       "      <td>0</td>\n",
       "      <td>0</td>\n",
       "      <td>6107</td>\n",
       "      <td>Africa</td>\n",
       "    </tr>\n",
       "    <tr>\n",
       "      <th>2260</th>\n",
       "      <td>226</td>\n",
       "      <td>Micronesia</td>\n",
       "      <td>2022-03-09</td>\n",
       "      <td>1</td>\n",
       "      <td>0</td>\n",
       "      <td>0</td>\n",
       "      <td>0</td>\n",
       "      <td>1</td>\n",
       "      <td>0</td>\n",
       "      <td>0</td>\n",
       "      <td>0</td>\n",
       "      <td>9</td>\n",
       "      <td>0</td>\n",
       "      <td>0</td>\n",
       "      <td>0</td>\n",
       "      <td>117051</td>\n",
       "      <td>Australia/Oceania</td>\n",
       "    </tr>\n",
       "  </tbody>\n",
       "</table>\n",
       "<p>2261 rows × 17 columns</p>\n",
       "</div>"
      ],
      "text/plain": [
       "        #           Country       Date  TotalCases  NewCases  TotalDeaths  \\\n",
       "0       1               USA 2022-02-28    80656025     34828       975951   \n",
       "1       2             India 2022-02-28    42931045      6915       514054   \n",
       "2       3            Brazil 2022-02-28    28787620     19516       649443   \n",
       "3       4            France 2022-02-28    22702815     13483       138367   \n",
       "4       5                UK 2022-02-28    18886701     27312       161361   \n",
       "...   ...               ...        ...         ...       ...          ...   \n",
       "2256  222    Western Sahara 2022-03-09          10         0            1   \n",
       "2257  223        MS Zaandam 2022-03-09           9         0            2   \n",
       "2258  224  Marshall Islands 2022-03-09           7         0            0   \n",
       "2259  225      Saint Helena 2022-03-09           2         0            0   \n",
       "2260  226        Micronesia 2022-03-09           1         0            0   \n",
       "\n",
       "      NewDeaths  TotalRecovered  NewRecovered  ActiveCases  Serious,Critical  \\\n",
       "0           843        53500262        278579     26179812              7770   \n",
       "1           211        42324550         16864        92441              8944   \n",
       "2           248        26336373        152750      1801804              8318   \n",
       "3           232        20901504        235191      1662944              2484   \n",
       "4            46        17449650         98709      1275690               289   \n",
       "...         ...             ...           ...          ...               ...   \n",
       "2256          0               8             0            1                 0   \n",
       "2257          0               7             0            0                 0   \n",
       "2258          0               7             0            0                 0   \n",
       "2259          0               2             0            0                 0   \n",
       "2260          0               1             0            0                 0   \n",
       "\n",
       "      Tot Cases/1M pop  Deaths/1M pop  TotalTests  Tests/1M pop  Population  \\\n",
       "0               241322           2920   950614834       2844228   334225917   \n",
       "1                30610            367   767481346        547211  1402532051   \n",
       "2               133853           3020    63776166        296539   215068475   \n",
       "3               346537           2112   246629975       3764574    65513384   \n",
       "4               275806           2356   480341745       7014519    68478212   \n",
       "...                ...            ...         ...           ...         ...   \n",
       "2256                16              2           0             0      622025   \n",
       "2257                 0              0           0             0           0   \n",
       "2258               117              0           0             0       59862   \n",
       "2259               327              0           0             0        6107   \n",
       "2260                 9              0           0             0      117051   \n",
       "\n",
       "              Continent  \n",
       "0          NorthAmerica  \n",
       "1                  Asia  \n",
       "2          SouthAmerica  \n",
       "3                Europe  \n",
       "4                Europe  \n",
       "...                 ...  \n",
       "2256             Africa  \n",
       "2257                nan  \n",
       "2258  Australia/Oceania  \n",
       "2259             Africa  \n",
       "2260  Australia/Oceania  \n",
       "\n",
       "[2261 rows x 17 columns]"
      ]
     },
     "execution_count": 9,
     "metadata": {},
     "output_type": "execute_result"
    }
   ],
   "source": [
    "df_covid_by_day"
   ]
  },
  {
   "cell_type": "code",
   "execution_count": 11,
   "metadata": {},
   "outputs": [
    {
     "data": {
      "text/plain": [
       "#                            int64\n",
       "Country                     object\n",
       "Date                datetime64[ns]\n",
       "TotalCases                   int64\n",
       "NewCases                     int64\n",
       "TotalDeaths                  int64\n",
       "NewDeaths                    int64\n",
       "TotalRecovered               int64\n",
       "NewRecovered                 int64\n",
       "ActiveCases                  int64\n",
       "Serious,Critical             int64\n",
       "Tot Cases/1M pop             int64\n",
       "Deaths/1M pop                int64\n",
       "TotalTests                   int64\n",
       "Tests/1M pop                 int64\n",
       "Population                   int64\n",
       "Continent                   object\n",
       "dtype: object"
      ]
     },
     "execution_count": 11,
     "metadata": {},
     "output_type": "execute_result"
    }
   ],
   "source": [
    "df_covid_by_day.dtypes"
   ]
  },
  {
   "cell_type": "code",
   "execution_count": 12,
   "metadata": {},
   "outputs": [
    {
     "data": {
      "text/html": [
       "<div>\n",
       "<style scoped>\n",
       "    .dataframe tbody tr th:only-of-type {\n",
       "        vertical-align: middle;\n",
       "    }\n",
       "\n",
       "    .dataframe tbody tr th {\n",
       "        vertical-align: top;\n",
       "    }\n",
       "\n",
       "    .dataframe thead th {\n",
       "        text-align: right;\n",
       "    }\n",
       "</style>\n",
       "<table border=\"1\" class=\"dataframe\">\n",
       "  <thead>\n",
       "    <tr style=\"text-align: right;\">\n",
       "      <th></th>\n",
       "      <th>#</th>\n",
       "      <th>Country</th>\n",
       "      <th>Cases in the last 7 days</th>\n",
       "      <th>Cases in the preceding 7 days</th>\n",
       "      <th>Weekly case /%/ change</th>\n",
       "      <th>Cases in the last 7 days/1M pop</th>\n",
       "      <th>Deaths in the last 7 days</th>\n",
       "      <th>Deaths in the preceding 7 days</th>\n",
       "      <th>Weekly Death /%/ change</th>\n",
       "      <th>Deaths in the last 7 days/1M pop</th>\n",
       "      <th>Population</th>\n",
       "      <th>Continent</th>\n",
       "    </tr>\n",
       "  </thead>\n",
       "  <tbody>\n",
       "    <tr>\n",
       "      <th>0</th>\n",
       "      <td>1</td>\n",
       "      <td>S. Korea</td>\n",
       "      <td>1719432</td>\n",
       "      <td>1163504</td>\n",
       "      <td>48</td>\n",
       "      <td>33489.0</td>\n",
       "      <td>1174</td>\n",
       "      <td>659</td>\n",
       "      <td>78</td>\n",
       "      <td>23.0</td>\n",
       "      <td>51343425</td>\n",
       "      <td>Asia</td>\n",
       "    </tr>\n",
       "    <tr>\n",
       "      <th>1</th>\n",
       "      <td>2</td>\n",
       "      <td>Germany</td>\n",
       "      <td>1163166</td>\n",
       "      <td>1080549</td>\n",
       "      <td>8</td>\n",
       "      <td>13809.0</td>\n",
       "      <td>1539</td>\n",
       "      <td>1354</td>\n",
       "      <td>14</td>\n",
       "      <td>18.0</td>\n",
       "      <td>84234696</td>\n",
       "      <td>Europe</td>\n",
       "    </tr>\n",
       "    <tr>\n",
       "      <th>2</th>\n",
       "      <td>3</td>\n",
       "      <td>Vietnam</td>\n",
       "      <td>1024607</td>\n",
       "      <td>681117</td>\n",
       "      <td>50</td>\n",
       "      <td>10369.0</td>\n",
       "      <td>634</td>\n",
       "      <td>679</td>\n",
       "      <td>-7</td>\n",
       "      <td>6.0</td>\n",
       "      <td>98811950</td>\n",
       "      <td>Asia</td>\n",
       "    </tr>\n",
       "    <tr>\n",
       "      <th>3</th>\n",
       "      <td>4</td>\n",
       "      <td>Russia</td>\n",
       "      <td>547245</td>\n",
       "      <td>797254</td>\n",
       "      <td>-31</td>\n",
       "      <td>3747.0</td>\n",
       "      <td>5016</td>\n",
       "      <td>5414</td>\n",
       "      <td>-7</td>\n",
       "      <td>34.0</td>\n",
       "      <td>146039751</td>\n",
       "      <td>Europe</td>\n",
       "    </tr>\n",
       "    <tr>\n",
       "      <th>4</th>\n",
       "      <td>5</td>\n",
       "      <td>Netherlands</td>\n",
       "      <td>465507</td>\n",
       "      <td>252827</td>\n",
       "      <td>84</td>\n",
       "      <td>27066.0</td>\n",
       "      <td>52</td>\n",
       "      <td>64</td>\n",
       "      <td>-19</td>\n",
       "      <td>3.0</td>\n",
       "      <td>17198663</td>\n",
       "      <td>Europe</td>\n",
       "    </tr>\n",
       "    <tr>\n",
       "      <th>...</th>\n",
       "      <td>...</td>\n",
       "      <td>...</td>\n",
       "      <td>...</td>\n",
       "      <td>...</td>\n",
       "      <td>...</td>\n",
       "      <td>...</td>\n",
       "      <td>...</td>\n",
       "      <td>...</td>\n",
       "      <td>...</td>\n",
       "      <td>...</td>\n",
       "      <td>...</td>\n",
       "      <td>...</td>\n",
       "    </tr>\n",
       "    <tr>\n",
       "      <th>211</th>\n",
       "      <td>212</td>\n",
       "      <td>Faeroe Islands</td>\n",
       "      <td>0</td>\n",
       "      <td>2193</td>\n",
       "      <td>-100</td>\n",
       "      <td>0.0</td>\n",
       "      <td>0</td>\n",
       "      <td>4</td>\n",
       "      <td>-100</td>\n",
       "      <td>0.0</td>\n",
       "      <td>49175</td>\n",
       "      <td>Europe</td>\n",
       "    </tr>\n",
       "    <tr>\n",
       "      <th>212</th>\n",
       "      <td>213</td>\n",
       "      <td>Grenada</td>\n",
       "      <td>0</td>\n",
       "      <td>125</td>\n",
       "      <td>-100</td>\n",
       "      <td>0.0</td>\n",
       "      <td>0</td>\n",
       "      <td>2</td>\n",
       "      <td>-100</td>\n",
       "      <td>0.0</td>\n",
       "      <td>113400</td>\n",
       "      <td>NorthAmerica</td>\n",
       "    </tr>\n",
       "    <tr>\n",
       "      <th>213</th>\n",
       "      <td>214</td>\n",
       "      <td>Montserrat</td>\n",
       "      <td>0</td>\n",
       "      <td>1</td>\n",
       "      <td>-100</td>\n",
       "      <td>0.0</td>\n",
       "      <td>0</td>\n",
       "      <td>0</td>\n",
       "      <td>0</td>\n",
       "      <td>0.0</td>\n",
       "      <td>4997</td>\n",
       "      <td>NorthAmerica</td>\n",
       "    </tr>\n",
       "    <tr>\n",
       "      <th>214</th>\n",
       "      <td>215</td>\n",
       "      <td>Sao Tome and Principe</td>\n",
       "      <td>0</td>\n",
       "      <td>2</td>\n",
       "      <td>-100</td>\n",
       "      <td>0.0</td>\n",
       "      <td>0</td>\n",
       "      <td>0</td>\n",
       "      <td>0</td>\n",
       "      <td>0.0</td>\n",
       "      <td>226002</td>\n",
       "      <td>Africa</td>\n",
       "    </tr>\n",
       "    <tr>\n",
       "      <th>215</th>\n",
       "      <td>216</td>\n",
       "      <td>Turks and Caicos</td>\n",
       "      <td>0</td>\n",
       "      <td>19</td>\n",
       "      <td>-100</td>\n",
       "      <td>0.0</td>\n",
       "      <td>0</td>\n",
       "      <td>0</td>\n",
       "      <td>0</td>\n",
       "      <td>0.0</td>\n",
       "      <td>39598</td>\n",
       "      <td>NorthAmerica</td>\n",
       "    </tr>\n",
       "  </tbody>\n",
       "</table>\n",
       "<p>216 rows × 12 columns</p>\n",
       "</div>"
      ],
      "text/plain": [
       "       #                Country  Cases in the last 7 days  \\\n",
       "0      1               S. Korea                   1719432   \n",
       "1      2                Germany                   1163166   \n",
       "2      3                Vietnam                   1024607   \n",
       "3      4                 Russia                    547245   \n",
       "4      5            Netherlands                    465507   \n",
       "..   ...                    ...                       ...   \n",
       "211  212         Faeroe Islands                         0   \n",
       "212  213                Grenada                         0   \n",
       "213  214             Montserrat                         0   \n",
       "214  215  Sao Tome and Principe                         0   \n",
       "215  216       Turks and Caicos                         0   \n",
       "\n",
       "     Cases in the preceding 7 days  Weekly case /%/ change  \\\n",
       "0                          1163504                      48   \n",
       "1                          1080549                       8   \n",
       "2                           681117                      50   \n",
       "3                           797254                     -31   \n",
       "4                           252827                      84   \n",
       "..                             ...                     ...   \n",
       "211                           2193                    -100   \n",
       "212                            125                    -100   \n",
       "213                              1                    -100   \n",
       "214                              2                    -100   \n",
       "215                             19                    -100   \n",
       "\n",
       "     Cases in the last 7 days/1M pop  Deaths in the last 7 days  \\\n",
       "0                            33489.0                       1174   \n",
       "1                            13809.0                       1539   \n",
       "2                            10369.0                        634   \n",
       "3                             3747.0                       5016   \n",
       "4                            27066.0                         52   \n",
       "..                               ...                        ...   \n",
       "211                              0.0                          0   \n",
       "212                              0.0                          0   \n",
       "213                              0.0                          0   \n",
       "214                              0.0                          0   \n",
       "215                              0.0                          0   \n",
       "\n",
       "     Deaths in the preceding 7 days  Weekly Death /%/ change  \\\n",
       "0                               659                       78   \n",
       "1                              1354                       14   \n",
       "2                               679                       -7   \n",
       "3                              5414                       -7   \n",
       "4                                64                      -19   \n",
       "..                              ...                      ...   \n",
       "211                               4                     -100   \n",
       "212                               2                     -100   \n",
       "213                               0                        0   \n",
       "214                               0                        0   \n",
       "215                               0                        0   \n",
       "\n",
       "     Deaths in the last 7 days/1M pop  Population     Continent  \n",
       "0                                23.0    51343425          Asia  \n",
       "1                                18.0    84234696        Europe  \n",
       "2                                 6.0    98811950          Asia  \n",
       "3                                34.0   146039751        Europe  \n",
       "4                                 3.0    17198663        Europe  \n",
       "..                                ...         ...           ...  \n",
       "211                               0.0       49175        Europe  \n",
       "212                               0.0      113400  NorthAmerica  \n",
       "213                               0.0        4997  NorthAmerica  \n",
       "214                               0.0      226002        Africa  \n",
       "215                               0.0       39598  NorthAmerica  \n",
       "\n",
       "[216 rows x 12 columns]"
      ]
     },
     "execution_count": 12,
     "metadata": {},
     "output_type": "execute_result"
    }
   ],
   "source": [
    "df_covid_by_week"
   ]
  },
  {
   "cell_type": "code",
   "execution_count": 13,
   "metadata": {},
   "outputs": [
    {
     "data": {
      "text/plain": [
       "#                                     int64\n",
       "Country                              object\n",
       "Cases in the last 7 days              int64\n",
       "Cases in the preceding 7 days         int64\n",
       "Weekly case /%/ change                int64\n",
       "Cases in the last 7 days/1M pop     float64\n",
       "Deaths in the last 7 days             int64\n",
       "Deaths in the preceding 7 days        int64\n",
       "Weekly Death /%/ change               int64\n",
       "Deaths in the last 7 days/1M pop    float64\n",
       "Population                            int64\n",
       "Continent                            object\n",
       "dtype: object"
      ]
     },
     "execution_count": 13,
     "metadata": {},
     "output_type": "execute_result"
    }
   ],
   "source": [
    "df_covid_by_week.dtypes"
   ]
  },
  {
   "cell_type": "markdown",
   "metadata": {},
   "source": [
    "### Phân chia dataset theo ngày thành 6 châu lục\n",
    "\n",
    "Tuần không cần vì các chỉ số không cho phép ta groupby, nếu groupby sẽ bị sai lệch số liệu."
   ]
  },
  {
   "cell_type": "code",
   "execution_count": 14,
   "metadata": {},
   "outputs": [],
   "source": [
    "today = date.today()\n",
    "yesterday = (today - timedelta(2)).strftime(\"%Y-%m-%d\")"
   ]
  },
  {
   "cell_type": "markdown",
   "metadata": {},
   "source": [
    "Nhớ pull về hoặc check trong dataset xem có dữ liệu ngày trước không, nếu không thông báo Lê Minh Trí gấp !!"
   ]
  },
  {
   "cell_type": "code",
   "execution_count": 15,
   "metadata": {},
   "outputs": [],
   "source": [
    "df_covid_yesterday = df_covid_by_day[df_covid_by_day['Date'] == yesterday]"
   ]
  },
  {
   "cell_type": "code",
   "execution_count": 16,
   "metadata": {},
   "outputs": [],
   "source": [
    "continent_yesterday_df = df_covid_yesterday.groupby(\"Continent\").sum().drop(\"nan\").reset_index()\n",
    "continent_yesterday_df = continent_yesterday_df.drop([\"#\",\"Tot Cases/1M pop\",\"Deaths/1M pop\",\"Tests/1M pop\"],axis=1)\n",
    "continent_yesterday_df['Date'] = yesterday\n",
    "continent_yesterday_df['Date'] = pd.to_datetime(continent_yesterday_df['Date'],format=\"%Y-%m-%d\")"
   ]
  },
  {
   "cell_type": "markdown",
   "metadata": {},
   "source": [
    "Dataframe của 6 châu lục theo ngày hôm qua. Áp dụng cho nhiều chart khác nhau."
   ]
  },
  {
   "cell_type": "code",
   "execution_count": 17,
   "metadata": {},
   "outputs": [
    {
     "data": {
      "text/html": [
       "<div>\n",
       "<style scoped>\n",
       "    .dataframe tbody tr th:only-of-type {\n",
       "        vertical-align: middle;\n",
       "    }\n",
       "\n",
       "    .dataframe tbody tr th {\n",
       "        vertical-align: top;\n",
       "    }\n",
       "\n",
       "    .dataframe thead th {\n",
       "        text-align: right;\n",
       "    }\n",
       "</style>\n",
       "<table border=\"1\" class=\"dataframe\">\n",
       "  <thead>\n",
       "    <tr style=\"text-align: right;\">\n",
       "      <th></th>\n",
       "      <th>Continent</th>\n",
       "      <th>TotalCases</th>\n",
       "      <th>NewCases</th>\n",
       "      <th>TotalDeaths</th>\n",
       "      <th>NewDeaths</th>\n",
       "      <th>TotalRecovered</th>\n",
       "      <th>NewRecovered</th>\n",
       "      <th>ActiveCases</th>\n",
       "      <th>Serious,Critical</th>\n",
       "      <th>TotalTests</th>\n",
       "      <th>Population</th>\n",
       "      <th>Date</th>\n",
       "    </tr>\n",
       "  </thead>\n",
       "  <tbody>\n",
       "    <tr>\n",
       "      <th>0</th>\n",
       "      <td>Africa</td>\n",
       "      <td>11606828</td>\n",
       "      <td>5018</td>\n",
       "      <td>251381</td>\n",
       "      <td>74</td>\n",
       "      <td>10714458</td>\n",
       "      <td>3663</td>\n",
       "      <td>543744</td>\n",
       "      <td>1645</td>\n",
       "      <td>97057812</td>\n",
       "      <td>1394552025</td>\n",
       "      <td>2022-03-09</td>\n",
       "    </tr>\n",
       "    <tr>\n",
       "      <th>1</th>\n",
       "      <td>Asia</td>\n",
       "      <td>122939916</td>\n",
       "      <td>745049</td>\n",
       "      <td>1365655</td>\n",
       "      <td>1941</td>\n",
       "      <td>111210915</td>\n",
       "      <td>360733</td>\n",
       "      <td>10363346</td>\n",
       "      <td>29776</td>\n",
       "      <td>1960208178</td>\n",
       "      <td>4666392621</td>\n",
       "      <td>2022-03-09</td>\n",
       "    </tr>\n",
       "    <tr>\n",
       "      <th>2</th>\n",
       "      <td>Australia/Oceania</td>\n",
       "      <td>4001163</td>\n",
       "      <td>57621</td>\n",
       "      <td>8128</td>\n",
       "      <td>34</td>\n",
       "      <td>3473410</td>\n",
       "      <td>44668</td>\n",
       "      <td>450682</td>\n",
       "      <td>155</td>\n",
       "      <td>72008593</td>\n",
       "      <td>43403365</td>\n",
       "      <td>2022-03-09</td>\n",
       "    </tr>\n",
       "    <tr>\n",
       "      <th>3</th>\n",
       "      <td>Europe</td>\n",
       "      <td>162322627</td>\n",
       "      <td>756033</td>\n",
       "      <td>1731985</td>\n",
       "      <td>2311</td>\n",
       "      <td>138577310</td>\n",
       "      <td>837165</td>\n",
       "      <td>17237755</td>\n",
       "      <td>12503</td>\n",
       "      <td>2514297662</td>\n",
       "      <td>748389658</td>\n",
       "      <td>2022-03-09</td>\n",
       "    </tr>\n",
       "    <tr>\n",
       "      <th>4</th>\n",
       "      <td>NorthAmerica</td>\n",
       "      <td>95520694</td>\n",
       "      <td>59922</td>\n",
       "      <td>1420832</td>\n",
       "      <td>1609</td>\n",
       "      <td>68139551</td>\n",
       "      <td>228602</td>\n",
       "      <td>25950508</td>\n",
       "      <td>11087</td>\n",
       "      <td>1075806512</td>\n",
       "      <td>596875446</td>\n",
       "      <td>2022-03-09</td>\n",
       "    </tr>\n",
       "    <tr>\n",
       "      <th>5</th>\n",
       "      <td>SouthAmerica</td>\n",
       "      <td>54965581</td>\n",
       "      <td>76281</td>\n",
       "      <td>1265271</td>\n",
       "      <td>842</td>\n",
       "      <td>47381640</td>\n",
       "      <td>168169</td>\n",
       "      <td>2191408</td>\n",
       "      <td>12771</td>\n",
       "      <td>211540971</td>\n",
       "      <td>436739222</td>\n",
       "      <td>2022-03-09</td>\n",
       "    </tr>\n",
       "  </tbody>\n",
       "</table>\n",
       "</div>"
      ],
      "text/plain": [
       "           Continent  TotalCases  NewCases  TotalDeaths  NewDeaths  \\\n",
       "0             Africa    11606828      5018       251381         74   \n",
       "1               Asia   122939916    745049      1365655       1941   \n",
       "2  Australia/Oceania     4001163     57621         8128         34   \n",
       "3             Europe   162322627    756033      1731985       2311   \n",
       "4       NorthAmerica    95520694     59922      1420832       1609   \n",
       "5       SouthAmerica    54965581     76281      1265271        842   \n",
       "\n",
       "   TotalRecovered  NewRecovered  ActiveCases  Serious,Critical  TotalTests  \\\n",
       "0        10714458          3663       543744              1645    97057812   \n",
       "1       111210915        360733     10363346             29776  1960208178   \n",
       "2         3473410         44668       450682               155    72008593   \n",
       "3       138577310        837165     17237755             12503  2514297662   \n",
       "4        68139551        228602     25950508             11087  1075806512   \n",
       "5        47381640        168169      2191408             12771   211540971   \n",
       "\n",
       "   Population       Date  \n",
       "0  1394552025 2022-03-09  \n",
       "1  4666392621 2022-03-09  \n",
       "2    43403365 2022-03-09  \n",
       "3   748389658 2022-03-09  \n",
       "4   596875446 2022-03-09  \n",
       "5   436739222 2022-03-09  "
      ]
     },
     "execution_count": 17,
     "metadata": {},
     "output_type": "execute_result"
    }
   ],
   "source": [
    "continent_yesterday_df"
   ]
  },
  {
   "cell_type": "markdown",
   "metadata": {},
   "source": [
    "Dataframe dựa theo thời gian cho line chart."
   ]
  },
  {
   "cell_type": "code",
   "execution_count": 10,
   "metadata": {},
   "outputs": [
    {
     "data": {
      "text/html": [
       "<div>\n",
       "<style scoped>\n",
       "    .dataframe tbody tr th:only-of-type {\n",
       "        vertical-align: middle;\n",
       "    }\n",
       "\n",
       "    .dataframe tbody tr th {\n",
       "        vertical-align: top;\n",
       "    }\n",
       "\n",
       "    .dataframe thead th {\n",
       "        text-align: right;\n",
       "    }\n",
       "</style>\n",
       "<table border=\"1\" class=\"dataframe\">\n",
       "  <thead>\n",
       "    <tr style=\"text-align: right;\">\n",
       "      <th></th>\n",
       "      <th>Date</th>\n",
       "      <th>TotalCases</th>\n",
       "      <th>NewCases</th>\n",
       "      <th>TotalDeaths</th>\n",
       "      <th>NewDeaths</th>\n",
       "      <th>TotalRecovered</th>\n",
       "      <th>NewRecovered</th>\n",
       "      <th>ActiveCases</th>\n",
       "      <th>Serious,Critical</th>\n",
       "      <th>TotalTests</th>\n",
       "      <th>Population</th>\n",
       "    </tr>\n",
       "  </thead>\n",
       "  <tbody>\n",
       "    <tr>\n",
       "      <th>0</th>\n",
       "      <td>2022-02-28</td>\n",
       "      <td>437173429</td>\n",
       "      <td>1128262</td>\n",
       "      <td>5976416</td>\n",
       "      <td>6045</td>\n",
       "      <td>366621406</td>\n",
       "      <td>2154754</td>\n",
       "      <td>60360176</td>\n",
       "      <td>74759</td>\n",
       "      <td>5864353102</td>\n",
       "      <td>7884712500</td>\n",
       "    </tr>\n",
       "    <tr>\n",
       "      <th>1</th>\n",
       "      <td>2022-03-01</td>\n",
       "      <td>438510827</td>\n",
       "      <td>1337398</td>\n",
       "      <td>5983229</td>\n",
       "      <td>6813</td>\n",
       "      <td>368695782</td>\n",
       "      <td>2074376</td>\n",
       "      <td>59615435</td>\n",
       "      <td>74737</td>\n",
       "      <td>5869547415</td>\n",
       "      <td>7884712500</td>\n",
       "    </tr>\n",
       "    <tr>\n",
       "      <th>2</th>\n",
       "      <td>2022-03-02</td>\n",
       "      <td>440290515</td>\n",
       "      <td>1590173</td>\n",
       "      <td>5992432</td>\n",
       "      <td>7756</td>\n",
       "      <td>370783860</td>\n",
       "      <td>1939726</td>\n",
       "      <td>59289172</td>\n",
       "      <td>75953</td>\n",
       "      <td>5881445441</td>\n",
       "      <td>7884917270</td>\n",
       "    </tr>\n",
       "    <tr>\n",
       "      <th>3</th>\n",
       "      <td>2022-03-03</td>\n",
       "      <td>440377632</td>\n",
       "      <td>1599844</td>\n",
       "      <td>5993186</td>\n",
       "      <td>7872</td>\n",
       "      <td>370787000</td>\n",
       "      <td>1942866</td>\n",
       "      <td>59371827</td>\n",
       "      <td>75953</td>\n",
       "      <td>5881556015</td>\n",
       "      <td>7885122041</td>\n",
       "    </tr>\n",
       "    <tr>\n",
       "      <th>4</th>\n",
       "      <td>2022-03-04</td>\n",
       "      <td>443707497</td>\n",
       "      <td>1646436</td>\n",
       "      <td>6009345</td>\n",
       "      <td>8022</td>\n",
       "      <td>374469187</td>\n",
       "      <td>1751635</td>\n",
       "      <td>58996442</td>\n",
       "      <td>71862</td>\n",
       "      <td>5897737771</td>\n",
       "      <td>7885326827</td>\n",
       "    </tr>\n",
       "    <tr>\n",
       "      <th>5</th>\n",
       "      <td>2022-03-05</td>\n",
       "      <td>445123567</td>\n",
       "      <td>1371131</td>\n",
       "      <td>6015068</td>\n",
       "      <td>5651</td>\n",
       "      <td>375967273</td>\n",
       "      <td>1407925</td>\n",
       "      <td>58908703</td>\n",
       "      <td>72014</td>\n",
       "      <td>5903514343</td>\n",
       "      <td>7885531595</td>\n",
       "    </tr>\n",
       "    <tr>\n",
       "      <th>6</th>\n",
       "      <td>2022-03-06</td>\n",
       "      <td>446397620</td>\n",
       "      <td>1158654</td>\n",
       "      <td>6020183</td>\n",
       "      <td>4135</td>\n",
       "      <td>373237627</td>\n",
       "      <td>1328479</td>\n",
       "      <td>58148380</td>\n",
       "      <td>71136</td>\n",
       "      <td>5907087283</td>\n",
       "      <td>7885736371</td>\n",
       "    </tr>\n",
       "    <tr>\n",
       "      <th>7</th>\n",
       "      <td>2022-03-07</td>\n",
       "      <td>447839847</td>\n",
       "      <td>1216094</td>\n",
       "      <td>6026998</td>\n",
       "      <td>4912</td>\n",
       "      <td>375661281</td>\n",
       "      <td>1799427</td>\n",
       "      <td>57141478</td>\n",
       "      <td>70224</td>\n",
       "      <td>5912809671</td>\n",
       "      <td>7885941139</td>\n",
       "    </tr>\n",
       "    <tr>\n",
       "      <th>8</th>\n",
       "      <td>2022-03-08</td>\n",
       "      <td>449527551</td>\n",
       "      <td>1622156</td>\n",
       "      <td>6035718</td>\n",
       "      <td>6945</td>\n",
       "      <td>377568640</td>\n",
       "      <td>1926545</td>\n",
       "      <td>56851261</td>\n",
       "      <td>69516</td>\n",
       "      <td>5922376940</td>\n",
       "      <td>7886145914</td>\n",
       "    </tr>\n",
       "    <tr>\n",
       "      <th>9</th>\n",
       "      <td>2022-03-09</td>\n",
       "      <td>451357530</td>\n",
       "      <td>1699924</td>\n",
       "      <td>6043267</td>\n",
       "      <td>6811</td>\n",
       "      <td>379497990</td>\n",
       "      <td>1643000</td>\n",
       "      <td>56737443</td>\n",
       "      <td>67937</td>\n",
       "      <td>5930919728</td>\n",
       "      <td>7886352337</td>\n",
       "    </tr>\n",
       "  </tbody>\n",
       "</table>\n",
       "</div>"
      ],
      "text/plain": [
       "        Date  TotalCases  NewCases  TotalDeaths  NewDeaths  TotalRecovered  \\\n",
       "0 2022-02-28   437173429   1128262      5976416       6045       366621406   \n",
       "1 2022-03-01   438510827   1337398      5983229       6813       368695782   \n",
       "2 2022-03-02   440290515   1590173      5992432       7756       370783860   \n",
       "3 2022-03-03   440377632   1599844      5993186       7872       370787000   \n",
       "4 2022-03-04   443707497   1646436      6009345       8022       374469187   \n",
       "5 2022-03-05   445123567   1371131      6015068       5651       375967273   \n",
       "6 2022-03-06   446397620   1158654      6020183       4135       373237627   \n",
       "7 2022-03-07   447839847   1216094      6026998       4912       375661281   \n",
       "8 2022-03-08   449527551   1622156      6035718       6945       377568640   \n",
       "9 2022-03-09   451357530   1699924      6043267       6811       379497990   \n",
       "\n",
       "   NewRecovered  ActiveCases  Serious,Critical  TotalTests  Population  \n",
       "0       2154754     60360176             74759  5864353102  7884712500  \n",
       "1       2074376     59615435             74737  5869547415  7884712500  \n",
       "2       1939726     59289172             75953  5881445441  7884917270  \n",
       "3       1942866     59371827             75953  5881556015  7885122041  \n",
       "4       1751635     58996442             71862  5897737771  7885326827  \n",
       "5       1407925     58908703             72014  5903514343  7885531595  \n",
       "6       1328479     58148380             71136  5907087283  7885736371  \n",
       "7       1799427     57141478             70224  5912809671  7885941139  \n",
       "8       1926545     56851261             69516  5922376940  7886145914  \n",
       "9       1643000     56737443             67937  5930919728  7886352337  "
      ]
     },
     "execution_count": 10,
     "metadata": {},
     "output_type": "execute_result"
    }
   ],
   "source": [
    "df_covid_time = df_covid_by_day.groupby(\"Date\").sum().reset_index()\n",
    "df_covid_time = df_covid_time.drop([\"#\",\"Tot Cases/1M pop\",\"Deaths/1M pop\",\"Tests/1M pop\"],axis=1)\n",
    "df_covid_time"
   ]
  },
  {
   "cell_type": "markdown",
   "metadata": {},
   "source": [
    "### Câu 1,4,5 + World Chart (Toàn)"
   ]
  },
  {
   "cell_type": "markdown",
   "metadata": {},
   "source": [
    "### Bar Chart"
   ]
  },
  {
   "cell_type": "markdown",
   "metadata": {},
   "source": [
    "Câu 1: \n",
    "- Tổng số ca nhiễm từng châu lục so với tổng dân số\n",
    "- Tổng ca test so với tổng dân số\n",
    "- Biểu đồ chồng giữa 3 thông số: tổng số ca nhiễm = tổng chết + ca nhiễm trong cộng đồng + tổng hồi phục\n"
   ]
  },
  {
   "cell_type": "markdown",
   "metadata": {},
   "source": [
    "Đầu tiên vẽ barchart so sánh tỉ lệ tổng số ca từng châu lục với tổng dân số."
   ]
  },
  {
   "cell_type": "code",
   "execution_count": 56,
   "metadata": {},
   "outputs": [],
   "source": [
    "#hàm tính tỉ lệ\n",
    "def cal_ratio(x,y):\n",
    "    for i in continent_yesterday_df['Continent'].values:\n",
    "        ratio = x/y\n",
    "    return ratio"
   ]
  },
  {
   "cell_type": "code",
   "execution_count": 113,
   "metadata": {},
   "outputs": [
    {
     "data": {
      "image/png": "[encoded data removed]",
      "text/plain": [
       "<Figure size 432x288 with 1 Axes>"
      ]
     },
     "metadata": {},
     "output_type": "display_data"
    }
   ],
   "source": [
    "ratio = cal_ratio(continent_yesterday_df['TotalCases'],continent_yesterday_df['Population'])\n",
    "#tạo dataframe tỉ lệ\n",
    "df_case = pd.DataFrame({'Continent':continent_yesterday_df['Continent'].values, 'Ratio':ratio.values})\n",
    "#vẽ barplot\n",
    "sns.barplot(x=\"Continent\", y=\"Ratio\", data=df_case,color='b') \n",
    "plt.title('Tỉ lệ số ca nhiễm so với tổng dân số ')\n",
    "plt.show()"
   ]
  },
  {
   "cell_type": "markdown",
   "metadata": {},
   "source": [
    "Tương tự, ta vẽ barchart so sánh tỉ lệ số ca test so với tổng dân số của từng châu lục"
   ]
  },
  {
   "cell_type": "code",
   "execution_count": 114,
   "metadata": {},
   "outputs": [
    {
     "data": {
      "image/png": "[encoded data removed]",
      "text/plain": [
       "<Figure size 432x288 with 1 Axes>"
      ]
     },
     "metadata": {},
     "output_type": "display_data"
    }
   ],
   "source": [
    "ratio = cal_ratio(continent_yesterday_df['TotalTests'],continent_yesterday_df['Population'])\n",
    "df_test = pd.DataFrame({'Continent':continent_yesterday_df['Continent'].values, 'Ratio':ratio.values})\n",
    "\n",
    "sns.barplot(x=\"Continent\", y=\"Ratio\", data=df_test,color='b') \n",
    "plt.title('Tỉ lệ số ca test so với tổng dân số ')\n",
    "plt.show()\n"
   ]
  },
  {
   "cell_type": "markdown",
   "metadata": {},
   "source": [
    "Quan sát 2 biểu đồ trên, ta thấy châu Âu có tỉ lệ số ca nhiễm và số ca test cao nhất thế giới. "
   ]
  },
  {
   "cell_type": "code",
   "execution_count": 88,
   "metadata": {},
   "outputs": [
    {
     "data": {
      "image/png": "[encoded data removed]",
      "text/plain": [
       "<Figure size 432x288 with 1 Axes>"
      ]
     },
     "metadata": {},
     "output_type": "display_data"
    }
   ],
   "source": [
    "df = continent_yesterday_df.loc[:,['Continent','TotalCases','TotalDeaths','TotalRecovered','ActiveCases']]\n",
    "ratio_deaths = cal_ratio(df['TotalDeaths'],df['TotalCases'])\n",
    "ratio_recoverd = cal_ratio(df['TotalRecovered'],df['TotalCases'])\n",
    "ratio_activecases = cal_ratio(df['ActiveCases'],df['TotalCases'])\n",
    "df_plot = pd.DataFrame({'Continent':continent_yesterday_df['Continent'].values,\n",
    "                        'Ratio_deaths':ratio_deaths.values,\n",
    "                       'Ratio_recoverd':ratio_recoverd.values,\n",
    "                       'Ratio_activecases':ratio_activecases.values})\n",
    "df_plot.set_index('Continent').plot(kind='bar',stacked=True)\n",
    "plt.title('Biểu đồ chồng giữa số ca chết, số ca hồi phục, số ca trong cộng đồng với tổng số ca ')\n",
    "plt.show()"
   ]
  },
  {
   "cell_type": "markdown",
   "metadata": {},
   "source": [
    "Câu 4: Biểu đồ cột bar chart của 6 châu lục về \n",
    "- Weekly Case/%/Change\n",
    "- Weekly Death/%/Change\n"
   ]
  },
  {
   "cell_type": "code",
   "execution_count": 104,
   "metadata": {},
   "outputs": [
    {
     "data": {
      "text/plain": [
       "<AxesSubplot:xlabel='Continent', ylabel='Weekly case /%/ change'>"
      ]
     },
     "execution_count": 104,
     "metadata": {},
     "output_type": "execute_result"
    },
    {
     "data": {
      "image/png": "[encoded data removed]",
      "text/plain": [
       "<Figure size 432x288 with 1 Axes>"
      ]
     },
     "metadata": {},
     "output_type": "display_data"
    }
   ],
   "source": [
    "df = df_covid_by_week.sort_values(by=['Continent'])\n",
    "sns.barplot(x=\"Continent\", y=\"Weekly case /%/ change\", data=df,color='b') "
   ]
  },
  {
   "cell_type": "code",
   "execution_count": 105,
   "metadata": {},
   "outputs": [
    {
     "data": {
      "text/plain": [
       "<AxesSubplot:xlabel='Continent', ylabel='Weekly Death /%/ change'>"
      ]
     },
     "execution_count": 105,
     "metadata": {},
     "output_type": "execute_result"
    },
    {
     "data": {
      "image/png": "[encoded data removed]",
      "text/plain": [
       "<Figure size 432x288 with 1 Axes>"
      ]
     },
     "metadata": {},
     "output_type": "display_data"
    }
   ],
   "source": [
    "sns.barplot(x=\"Continent\", y=\"Weekly Death /%/ change\", data=df,color='b') "
   ]
  },
  {
   "cell_type": "markdown",
   "metadata": {},
   "source": [
    "Câu 5: Boxplot trên các trường dữ liệu /1M pop ở df_covid_by_week:\n",
    "- Cases in the last 7 days/1M pop\n",
    "- Deaths in the last 7 days/1M pop\n",
    "\n"
   ]
  },
  {
   "cell_type": "code",
   "execution_count": 107,
   "metadata": {},
   "outputs": [
    {
     "data": {
      "image/png": "[encoded data removed]",
      "text/plain": [
       "<Figure size 432x288 with 1 Axes>"
      ]
     },
     "metadata": {},
     "output_type": "display_data"
    }
   ],
   "source": [
    "ax = sns.boxplot(x=\"Continent\", y=\"Cases in the last 7 days\", data=df_covid_by_week)"
   ]
  },
  {
   "cell_type": "code",
   "execution_count": 109,
   "metadata": {},
   "outputs": [
    {
     "data": {
      "image/png": "[encoded data removed]",
      "text/plain": [
       "<Figure size 432x288 with 1 Axes>"
      ]
     },
     "metadata": {},
     "output_type": "display_data"
    }
   ],
   "source": [
    "ax = sns.boxplot(x=\"Continent\", y=\"Deaths in the last 7 days\", data=df_covid_by_week)"
   ]
  },
  {
   "cell_type": "markdown",
   "metadata": {},
   "source": [
    "---"
   ]
  },
  {
   "cell_type": "markdown",
   "metadata": {},
   "source": [
    "### Câu 2,3,6 (Trí)"
   ]
  },
  {
   "cell_type": "markdown",
   "metadata": {},
   "source": [
    "### Pie Chart"
   ]
  },
  {
   "cell_type": "markdown",
   "metadata": {},
   "source": [
    "Câu 2 : \n",
    "Pie Chart để so sánh tỷ lệ % giữa 6 châu lục về các thông số \n",
    "- Số ca nhiễm MỚI\n",
    "- Số ca tử vong MỚI\n",
    "- Số ca hồi phục MỚI\n",
    "- Số ca trong cộng đồng\n",
    "\n",
    "Mỗi thông số là một biểu đồ, 100% chính là tổng 6 châu lục từng thông số"
   ]
  },
  {
   "cell_type": "code",
   "execution_count": null,
   "metadata": {},
   "outputs": [],
   "source": [
    "piechart_plots = continent_yesterday_df[['Continent','NewCases','NewDeaths','NewRecovered','ActiveCases']]"
   ]
  },
  {
   "cell_type": "code",
   "execution_count": null,
   "metadata": {},
   "outputs": [],
   "source": [
    "piechart_plots"
   ]
  },
  {
   "cell_type": "code",
   "execution_count": null,
   "metadata": {},
   "outputs": [],
   "source": [
    "specs = [[{'type':'domain'}, {'type':'domain'}], [{'type':'domain'}, {'type':'domain'}]]\n",
    "fig = make_subplots(rows=2, cols=2, specs = specs, \n",
    "subplot_titles=['New Cases', 'New Deaths', 'New Recovered', 'Active Cases'])\n",
    "\n",
    "fig.add_trace(go.Pie(labels=piechart_plots['Continent'], values=piechart_plots['NewCases']), 1, 1)\n",
    "fig.add_trace(go.Pie(labels=piechart_plots['Continent'], values=piechart_plots['NewDeaths']), 1, 2)\n",
    "\n",
    "fig.add_trace(go.Pie(labels=piechart_plots['Continent'], values=piechart_plots['NewRecovered']), 2, 1)\n",
    "fig.add_trace(go.Pie(labels=piechart_plots['Continent'], values=piechart_plots['ActiveCases']), 2, 2)"
   ]
  },
  {
   "cell_type": "markdown",
   "metadata": {},
   "source": [
    "---"
   ]
  },
  {
   "cell_type": "markdown",
   "metadata": {},
   "source": [
    "### Line Chart"
   ]
  },
  {
   "cell_type": "markdown",
   "metadata": {},
   "source": [
    "Linechart để trực quan theo thời gian 3 thông số NEW (cases/deaths/recovered) trên toàn bộ thế giới."
   ]
  },
  {
   "cell_type": "code",
   "execution_count": null,
   "metadata": {},
   "outputs": [],
   "source": [
    "linechart_plots = df_covid_time[['Date','NewCases','NewDeaths','NewRecovered']]"
   ]
  },
  {
   "cell_type": "code",
   "execution_count": null,
   "metadata": {},
   "outputs": [],
   "source": [
    "linechart_plots"
   ]
  },
  {
   "cell_type": "code",
   "execution_count": null,
   "metadata": {},
   "outputs": [],
   "source": [
    "fig = px.line(linechart_plots, x=\"Date\", y=['NewCases', 'NewDeaths','NewRecovered'], markers = True, title=\"World Overview\") \n",
    "fig.show()"
   ]
  },
  {
   "cell_type": "markdown",
   "metadata": {},
   "source": [
    "Tiếp theo, ta chia từng châu lục theo thời gian với thông số giống với World."
   ]
  },
  {
   "cell_type": "code",
   "execution_count": null,
   "metadata": {},
   "outputs": [],
   "source": [
    "continents = [\"Europe\",\"NorthAmerica\",\"Asia\",\"SouthAmerica\",\"Australia/Oceania\",\"Africa\"]\n",
    "df_covid_by_day_plots = df_covid_by_day[['Date','Continent','NewCases', 'NewDeaths','NewRecovered']]"
   ]
  },
  {
   "cell_type": "code",
   "execution_count": null,
   "metadata": {},
   "outputs": [],
   "source": [
    "for continent in continents:\n",
    "    continent_df_day = df_covid_by_day_plots[df_covid_by_day_plots['Continent'] == continent]\n",
    "    \n",
    "    #continent_df_day.set_index('Date',inplace=True)\n",
    "    continent_df_day = continent_df_day.groupby(by='Date').sum().reset_index()\n",
    "    \n",
    "    title = continent + \" Overview\"\n",
    "    fig = px.line(continent_df_day, x=\"Date\", y=['NewCases', 'NewDeaths','NewRecovered'], markers = True, title=title)\n",
    "    fig.show()"
   ]
  },
  {
   "cell_type": "markdown",
   "metadata": {},
   "source": [
    "---"
   ]
  },
  {
   "cell_type": "markdown",
   "metadata": {},
   "source": [
    "### Scatter plot"
   ]
  },
  {
   "cell_type": "markdown",
   "metadata": {},
   "source": [
    "Scatterplot để trực quan về mối quan hệ của hai cặp thông số:\n",
    "- Tổng nhiễm / Tổng chết trên toàn thế giới.\n",
    "- Ca nhiễm / ca chết trong 7 ngày gần đây / 1 triệu dân trên toàn thế giới."
   ]
  },
  {
   "cell_type": "code",
   "execution_count": null,
   "metadata": {},
   "outputs": [],
   "source": [
    "scatterplot_df_day = df_covid_yesterday[['Country','TotalCases','TotalDeaths']]\n",
    "fig = px.scatter(scatterplot_df_day, x='TotalCases', y='TotalDeaths',color='Country',title='World')\n",
    "fig.update_layout(height=500, width=1200)\n",
    "fig.show()"
   ]
  },
  {
   "cell_type": "code",
   "execution_count": null,
   "metadata": {},
   "outputs": [],
   "source": [
    "scatterplot_df_week = df_covid_by_week[['Country','Cases in the last 7 days/1M pop','Deaths in the last 7 days/1M pop']]\n",
    "fig = px.scatter(scatterplot_df_week, x='Cases in the last 7 days/1M pop', y='Deaths in the last 7 days/1M pop',color='Country',title='With 1M POP')\n",
    "fig.update_layout(height=500, width=1200)\n",
    "fig.show()"
   ]
  },
  {
   "cell_type": "markdown",
   "metadata": {},
   "source": [
    "---"
   ]
  },
  {
   "cell_type": "markdown",
   "metadata": {},
   "source": [
    "### Heatmap"
   ]
  },
  {
   "cell_type": "markdown",
   "metadata": {},
   "source": [
    "Heatmap được sử dụng để trực quan độ nóng của 6 châu lục về trường dữ liệu số ca nhiễm mới mỗi ngày. \n",
    "\n",
    "Các trường dữ liệu MỚI khác đều có chung mô hình nên không cần phải trực quan."
   ]
  },
  {
   "cell_type": "code",
   "execution_count": null,
   "metadata": {},
   "outputs": [],
   "source": [
    "heatmapplot_day_df = df_covid_by_day_plots.groupby(by=['Date','Continent']).sum().reset_index()\n",
    "heatmapplot_day_df = heatmapplot_day_df[heatmapplot_day_df['NewCases'] != 0]\n",
    "heatmapplot_day_df['Date'] = heatmapplot_day_df['Date'].dt.strftime('%d-%m')\n",
    "heatmapplot_day_df['Date'] = pd.Categorical(heatmapplot_day_df['Date'],categories=heatmapplot_day_df['Date'].unique(),ordered=True)"
   ]
  },
  {
   "cell_type": "code",
   "execution_count": null,
   "metadata": {},
   "outputs": [],
   "source": [
    "heatmapplot_day_df_NewCases = heatmapplot_day_df.pivot_table(index='Continent',columns='Date',values='NewCases')\n",
    "ax = sns.heatmap(heatmapplot_day_df_NewCases)\n",
    "ax.set_title(\"Số ca nhiễm mới mỗi ngày\")"
   ]
  }
 ],
 "metadata": {
  "interpreter": {
   "hash": "b89b5cfaba6639976dc87ff2fec6d58faec662063367e2c229c520fe71072417"
  },
  "kernelspec": {
   "display_name": "Python 3 (ipykernel)",
   "language": "python",
   "name": "python3"
  },
  "language_info": {
   "codemirror_mode": {
    "name": "ipython",
    "version": 3
   },
   "file_extension": ".py",
   "mimetype": "text/x-python",
   "name": "python",
   "nbconvert_exporter": "python",
   "pygments_lexer": "ipython3",
   "version": "3.8.8"
  }
 },
 "nbformat": 4,
 "nbformat_minor": 2
}
