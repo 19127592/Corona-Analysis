{
 "cells": [
  {
   "cell_type": "code",
   "execution_count": 60,
   "metadata": {},
   "outputs": [],
   "source": [
    "import requests_cache\n",
    "\n",
    "import pandas as pd\n",
    "from selenium import webdriver\n",
    "from webdriver_manager.chrome import ChromeDriverManager\n",
    "from selenium.webdriver.common.by import By\n",
    "from datetime import date, timedelta\n",
    "import os"
   ]
  },
  {
   "cell_type": "code",
   "execution_count": 61,
   "metadata": {},
   "outputs": [
    {
     "name": "stderr",
     "output_type": "stream",
     "text": [
      "\n",
      "\n",
      "====== WebDriver manager ======\n",
      "Could not get version for google-chrome with the command:  powershell \"$ErrorActionPreference='silentlycontinue' ; (Get-Item -Path \"$env:PROGRAMFILES\\Google\\Chrome\\Application\\chrome.exe\").VersionInfo.FileVersion ; if (-not $? -or $? -match $error) { (Get-Item -Path \"$env:PROGRAMFILES(x86)\\Google\\Chrome\\Application\\chrome.exe\").VersionInfo.FileVersion } if (-not $? -or $? -match $error) { (Get-Item -Path \"$env:LOCALAPPDATA\\Google\\Chrome\\Application\\chrome.exe\").VersionInfo.FileVersion } if (-not $? -or $? -match $error) { reg query \"HKCU\\SOFTWARE\\Google\\Chrome\\BLBeacon\" /v version } if (-not $? -or $? -match $error) { reg query \"HKLM\\SOFTWARE\\Wow6432Node\\Microsoft\\Windows\\CurrentVersion\\Uninstall\\Google Chrome\" /v version }\"\n",
      "Current google-chrome version is UNKNOWN\n",
      "Get LATEST chromedriver version for UNKNOWN google-chrome\n",
      "Trying to download new driver from https://chromedriver.storage.googleapis.com/98.0.4758.102/chromedriver_win32.zip\n",
      "Driver has been saved in cache [C:\\Users\\HP\\.wdm\\drivers\\chromedriver\\win32\\98.0.4758.102]\n",
      "C:\\Users\\HP\\AppData\\Local\\Temp\\ipykernel_3956\\3689447328.py:2: DeprecationWarning: executable_path has been deprecated, please pass in a Service object\n",
      "  driver = webdriver.Chrome(ChromeDriverManager().install())\n"
     ]
    }
   ],
   "source": [
    "requests_cache.install_cache('demo_cache',expire_after=None,allowable_methods=['GET'])\n",
    "driver = webdriver.Chrome(ChromeDriverManager().install())"
   ]
  },
  {
   "cell_type": "code",
   "execution_count": 62,
   "metadata": {},
   "outputs": [],
   "source": [
    "link = \"https://www.worldometers.info/coronavirus/\"\n",
    "\n",
    "driver.get(link)"
   ]
  },
  {
   "cell_type": "code",
   "execution_count": 63,
   "metadata": {},
   "outputs": [],
   "source": [
    "def split_list(a_list):\n",
    "    half = len(a_list)//2\n",
    "    return a_list[:half], a_list[half:]"
   ]
  },
  {
   "cell_type": "code",
   "execution_count": 64,
   "metadata": {},
   "outputs": [],
   "source": [
    "header_by_day = [\"#\",\"Country\",\"Date\",\"TotalCases\",\"NewCases\",\"TotalDeaths\",\"NewDeaths\",\"TotalRecovered\",\"NewRecovered\",\n",
    "\"ActiveCases\",\"Serious,Critical\",\"Tot Cases/1M pop\",\"Deaths/1M pop\",\"TotalTests\",\"Tests/1M pop\",\"Population\",\"Continent\"]\n",
    "\n",
    "header_by_week = [\"#\", \"Country\", \"Cases in the last 7 days\", \"Cases in the preceding 7 days\",\n",
    "\"Weekly case /%/ change\", \"Cases in the last 7 days/1M pop\", \"Deaths in the last 7 days\", \n",
    "\"Deaths in the preceding 7 days\", \"Weekly Death /%/ change\", \"Deaths in the last 7 days/1M pop\", \"Population\", \"Continent\"]"
   ]
  },
  {
   "cell_type": "code",
   "execution_count": 65,
   "metadata": {},
   "outputs": [],
   "source": [
    "row_total = driver.find_elements(By.XPATH,\"//tr[@class='even'] | //tr[@class='odd']\")\n",
    "\n",
    "rows_past = []\n",
    "rows_past_modify = []\n",
    "rows_yesterday = []\n",
    "rows_two_days_ago = []\n",
    "count = 0\n",
    "row_count = 226\n",
    "\n",
    "for n in row_total:\n",
    "    n = n.get_attribute('textContent')\n",
    "    if count == row_count:\n",
    "        rows_past.append(n.split(\"\\n\"))\n",
    "    else:\n",
    "        count+=1\n",
    "\n",
    "for n in rows_past:\n",
    "    n.pop(0)\n",
    "    n = n[: len(n) - 6]\n",
    "    rows_past_modify.append(n)\n",
    "\n",
    "rows_yesterday,rows_two_days_ago = split_list(rows_past_modify)\n",
    "\n",
    "rows_yesterday = [ele for ele in rows_yesterday if ele != []]\n",
    "rows_two_days_ago = [ele for ele in rows_two_days_ago if ele != []]"
   ]
  },
  {
   "cell_type": "code",
   "execution_count": 66,
   "metadata": {},
   "outputs": [],
   "source": [
    "today = date.today()\n",
    "yesterday = (today - timedelta(1)).strftime(\"%d-%m-%Y\")\n",
    "two_days_ago = (today - timedelta(2)).strftime(\"%d-%m-%Y\")\n",
    "\n",
    "for row in rows_yesterday:\n",
    "\n",
    "    row.insert(2,yesterday)\n",
    "for row in rows_two_days_ago:\n",
    "\n",
    "    row.insert(2,two_days_ago)\n",
    "\n",
    "total_covid = rows_two_days_ago + rows_yesterday "
   ]
  },
  {
   "cell_type": "markdown",
   "metadata": {},
   "source": [
    "Check xem có dòng nào bị dư giá trị rỗng không, nếu có cần chạy lại từ đầu"
   ]
  },
  {
   "cell_type": "code",
   "execution_count": 67,
   "metadata": {},
   "outputs": [],
   "source": [
    "for i in total_covid:\n",
    "    if len(i) > 17:\n",
    "        if i[-1] == '' or i[-1] == ' ':\n",
    "            i.pop(-1)\n",
    "        else:\n",
    "            print(i)"
   ]
  },
  {
   "cell_type": "code",
   "execution_count": 68,
   "metadata": {},
   "outputs": [],
   "source": [
    "df_covid = pd.DataFrame(data=rows_yesterday,columns=header_by_day)"
   ]
  },
  {
   "cell_type": "code",
   "execution_count": 69,
   "metadata": {},
   "outputs": [],
   "source": [
    "df_covid = pd.DataFrame(data=rows_yesterday,columns=header_by_day)\n",
    "if not os.path.isfile('Corona_by_day.tsv'):\n",
    "    df_covid = pd.DataFrame(data=total_covid,columns=header_by_day)\n",
    "    df_covid.to_csv(\"Corona_by_day.tsv\", sep = \"\\t\", mode = \"a\", index = False)\n",
    "else:\n",
    "    df_covid.to_csv(\"Corona_by_day.tsv\", sep = \"\\t\", mode = \"a\", index = False,header=False)"
   ]
  },
  {
   "cell_type": "markdown",
   "metadata": {},
   "source": [
    "Crawl weekly data"
   ]
  },
  {
   "cell_type": "code",
   "execution_count": 70,
   "metadata": {},
   "outputs": [],
   "source": [
    "link = \"https://www.worldometers.info/coronavirus/weekly-trends/#weekly_table\"\n",
    "driver.get(link)\n",
    "weekly_data = driver.find_elements(By.XPATH,\"//tr[@class='even'] | //tr[@class='odd']\")"
   ]
  },
  {
   "cell_type": "code",
   "execution_count": 71,
   "metadata": {},
   "outputs": [],
   "source": [
    "for n in weekly_data:\n",
    "    n = n.get_attribute('textContent').split(\"\\n\")\n",
    "    n[:] = [x.strip() for x in n if x.strip()]\n",
    "    if len(n) != len(header_by_week):\n",
    "        print(\"Error Header in\",n)"
   ]
  },
  {
   "cell_type": "code",
   "execution_count": 72,
   "metadata": {},
   "outputs": [],
   "source": [
    "row_week_trend = []\n",
    "\n",
    "for n in weekly_data:\n",
    "    n = n.get_attribute('textContent').split(\"\\n\")\n",
    "    n[:] = [x.strip() for x in n if x.strip()]\n",
    "    row_week_trend.append(n)\n",
    "    if len(n) != len(header_by_week):\n",
    "        print(\"Error Header in\",n)"
   ]
  },
  {
   "cell_type": "code",
   "execution_count": 73,
   "metadata": {},
   "outputs": [],
   "source": [
    "df_covid_by_week = pd.DataFrame(data=row_week_trend,columns=header_by_week)\n",
    "df_covid_by_week.to_csv(\"Corona_by_week.tsv\", sep = \"\\t\", mode = \"w\", index = False)"
   ]
  }
 ],
 "metadata": {
  "interpreter": {
   "hash": "b89b5cfaba6639976dc87ff2fec6d58faec662063367e2c229c520fe71072417"
  },
  "kernelspec": {
   "display_name": "Python 3.10.2 64-bit",
   "language": "python",
   "name": "python3"
  },
  "language_info": {
   "codemirror_mode": {
    "name": "ipython",
    "version": 3
   },
   "file_extension": ".py",
   "mimetype": "text/x-python",
   "name": "python",
   "nbconvert_exporter": "python",
   "pygments_lexer": "ipython3",
   "version": "3.10.2"
  },
  "orig_nbformat": 4
 },
 "nbformat": 4,
 "nbformat_minor": 2
}
