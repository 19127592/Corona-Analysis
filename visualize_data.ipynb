{
 "cells": [
  {
   "cell_type": "code",
<<<<<<< Updated upstream
   "execution_count": 55,
=======
<<<<<<< HEAD
   "execution_count": 1,
=======
   "execution_count": 55,
>>>>>>> 0d37aeddba7996b01c5c7139b1a8d4913e743ec5
>>>>>>> Stashed changes
   "metadata": {},
   "outputs": [],
   "source": [
    "import pandas as pd\n",
    "import matplotlib.pyplot as plt\n",
    "import plotly.graph_objects as go\n",
    "import plotly.express as px\n",
    "import plotly.io as pio\n",
    "from plotly.subplots import make_subplots\n",
    "from datetime import date, timedelta\n",
    "from IPython.display import display\n",
    "import seaborn as sns\n",
    "sns.set_theme(style=\"whitegrid\")"
   ]
  },
  {
   "cell_type": "code",
<<<<<<< Updated upstream
   "execution_count": 56,
=======
<<<<<<< HEAD
   "execution_count": 2,
=======
   "execution_count": 56,
>>>>>>> 0d37aeddba7996b01c5c7139b1a8d4913e743ec5
>>>>>>> Stashed changes
   "metadata": {},
   "outputs": [],
   "source": [
    "header_by_day = [\"#\",\"Country\",\"Date\",\"TotalCases\",\"NewCases\",\"TotalDeaths\",\"NewDeaths\",\"TotalRecovered\",\"NewRecovered\",\n",
    "\"ActiveCases\",\"Serious,Critical\",\"Tot Cases/1M pop\",\"Deaths/1M pop\",\"TotalTests\",\"Tests/1M pop\",\"Population\",\"Continent\"]\n",
    "\n",
    "header_by_week = [\"#\", \"Country\", \"Cases in the last 7 days\", \"Cases in the preceding 7 days\",\n",
    "\"Weekly case /%/ change\", \"Cases in the last 7 days/1M pop\", \"Deaths in the last 7 days\", \n",
    "\"Deaths in the preceding 7 days\", \"Weekly Death /%/ change\", \"Deaths in the last 7 days/1M pop\", \"Population\", \"Continent\"]"
   ]
  },
  {
   "cell_type": "code",
<<<<<<< Updated upstream
   "execution_count": 57,
=======
<<<<<<< HEAD
   "execution_count": 3,
=======
   "execution_count": 57,
>>>>>>> 0d37aeddba7996b01c5c7139b1a8d4913e743ec5
>>>>>>> Stashed changes
   "metadata": {},
   "outputs": [],
   "source": [
    "def RepresentsInt(s):\n",
    "    try: \n",
    "        int(s)\n",
    "        return True\n",
    "    except ValueError:\n",
    "        return False\n",
    "\n",
    "def convert_numeric(num):\n",
    "    condition = {\",\":\"\",\"+\":\"\",\"%\":\"\"}\n",
    "    if num == \"nan\" or num == \" \" or num == \"  \" or num == \" N/A\":\n",
    "        return 0\n",
    "\n",
    "    for i, j in condition.items():\n",
    "        num = num.replace(i, j)\n",
    "    if RepresentsInt(num) == True:\n",
    "        return int(num)\n",
    "    return float(num)"
   ]
  },
  {
   "cell_type": "code",
<<<<<<< Updated upstream
   "execution_count": 58,
=======
<<<<<<< HEAD
   "execution_count": 4,
=======
   "execution_count": 58,
>>>>>>> 0d37aeddba7996b01c5c7139b1a8d4913e743ec5
>>>>>>> Stashed changes
   "metadata": {},
   "outputs": [],
   "source": [
    "df_covid_by_day = pd.read_csv('Corona_by_day.tsv',sep='\\t')"
   ]
  },
  {
   "cell_type": "code",
<<<<<<< Updated upstream
   "execution_count": 59,
=======
<<<<<<< HEAD
   "execution_count": 5,
=======
   "execution_count": 59,
>>>>>>> 0d37aeddba7996b01c5c7139b1a8d4913e743ec5
>>>>>>> Stashed changes
   "metadata": {},
   "outputs": [],
   "source": [
    "for i in range(3,16):\n",
    "    df_covid_by_day[header_by_day[i]] = df_covid_by_day[header_by_day[i]].apply(lambda x:convert_numeric(str(x)))\n",
    "    \n",
    "df_covid_by_day[header_by_day[16]] = df_covid_by_day[header_by_day[16]].apply(lambda x:str(x).replace(\" \",\"\"))\n",
    "df_covid_by_day['Date'] = pd.to_datetime(df_covid_by_day['Date'],format=\"%d-%m-%Y\")"
   ]
  },
  {
   "cell_type": "code",
<<<<<<< Updated upstream
   "execution_count": 60,
=======
<<<<<<< HEAD
   "execution_count": 6,
=======
   "execution_count": 60,
>>>>>>> 0d37aeddba7996b01c5c7139b1a8d4913e743ec5
>>>>>>> Stashed changes
   "metadata": {},
   "outputs": [],
   "source": [
    "df_covid_by_week = pd.read_csv('Corona_by_week.tsv',sep='\\t')"
   ]
  },
  {
   "cell_type": "code",
<<<<<<< Updated upstream
   "execution_count": 61,
=======
<<<<<<< HEAD
   "execution_count": 7,
=======
   "execution_count": 61,
>>>>>>> 0d37aeddba7996b01c5c7139b1a8d4913e743ec5
>>>>>>> Stashed changes
   "metadata": {},
   "outputs": [],
   "source": [
    "for i in range(2,11):\n",
    "    df_covid_by_week[header_by_week[i]] = df_covid_by_week[header_by_week[i]].apply(lambda x:convert_numeric(str(x)))\n",
    "    \n",
    "df_covid_by_week[header_by_week[-1]] = df_covid_by_week[header_by_week[-1]].apply(lambda x:str(x).replace(\" \",\"\"))"
   ]
  },
  {
   "cell_type": "code",
<<<<<<< Updated upstream
   "execution_count": 62,
=======
<<<<<<< HEAD
   "execution_count": 8,
=======
   "execution_count": 62,
>>>>>>> 0d37aeddba7996b01c5c7139b1a8d4913e743ec5
>>>>>>> Stashed changes
   "metadata": {},
   "outputs": [
    {
     "data": {
      "text/html": [
       "<div>\n",
       "<style scoped>\n",
       "    .dataframe tbody tr th:only-of-type {\n",
       "        vertical-align: middle;\n",
       "    }\n",
       "\n",
       "    .dataframe tbody tr th {\n",
       "        vertical-align: top;\n",
       "    }\n",
       "\n",
       "    .dataframe thead th {\n",
       "        text-align: right;\n",
       "    }\n",
       "</style>\n",
       "<table border=\"1\" class=\"dataframe\">\n",
       "  <thead>\n",
       "    <tr style=\"text-align: right;\">\n",
       "      <th></th>\n",
       "      <th>#</th>\n",
       "      <th>Country</th>\n",
       "      <th>Date</th>\n",
       "      <th>TotalCases</th>\n",
       "      <th>NewCases</th>\n",
       "      <th>TotalDeaths</th>\n",
       "      <th>NewDeaths</th>\n",
       "      <th>TotalRecovered</th>\n",
       "      <th>NewRecovered</th>\n",
       "      <th>ActiveCases</th>\n",
       "      <th>Serious,Critical</th>\n",
       "      <th>Tot Cases/1M pop</th>\n",
       "      <th>Deaths/1M pop</th>\n",
       "      <th>TotalTests</th>\n",
       "      <th>Tests/1M pop</th>\n",
       "      <th>Population</th>\n",
       "      <th>Continent</th>\n",
       "    </tr>\n",
       "  </thead>\n",
       "  <tbody>\n",
       "    <tr>\n",
       "      <th>0</th>\n",
       "      <td>1</td>\n",
       "      <td>USA</td>\n",
       "      <td>2022-02-28</td>\n",
       "      <td>80656025</td>\n",
       "      <td>34828</td>\n",
       "      <td>975951</td>\n",
       "      <td>843</td>\n",
       "      <td>53500262</td>\n",
       "      <td>278579</td>\n",
       "      <td>26179812</td>\n",
       "      <td>7770</td>\n",
       "      <td>241322</td>\n",
       "      <td>2920</td>\n",
       "      <td>950614834</td>\n",
       "      <td>2844228</td>\n",
       "      <td>334225917</td>\n",
       "      <td>NorthAmerica</td>\n",
       "    </tr>\n",
       "    <tr>\n",
       "      <th>1</th>\n",
       "      <td>2</td>\n",
       "      <td>India</td>\n",
       "      <td>2022-02-28</td>\n",
       "      <td>42931045</td>\n",
       "      <td>6915</td>\n",
       "      <td>514054</td>\n",
       "      <td>211</td>\n",
       "      <td>42324550</td>\n",
       "      <td>16864</td>\n",
       "      <td>92441</td>\n",
       "      <td>8944</td>\n",
       "      <td>30610</td>\n",
       "      <td>367</td>\n",
       "      <td>767481346</td>\n",
       "      <td>547211</td>\n",
       "      <td>1402532051</td>\n",
       "      <td>Asia</td>\n",
       "    </tr>\n",
       "    <tr>\n",
       "      <th>2</th>\n",
       "      <td>3</td>\n",
       "      <td>Brazil</td>\n",
       "      <td>2022-02-28</td>\n",
       "      <td>28787620</td>\n",
       "      <td>19516</td>\n",
       "      <td>649443</td>\n",
       "      <td>248</td>\n",
       "      <td>26336373</td>\n",
       "      <td>152750</td>\n",
       "      <td>1801804</td>\n",
       "      <td>8318</td>\n",
       "      <td>133853</td>\n",
       "      <td>3020</td>\n",
       "      <td>63776166</td>\n",
       "      <td>296539</td>\n",
       "      <td>215068475</td>\n",
       "      <td>SouthAmerica</td>\n",
       "    </tr>\n",
       "    <tr>\n",
       "      <th>3</th>\n",
       "      <td>4</td>\n",
       "      <td>France</td>\n",
       "      <td>2022-02-28</td>\n",
       "      <td>22702815</td>\n",
       "      <td>13483</td>\n",
       "      <td>138367</td>\n",
       "      <td>232</td>\n",
       "      <td>20901504</td>\n",
       "      <td>235191</td>\n",
       "      <td>1662944</td>\n",
       "      <td>2484</td>\n",
       "      <td>346537</td>\n",
       "      <td>2112</td>\n",
       "      <td>246629975</td>\n",
       "      <td>3764574</td>\n",
       "      <td>65513384</td>\n",
       "      <td>Europe</td>\n",
       "    </tr>\n",
       "    <tr>\n",
       "      <th>4</th>\n",
       "      <td>5</td>\n",
       "      <td>UK</td>\n",
       "      <td>2022-02-28</td>\n",
       "      <td>18886701</td>\n",
       "      <td>27312</td>\n",
       "      <td>161361</td>\n",
       "      <td>46</td>\n",
       "      <td>17449650</td>\n",
       "      <td>98709</td>\n",
       "      <td>1275690</td>\n",
       "      <td>289</td>\n",
       "      <td>275806</td>\n",
       "      <td>2356</td>\n",
       "      <td>480341745</td>\n",
       "      <td>7014519</td>\n",
       "      <td>68478212</td>\n",
       "      <td>Europe</td>\n",
       "    </tr>\n",
       "    <tr>\n",
       "      <th>...</th>\n",
       "      <td>...</td>\n",
       "      <td>...</td>\n",
       "      <td>...</td>\n",
       "      <td>...</td>\n",
       "      <td>...</td>\n",
       "      <td>...</td>\n",
       "      <td>...</td>\n",
       "      <td>...</td>\n",
       "      <td>...</td>\n",
       "      <td>...</td>\n",
       "      <td>...</td>\n",
       "      <td>...</td>\n",
       "      <td>...</td>\n",
       "      <td>...</td>\n",
       "      <td>...</td>\n",
       "      <td>...</td>\n",
       "      <td>...</td>\n",
       "    </tr>\n",
       "    <tr>\n",
<<<<<<< Updated upstream
=======
<<<<<<< HEAD
       "      <th>2710</th>\n",
       "      <td>222</td>\n",
       "      <td>Western Sahara</td>\n",
       "      <td>2022-03-11</td>\n",
       "      <td>10</td>\n",
       "      <td>0</td>\n",
       "      <td>1</td>\n",
       "      <td>0</td>\n",
       "      <td>8</td>\n",
       "      <td>0</td>\n",
       "      <td>1</td>\n",
       "      <td>0</td>\n",
       "      <td>16</td>\n",
       "      <td>2</td>\n",
       "      <td>0</td>\n",
       "      <td>0</td>\n",
       "      <td>622105</td>\n",
       "      <td>Africa</td>\n",
       "    </tr>\n",
       "    <tr>\n",
=======
>>>>>>> 0d37aeddba7996b01c5c7139b1a8d4913e743ec5
>>>>>>> Stashed changes
       "      <th>2711</th>\n",
       "      <td>223</td>\n",
       "      <td>MS Zaandam</td>\n",
       "      <td>2022-03-11</td>\n",
       "      <td>9</td>\n",
       "      <td>0</td>\n",
       "      <td>2</td>\n",
       "      <td>0</td>\n",
       "      <td>7</td>\n",
       "      <td>0</td>\n",
       "      <td>0</td>\n",
       "      <td>0</td>\n",
       "      <td>0</td>\n",
       "      <td>0</td>\n",
       "      <td>0</td>\n",
       "      <td>0</td>\n",
       "      <td>0</td>\n",
       "      <td>nan</td>\n",
       "    </tr>\n",
       "    <tr>\n",
       "      <th>2712</th>\n",
       "      <td>224</td>\n",
       "      <td>Marshall Islands</td>\n",
       "      <td>2022-03-11</td>\n",
       "      <td>7</td>\n",
       "      <td>0</td>\n",
       "      <td>0</td>\n",
       "      <td>0</td>\n",
       "      <td>7</td>\n",
       "      <td>0</td>\n",
       "      <td>0</td>\n",
       "      <td>0</td>\n",
       "      <td>117</td>\n",
       "      <td>0</td>\n",
       "      <td>0</td>\n",
       "      <td>0</td>\n",
       "      <td>59864</td>\n",
       "      <td>Australia/Oceania</td>\n",
       "    </tr>\n",
       "    <tr>\n",
       "      <th>2713</th>\n",
       "      <td>225</td>\n",
       "      <td>Saint Helena</td>\n",
       "      <td>2022-03-11</td>\n",
       "      <td>2</td>\n",
       "      <td>0</td>\n",
       "      <td>0</td>\n",
       "      <td>0</td>\n",
       "      <td>2</td>\n",
       "      <td>0</td>\n",
       "      <td>0</td>\n",
       "      <td>0</td>\n",
       "      <td>327</td>\n",
       "      <td>0</td>\n",
       "      <td>0</td>\n",
       "      <td>0</td>\n",
       "      <td>6108</td>\n",
       "      <td>Africa</td>\n",
       "    </tr>\n",
       "    <tr>\n",
       "      <th>2714</th>\n",
       "      <td>226</td>\n",
       "      <td>Micronesia</td>\n",
       "      <td>2022-03-11</td>\n",
       "      <td>1</td>\n",
       "      <td>0</td>\n",
       "      <td>0</td>\n",
       "      <td>0</td>\n",
       "      <td>1</td>\n",
       "      <td>0</td>\n",
       "      <td>0</td>\n",
       "      <td>0</td>\n",
       "      <td>9</td>\n",
       "      <td>0</td>\n",
       "      <td>0</td>\n",
       "      <td>0</td>\n",
       "      <td>117058</td>\n",
<<<<<<< Updated upstream
=======
<<<<<<< HEAD
=======
>>>>>>> Stashed changes
       "      <td>Australia/Oceania</td>\n",
       "    </tr>\n",
       "    <tr>\n",
       "      <th>2715</th>\n",
       "      <td>227</td>\n",
       "      <td>Niue</td>\n",
       "      <td>2022-03-11</td>\n",
       "      <td>1</td>\n",
       "      <td>0</td>\n",
       "      <td>0</td>\n",
       "      <td>0</td>\n",
       "      <td>0</td>\n",
       "      <td>0</td>\n",
       "      <td>1</td>\n",
       "      <td>0</td>\n",
       "      <td>608</td>\n",
       "      <td>0</td>\n",
       "      <td>0</td>\n",
       "      <td>0</td>\n",
       "      <td>1645</td>\n",
<<<<<<< Updated upstream
=======
>>>>>>> 0d37aeddba7996b01c5c7139b1a8d4913e743ec5
>>>>>>> Stashed changes
       "      <td>Australia/Oceania</td>\n",
       "    </tr>\n",
       "  </tbody>\n",
       "</table>\n",
<<<<<<< Updated upstream
       "<p>2716 rows × 17 columns</p>\n",
=======
<<<<<<< HEAD
       "<p>2715 rows × 17 columns</p>\n",
=======
       "<p>2716 rows × 17 columns</p>\n",
>>>>>>> 0d37aeddba7996b01c5c7139b1a8d4913e743ec5
>>>>>>> Stashed changes
       "</div>"
      ],
      "text/plain": [
       "        #           Country       Date  TotalCases  NewCases  TotalDeaths  \\\n",
       "0       1               USA 2022-02-28    80656025     34828       975951   \n",
       "1       2             India 2022-02-28    42931045      6915       514054   \n",
       "2       3            Brazil 2022-02-28    28787620     19516       649443   \n",
       "3       4            France 2022-02-28    22702815     13483       138367   \n",
       "4       5                UK 2022-02-28    18886701     27312       161361   \n",
       "...   ...               ...        ...         ...       ...          ...   \n",
<<<<<<< Updated upstream
=======
<<<<<<< HEAD
       "2710  222    Western Sahara 2022-03-11          10         0            1   \n",
=======
>>>>>>> 0d37aeddba7996b01c5c7139b1a8d4913e743ec5
>>>>>>> Stashed changes
       "2711  223        MS Zaandam 2022-03-11           9         0            2   \n",
       "2712  224  Marshall Islands 2022-03-11           7         0            0   \n",
       "2713  225      Saint Helena 2022-03-11           2         0            0   \n",
       "2714  226        Micronesia 2022-03-11           1         0            0   \n",
<<<<<<< Updated upstream
       "2715  227              Niue 2022-03-11           1         0            0   \n",
=======
<<<<<<< HEAD
=======
       "2715  227              Niue 2022-03-11           1         0            0   \n",
>>>>>>> 0d37aeddba7996b01c5c7139b1a8d4913e743ec5
>>>>>>> Stashed changes
       "\n",
       "      NewDeaths  TotalRecovered  NewRecovered  ActiveCases  Serious,Critical  \\\n",
       "0           843        53500262        278579     26179812              7770   \n",
       "1           211        42324550         16864        92441              8944   \n",
       "2           248        26336373        152750      1801804              8318   \n",
       "3           232        20901504        235191      1662944              2484   \n",
       "4            46        17449650         98709      1275690               289   \n",
       "...         ...             ...           ...          ...               ...   \n",
<<<<<<< Updated upstream
=======
<<<<<<< HEAD
       "2710          0               8             0            1                 0   \n",
=======
>>>>>>> 0d37aeddba7996b01c5c7139b1a8d4913e743ec5
>>>>>>> Stashed changes
       "2711          0               7             0            0                 0   \n",
       "2712          0               7             0            0                 0   \n",
       "2713          0               2             0            0                 0   \n",
       "2714          0               1             0            0                 0   \n",
<<<<<<< Updated upstream
       "2715          0               0             0            1                 0   \n",
=======
<<<<<<< HEAD
=======
       "2715          0               0             0            1                 0   \n",
>>>>>>> 0d37aeddba7996b01c5c7139b1a8d4913e743ec5
>>>>>>> Stashed changes
       "\n",
       "      Tot Cases/1M pop  Deaths/1M pop  TotalTests  Tests/1M pop  Population  \\\n",
       "0               241322           2920   950614834       2844228   334225917   \n",
       "1                30610            367   767481346        547211  1402532051   \n",
       "2               133853           3020    63776166        296539   215068475   \n",
       "3               346537           2112   246629975       3764574    65513384   \n",
       "4               275806           2356   480341745       7014519    68478212   \n",
       "...                ...            ...         ...           ...         ...   \n",
<<<<<<< Updated upstream
=======
<<<<<<< HEAD
       "2710                16              2           0             0      622105   \n",
=======
>>>>>>> 0d37aeddba7996b01c5c7139b1a8d4913e743ec5
>>>>>>> Stashed changes
       "2711                 0              0           0             0           0   \n",
       "2712               117              0           0             0       59864   \n",
       "2713               327              0           0             0        6108   \n",
       "2714                 9              0           0             0      117058   \n",
<<<<<<< Updated upstream
       "2715               608              0           0             0        1645   \n",
=======
<<<<<<< HEAD
=======
       "2715               608              0           0             0        1645   \n",
>>>>>>> 0d37aeddba7996b01c5c7139b1a8d4913e743ec5
>>>>>>> Stashed changes
       "\n",
       "              Continent  \n",
       "0          NorthAmerica  \n",
       "1                  Asia  \n",
       "2          SouthAmerica  \n",
       "3                Europe  \n",
       "4                Europe  \n",
       "...                 ...  \n",
<<<<<<< Updated upstream
=======
<<<<<<< HEAD
       "2710             Africa  \n",
=======
>>>>>>> 0d37aeddba7996b01c5c7139b1a8d4913e743ec5
>>>>>>> Stashed changes
       "2711                nan  \n",
       "2712  Australia/Oceania  \n",
       "2713             Africa  \n",
       "2714  Australia/Oceania  \n",
<<<<<<< Updated upstream
       "2715  Australia/Oceania  \n",
       "\n",
       "[2716 rows x 17 columns]"
      ]
     },
     "execution_count": 62,
=======
<<<<<<< HEAD
       "\n",
       "[2715 rows x 17 columns]"
      ]
     },
     "execution_count": 8,
=======
       "2715  Australia/Oceania  \n",
       "\n",
       "[2716 rows x 17 columns]"
      ]
     },
     "execution_count": 62,
>>>>>>> 0d37aeddba7996b01c5c7139b1a8d4913e743ec5
>>>>>>> Stashed changes
     "metadata": {},
     "output_type": "execute_result"
    }
   ],
   "source": [
    "df_covid_by_day"
   ]
  },
  {
   "cell_type": "code",
<<<<<<< Updated upstream
   "execution_count": 63,
=======
<<<<<<< HEAD
   "execution_count": 9,
=======
   "execution_count": 63,
>>>>>>> 0d37aeddba7996b01c5c7139b1a8d4913e743ec5
>>>>>>> Stashed changes
   "metadata": {},
   "outputs": [
    {
     "data": {
      "text/plain": [
       "#                            int64\n",
       "Country                     object\n",
       "Date                datetime64[ns]\n",
       "TotalCases                   int64\n",
       "NewCases                     int64\n",
       "TotalDeaths                  int64\n",
       "NewDeaths                    int64\n",
       "TotalRecovered               int64\n",
       "NewRecovered                 int64\n",
       "ActiveCases                  int64\n",
       "Serious,Critical             int64\n",
       "Tot Cases/1M pop             int64\n",
       "Deaths/1M pop                int64\n",
       "TotalTests                   int64\n",
       "Tests/1M pop                 int64\n",
       "Population                   int64\n",
       "Continent                   object\n",
       "dtype: object"
      ]
     },
<<<<<<< Updated upstream
     "execution_count": 63,
=======
<<<<<<< HEAD
     "execution_count": 9,
=======
     "execution_count": 63,
>>>>>>> 0d37aeddba7996b01c5c7139b1a8d4913e743ec5
>>>>>>> Stashed changes
     "metadata": {},
     "output_type": "execute_result"
    }
   ],
   "source": [
    "df_covid_by_day.dtypes"
   ]
  },
  {
   "cell_type": "code",
<<<<<<< Updated upstream
   "execution_count": 64,
=======
<<<<<<< HEAD
   "execution_count": 10,
=======
   "execution_count": 64,
>>>>>>> 0d37aeddba7996b01c5c7139b1a8d4913e743ec5
>>>>>>> Stashed changes
   "metadata": {},
   "outputs": [
    {
     "data": {
      "text/html": [
       "<div>\n",
       "<style scoped>\n",
       "    .dataframe tbody tr th:only-of-type {\n",
       "        vertical-align: middle;\n",
       "    }\n",
       "\n",
       "    .dataframe tbody tr th {\n",
       "        vertical-align: top;\n",
       "    }\n",
       "\n",
       "    .dataframe thead th {\n",
       "        text-align: right;\n",
       "    }\n",
       "</style>\n",
       "<table border=\"1\" class=\"dataframe\">\n",
       "  <thead>\n",
       "    <tr style=\"text-align: right;\">\n",
       "      <th></th>\n",
       "      <th>#</th>\n",
       "      <th>Country</th>\n",
       "      <th>Cases in the last 7 days</th>\n",
       "      <th>Cases in the preceding 7 days</th>\n",
       "      <th>Weekly case /%/ change</th>\n",
       "      <th>Cases in the last 7 days/1M pop</th>\n",
       "      <th>Deaths in the last 7 days</th>\n",
       "      <th>Deaths in the preceding 7 days</th>\n",
       "      <th>Weekly Death /%/ change</th>\n",
       "      <th>Deaths in the last 7 days/1M pop</th>\n",
       "      <th>Population</th>\n",
       "      <th>Continent</th>\n",
       "    </tr>\n",
       "  </thead>\n",
       "  <tbody>\n",
       "    <tr>\n",
       "      <th>0</th>\n",
       "      <td>1</td>\n",
       "      <td>S. Korea</td>\n",
<<<<<<< Updated upstream
=======
<<<<<<< HEAD
       "      <td>1864300</td>\n",
       "      <td>1293249</td>\n",
       "      <td>44.0</td>\n",
       "      <td>36310.0</td>\n",
       "      <td>1295</td>\n",
       "      <td>797</td>\n",
       "      <td>62</td>\n",
       "      <td>25.0</td>\n",
       "      <td>51343665</td>\n",
=======
>>>>>>> Stashed changes
       "      <td>2199245</td>\n",
       "      <td>1532521</td>\n",
       "      <td>44.0</td>\n",
       "      <td>42834.0</td>\n",
       "      <td>1499</td>\n",
       "      <td>1038</td>\n",
       "      <td>44</td>\n",
       "      <td>29.0</td>\n",
       "      <td>51344026</td>\n",
<<<<<<< Updated upstream
=======
>>>>>>> 0d37aeddba7996b01c5c7139b1a8d4913e743ec5
>>>>>>> Stashed changes
       "      <td>Asia</td>\n",
       "    </tr>\n",
       "    <tr>\n",
       "      <th>1</th>\n",
       "      <td>2</td>\n",
       "      <td>Germany</td>\n",
<<<<<<< Updated upstream
=======
<<<<<<< HEAD
       "      <td>1302468</td>\n",
       "      <td>1075329</td>\n",
       "      <td>21.0</td>\n",
       "      <td>15462.0</td>\n",
       "      <td>1394</td>\n",
       "      <td>1387</td>\n",
       "      <td>1</td>\n",
       "      <td>17.0</td>\n",
       "      <td>84236156</td>\n",
=======
>>>>>>> Stashed changes
       "      <td>1391001</td>\n",
       "      <td>1127202</td>\n",
       "      <td>23.0</td>\n",
       "      <td>16513.0</td>\n",
       "      <td>1529</td>\n",
       "      <td>1270</td>\n",
       "      <td>20</td>\n",
       "      <td>18.0</td>\n",
       "      <td>84238346</td>\n",
<<<<<<< Updated upstream
=======
>>>>>>> 0d37aeddba7996b01c5c7139b1a8d4913e743ec5
>>>>>>> Stashed changes
       "      <td>Europe</td>\n",
       "    </tr>\n",
       "    <tr>\n",
       "      <th>2</th>\n",
       "      <td>3</td>\n",
       "      <td>Vietnam</td>\n",
<<<<<<< Updated upstream
=======
<<<<<<< HEAD
       "      <td>1107609</td>\n",
       "      <td>785825</td>\n",
       "      <td>41.0</td>\n",
       "      <td>11209.0</td>\n",
       "      <td>584</td>\n",
       "      <td>682</td>\n",
       "      <td>-14</td>\n",
       "      <td>6.0</td>\n",
       "      <td>98816731</td>\n",
=======
>>>>>>> Stashed changes
       "      <td>1221623</td>\n",
       "      <td>1008776</td>\n",
       "      <td>21.0</td>\n",
       "      <td>12362.0</td>\n",
       "      <td>586</td>\n",
       "      <td>639</td>\n",
       "      <td>-8</td>\n",
       "      <td>6.0</td>\n",
       "      <td>98823902</td>\n",
<<<<<<< Updated upstream
=======
>>>>>>> 0d37aeddba7996b01c5c7139b1a8d4913e743ec5
>>>>>>> Stashed changes
       "      <td>Asia</td>\n",
       "    </tr>\n",
       "    <tr>\n",
       "      <th>3</th>\n",
       "      <td>4</td>\n",
<<<<<<< Updated upstream
=======
<<<<<<< HEAD
       "      <td>Netherlands</td>\n",
       "      <td>482619</td>\n",
       "      <td>300702</td>\n",
       "      <td>60.0</td>\n",
       "      <td>28061.0</td>\n",
       "      <td>89</td>\n",
       "      <td>60</td>\n",
       "      <td>48</td>\n",
       "      <td>5.0</td>\n",
       "      <td>17198870</td>\n",
=======
>>>>>>> Stashed changes
       "      <td>France</td>\n",
       "      <td>461175</td>\n",
       "      <td>369007</td>\n",
       "      <td>25.0</td>\n",
       "      <td>7039.0</td>\n",
       "      <td>843</td>\n",
       "      <td>1084</td>\n",
       "      <td>-22</td>\n",
       "      <td>13.0</td>\n",
       "      <td>65518499</td>\n",
<<<<<<< Updated upstream
=======
>>>>>>> 0d37aeddba7996b01c5c7139b1a8d4913e743ec5
>>>>>>> Stashed changes
       "      <td>Europe</td>\n",
       "    </tr>\n",
       "    <tr>\n",
       "      <th>4</th>\n",
       "      <td>5</td>\n",
<<<<<<< HEAD
       "      <td>Russia</td>\n",
       "      <td>467019</td>\n",
       "      <td>722996</td>\n",
       "      <td>-35.0</td>\n",
       "      <td>3198.0</td>\n",
       "      <td>4798</td>\n",
       "      <td>5422</td>\n",
       "      <td>-12</td>\n",
       "      <td>33.0</td>\n",
       "      <td>146040091</td>\n",
=======
       "      <td>Netherlands</td>\n",
       "      <td>442432</td>\n",
       "      <td>410017</td>\n",
       "      <td>8.0</td>\n",
       "      <td>25724.0</td>\n",
       "      <td>101</td>\n",
       "      <td>58</td>\n",
       "      <td>74</td>\n",
       "      <td>6.0</td>\n",
       "      <td>17199180</td>\n",
<<<<<<< Updated upstream
=======
>>>>>>> 0d37aeddba7996b01c5c7139b1a8d4913e743ec5
>>>>>>> Stashed changes
       "      <td>Europe</td>\n",
       "    </tr>\n",
       "    <tr>\n",
       "      <th>...</th>\n",
       "      <td>...</td>\n",
       "      <td>...</td>\n",
       "      <td>...</td>\n",
       "      <td>...</td>\n",
       "      <td>...</td>\n",
       "      <td>...</td>\n",
       "      <td>...</td>\n",
       "      <td>...</td>\n",
       "      <td>...</td>\n",
       "      <td>...</td>\n",
       "      <td>...</td>\n",
       "      <td>...</td>\n",
       "    </tr>\n",
       "    <tr>\n",
<<<<<<< Updated upstream
       "      <th>209</th>\n",
       "      <td>210</td>\n",
       "      <td>El Salvador</td>\n",
       "      <td>0</td>\n",
       "      <td>0</td>\n",
       "      <td>0.0</td>\n",
       "      <td>0.0</td>\n",
       "      <td>10</td>\n",
       "      <td>20</td>\n",
       "      <td>-50</td>\n",
       "      <td>2.0</td>\n",
       "      <td>6541715</td>\n",
       "      <td>NorthAmerica</td>\n",
       "    </tr>\n",
       "    <tr>\n",
       "      <th>210</th>\n",
       "      <td>211</td>\n",
       "      <td>Papua New Guinea</td>\n",
       "      <td>0</td>\n",
       "      <td>243</td>\n",
       "      <td>-100.0</td>\n",
       "      <td>0.0</td>\n",
       "      <td>0</td>\n",
       "      <td>1</td>\n",
       "      <td>-100</td>\n",
       "      <td>0.0</td>\n",
       "      <td>9234315</td>\n",
       "      <td>Australia/Oceania</td>\n",
       "    </tr>\n",
       "    <tr>\n",
       "      <th>211</th>\n",
       "      <td>212</td>\n",
       "      <td>St. Barth</td>\n",
=======
<<<<<<< HEAD
       "      <th>211</th>\n",
       "      <td>212</td>\n",
       "      <td>Grenada</td>\n",
       "      <td>0</td>\n",
       "      <td>29</td>\n",
       "      <td>-100.0</td>\n",
       "      <td>0.0</td>\n",
       "      <td>0</td>\n",
       "      <td>2</td>\n",
       "      <td>-100</td>\n",
       "      <td>0.0</td>\n",
       "      <td>113403</td>\n",
       "      <td>NorthAmerica</td>\n",
       "    </tr>\n",
       "    <tr>\n",
       "      <th>212</th>\n",
       "      <td>213</td>\n",
       "      <td>St. Barth</td>\n",
       "      <td>0</td>\n",
       "      <td>22</td>\n",
       "      <td>-100.0</td>\n",
       "      <td>0.0</td>\n",
       "      <td>0</td>\n",
       "      <td>0</td>\n",
       "      <td>0</td>\n",
       "      <td>0.0</td>\n",
       "      <td>9928</td>\n",
       "      <td>NorthAmerica</td>\n",
       "    </tr>\n",
       "    <tr>\n",
       "      <th>213</th>\n",
       "      <td>214</td>\n",
       "      <td>Saint Martin</td>\n",
       "      <td>0</td>\n",
       "      <td>35</td>\n",
=======
       "      <th>209</th>\n",
       "      <td>210</td>\n",
       "      <td>El Salvador</td>\n",
       "      <td>0</td>\n",
       "      <td>0</td>\n",
       "      <td>0.0</td>\n",
       "      <td>0.0</td>\n",
       "      <td>10</td>\n",
       "      <td>20</td>\n",
       "      <td>-50</td>\n",
       "      <td>2.0</td>\n",
       "      <td>6541715</td>\n",
       "      <td>NorthAmerica</td>\n",
       "    </tr>\n",
       "    <tr>\n",
       "      <th>210</th>\n",
       "      <td>211</td>\n",
       "      <td>Papua New Guinea</td>\n",
       "      <td>0</td>\n",
       "      <td>243</td>\n",
       "      <td>-100.0</td>\n",
       "      <td>0.0</td>\n",
>>>>>>> Stashed changes
       "      <td>0</td>\n",
       "      <td>22</td>\n",
       "      <td>-100.0</td>\n",
       "      <td>0.0</td>\n",
       "      <td>9234315</td>\n",
       "      <td>Australia/Oceania</td>\n",
       "    </tr>\n",
       "    <tr>\n",
       "      <th>211</th>\n",
       "      <td>212</td>\n",
       "      <td>St. Barth</td>\n",
       "      <td>0</td>\n",
       "      <td>22</td>\n",
>>>>>>> 0d37aeddba7996b01c5c7139b1a8d4913e743ec5
       "      <td>-100.0</td>\n",
       "      <td>0.0</td>\n",
       "      <td>0</td>\n",
       "      <td>0</td>\n",
       "      <td>0</td>\n",
       "      <td>0.0</td>\n",
<<<<<<< Updated upstream
       "      <td>9928</td>\n",
       "      <td>NorthAmerica</td>\n",
       "    </tr>\n",
       "    <tr>\n",
       "      <th>212</th>\n",
       "      <td>213</td>\n",
       "      <td>Saint Martin</td>\n",
       "      <td>0</td>\n",
       "      <td>35</td>\n",
=======
<<<<<<< HEAD
       "      <td>39778</td>\n",
       "      <td>NorthAmerica</td>\n",
       "    </tr>\n",
       "    <tr>\n",
       "      <th>214</th>\n",
       "      <td>215</td>\n",
       "      <td>St. Vincent Grenadines</td>\n",
       "      <td>0</td>\n",
       "      <td>4</td>\n",
=======
       "      <td>9928</td>\n",
       "      <td>NorthAmerica</td>\n",
       "    </tr>\n",
       "    <tr>\n",
       "      <th>212</th>\n",
       "      <td>213</td>\n",
       "      <td>Saint Martin</td>\n",
       "      <td>0</td>\n",
       "      <td>35</td>\n",
>>>>>>> 0d37aeddba7996b01c5c7139b1a8d4913e743ec5
>>>>>>> Stashed changes
       "      <td>-100.0</td>\n",
       "      <td>0.0</td>\n",
       "      <td>0</td>\n",
       "      <td>0</td>\n",
       "      <td>0</td>\n",
       "      <td>0.0</td>\n",
<<<<<<< Updated upstream
       "      <td>39784</td>\n",
       "      <td>NorthAmerica</td>\n",
       "    </tr>\n",
       "    <tr>\n",
       "      <th>213</th>\n",
       "      <td>214</td>\n",
       "      <td>Somalia</td>\n",
       "      <td>0</td>\n",
       "      <td>87</td>\n",
=======
<<<<<<< HEAD
       "      <td>111535</td>\n",
       "      <td>NorthAmerica</td>\n",
       "    </tr>\n",
       "    <tr>\n",
       "      <th>215</th>\n",
       "      <td>216</td>\n",
       "      <td>Sao Tome and Principe</td>\n",
       "      <td>0</td>\n",
       "      <td>1</td>\n",
=======
       "      <td>39784</td>\n",
       "      <td>NorthAmerica</td>\n",
       "    </tr>\n",
       "    <tr>\n",
       "      <th>213</th>\n",
       "      <td>214</td>\n",
       "      <td>Somalia</td>\n",
       "      <td>0</td>\n",
       "      <td>87</td>\n",
>>>>>>> 0d37aeddba7996b01c5c7139b1a8d4913e743ec5
>>>>>>> Stashed changes
       "      <td>-100.0</td>\n",
       "      <td>0.0</td>\n",
       "      <td>0</td>\n",
       "      <td>0</td>\n",
       "      <td>0</td>\n",
       "      <td>0.0</td>\n",
<<<<<<< Updated upstream
       "      <td>16644458</td>\n",
=======
<<<<<<< HEAD
       "      <td>226024</td>\n",
=======
       "      <td>16644458</td>\n",
>>>>>>> 0d37aeddba7996b01c5c7139b1a8d4913e743ec5
>>>>>>> Stashed changes
       "      <td>Africa</td>\n",
       "    </tr>\n",
       "  </tbody>\n",
       "</table>\n",
       "<p>214 rows × 12 columns</p>\n",
       "</div>"
      ],
      "text/plain": [
<<<<<<< Updated upstream
       "       #           Country  Cases in the last 7 days  \\\n",
       "0      1          S. Korea                   2199245   \n",
       "1      2           Germany                   1391001   \n",
       "2      3           Vietnam                   1221623   \n",
       "3      4            France                    461175   \n",
       "4      5       Netherlands                    442432   \n",
       "..   ...               ...                       ...   \n",
       "209  210       El Salvador                         0   \n",
       "210  211  Papua New Guinea                         0   \n",
       "211  212         St. Barth                         0   \n",
       "212  213      Saint Martin                         0   \n",
       "213  214           Somalia                         0   \n",
       "\n",
       "     Cases in the preceding 7 days  Weekly case /%/ change  \\\n",
       "0                          1532521                    44.0   \n",
       "1                          1127202                    23.0   \n",
       "2                          1008776                    21.0   \n",
       "3                           369007                    25.0   \n",
       "4                           410017                     8.0   \n",
       "..                             ...                     ...   \n",
       "209                              0                     0.0   \n",
       "210                            243                  -100.0   \n",
       "211                             22                  -100.0   \n",
       "212                             35                  -100.0   \n",
       "213                             87                  -100.0   \n",
       "\n",
       "     Cases in the last 7 days/1M pop  Deaths in the last 7 days  \\\n",
=======
<<<<<<< HEAD
       "       #                 Country  Cases in the last 7 days  \\\n",
       "0      1                S. Korea                   1864300   \n",
       "1      2                 Germany                   1302468   \n",
       "2      3                 Vietnam                   1107609   \n",
       "3      4             Netherlands                    482619   \n",
       "4      5                  Russia                    467019   \n",
       "..   ...                     ...                       ...   \n",
       "211  212                 Grenada                         0   \n",
       "212  213               St. Barth                         0   \n",
       "213  214            Saint Martin                         0   \n",
       "214  215  St. Vincent Grenadines                         0   \n",
       "215  216   Sao Tome and Principe                         0   \n",
       "\n",
       "     Cases in the preceding 7 days  Weekly case /%/ change  \\\n",
       "0                          1293249                    44.0   \n",
       "1                          1075329                    21.0   \n",
       "2                           785825                    41.0   \n",
       "3                           300702                    60.0   \n",
       "4                           722996                   -35.0   \n",
       "..                             ...                     ...   \n",
       "211                             29                  -100.0   \n",
       "212                             22                  -100.0   \n",
       "213                             35                  -100.0   \n",
       "214                              4                  -100.0   \n",
       "215                              1                  -100.0   \n",
       "\n",
       "     Cases in the last 7 days/1M pop  Deaths in the last 7 days  \\\n",
       "0                            36310.0                       1295   \n",
       "1                            15462.0                       1394   \n",
       "2                            11209.0                        584   \n",
       "3                            28061.0                         89   \n",
       "4                             3198.0                       4798   \n",
=======
       "       #           Country  Cases in the last 7 days  \\\n",
       "0      1          S. Korea                   2199245   \n",
       "1      2           Germany                   1391001   \n",
       "2      3           Vietnam                   1221623   \n",
       "3      4            France                    461175   \n",
       "4      5       Netherlands                    442432   \n",
       "..   ...               ...                       ...   \n",
       "209  210       El Salvador                         0   \n",
       "210  211  Papua New Guinea                         0   \n",
       "211  212         St. Barth                         0   \n",
       "212  213      Saint Martin                         0   \n",
       "213  214           Somalia                         0   \n",
       "\n",
       "     Cases in the preceding 7 days  Weekly case /%/ change  \\\n",
       "0                          1532521                    44.0   \n",
       "1                          1127202                    23.0   \n",
       "2                          1008776                    21.0   \n",
       "3                           369007                    25.0   \n",
       "4                           410017                     8.0   \n",
       "..                             ...                     ...   \n",
       "209                              0                     0.0   \n",
       "210                            243                  -100.0   \n",
       "211                             22                  -100.0   \n",
       "212                             35                  -100.0   \n",
       "213                             87                  -100.0   \n",
       "\n",
       "     Cases in the last 7 days/1M pop  Deaths in the last 7 days  \\\n",
>>>>>>> Stashed changes
       "0                            42834.0                       1499   \n",
       "1                            16513.0                       1529   \n",
       "2                            12362.0                        586   \n",
       "3                             7039.0                        843   \n",
       "4                            25724.0                        101   \n",
<<<<<<< Updated upstream
=======
>>>>>>> 0d37aeddba7996b01c5c7139b1a8d4913e743ec5
>>>>>>> Stashed changes
       "..                               ...                        ...   \n",
       "209                              0.0                         10   \n",
       "210                              0.0                          0   \n",
       "211                              0.0                          0   \n",
       "212                              0.0                          0   \n",
       "213                              0.0                          0   \n",
       "\n",
       "     Deaths in the preceding 7 days  Weekly Death /%/ change  \\\n",
<<<<<<< Updated upstream
=======
<<<<<<< HEAD
       "0                               797                       62   \n",
       "1                              1387                        1   \n",
       "2                               682                      -14   \n",
       "3                                60                       48   \n",
       "4                              5422                      -12   \n",
       "..                              ...                      ...   \n",
       "211                               2                     -100   \n",
=======
>>>>>>> Stashed changes
       "0                              1038                       44   \n",
       "1                              1270                       20   \n",
       "2                               639                       -8   \n",
       "3                              1084                      -22   \n",
       "4                                58                       74   \n",
       "..                              ...                      ...   \n",
       "209                              20                      -50   \n",
       "210                               1                     -100   \n",
       "211                               0                        0   \n",
<<<<<<< Updated upstream
       "212                               0                        0   \n",
       "213                               0                        0   \n",
       "\n",
=======
>>>>>>> 0d37aeddba7996b01c5c7139b1a8d4913e743ec5
       "212                               0                        0   \n",
       "213                               0                        0   \n",
       "\n",
<<<<<<< HEAD
       "     Deaths in the last 7 days/1M pop  Population     Continent  \n",
       "0                                25.0    51343665          Asia  \n",
       "1                                17.0    84236156        Europe  \n",
       "2                                 6.0    98816731          Asia  \n",
       "3                                 5.0    17198870        Europe  \n",
       "4                                33.0   146040091        Europe  \n",
       "..                                ...         ...           ...  \n",
       "211                               0.0      113403  NorthAmerica  \n",
       "212                               0.0        9928  NorthAmerica  \n",
       "213                               0.0       39778  NorthAmerica  \n",
       "214                               0.0      111535  NorthAmerica  \n",
       "215                               0.0      226024        Africa  \n",
=======
>>>>>>> Stashed changes
       "     Deaths in the last 7 days/1M pop  Population          Continent  \n",
       "0                                29.0    51344026               Asia  \n",
       "1                                18.0    84238346             Europe  \n",
       "2                                 6.0    98823902               Asia  \n",
       "3                                13.0    65518499             Europe  \n",
       "4                                 6.0    17199180             Europe  \n",
       "..                                ...         ...                ...  \n",
       "209                               2.0     6541715       NorthAmerica  \n",
       "210                               0.0     9234315  Australia/Oceania  \n",
       "211                               0.0        9928       NorthAmerica  \n",
       "212                               0.0       39784       NorthAmerica  \n",
       "213                               0.0    16644458             Africa  \n",
<<<<<<< Updated upstream
=======
>>>>>>> 0d37aeddba7996b01c5c7139b1a8d4913e743ec5
>>>>>>> Stashed changes
       "\n",
       "[214 rows x 12 columns]"
      ]
     },
<<<<<<< Updated upstream
     "execution_count": 64,
=======
<<<<<<< HEAD
     "execution_count": 10,
=======
     "execution_count": 64,
>>>>>>> 0d37aeddba7996b01c5c7139b1a8d4913e743ec5
>>>>>>> Stashed changes
     "metadata": {},
     "output_type": "execute_result"
    }
   ],
   "source": [
    "df_covid_by_week"
   ]
  },
  {
   "cell_type": "code",
<<<<<<< Updated upstream
   "execution_count": 65,
=======
<<<<<<< HEAD
   "execution_count": 11,
=======
   "execution_count": 65,
>>>>>>> 0d37aeddba7996b01c5c7139b1a8d4913e743ec5
>>>>>>> Stashed changes
   "metadata": {},
   "outputs": [
    {
     "data": {
      "text/plain": [
       "#                                     int64\n",
       "Country                              object\n",
       "Cases in the last 7 days              int64\n",
       "Cases in the preceding 7 days         int64\n",
       "Weekly case /%/ change              float64\n",
       "Cases in the last 7 days/1M pop     float64\n",
       "Deaths in the last 7 days             int64\n",
       "Deaths in the preceding 7 days        int64\n",
       "Weekly Death /%/ change               int64\n",
       "Deaths in the last 7 days/1M pop    float64\n",
       "Population                            int64\n",
       "Continent                            object\n",
       "dtype: object"
      ]
     },
<<<<<<< Updated upstream
     "execution_count": 65,
=======
<<<<<<< HEAD
     "execution_count": 11,
=======
     "execution_count": 65,
>>>>>>> 0d37aeddba7996b01c5c7139b1a8d4913e743ec5
>>>>>>> Stashed changes
     "metadata": {},
     "output_type": "execute_result"
    }
   ],
   "source": [
    "df_covid_by_week.dtypes"
   ]
  },
  {
   "cell_type": "markdown",
   "metadata": {},
   "source": [
    "### Phân chia dataset theo ngày thành 6 châu lục\n",
    "\n",
    "Tuần không cần vì các chỉ số không cho phép ta groupby, nếu groupby sẽ bị sai lệch số liệu."
   ]
  },
  {
   "cell_type": "code",
<<<<<<< Updated upstream
   "execution_count": 66,
=======
<<<<<<< HEAD
   "execution_count": 23,
=======
   "execution_count": 66,
>>>>>>> 0d37aeddba7996b01c5c7139b1a8d4913e743ec5
>>>>>>> Stashed changes
   "metadata": {},
   "outputs": [
    {
     "data": {
      "text/plain": [
       "'2022-03-13'"
      ]
     },
     "execution_count": 66,
     "metadata": {},
     "output_type": "execute_result"
    }
   ],
   "source": [
    "today = date.today()\n",
<<<<<<< Updated upstream
    "yesterday = (today - timedelta(2)).strftime(\"%Y-%m-%d\")\n",
    "yesterday"
   ]
  },
  {
   "cell_type": "code",
   "execution_count": 67,
   "metadata": {},
   "outputs": [],
   "source": [
    "yesterday = '2022-03-11'"
   ]
  },
  {
   "cell_type": "markdown",
   "metadata": {},
   "source": [
    "Tuy nhiên, nhóm chúng em kết thúc vào ngày 11/3/2022 nên bây giờ ta phải để yesterday = 11/3/2022 luôn để tránh phát sinh lỗi khi chạy"
=======
<<<<<<< HEAD
    "yesterday = (today - timedelta(1)).strftime(\"%Y-%m-%d\")\n",
    "recent_day = '2022-03-11'"
=======
    "yesterday = (today - timedelta(2)).strftime(\"%Y-%m-%d\")\n",
    "yesterday"
>>>>>>> Stashed changes
   ]
  },
  {
   "cell_type": "code",
<<<<<<< Updated upstream
   "execution_count": 68,
=======
   "execution_count": 67,
>>>>>>> Stashed changes
   "metadata": {},
   "outputs": [],
   "source": [
    "yesterday = '2022-03-11'"
>>>>>>> 0d37aeddba7996b01c5c7139b1a8d4913e743ec5
   ]
  },
  {
<<<<<<< Updated upstream
   "cell_type": "code",
   "execution_count": 69,
=======
   "cell_type": "markdown",
>>>>>>> Stashed changes
   "metadata": {},
   "source": [
    "Tuy nhiên, nhóm chúng em kết thúc vào ngày 11/3/2022 nên bây giờ ta phải để yesterday = 11/3/2022 luôn để tránh phát sinh lỗi khi chạy"
   ]
  },
  {
   "cell_type": "code",
<<<<<<< HEAD
   "execution_count": 24,
=======
   "execution_count": 68,
>>>>>>> 0d37aeddba7996b01c5c7139b1a8d4913e743ec5
   "metadata": {},
   "outputs": [],
   "source": [
    "df_covid_yesterday = df_covid_by_day[df_covid_by_day['Date'] == recent_day]"
   ]
  },
  {
<<<<<<< Updated upstream
=======
   "cell_type": "code",
   "execution_count": 25,
   "metadata": {},
   "outputs": [
    {
     "data": {
      "text/html": [
       "<div>\n",
       "<style scoped>\n",
       "    .dataframe tbody tr th:only-of-type {\n",
       "        vertical-align: middle;\n",
       "    }\n",
       "\n",
       "    .dataframe tbody tr th {\n",
       "        vertical-align: top;\n",
       "    }\n",
       "\n",
       "    .dataframe thead th {\n",
       "        text-align: right;\n",
       "    }\n",
       "</style>\n",
       "<table border=\"1\" class=\"dataframe\">\n",
       "  <thead>\n",
       "    <tr style=\"text-align: right;\">\n",
       "      <th></th>\n",
       "      <th>#</th>\n",
       "      <th>Country</th>\n",
       "      <th>Date</th>\n",
       "      <th>TotalCases</th>\n",
       "      <th>NewCases</th>\n",
       "      <th>TotalDeaths</th>\n",
       "      <th>NewDeaths</th>\n",
       "      <th>TotalRecovered</th>\n",
       "      <th>NewRecovered</th>\n",
       "      <th>ActiveCases</th>\n",
       "      <th>Serious,Critical</th>\n",
       "      <th>Tot Cases/1M pop</th>\n",
       "      <th>Deaths/1M pop</th>\n",
       "      <th>TotalTests</th>\n",
       "      <th>Tests/1M pop</th>\n",
       "      <th>Population</th>\n",
       "      <th>Continent</th>\n",
       "    </tr>\n",
       "  </thead>\n",
       "  <tbody>\n",
       "    <tr>\n",
       "      <th>2488</th>\n",
       "      <td>227</td>\n",
       "      <td>Niue</td>\n",
       "      <td>2022-03-11</td>\n",
       "      <td>1</td>\n",
       "      <td>0</td>\n",
       "      <td>0</td>\n",
       "      <td>0</td>\n",
       "      <td>0</td>\n",
       "      <td>0</td>\n",
       "      <td>1</td>\n",
       "      <td>0</td>\n",
       "      <td>608</td>\n",
       "      <td>0</td>\n",
       "      <td>0</td>\n",
       "      <td>0</td>\n",
       "      <td>1645</td>\n",
       "      <td>Australia/Oceania</td>\n",
       "    </tr>\n",
       "    <tr>\n",
       "      <th>2489</th>\n",
       "      <td>1</td>\n",
       "      <td>USA</td>\n",
       "      <td>2022-03-11</td>\n",
       "      <td>81154960</td>\n",
       "      <td>39254</td>\n",
       "      <td>993044</td>\n",
       "      <td>1022</td>\n",
       "      <td>55757373</td>\n",
       "      <td>157198</td>\n",
       "      <td>24404543</td>\n",
       "      <td>4604</td>\n",
       "      <td>242776</td>\n",
       "      <td>2971</td>\n",
       "      <td>963805880</td>\n",
       "      <td>2883239</td>\n",
       "      <td>334278850</td>\n",
       "      <td>NorthAmerica</td>\n",
       "    </tr>\n",
       "    <tr>\n",
       "      <th>2490</th>\n",
       "      <td>2</td>\n",
       "      <td>India</td>\n",
       "      <td>2022-03-11</td>\n",
       "      <td>42987875</td>\n",
       "      <td>3614</td>\n",
       "      <td>515833</td>\n",
       "      <td>88</td>\n",
       "      <td>42431513</td>\n",
       "      <td>5185</td>\n",
       "      <td>40529</td>\n",
       "      <td>8944</td>\n",
       "      <td>30642</td>\n",
       "      <td>368</td>\n",
       "      <td>776894810</td>\n",
       "      <td>553777</td>\n",
       "      <td>1402902454</td>\n",
       "      <td>Asia</td>\n",
       "    </tr>\n",
       "    <tr>\n",
       "      <th>2491</th>\n",
       "      <td>3</td>\n",
       "      <td>Brazil</td>\n",
       "      <td>2022-03-11</td>\n",
       "      <td>29305114</td>\n",
       "      <td>55211</td>\n",
       "      <td>654612</td>\n",
       "      <td>465</td>\n",
       "      <td>27556598</td>\n",
       "      <td>0</td>\n",
       "      <td>1093904</td>\n",
       "      <td>8318</td>\n",
       "      <td>136233</td>\n",
       "      <td>3043</td>\n",
       "      <td>63776166</td>\n",
       "      <td>296482</td>\n",
       "      <td>215109695</td>\n",
       "      <td>SouthAmerica</td>\n",
       "    </tr>\n",
       "    <tr>\n",
       "      <th>2492</th>\n",
       "      <td>4</td>\n",
       "      <td>France</td>\n",
       "      <td>2022-03-11</td>\n",
       "      <td>23381279</td>\n",
       "      <td>72399</td>\n",
       "      <td>140029</td>\n",
       "      <td>149</td>\n",
       "      <td>22087946</td>\n",
       "      <td>76531</td>\n",
       "      <td>1153304</td>\n",
       "      <td>1928</td>\n",
       "      <td>356872</td>\n",
       "      <td>2137</td>\n",
       "      <td>246629975</td>\n",
       "      <td>3764348</td>\n",
       "      <td>65517319</td>\n",
       "      <td>Europe</td>\n",
       "    </tr>\n",
       "    <tr>\n",
       "      <th>...</th>\n",
       "      <td>...</td>\n",
       "      <td>...</td>\n",
       "      <td>...</td>\n",
       "      <td>...</td>\n",
       "      <td>...</td>\n",
       "      <td>...</td>\n",
       "      <td>...</td>\n",
       "      <td>...</td>\n",
       "      <td>...</td>\n",
       "      <td>...</td>\n",
       "      <td>...</td>\n",
       "      <td>...</td>\n",
       "      <td>...</td>\n",
       "      <td>...</td>\n",
       "      <td>...</td>\n",
       "      <td>...</td>\n",
       "      <td>...</td>\n",
       "    </tr>\n",
       "    <tr>\n",
       "      <th>2710</th>\n",
       "      <td>222</td>\n",
       "      <td>Western Sahara</td>\n",
       "      <td>2022-03-11</td>\n",
       "      <td>10</td>\n",
       "      <td>0</td>\n",
       "      <td>1</td>\n",
       "      <td>0</td>\n",
       "      <td>8</td>\n",
       "      <td>0</td>\n",
       "      <td>1</td>\n",
       "      <td>0</td>\n",
       "      <td>16</td>\n",
       "      <td>2</td>\n",
       "      <td>0</td>\n",
       "      <td>0</td>\n",
       "      <td>622105</td>\n",
       "      <td>Africa</td>\n",
       "    </tr>\n",
       "    <tr>\n",
       "      <th>2711</th>\n",
       "      <td>223</td>\n",
       "      <td>MS Zaandam</td>\n",
       "      <td>2022-03-11</td>\n",
       "      <td>9</td>\n",
       "      <td>0</td>\n",
       "      <td>2</td>\n",
       "      <td>0</td>\n",
       "      <td>7</td>\n",
       "      <td>0</td>\n",
       "      <td>0</td>\n",
       "      <td>0</td>\n",
       "      <td>0</td>\n",
       "      <td>0</td>\n",
       "      <td>0</td>\n",
       "      <td>0</td>\n",
       "      <td>0</td>\n",
       "      <td>nan</td>\n",
       "    </tr>\n",
       "    <tr>\n",
       "      <th>2712</th>\n",
       "      <td>224</td>\n",
       "      <td>Marshall Islands</td>\n",
       "      <td>2022-03-11</td>\n",
       "      <td>7</td>\n",
       "      <td>0</td>\n",
       "      <td>0</td>\n",
       "      <td>0</td>\n",
       "      <td>7</td>\n",
       "      <td>0</td>\n",
       "      <td>0</td>\n",
       "      <td>0</td>\n",
       "      <td>117</td>\n",
       "      <td>0</td>\n",
       "      <td>0</td>\n",
       "      <td>0</td>\n",
       "      <td>59864</td>\n",
       "      <td>Australia/Oceania</td>\n",
       "    </tr>\n",
       "    <tr>\n",
       "      <th>2713</th>\n",
       "      <td>225</td>\n",
       "      <td>Saint Helena</td>\n",
       "      <td>2022-03-11</td>\n",
       "      <td>2</td>\n",
       "      <td>0</td>\n",
       "      <td>0</td>\n",
       "      <td>0</td>\n",
       "      <td>2</td>\n",
       "      <td>0</td>\n",
       "      <td>0</td>\n",
       "      <td>0</td>\n",
       "      <td>327</td>\n",
       "      <td>0</td>\n",
       "      <td>0</td>\n",
       "      <td>0</td>\n",
       "      <td>6108</td>\n",
       "      <td>Africa</td>\n",
       "    </tr>\n",
       "    <tr>\n",
       "      <th>2714</th>\n",
       "      <td>226</td>\n",
       "      <td>Micronesia</td>\n",
       "      <td>2022-03-11</td>\n",
       "      <td>1</td>\n",
       "      <td>0</td>\n",
       "      <td>0</td>\n",
       "      <td>0</td>\n",
       "      <td>1</td>\n",
       "      <td>0</td>\n",
       "      <td>0</td>\n",
       "      <td>0</td>\n",
       "      <td>9</td>\n",
       "      <td>0</td>\n",
       "      <td>0</td>\n",
       "      <td>0</td>\n",
       "      <td>117058</td>\n",
       "      <td>Australia/Oceania</td>\n",
       "    </tr>\n",
       "  </tbody>\n",
       "</table>\n",
       "<p>227 rows × 17 columns</p>\n",
       "</div>"
      ],
      "text/plain": [
       "        #           Country       Date  TotalCases  NewCases  TotalDeaths  \\\n",
       "2488  227              Niue 2022-03-11           1         0            0   \n",
       "2489    1               USA 2022-03-11    81154960     39254       993044   \n",
       "2490    2             India 2022-03-11    42987875      3614       515833   \n",
       "2491    3            Brazil 2022-03-11    29305114     55211       654612   \n",
       "2492    4            France 2022-03-11    23381279     72399       140029   \n",
       "...   ...               ...        ...         ...       ...          ...   \n",
       "2710  222    Western Sahara 2022-03-11          10         0            1   \n",
       "2711  223        MS Zaandam 2022-03-11           9         0            2   \n",
       "2712  224  Marshall Islands 2022-03-11           7         0            0   \n",
       "2713  225      Saint Helena 2022-03-11           2         0            0   \n",
       "2714  226        Micronesia 2022-03-11           1         0            0   \n",
       "\n",
       "      NewDeaths  TotalRecovered  NewRecovered  ActiveCases  Serious,Critical  \\\n",
       "2488          0               0             0            1                 0   \n",
       "2489       1022        55757373        157198     24404543              4604   \n",
       "2490         88        42431513          5185        40529              8944   \n",
       "2491        465        27556598             0      1093904              8318   \n",
       "2492        149        22087946         76531      1153304              1928   \n",
       "...         ...             ...           ...          ...               ...   \n",
       "2710          0               8             0            1                 0   \n",
       "2711          0               7             0            0                 0   \n",
       "2712          0               7             0            0                 0   \n",
       "2713          0               2             0            0                 0   \n",
       "2714          0               1             0            0                 0   \n",
       "\n",
       "      Tot Cases/1M pop  Deaths/1M pop  TotalTests  Tests/1M pop  Population  \\\n",
       "2488               608              0           0             0        1645   \n",
       "2489            242776           2971   963805880       2883239   334278850   \n",
       "2490             30642            368   776894810        553777  1402902454   \n",
       "2491            136233           3043    63776166        296482   215109695   \n",
       "2492            356872           2137   246629975       3764348    65517319   \n",
       "...                ...            ...         ...           ...         ...   \n",
       "2710                16              2           0             0      622105   \n",
       "2711                 0              0           0             0           0   \n",
       "2712               117              0           0             0       59864   \n",
       "2713               327              0           0             0        6108   \n",
       "2714                 9              0           0             0      117058   \n",
       "\n",
       "              Continent  \n",
       "2488  Australia/Oceania  \n",
       "2489       NorthAmerica  \n",
       "2490               Asia  \n",
       "2491       SouthAmerica  \n",
       "2492             Europe  \n",
       "...                 ...  \n",
       "2710             Africa  \n",
       "2711                nan  \n",
       "2712  Australia/Oceania  \n",
       "2713             Africa  \n",
       "2714  Australia/Oceania  \n",
       "\n",
       "[227 rows x 17 columns]"
      ]
     },
     "execution_count": 25,
     "metadata": {},
     "output_type": "execute_result"
    }
   ],
   "source": [
    "df_covid_yesterday"
   ]
  },
  {
   "cell_type": "code",
<<<<<<< HEAD
   "execution_count": 26,
=======
   "execution_count": 69,
>>>>>>> 0d37aeddba7996b01c5c7139b1a8d4913e743ec5
   "metadata": {},
   "outputs": [],
   "source": [
    "continent_yesterday_df = df_covid_yesterday.groupby(\"Continent\").sum().drop(\"nan\").reset_index()\n",
    "continent_yesterday_df = continent_yesterday_df.drop([\"#\",\"Tot Cases/1M pop\",\"Deaths/1M pop\",\"Tests/1M pop\"],axis=1)\n",
    "continent_yesterday_df['Date'] = yesterday\n",
    "continent_yesterday_df['Date'] = pd.to_datetime(continent_yesterday_df['Date'],format=\"%Y-%m-%d\")"
   ]
  },
  {
   "cell_type": "markdown",
   "metadata": {},
   "source": [
    "Dataframe của 6 châu lục theo ngày hôm qua. Áp dụng cho nhiều chart khác nhau."
   ]
  },
  {
<<<<<<< HEAD
   "cell_type": "code",
   "execution_count": 27,
   "metadata": {},
   "outputs": [
    {
     "data": {
      "text/html": [
       "<div>\n",
       "<style scoped>\n",
       "    .dataframe tbody tr th:only-of-type {\n",
       "        vertical-align: middle;\n",
       "    }\n",
       "\n",
       "    .dataframe tbody tr th {\n",
       "        vertical-align: top;\n",
       "    }\n",
       "\n",
       "    .dataframe thead th {\n",
       "        text-align: right;\n",
       "    }\n",
       "</style>\n",
       "<table border=\"1\" class=\"dataframe\">\n",
       "  <thead>\n",
       "    <tr style=\"text-align: right;\">\n",
       "      <th></th>\n",
       "      <th>Continent</th>\n",
       "      <th>TotalCases</th>\n",
       "      <th>NewCases</th>\n",
       "      <th>TotalDeaths</th>\n",
       "      <th>NewDeaths</th>\n",
       "      <th>TotalRecovered</th>\n",
       "      <th>NewRecovered</th>\n",
       "      <th>ActiveCases</th>\n",
       "      <th>Serious,Critical</th>\n",
       "      <th>TotalTests</th>\n",
       "      <th>Population</th>\n",
       "      <th>Date</th>\n",
       "    </tr>\n",
       "  </thead>\n",
       "  <tbody>\n",
       "    <tr>\n",
       "      <th>0</th>\n",
       "      <td>Africa</td>\n",
       "      <td>11618028</td>\n",
       "      <td>6304</td>\n",
       "      <td>251670</td>\n",
       "      <td>94</td>\n",
       "      <td>10729048</td>\n",
       "      <td>5102</td>\n",
       "      <td>540052</td>\n",
       "      <td>1567</td>\n",
       "      <td>97253337</td>\n",
       "      <td>1394727991</td>\n",
       "      <td>2022-03-14</td>\n",
       "    </tr>\n",
       "    <tr>\n",
       "      <th>1</th>\n",
       "      <td>Asia</td>\n",
       "      <td>124484715</td>\n",
       "      <td>686376</td>\n",
       "      <td>1369342</td>\n",
       "      <td>1677</td>\n",
       "      <td>110923469</td>\n",
       "      <td>347821</td>\n",
       "      <td>6379153</td>\n",
       "      <td>29551</td>\n",
       "      <td>1964739325</td>\n",
       "      <td>4666576359</td>\n",
       "      <td>2022-03-14</td>\n",
       "    </tr>\n",
       "    <tr>\n",
       "      <th>2</th>\n",
       "      <td>Australia/Oceania</td>\n",
       "      <td>4117167</td>\n",
       "      <td>56281</td>\n",
       "      <td>8208</td>\n",
       "      <td>32</td>\n",
       "      <td>3553693</td>\n",
       "      <td>38824</td>\n",
       "      <td>485751</td>\n",
       "      <td>152</td>\n",
       "      <td>72267304</td>\n",
       "      <td>43406133</td>\n",
       "      <td>2022-03-14</td>\n",
       "    </tr>\n",
       "    <tr>\n",
       "      <th>3</th>\n",
       "      <td>Europe</td>\n",
       "      <td>164043426</td>\n",
       "      <td>801055</td>\n",
       "      <td>1736468</td>\n",
       "      <td>2147</td>\n",
       "      <td>140461204</td>\n",
       "      <td>840095</td>\n",
       "      <td>17058408</td>\n",
       "      <td>12150</td>\n",
       "      <td>2519614320</td>\n",
       "      <td>748392111</td>\n",
       "      <td>2022-03-14</td>\n",
       "    </tr>\n",
       "    <tr>\n",
       "      <th>4</th>\n",
       "      <td>NorthAmerica</td>\n",
       "      <td>95656193</td>\n",
       "      <td>59310</td>\n",
       "      <td>1424631</td>\n",
       "      <td>1303</td>\n",
       "      <td>68520668</td>\n",
       "      <td>186917</td>\n",
       "      <td>25701091</td>\n",
       "      <td>10527</td>\n",
       "      <td>1078360385</td>\n",
       "      <td>596900655</td>\n",
       "      <td>2022-03-14</td>\n",
       "    </tr>\n",
       "    <tr>\n",
       "      <th>5</th>\n",
       "      <td>SouthAmerica</td>\n",
       "      <td>55138045</td>\n",
       "      <td>86119</td>\n",
       "      <td>1266986</td>\n",
       "      <td>749</td>\n",
       "      <td>47548986</td>\n",
       "      <td>44497</td>\n",
       "      <td>2190247</td>\n",
       "      <td>12490</td>\n",
       "      <td>212019299</td>\n",
       "      <td>436758630</td>\n",
       "      <td>2022-03-14</td>\n",
       "    </tr>\n",
       "  </tbody>\n",
       "</table>\n",
       "</div>"
      ],
      "text/plain": [
       "           Continent  TotalCases  NewCases  TotalDeaths  NewDeaths  \\\n",
       "0             Africa    11618028      6304       251670         94   \n",
       "1               Asia   124484715    686376      1369342       1677   \n",
       "2  Australia/Oceania     4117167     56281         8208         32   \n",
       "3             Europe   164043426    801055      1736468       2147   \n",
       "4       NorthAmerica    95656193     59310      1424631       1303   \n",
       "5       SouthAmerica    55138045     86119      1266986        749   \n",
       "\n",
       "   TotalRecovered  NewRecovered  ActiveCases  Serious,Critical  TotalTests  \\\n",
       "0        10729048          5102       540052              1567    97253337   \n",
       "1       110923469        347821      6379153             29551  1964739325   \n",
       "2         3553693         38824       485751               152    72267304   \n",
       "3       140461204        840095     17058408             12150  2519614320   \n",
       "4        68520668        186917     25701091             10527  1078360385   \n",
       "5        47548986         44497      2190247             12490   212019299   \n",
       "\n",
       "   Population       Date  \n",
       "0  1394727991 2022-03-14  \n",
       "1  4666576359 2022-03-14  \n",
       "2    43406133 2022-03-14  \n",
       "3   748392111 2022-03-14  \n",
       "4   596900655 2022-03-14  \n",
       "5   436758630 2022-03-14  "
      ]
     },
     "execution_count": 27,
     "metadata": {},
     "output_type": "execute_result"
    }
   ],
   "source": [
    "continent_yesterday_df"
   ]
  },
  {
=======
>>>>>>> 0d37aeddba7996b01c5c7139b1a8d4913e743ec5
>>>>>>> Stashed changes
   "cell_type": "markdown",
   "metadata": {},
   "source": [
    "Dataframe dựa theo thời gian cho line chart."
   ]
  },
  {
   "cell_type": "code",
<<<<<<< Updated upstream
   "execution_count": 70,
=======
<<<<<<< HEAD
   "execution_count": 28,
=======
   "execution_count": 70,
>>>>>>> 0d37aeddba7996b01c5c7139b1a8d4913e743ec5
>>>>>>> Stashed changes
   "metadata": {},
   "outputs": [
    {
     "data": {
      "text/html": [
       "<div>\n",
       "<style scoped>\n",
       "    .dataframe tbody tr th:only-of-type {\n",
       "        vertical-align: middle;\n",
       "    }\n",
       "\n",
       "    .dataframe tbody tr th {\n",
       "        vertical-align: top;\n",
       "    }\n",
       "\n",
       "    .dataframe thead th {\n",
       "        text-align: right;\n",
       "    }\n",
       "</style>\n",
       "<table border=\"1\" class=\"dataframe\">\n",
       "  <thead>\n",
       "    <tr style=\"text-align: right;\">\n",
       "      <th></th>\n",
       "      <th>Date</th>\n",
       "      <th>TotalCases</th>\n",
       "      <th>NewCases</th>\n",
       "      <th>TotalDeaths</th>\n",
       "      <th>NewDeaths</th>\n",
       "      <th>TotalRecovered</th>\n",
       "      <th>NewRecovered</th>\n",
       "      <th>ActiveCases</th>\n",
       "      <th>Serious,Critical</th>\n",
       "      <th>TotalTests</th>\n",
       "      <th>Population</th>\n",
       "    </tr>\n",
       "  </thead>\n",
       "  <tbody>\n",
       "    <tr>\n",
       "      <th>0</th>\n",
       "      <td>2022-02-28</td>\n",
       "      <td>437173429</td>\n",
       "      <td>1128262</td>\n",
       "      <td>5976416</td>\n",
       "      <td>6045</td>\n",
       "      <td>366621406</td>\n",
       "      <td>2154754</td>\n",
       "      <td>60360176</td>\n",
       "      <td>74759</td>\n",
       "      <td>5864353102</td>\n",
       "      <td>7884712500</td>\n",
       "    </tr>\n",
       "    <tr>\n",
       "      <th>1</th>\n",
       "      <td>2022-03-01</td>\n",
       "      <td>438510827</td>\n",
       "      <td>1337398</td>\n",
       "      <td>5983229</td>\n",
       "      <td>6813</td>\n",
       "      <td>368695782</td>\n",
       "      <td>2074376</td>\n",
       "      <td>59615435</td>\n",
       "      <td>74737</td>\n",
       "      <td>5869547415</td>\n",
       "      <td>7884712500</td>\n",
       "    </tr>\n",
       "    <tr>\n",
       "      <th>2</th>\n",
       "      <td>2022-03-02</td>\n",
       "      <td>440290515</td>\n",
       "      <td>1590173</td>\n",
       "      <td>5992432</td>\n",
       "      <td>7756</td>\n",
       "      <td>370783860</td>\n",
       "      <td>1939726</td>\n",
       "      <td>59289172</td>\n",
       "      <td>75953</td>\n",
       "      <td>5881445441</td>\n",
       "      <td>7884917270</td>\n",
       "    </tr>\n",
       "    <tr>\n",
       "      <th>3</th>\n",
       "      <td>2022-03-03</td>\n",
       "      <td>440377632</td>\n",
       "      <td>1599844</td>\n",
       "      <td>5993186</td>\n",
       "      <td>7872</td>\n",
       "      <td>370787000</td>\n",
       "      <td>1942866</td>\n",
       "      <td>59371827</td>\n",
       "      <td>75953</td>\n",
       "      <td>5881556015</td>\n",
       "      <td>7885122041</td>\n",
       "    </tr>\n",
       "    <tr>\n",
       "      <th>4</th>\n",
       "      <td>2022-03-04</td>\n",
       "      <td>443707497</td>\n",
       "      <td>1646436</td>\n",
       "      <td>6009345</td>\n",
       "      <td>8022</td>\n",
       "      <td>374469187</td>\n",
       "      <td>1751635</td>\n",
       "      <td>58996442</td>\n",
       "      <td>71862</td>\n",
       "      <td>5897737771</td>\n",
       "      <td>7885326827</td>\n",
       "    </tr>\n",
       "    <tr>\n",
       "      <th>5</th>\n",
       "      <td>2022-03-05</td>\n",
       "      <td>445123567</td>\n",
       "      <td>1371131</td>\n",
       "      <td>6015068</td>\n",
       "      <td>5651</td>\n",
       "      <td>375967273</td>\n",
       "      <td>1407925</td>\n",
       "      <td>58908703</td>\n",
       "      <td>72014</td>\n",
       "      <td>5903514343</td>\n",
       "      <td>7885531595</td>\n",
       "    </tr>\n",
       "    <tr>\n",
       "      <th>6</th>\n",
       "      <td>2022-03-06</td>\n",
       "      <td>446397620</td>\n",
       "      <td>1158654</td>\n",
       "      <td>6020183</td>\n",
       "      <td>4135</td>\n",
       "      <td>373237627</td>\n",
       "      <td>1328479</td>\n",
       "      <td>58148380</td>\n",
       "      <td>71136</td>\n",
       "      <td>5907087283</td>\n",
       "      <td>7885736371</td>\n",
       "    </tr>\n",
       "    <tr>\n",
       "      <th>7</th>\n",
       "      <td>2022-03-07</td>\n",
       "      <td>447839847</td>\n",
       "      <td>1216094</td>\n",
       "      <td>6026998</td>\n",
       "      <td>4912</td>\n",
       "      <td>375661281</td>\n",
       "      <td>1799427</td>\n",
       "      <td>57141478</td>\n",
       "      <td>70224</td>\n",
       "      <td>5912809671</td>\n",
       "      <td>7885941139</td>\n",
       "    </tr>\n",
       "    <tr>\n",
       "      <th>8</th>\n",
       "      <td>2022-03-08</td>\n",
       "      <td>449527551</td>\n",
       "      <td>1622156</td>\n",
       "      <td>6035718</td>\n",
       "      <td>6945</td>\n",
       "      <td>377568640</td>\n",
       "      <td>1926545</td>\n",
       "      <td>56851261</td>\n",
       "      <td>69516</td>\n",
       "      <td>5922376940</td>\n",
       "      <td>7886145914</td>\n",
       "    </tr>\n",
       "    <tr>\n",
       "      <th>9</th>\n",
       "      <td>2022-03-09</td>\n",
       "      <td>451357530</td>\n",
       "      <td>1699924</td>\n",
       "      <td>6043267</td>\n",
       "      <td>6811</td>\n",
       "      <td>379497990</td>\n",
       "      <td>1643000</td>\n",
       "      <td>56737443</td>\n",
       "      <td>67937</td>\n",
       "      <td>5930919728</td>\n",
       "      <td>7886352337</td>\n",
       "    </tr>\n",
       "    <tr>\n",
       "      <th>10</th>\n",
       "      <td>2022-03-10</td>\n",
       "      <td>453318538</td>\n",
       "      <td>1799907</td>\n",
       "      <td>6050626</td>\n",
       "      <td>6687</td>\n",
       "      <td>380263796</td>\n",
       "      <td>1733676</td>\n",
       "      <td>52387703</td>\n",
       "      <td>67409</td>\n",
       "      <td>5937450704</td>\n",
       "      <td>7886557106</td>\n",
       "    </tr>\n",
       "    <tr>\n",
       "      <th>11</th>\n",
       "      <td>2022-03-11</td>\n",
<<<<<<< Updated upstream
       "      <td>455058296</td>\n",
=======
<<<<<<< HEAD
       "      <td>455058295</td>\n",
=======
       "      <td>455058296</td>\n",
>>>>>>> 0d37aeddba7996b01c5c7139b1a8d4913e743ec5
>>>>>>> Stashed changes
       "      <td>1695445</td>\n",
       "      <td>6057320</td>\n",
       "      <td>6002</td>\n",
       "      <td>381737774</td>\n",
       "      <td>1463256</td>\n",
<<<<<<< Updated upstream
=======
<<<<<<< HEAD
       "      <td>52354702</td>\n",
       "      <td>66437</td>\n",
       "      <td>5944253970</td>\n",
       "      <td>7886761879</td>\n",
=======
>>>>>>> Stashed changes
       "      <td>52354703</td>\n",
       "      <td>66437</td>\n",
       "      <td>5944253970</td>\n",
       "      <td>7886763524</td>\n",
<<<<<<< Updated upstream
=======
>>>>>>> 0d37aeddba7996b01c5c7139b1a8d4913e743ec5
>>>>>>> Stashed changes
       "    </tr>\n",
       "  </tbody>\n",
       "</table>\n",
       "</div>"
      ],
      "text/plain": [
       "         Date  TotalCases  NewCases  TotalDeaths  NewDeaths  TotalRecovered  \\\n",
       "0  2022-02-28   437173429   1128262      5976416       6045       366621406   \n",
       "1  2022-03-01   438510827   1337398      5983229       6813       368695782   \n",
       "2  2022-03-02   440290515   1590173      5992432       7756       370783860   \n",
       "3  2022-03-03   440377632   1599844      5993186       7872       370787000   \n",
       "4  2022-03-04   443707497   1646436      6009345       8022       374469187   \n",
       "5  2022-03-05   445123567   1371131      6015068       5651       375967273   \n",
       "6  2022-03-06   446397620   1158654      6020183       4135       373237627   \n",
       "7  2022-03-07   447839847   1216094      6026998       4912       375661281   \n",
       "8  2022-03-08   449527551   1622156      6035718       6945       377568640   \n",
       "9  2022-03-09   451357530   1699924      6043267       6811       379497990   \n",
       "10 2022-03-10   453318538   1799907      6050626       6687       380263796   \n",
<<<<<<< Updated upstream
       "11 2022-03-11   455058296   1695445      6057320       6002       381737774   \n",
=======
<<<<<<< HEAD
       "11 2022-03-11   455058295   1695445      6057320       6002       381737774   \n",
=======
       "11 2022-03-11   455058296   1695445      6057320       6002       381737774   \n",
>>>>>>> 0d37aeddba7996b01c5c7139b1a8d4913e743ec5
>>>>>>> Stashed changes
       "\n",
       "    NewRecovered  ActiveCases  Serious,Critical  TotalTests  Population  \n",
       "0        2154754     60360176             74759  5864353102  7884712500  \n",
       "1        2074376     59615435             74737  5869547415  7884712500  \n",
       "2        1939726     59289172             75953  5881445441  7884917270  \n",
       "3        1942866     59371827             75953  5881556015  7885122041  \n",
       "4        1751635     58996442             71862  5897737771  7885326827  \n",
       "5        1407925     58908703             72014  5903514343  7885531595  \n",
       "6        1328479     58148380             71136  5907087283  7885736371  \n",
       "7        1799427     57141478             70224  5912809671  7885941139  \n",
       "8        1926545     56851261             69516  5922376940  7886145914  \n",
       "9        1643000     56737443             67937  5930919728  7886352337  \n",
       "10       1733676     52387703             67409  5937450704  7886557106  \n",
<<<<<<< Updated upstream
       "11       1463256     52354703             66437  5944253970  7886763524  "
      ]
     },
     "execution_count": 70,
=======
<<<<<<< HEAD
       "11       1463256     52354702             66437  5944253970  7886761879  "
      ]
     },
     "execution_count": 28,
=======
       "11       1463256     52354703             66437  5944253970  7886763524  "
      ]
     },
     "execution_count": 70,
>>>>>>> 0d37aeddba7996b01c5c7139b1a8d4913e743ec5
>>>>>>> Stashed changes
     "metadata": {},
     "output_type": "execute_result"
    }
   ],
   "source": [
    "df_covid_time = df_covid_by_day.groupby(\"Date\").sum().reset_index()\n",
    "df_covid_time = df_covid_time.drop([\"#\",\"Tot Cases/1M pop\",\"Deaths/1M pop\",\"Tests/1M pop\"],axis=1)\n",
    "df_covid_time"
   ]
  },
  {
   "cell_type": "markdown",
   "metadata": {},
   "source": [
    "### Câu 1,4,5 + World Chart (Toàn)"
   ]
  },
  {
   "cell_type": "markdown",
   "metadata": {},
   "source": [
    "### Bar Chart"
   ]
  },
  {
   "cell_type": "markdown",
   "metadata": {},
   "source": [
    "Câu 1: \n",
    "- Tổng số ca nhiễm từng châu lục so với tổng dân số\n",
    "- Tổng ca test so với tổng dân số\n",
    "- Biểu đồ chồng giữa 3 thông số: tổng số ca nhiễm = tổng chết + ca nhiễm trong cộng đồng + tổng hồi phục\n"
   ]
  },
  {
   "cell_type": "code",
<<<<<<< Updated upstream
   "execution_count": 71,
=======
<<<<<<< HEAD
   "execution_count": 29,
=======
   "execution_count": 71,
>>>>>>> 0d37aeddba7996b01c5c7139b1a8d4913e743ec5
>>>>>>> Stashed changes
   "metadata": {},
   "outputs": [],
   "source": [
    "#hàm tính tỉ lệ\n",
    "def cal_ratio(x,y):\n",
    "    for i in continent_yesterday_df['Continent'].values:\n",
    "        ratio = x/y\n",
    "    return ratio"
   ]
  },
  {
   "cell_type": "code",
<<<<<<< Updated upstream
   "execution_count": 72,
=======
<<<<<<< HEAD
   "execution_count": 30,
=======
   "execution_count": 72,
>>>>>>> 0d37aeddba7996b01c5c7139b1a8d4913e743ec5
>>>>>>> Stashed changes
   "metadata": {},
   "outputs": [
    {
     "data": {
<<<<<<< Updated upstream
      "image/png": "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",
=======
<<<<<<< HEAD
      "image/png": "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\n",
=======
      "image/png": "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",
>>>>>>> 0d37aeddba7996b01c5c7139b1a8d4913e743ec5
>>>>>>> Stashed changes
      "text/plain": [
       "<Figure size 432x288 with 1 Axes>"
      ]
     },
     "metadata": {},
     "output_type": "display_data"
    }
   ],
   "source": [
    "ratio = cal_ratio(continent_yesterday_df['TotalCases'],continent_yesterday_df['Population'])\n",
    "#tạo dataframe tỉ lệ\n",
    "df_case = pd.DataFrame({'Continent':continent_yesterday_df['Continent'].values, 'Ratio':ratio.values})\n",
    "#vẽ barplot\n",
    "sns.barplot(x=\"Continent\", y=\"Ratio\", data=df_case,color='b') \n",
    "plt.title('Tỉ lệ số ca nhiễm so với tổng dân số ')\n",
    "plt.show()"
   ]
  },
  {
   "cell_type": "code",
<<<<<<< Updated upstream
   "execution_count": 73,
=======
<<<<<<< HEAD
   "execution_count": 31,
=======
   "execution_count": 73,
>>>>>>> 0d37aeddba7996b01c5c7139b1a8d4913e743ec5
>>>>>>> Stashed changes
   "metadata": {},
   "outputs": [
    {
     "data": {
<<<<<<< Updated upstream
      "image/png": "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",
=======
<<<<<<< HEAD
      "image/png": "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\n",
=======
      "image/png": "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",
>>>>>>> 0d37aeddba7996b01c5c7139b1a8d4913e743ec5
>>>>>>> Stashed changes
      "text/plain": [
       "<Figure size 432x288 with 1 Axes>"
      ]
     },
     "metadata": {},
     "output_type": "display_data"
    }
   ],
   "source": [
    "ratio = cal_ratio(continent_yesterday_df['TotalTests'],continent_yesterday_df['Population'])\n",
    "df_test = pd.DataFrame({'Continent':continent_yesterday_df['Continent'].values, 'Ratio':ratio.values})\n",
    "\n",
    "sns.barplot(x=\"Continent\", y=\"Ratio\", data=df_test,color='b') \n",
    "plt.title('Tỉ lệ số ca test so với tổng dân số ')\n",
    "plt.show()\n"
   ]
  },
  {
   "cell_type": "code",
<<<<<<< Updated upstream
   "execution_count": 74,
=======
<<<<<<< HEAD
   "execution_count": 59,
=======
   "execution_count": 74,
>>>>>>> 0d37aeddba7996b01c5c7139b1a8d4913e743ec5
>>>>>>> Stashed changes
   "metadata": {},
   "outputs": [
    {
     "data": {
<<<<<<< Updated upstream
      "image/png": "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",
=======
<<<<<<< HEAD
      "image/png": "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\n",
=======
      "image/png": "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",
>>>>>>> 0d37aeddba7996b01c5c7139b1a8d4913e743ec5
>>>>>>> Stashed changes
      "text/plain": [
       "<Figure size 432x288 with 1 Axes>"
      ]
     },
     "metadata": {},
     "output_type": "display_data"
    }
   ],
   "source": [
    "df = continent_yesterday_df.loc[:,['Continent','TotalCases','TotalDeaths','TotalRecovered','ActiveCases']]\n",
    "ratio_deaths = cal_ratio(df['TotalDeaths'],df['TotalCases'])\n",
    "ratio_recoverd = cal_ratio(df['TotalRecovered'],df['TotalCases'])\n",
    "ratio_activecases = cal_ratio(df['ActiveCases'],df['TotalCases'])\n",
    "df_plot = pd.DataFrame({'Continent':continent_yesterday_df['Continent'].values,\n",
    "                        'Ratio_deaths':ratio_deaths.values,\n",
    "                       'Ratio_recoverd':ratio_recoverd.values,\n",
    "                       'Ratio_activecases':ratio_activecases.values})\n",
    "df_plot.set_index('Continent').plot(kind='bar',stacked=True)\n",
    "plt.title('Biểu đồ chồng giữa số ca chết, số ca hồi phục, số ca trong cộng đồng với tổng số ca ')\n",
    "plt.show()"
   ]
  },
  {
   "cell_type": "markdown",
   "metadata": {},
   "source": [
    "Câu 4: Biểu đồ cột bar chart của 6 châu lục về \n",
    "- Weekly Case/%/Change\n",
    "- Weekly Death/%/Change\n"
   ]
  },
  {
   "cell_type": "code",
<<<<<<< Updated upstream
   "execution_count": 75,
=======
<<<<<<< HEAD
   "execution_count": 70,
=======
   "execution_count": 75,
>>>>>>> 0d37aeddba7996b01c5c7139b1a8d4913e743ec5
>>>>>>> Stashed changes
   "metadata": {},
   "outputs": [
    {
     "data": {
<<<<<<< HEAD
      "image/png": "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\n",
=======
      "text/plain": [
       "<AxesSubplot:xlabel='Continent', ylabel='Weekly case /%/ change'>"
      ]
     },
     "execution_count": 75,
     "metadata": {},
     "output_type": "execute_result"
    },
    {
     "data": {
      "image/png": "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",
<<<<<<< Updated upstream
=======
>>>>>>> 0d37aeddba7996b01c5c7139b1a8d4913e743ec5
>>>>>>> Stashed changes
      "text/plain": [
       "<Figure size 432x288 with 1 Axes>"
      ]
     },
     "metadata": {},
     "output_type": "display_data"
    }
   ],
   "source": [
    "df = df_covid_by_week.groupby('Continent')\n",
    "df = df.first().reset_index()\n",
    "sns.barplot(x=\"Continent\", y=\"Weekly case /%/ change\", data=df,color='b') \n",
    "plt.show()"
   ]
  },
  {
   "cell_type": "code",
<<<<<<< Updated upstream
   "execution_count": 76,
=======
<<<<<<< HEAD
   "execution_count": 71,
=======
   "execution_count": 76,
>>>>>>> 0d37aeddba7996b01c5c7139b1a8d4913e743ec5
>>>>>>> Stashed changes
   "metadata": {},
   "outputs": [
    {
     "data": {
<<<<<<< HEAD
      "image/png": "iVBORw0KGgoAAAANSUhEUgAAAY4AAAEJCAYAAACDscAcAAAAOXRFWHRTb2Z0d2FyZQBNYXRwbG90bGliIHZlcnNpb24zLjQuMSwgaHR0cHM6Ly9tYXRwbG90bGliLm9yZy/Z1A+gAAAACXBIWXMAAAsTAAALEwEAmpwYAAAtnElEQVR4nO3deVhUdd/H8TerYmiogXvmkmbilkvuuKWAIKLggnqXaS5leleYRK63mluGllu2qKG5ghsu3SopuZVZPYamWAq5BSipgco6zx8+zCMpDqMwQH5e1+V1OWfmnN/3zBnO56y/Y2UwGAyIiIjkkXVhFyAiIsWLgkNERMyi4BAREbMoOERExCwKDhERMYttYRfwsLKyskhJScHOzg4rK6vCLkdEpFgwGAykp6fz2GOPYW1t3j5EsQ+OlJQUYmJiCrsMEZFiqU6dOpQuXdqscYp9cNjZ2QG3Z97e3r6QqxERKR7S0tKIiYkxrkPNUeyDI/vwlL29PSVKlCjkakREipcHOcSvk+MiImIWBYeIiJhFwSEiImZRcIiIiFkUHCIiYhYFh4iImEXBISIiZimU4IiMjKRXr154eHgwbdo0AA4ePIi3tzddu3YlJCSkMMoqdtLSMwu7BLMUt3pF5N4sfgPguXPnmDRpEuvXr6d8+fK8+OKL7Nu3j0mTJhEaGkqlSpUYPnw4+/btw83NzdLlFSv2djYEvL2qsMvIsy9nDyjsEkQkH1h8j2PXrl14enpSsWJF7OzsCAkJwcHBgerVq1OtWjVsbW3x9vZm586dli5NRETywOJ7HHFxcdjZ2TFixAguXbpEhw4dePrpp3F2djZ+xsXFhfj4eLOmGx0dnd+lFnlNmzYt7BLMdvTo0cIuQUQeksWDIzMzk++//57Q0FBKlSrFyJEjKVmyZI7+UgwGg9n9p7i6uqqvqmKgOIadyD9RamrqA29wWzw4nnjiCVq1akW5cuUA6NKlCzt37sTGxsb4mcTERFxcXCxdmoiI5IHFz3F07NiR/fv3c/36dTIzM/nmm29wd3fn7NmzxMXFkZmZSUREBO3bt7d0aSIikgcW3+No1KgRQ4cOJSAggPT0dNq0aUP//v2pWbMmr7/+Oqmpqbi5ueHu7m7p0kREJA8K5Xkcfn5++Pn55RjWqlUrtmzZUhjliIiIGXTnuIiImEXBISIiZlFwiIiIWRQcIiJiFgWHiIiYRcEhIiJmUXCIiIhZFBwiImIWBYeIiJhFwSEiImZRcIiIiFkUHCIiYhYFh4iImEXBISIiZlFwiIiIWRQcIiJiFgWHiIiYRcEhIiJmUXCIiIhZFBwiImIWBYeIiJhFwSEiImbJU3Ds3LmTkJAQbt68SUREREHXJCIiRZjJ4Fi6dCmrV69m586d3Lp1iwULFrBw4UJL1CYiIkWQyeDYtm0bn3zyCQ4ODpQtW5Z169Zpr0NE5BFmMjhsbW2xt7c3vi5Tpgy2trYFWpSIiBRdJhOgUqVK7N27FysrK9LS0vjss8+oUqWKJWoTEZEiyOQex4QJE1i2bBmnTp2icePGREVFMWHChHxpfNasWQQFBQFw8OBBvL296dq1KyEhIfkyfRERyX8m9zgqVKjAihUruHnzJpmZmTg6OuZLw4cOHWLjxo106NCBW7duERwcTGhoKJUqVWL48OHs27cPNze3fGlLRETyj8ngeOedd3K8trKywsHBgaeffhp/f39sbGzMbvTq1auEhIQwYsQITp48ybFjx6hevTrVqlUDwNvbm507dyo4RESKoDyd5T5x4gS+vr5YW1sTERFB+fLliY+P5/Tp0w902GrixIm88cYbXLp0CYCEhAScnZ2N77u4uBAfH2/WNKOjo82uo7hr2rRpYZdgtqNHjxZ2CSLykEwGx2+//caqVauMh6j8/f15+eWX+fLLL/Hy8jK7wfXr11OpUiVatWpFeHg4AFlZWVhZWRk/YzAYcrzOC1dXV0qUKGF2PWJZxTHsRP6JUlNTH3iD22RwXLt2Lcd5jZIlS5KcnIyVlRV2dnZmN7h9+3YSExPx8fHh2rVr3LhxgwsXLuQ45JWYmIiLi4vZ0xYRkYJnMjgaN25MYGAgfn5+GAwGwsPDadiwIfv27cPBwcHsBpctW2b8f3h4ON999x1Tpkyha9euxMXFUbVqVSIiIujdu7fZ0xYRkYJnMjimTJnCwoULmTFjBjY2NnTo0IHhw4ezZ88e/vOf/+RLESVKlGDmzJm8/vrrpKam4ubmhru7e75MW0RE8peVwWAwFHYRDyP7ON2jeo4j4O1VhV1Cnn05e0BhlyAi/+dh1p0m9zh2797Ne++9x7Vr17gzY3744QfzKxURkWLPZHDMmTOHoKAgnn32WbOvdBIRkX8ek8FRpkwZunbtaolaRESkGDDZV1WjRo3Yt2+fJWoREZFiwOQex759+1i5ciV2dnbY2dkZb87TOQ4RkUeTyeBYvny5BcoQEZHiwuShqipVqnDt2jUuXbrExYsXOXfuHAcOHLBEbSIiUgSZ3OMYP348e/bsITU1FRcXF37//XeaNm1Knz59LFGfiIgUMSb3OA4ePMiePXt44YUXWLp0KcuWLaNkyZKWqE1ERIogk8Hh7OxMqVKlqFmzJjExMTz//PP88ccflqhNRESKIJPBYWdnx5EjR6hVqxZRUVH89ddf3LhxwxK1iYhIEWQyOAIDA1mzZg1ubm6cPHmSli1b0qNHD0vUJiIiRVCeulVv3LgxAOvWreOvv/6idOnSBV2XiIgUUSaD48yZM3z++edcuXIlRyeHS5YsKdDCRESkaDIZHIGBgTRt2pQXXnhBnRyKiIjp4EhPT+fdd9+1RC0iIlIMmDw5XrlyZc6dO2eJWkREpBjIdY9jxIgRACQmJuLn50eDBg2wtf3/j+sch4jIoynX4OjWrZsl6xARkWIi10NVvr6++Pr68sILL5CQkICvry8tWrTgxIkTChURkUeYyXMc77zzDlevXgVuPw3QysqKCRMmFHRdIiJSRJkMjtjYWMaNGwdA6dKlCQ4O5vTp0wVemIiIFE0mgyMjI4Pk5GTj65SUlBw3AoqIyKPF5H0cPXv2xN/fH3d3d6ysrNi1axe9evWyRG0iIlIEmQyO4cOHU7t2bQ4dOoStrS2BgYG4ublZojYRESmCTAYHQOfOnencuXNB1yIiIsWAyXMcIiIidyqU4FiwYAHdu3ene/fuzJ49G7j9iFpvb2+6du1KSEhIYZQlIiJ5kGtw7Nu3j7S0tHxv8ODBg+zfv5+NGzeyadMmjh8/TkREBMHBwSxatIjt27cTHR3Nvn378r1tERF5eLkGx+HDh+nbty9jxoxhy5YtXL9+PV8adHZ2JigoCHt7e+zs7KhVqxaxsbFUr16datWqYWtri7e3Nzt37syX9kREJH/lenI8+6a/X3/9ld27dzNs2DBKlSpFp06d6NSpE5UrV36gBp9++mnj/2NjY9mxYwcDBw7E2dnZONzFxYX4+HizphsdHf1A9RRnTZs2LewSzHb06NHCLkFEHpLJq6pq165N7dq1GTFiBAkJCezZs4dJkybxySefPFTDp0+fZvjw4bz99tvY2NgQGxtrfM9gMJj90ChXV1dKlCjxUDVJwSuOYSfyT5SamvrAG9xmnRw/c+YMlSpVeugu1Y8ePcpLL73EW2+9ha+vLxUrViQxMdH4fmJiIi4uLg/VhoiIFIw83ccBMHfuXP7880+sra3ZsGEDCxYseKAGL126xGuvvUZISAitWrUCoFGjRpw9e5a4uDiqVq1KREQEvXv3fqDpi4hIwco1OA4dOmRcsQOcOnWKpUuXAtC1a9cHbvCzzz4jNTWVmTNnGof169ePmTNn8vrrr5Oamoqbmxvu7u4P3IaIiBScXINj27ZtrFu3jqCgICpUqMBzzz3H4MGDsbGxoUmTJg/c4Pjx4xk/fvw939uyZcsDT1dERCwj1+CYNm0ax44dIzAwkNatWzNkyBDc3d1JS0ujTp06lqxRRESKkPueHG/YsCGhoaE88cQTDBo0iNjYWIWGiMgjLtfgOH78OKNHjyYwMJBmzZrxySefEBUVxciRI4mLi7NkjSIiUoTkGhxBQUEMGTIEHx8fxo8fT5kyZZg4cSJjxoxhypQplqxRRESKkFzPcaSlpVG1alWSk5O5efOmcfgzzzzD559/bpHiRESk6Mk1OIKCgnjllVewt7cnODjYkjWJiEgRlmtwPPnkk4SHh1uyFhERKQZyDY758+dz/vx5WrZsSefOndXHkIiIAPcJjg8//JC0tDQOHTrEpk2bmDJlCg0aNKBLly60adMGe3t7S9YpIiJFxH37qrK3t8fNzQ03NzcAfvzxR/bs2cNHH32kw1giIo+oPHdyCNCkSZOH6m5ERESKv0J55riIiBRfCg4RETGLgkNERMxi8hzH0aNHWbBgAVeuXMFgMBiHb926tUALExGRoslkcEyYMIE+ffpQr149s58DLiIi/zwmg8Pe3p6XXnrJAqWIiEhxYPIcR82aNfn5558tUYuIiBQDue5xeHt7A5CSkkL//v2pVq0atrb//3Gd4xAReTTlGhwTJkywZB0iIsVGWnom9nY2hV2GWfKz5lyDo0WLFgAEBwfz3nvv5Xhv9OjRxvdFRB419nY2BLy9qrDLMMuXswfk27RyDY5JkyYRHx/P0aNHSUpKMg7PyMjg3Llz+VaAiIgUL7kGh5+fH6dPn+bUqVN069bNONzGxobGjRtbojYRESmCcg2OBg0a0KBBA1q3bk3FihUtWZOIiBRhJu/juHTpElOmTOHGjRsYDAaysrI4f/48e/futUB5IiJS1Ji8j2P8+PE0adKE5ORkvL29cXR0pGvXrpaoTUREiiCTwWFlZcWwYcNo0aIFNWvWZN68eRw4cKBAitm6dSuenp507dqVVauK1xULIiKPCpPB8dhjjwHw5JNPcvr0aUqWLIm1df53qhsfH09ISAhffvklmzZtYu3atfz666/53o6IiDwckwnQsGFD/v3vf9OyZUs+//xzZs6cmeMO8vxy8OBBWrZsiZOTE6VKlaJbt27s3Lkz39sRKQrS0jMLuwSzFceapWCYTIDg4GD+53/+hxo1ahAcHMzBgweZO3duvheSkJCAs7Oz8bWLiwvHjh3L93ZEioJH/QYyKd5MBoeVlRXW1tasWbOGXr168fjjj1OzZs18LyQrKytHt+0Gg8Gsbtyjo6PvGlavXn1KlSqZL/VZyo0bt/jll+N5+my9evWL1R+zOfMGxW/5/ZOXHZg/f8Vp2YGWnzlMBkdYWBiff/45qampvPDCC7z66qu88cYb9OnTJ18KyFaxYkW+//574+vExERcXFzyPL6rqyslSpS4a3hx3Kpr2rRpYZdRIEqVKmn2vBWn5fdPXnZg/vIrTssOHr3ll5qaes8N7rwweY5j5cqVrF27FkdHR8qXL094eDgrVqx4oMbup3Xr1hw6dIikpCRu3rzJf//7X9q3b5/v7YiIyMMxucdhbW2No6Oj8XWlSpWwscn/XiErVKjAG2+8wb/+9S/S09Px8/OjYcOG+d6OiIg8HJPB4eTkxC+//GI837BlyxYef/zxAinG29vb+BwQEREpmvJ0VdWYMWP4/fffadu2LSVKlGDRokWWqE1ERIogk8FRq1YtNm/eTGxsLJmZmdSoUQM7OztL1CYiIkXQfYMjJSWFiIgIYmJiKFmyJHXq1OGpp56yUGkiIlIU5XpVVVxcHN27d+e///2v8TLXsLAw3N3duXDhgsUKFBGRoiXXPY4PP/yQN954Ax8fnxzD169fz/vvv09ISEiBFyciIkVPrnscMTExd4UGgL+/P2fPni3QokREpOjKNTjud6+GOV2BiIjIP0uuwaFwEBGRe8n1HMcff/zBtGnT7vlefHx8gRUkIiJFW67BMWBA7j0/BgQEFEgxIiJS9OUaHKNGjbJkHSIiUkzk/zNgRUTkH03BISIiZjEZHBkZGZaoQ0REigmTwdGxY0dCQkLUzYiIiAB5CI5169ZhY2PDwIEDGT58OHv37sVgMFiiNhERKYJMBkelSpUYPXo0e/bswd/fn6lTp9K5c2c+/fRT0tLSLFGjiIgUIXk6Of7bb78xe/ZsJk+eTL169Rg/fjwXLlxgzJgxBV2fiIgUMSYf5NS/f3/OnTtH79692bBhAxUrVgSgQ4cOtGzZssALFBGRosVkcAQEBODu7n7XU/+sra35+uuvC6wwEREpmnINjmXLlhn/v3LlyrveHzx4MI899ljBVCUiIkVWrsERExNjyTpERKSYyDU4ZsyYAcDNmzdxcHDI8d5PP/1UoEWJiEjRZfKqqldffdV493hmZiYhISEMHz68wAsTEZGiyWRwPP3007z55pucPn0af39/jh07xsaNGy1Rm4iIFEEmgyM4OBhnZ2d69uxJ7969WbZsGZUrV7ZEbSIiUgTl6aqqypUrU7ZsWX744Qfj3eKDBw8u+OpERKTIyfNVVe3atbvncHMdPXqUGTNmkJ6ejpOTE++99x5VqlTh+vXrBAYGcu7cOcqVK8e8efNwdnZ+qLZERCT/mbyqKtv169cpU6bMQzc4duxYFi1axDPPPMOGDRuYNm0aixcvZt68eTRr1oylS5eyadMmpk+fzrx58x66PRERyV8mz3GcPXsWT09PunfvTnx8PB4eHvz2228P1FhaWhpjxozhmWeeAaBu3bpcunQJgL179+Lt7Q2Al5cXUVFRpKenP1A7IiJScEwGx9SpU3n33XcpX748FSpUYODAgUycOPGBGrO3t8fHxweArKwsFixYQJcuXQBISEgwHpqytbXF0dGRpKSkB2pHREQKjsm+qq5evUqbNm2YM2cOAAMGDGDdunUmJ7xjx467DnfVrFmT5cuXk5aWRlBQEBkZGbneE2IwGLC2zvuTbaOjo+8a1rRp0zyPX5QcPXq0sEsoEorj8tOyu604LjvQ8ssrk8EBkJqaipWVFQCJiYlkZWWZHMfDwwMPD4+7hqekpDBy5EicnJxYvHixsfNEFxcXLl++TMWKFcnIyCAlJQUnJ6c8z4irqyslSpTI8+eLsuL6RydadsXdo7T8UlNT77nBnRcmN+kDAgIYMmQIV65cYe7cufTt25f+/fs/UGNw++R49erVmTdvHvb29sbhbm5ubNq0CYDt27fTrFmzu3rkFRGRwmdyj8PPz4/q1auzd+9eMjIymDp1Km3atHmgxk6cOMGePXuoXbs2vr6+wO09jU8++YQxY8YQFBRE9+7dKV26NO+///4DtSEiIgUrT4eqqlWrRosWLWjTpg0JCQkP3Nizzz7LqVOn7vmek5MTS5YseeBpi4iIZZg8VLV371769evHlClTSEpKonv37uzevdsStYmISBFkMjgWLlzIunXrKFOmDC4uLnz55Zd8+OGHlqhNRESKIJOHqjIzM3FxcTG+rlevnvEKKxGRe0lLz+TL2QMKuwyzpKVnYm9nU9hlFAsm9zgcHBy4ePGiMSy+//77f8xlryJSMIrjCrg41lxYTO5xvPXWW7z88sskJibSt29fYmNj+eijjyxRmzziittWq7ZY5VGRa3AkJyfj6OjIc889x7p16/jxxx/JysqiUaNGlCtXzpI1yiOquK2Ei1u9Ig8q1+Bo1aoVTZs2pUOHDri5ueHm5mbJukREpIjKNTj27dvH4cOHOXToECtXrsTa2ho3Nzc6dOhAixYtdFe3iMgjKtfgKFeuHJ6ennh6egJw4cIFDh48yJw5c4iLi+PHH3+0WJEiIlJ0mDw5fu7cOSIjIzlw4AAnTpygfv369OnTxxK1iYhIEZRrcISEhBAZGUlKSgrt2rUjICCAVq1a6VJcEZFHXK7B8fHHH9OpUyeGDRtG48aNLViSiIgUZbkGx86dO/n666+ZO3cusbGxtGnThg4dOtC2bVscHR0tWaOIiBQhud45/tRTTzF48GBCQ0PZtm0bbdu2ZdeuXXTv3p3BgwdbskYRESlC8vRs1osXL5KUlERaWhp2dnZmPdJVRET+WXI9VBUaGsq3337LkSNHePzxx2nfvj1+fn48//zzlCxZ0pI1iohIEXLfGwDbt29PYGAgTz31lAVLEhGRoizX4Pj0008tWYeIiBQTOlkhIiJmUXCIiIhZFBwiImIWBYeIiJhFwSEiImZRcIiIiFkUHCIiYhYFh4iImEXBISIiZim04Dhx4gSurq7G19evX2fYsGF4eHgwYMAAEhMTC6s0ERG5j0IJjps3bzJ16lTS09ONw+bNm0ezZs3YsWMH/v7+TJ8+vTBKExEREwolOGbOnMmLL76YY9jevXvx9vYGwMvLi6ioqBzBIiIiRYPFg2PPnj3cunULd3f3HMMTEhJwdnYGwNbWFkdHR5KSkixdnoiImJBr77gPa8eOHcyYMSPHsJo1a5KcnMzy5ctNjm8wGMx6YFR0dPRdw5o2bZrn8YuSo0ePFnYJIiK5KrDg8PDwwMPDI8ew9evX8/HHHzNgwADjMB8fH1atWoWLiwuXL1+mYsWKZGRkkJKSgpOTU57bc3V1pUSJEvlVfqEqroEnIsVHamrqPTe486LAguNe/P398ff3N76uW7cumzdvBsDNzY1NmzYxYsQItm/fTrNmzbCzs7NkeSIikgcWDY77GTNmDEFBQXTv3p3SpUvz/vvvF3ZJIiJyD4UaHKdOnTL+38nJiSVLlhRiNSIikhe6c1xERMyi4BAREbMoOERExCwKDhERMYuCQ0REzKLgEBERsyg4RETELAoOERExi4JDRETMUmS6HCkIaemZfDl7gOkPFiFp6ZnY29kUdhkiIrn6R+9xFMcVcHGsWUQeLf/o4BARkfyn4BAREbMoOERExCwKDhERMYuCQ0REzKLgEBERsyg4RETELMX+BkCDwQBAWlpaIVciIlJ8ZK8zs9eh5ij2wZGeng5ATExMIVciIlL8pKenU7JkSbPGsTI8SNwUIVlZWaSkpGBnZ4eVlVVhlyMiUiwYDAbS09N57LHHsLY276xFsQ8OERGxLJ0cFxERsyg4RETELAoOERExi4JDRETMouAQERGzKDhERMQsCg4RETGLguP/xMTEULduXb766ivjsH379tGuXTveeuutuz7v4+NjyfLy1b3m9V5Wr17N6tWrC2TauTl37hzBwcFmjRMeHk5QUBAAr7zyCvHx8SbH6devHwaDgZSUFKZMmcILL7xAjx49CAgI4NChQw9U+4P4e73nz5/H1dUVHx+fHP9WrVplsZpyc/78eerWrcuBAwdyDO/UqRPnz5/P0zTuXL7ffvstgwYNyvWzf/75Jw0aNODzzz9/8KJNmD9/Pnv27AFg586d9OrVix49euDt7c2nn376QNP8+uuvWbZsGQAfffQRH330Ua6fjYyMpG7dukRHRz9QW3mR178JcxT7LkfyS1hYGO7u7qxdu5Zu3boBt39Io0aNom/fvnd9fvPmzZYuMd/ca17vpX///gU27dxcvHiRc+fOmT1etk8++cTkZ86ePUv16tUBGDFiBPXq1WPbtm3Y29tz4sQJhg0bxty5c3n++ecfuI68ule9Li4uRfb3ZWdnx4QJE9iyZQuOjo5mj2/O8t26dSudOnVi7dq1DB48uEB6hhgzZgwA8fHxzJo1i/DwcMqWLUtKSgqDBg2iRo0adO7c2axpmhMC4eHhxr8XV1dXs9rJq7z8TZhLexzc7qtl69at/Pvf/+b48eP8/vvvrF+/nj179rB48WLWr1/PoEGDGDVqFN26deOXX36hbt26AFy9epXXXnsNDw8PfHx8jFurK1euxN/fHy8vL3x9fTlz5kxhzqLRveYVYNasWfTo0YOePXuyYMECIOfWUl7mJ7dp37lFeudW5rJly4xtTpw4EYBp06YRHR3NlClT+Pbbb/Hz86NXr16MGzeO+Ph4hgwZQp8+fejQoQPz58+/q4bstpKTkxk9ejR9+/alY8eOBAcHGztzi4qKon379nz33XdcvHiRd955B3t7ewCeffZZRo4cyaJFiwD45Zdf8Pf3x9vbm4EDB/LHH38AsHTpUnx9fenRowezZ882TjskJIQ+ffrQrVs3Bg0axOXLlwFo27YtU6dOpWfPnvTu3du48vx7vaNGjeKPP/7IUW+27N8c5NzL6tSpE//+97/p1q0bV65cISwsDC8vL7y9vQkKCiIlJQWAVq1aMXHiRLy9venXr59xmRw7doz+/fvj6+vLyy+/fN8Vu4uLC61bt2bWrFl3vbdkyRI8PT3x9vZm5syZZGZmcv78edzd3enfvz+DBw/OsXwBkpKSeOWVV+jWrRsjRozI0VlpeHg4AQEB2Nvbc/jwYePwQYMGMWPGDPz8/PD29mbfvn0MGTKEDh06sHz5cgBSUlIYN24cvXr1wsfHh4iICOM0Bw0ahLe3Nx988AFBQUGEh4fz559/cv36dfz8/PD09GTRokXMnDkTGxsbfH19ady4MfXr18fd3Z24uDhjHd9++y1we2+sU6dO/Prrr6xZs4Y1a9YQFhZm/H779etHx44dc+x9JCUlcfjwYcaOHcuOHTtITk42vtemTRsmTpxIz549GTp0KDt27CAgIIBOnTrx3XffARAXF8fgwYPx9fWlf//+nDhxAoCgoCBGjBiBh4cHkZGRxt9YamoqwcHBdOvWDS8vL7Zv3w7Ajh076NOnDz169MDd3Z0ffvgh1+WfTcHB7UNSlStXpkaNGnTp0oW1a9fi7+9Pp06dGD16NP7+/gDGQzD16tUzjjt//nyefPJJduzYwezZs5k3bx7Jycns3r2b0NBQIiIi6NChQ5E41AD3ntcLFy4QFRXFli1bWL16Nb/++iupqanGcfI6P/eadm4yMzP5+OOPCQsLIzw8nPT0dOLj4xk/fjyurq5MmjQJgNjYWFasWMGsWbOIiIjAy8uLdevWsXXrVlasWEFSUtI9p793717q1avH2rVr+eqrrzhy5AjHjx8H4MCBA7Rp04aff/4ZV1fXu7Zkmzdvzs8//wxAYGAgr776Klu3bsXT05MVK1YQFRVFdHQ0GzZsYNOmTcTHx7Nlyxbi4uI4c+YMa9as4auvvqJSpUps2bIFgMTERFq1asWmTZto3rz5Xd9fdr0LFizAysqKLVu24O7ubjxUderUqfsu1/bt2/PVV19x+fJllixZQmhoKFu3bsXBwcG4IZCUlESTJk3YunUr3bt3Z9q0aaSlpTF+/Hjmzp3Lxo0bGTx4MBMmTLhvW0FBQezfvz/HIauoqCgiIyMJCwtj48aNxMXFsWbNGuD2Ht6cOXNYtmzZXcv34sWLTJw4kR07dnD58mUOHjwIwMmTJ7l8+TLNmjXDw8Pjrt+SwWBgw4YNdOvWjWnTprFgwQJWrVrFwoULAVi8eDH169cnPDycVatWsWTJEmMgxsfHs3HjRt58803j9LID69KlSzg4OLB9+3ZiYmKIiooiPj6eL774gp07d3LhwoUc4/1d7dq16devH/369aN3794AXLlyhS+++IKwsDA+++wzY0Bs2bKFNm3aULVqVVxdXY2/FYDLly/Tvn17Nm3aRGpqKrt37+bLL7/k9ddfZ8WKFQCMGzeOsWPHsnHjRqZOncobb7xhHN/JyYkdO3bQqVMn47DQ0FBu3LjBjh07WLZsGQsXLiQtLY01a9awZMkStmzZwtChQ1m6dOl9lz/oUBWAcQsNwNPTk8DAQOMu7J0aNmx417AjR47w/vvvA7eDJfsHPnfuXLZt20ZsbCzffPNNjrApTLnNa4kSJYxbRYGBgZQoUcI4jqOjY57mJ6/fI4CNjQ1NmjTBz8+Pzp07M3jwYCpUqEBsbGyOz9WoUYPSpUsDMGTIEA4fPsxnn33G6dOnSU9P5+bNm/ecvpeXF8eOHWP58uWcOXOGq1evcuPGDW7dukVqaipOTk5YWVmRmZl517jp6elYWVmRlJREYmIiHTt2BCAgIAC4vXd27NgxevXqBcCtW7eoXLkyPj4+jBs3jvXr13P27Fl++uknnnzySeN027VrB8DTTz/N999/f896N2zYgL29Pba2tkydOpUWLVrcc/7+rlGjRsDt32PHjh0pW7YsAH379uWdd94BoESJEvTs2RMAX19fPvjgA2JjYzl37hwjR440TuvOLd97cXR0ZOrUqcZDVgCHDx+me/fuODg4ANC7d282bdqEm5sb5cuXp2rVqvec1jPPPEO1atUAqFWrFn/++ScAGzZswN3dHRsbG+MewOXLl3niiSeA20EJULlyZRo1aoSDgwNVqlTh+vXrABw8eJBbt24Zt/pv3LjB6dOngdt7lba2OVd9R44cwc/Pj5dffpn9+/ezf/9+goODeeWVVyhVqhSHDh0iJiaGtLQ0fv/9d/7666/7fkd3ateuHfb29pQrV46yZcty7do1HB0d2bhxI6NGjQJu/72sXLnS+Bu7cx6rVKlC06ZNjfN7/fp1UlJSiI6ONi7b7HnM/v5yW1f16dMHa2trnJ2d2bZtGwALFy4kMjKSs2fP8t133+Wpw8NHPjiuXLnCN998w/Hjx/niiy8wGAxcv36dXbt23fXZe3U9bGtrm2OL9bfffqNkyZK8+OKLDBw4kPbt2/PEE0/wyy+/FOh85MX95nX9+vV89913REVF0a9fP0JDQ43jXbp0iUGDBt13fkx9j9mHXTIyMozjLFq0iJ9++omoqCiGDh1qDOA73fmdz5w5k3PnzuHl5UWXLl04ePBgrs8SCA0N5auvvqJPnz60bt2amJgYDAYD3377rXFl3KhRI0JDQ0lPT8fOzs447k8//YSrq+tdPS6npqaSkJBAZmYmL774IoMHDwbg+vXr2NjYEB0dzVtvvcVLL71Et27dsLa2zlFfdhhbWVndVXd2vV26dMHR0ZEqVarcc94MBgNWVlY5vsc7p52VlXXX57M/a21tbZyfrKwsbGxsyMrKomrVqsZzKpmZmcbDa/fTtm3bHIes/t4u/P+yvl+X3XeuwLO/l7S0NCIiIrC1tSUyMtL4fnh4OMOGDQPIsbz+HgLZ9cyZM4f69esDt7fgH3/8cbZu3XrPemJjY4mPj6dChQr07t2btm3b0rhxYxYvXozBYKBWrVp4enoSERGBwWAwbnDc63edl3k8fvw4MTExTJ8+nRkzZpCZmUlCQgI//fQTjRs3BjAePoXbG1p/nz97e/sc58L++OMPnJycgLytq+Li4ihfvjx+fn706NGD5s2bU7du3TwdHXnkD1Vt3ryZli1bGne1v/76a0aMGGHczTalWbNmxuT+7bffeOWVV4iOjqZ69eq89NJLNGjQgN27d99zy9bScpvXiRMnMnDgQJo3b864ceOoVasWZ8+eNY73888/m5yf+32PZcuW5ddffwUwXsGSlJSEp6cnderUYcyYMbRp04ZTp05hY2OT6x/hgQMHGDJkCB4eHpw9e5b4+Ph7rrCyP9u3b1969OhBamoqJ0+eJCsry3h+A24vu9q1a/Pee+8Zn+sSHR3N4sWLefXVVyldujQVKlRg//79xnmcP38+LVu2ZPPmzaSkpJCRkcFrr71mPBzWokUL+vfvz1NPPcXevXvzvNyz6+3SpQsGg8FY753Kli3L6dOnMRgMOVaod2rRogWRkZFcvXoVgHXr1hlP8t+8edM4Xnh4OO3bt6dmzZpcu3bNuAcUFhZGYGBgnmrOPmSVkJBAy5Yt2bZtG7du3SIjI4OwsDBatmx51zj3W77Zvv76a8qWLcv+/fuJjIwkMjKS//znP6xduzbPDx1q2bKl8YrAhIQEevTowaVLl3L9fP369Tlw4ACnT58mIyODN998k8OHD5OcnIy9vT0uLi5ERUUBt7f6nZyccvyud+/ebdY8hoeH06dPH/bu3UtkZCT79u3Dx8cnz+ud0qVL89RTTxmD48CBAwwYMOC+4zRv3pzt27djMBi4cuUKAwcO5MSJE1hZWTFixAief/55du3alaff7CO/x7Fx48YcxwYBBgwYwKeffmrcLb6f0aNHM378eHr06IGtrS2zZ8+mXr16rFmzBk9PTwwGA82bNzfuJhem+82rs7MzXl5eODg48Nxzz9G+fXvjOYE2bdqwevXq+87P/ab99ttvM336dBYsWEDbtm0BKFeuHH379sXPzw8HBwdq1KhB7969SU1N5a+//mLs2LH4+fnlmN7w4cN5++23KVmyJBUrVsTV1TXXy0BffPFFJk+ezNKlS3F0dKRJkyacP3+e48ePM378eOPnFixYQEhICF5eXtjY2PD4448zZ84c48p2zpw5TJ48mTlz5lC2bFlmz56Ni4sLJ0+epE+fPmRmZtKuXTt8fX1JSEhg1KhReHt7A9y3vtzqtbKy4vLlyzg4OBAUFGTcgmzevDlvvfUWI0aM4IknnqBp06bGwxJ3euaZZxg+fDiDBg0iPT2d+vXrG09Ew+0rBUNCQnBxcWHWrFnY29szf/58pk+fTmpqKo6Ojvc88X0v2Yessk9MX79+nd69e5ORkUHbtm1zXEyQrVatWrku32zZJ8Xv5OXlxQcffMA333yTp9pGjRrF5MmT8fLyIjMzk7Fjx/Lkk0/edYgwW79+/fjhhx/o1asXBoOBUqVK0aNHD8aMGcOKFSsYOHAgdnZ22NvbM3bsWACGDh1KUFAQYWFhOa68yt4Ay239kZ6eTkREBF988UWO4S+99FKOQ4umZP82P/30U+zs7AgJCbnvlWcBAQFMmzaNHj16ADBhwgSaNm1KvXr18PDwwMrKirZt23L06FGTbet5HCKPiLp165o8yS6SF4/8oSoRETGP9jhERMQs2uMQERGzKDhERMQsCg4RETGLgkMeeZmZmSxbtszYr5Gnpydz5szJ0W+SOf766y/+9a9/GV/7+PgY72jOT39vR8RSFBzyyJs8eTI//vgjK1asYPPmzWzYsIGzZ8/y7rvvPtD0rl27ZuzrCm7fOFimTJn8KjfXdkQsRVdVySPt/PnzeHl5sX///hzdhCcmJvLDDz/QunVrpkyZwsmTJ7GysqJdu3a8+eab2Nra0qBBA4YNG8aBAwdISEhg6NChBAQEMGjQIL7//nvq1KlDeHg4zz77LIcOHWLv3r3s2rULa2tr4uLiKFmyJLNmzTLeFDd9+nRiYmJIT0+nVatWvP3222a18/duKUQKivY45JF2/PhxateufdezJZydnY09rzo5ObF161bCwsI4deqU8cFCaWlplC1bljVr1vDhhx8yY8YMUlNTmTFjBiVLlmTz5s13rcyPHDnChAkTiIiIoFGjRsaeSN977z1jb66bNm3izz//ND4M6EHaESlIj3yXI/Jos7a2zrW/K7jdXfjq1auxsrLC3t6efv36sWLFCmNne9ldTdSvX5+0tDRu3Lhx3/bq169PxYoVgdu9tGZ3Arl3715+/vlnNmzYANzucfdO5rYjUpAUHPJIa9iwIWfOnCE5OTnHXkd8fDwTJkwgKysrR/8/WVlZOTqwu7PHW8BkJ3x39lp6Zy+5WVlZzJ8/n1q1agG3e9y9s11z2xEpSDpUJY+0ChUq4O3tTXBwsPE5FMnJyUyePBknJyfatm3LypUrjd19r1u3jtatW993mra2tmRmZpq1cm/bti3Lly83tjNy5EhWrlyZ7+2I5AcFhzzyJk2aZHxym4+PD/7+/tSuXZtp06Yxfvx4kpKS8Pb2xtvbmxo1ajBixIj7Ts/Z2ZmGDRvSvXv3e/Zgey/vvvsuN27cMLZTp04dhg4dmu/tiOQHXVUlIiJm0R6HiIiYRcEhIiJmUXCIiIhZFBwiImIWBYeIiJhFwSEiImZRcIiIiFkUHCIiYpb/BWIrlin8kTruAAAAAElFTkSuQmCC\n",
=======
      "text/plain": [
       "<AxesSubplot:xlabel='Continent', ylabel='Weekly Death /%/ change'>"
      ]
     },
     "execution_count": 76,
     "metadata": {},
     "output_type": "execute_result"
    },
    {
     "data": {
      "image/png": "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",
<<<<<<< Updated upstream
=======
>>>>>>> 0d37aeddba7996b01c5c7139b1a8d4913e743ec5
>>>>>>> Stashed changes
      "text/plain": [
       "<Figure size 432x288 with 1 Axes>"
      ]
     },
     "metadata": {},
     "output_type": "display_data"
    }
   ],
   "source": [
    "sns.barplot(x=\"Continent\", y=\"Weekly Death /%/ change\", data=df,color='b') \n",
    "plt.show()"
   ]
  },
  {
   "cell_type": "markdown",
   "metadata": {},
   "source": [
    "Câu 5: Boxplot trên các trường dữ liệu /1M pop ở df_covid_by_week:\n",
    "- Cases in the last 7 days/1M pop\n",
    "- Deaths in the last 7 days/1M pop\n",
    "\n"
   ]
  },
  {
   "cell_type": "code",
<<<<<<< Updated upstream
   "execution_count": 77,
=======
<<<<<<< HEAD
   "execution_count": 73,
=======
   "execution_count": 77,
>>>>>>> 0d37aeddba7996b01c5c7139b1a8d4913e743ec5
>>>>>>> Stashed changes
   "metadata": {},
   "outputs": [
    {
     "data": {
<<<<<<< Updated upstream
      "image/png": "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",
=======
<<<<<<< HEAD
      "image/png": "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\n",
=======
      "image/png": "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",
>>>>>>> 0d37aeddba7996b01c5c7139b1a8d4913e743ec5
>>>>>>> Stashed changes
      "text/plain": [
       "<Figure size 432x288 with 1 Axes>"
      ]
     },
     "metadata": {},
     "output_type": "display_data"
    }
   ],
   "source": [
    "ax = sns.boxplot(x=\"Continent\", y=\"Cases in the last 7 days/1M pop\", data=df_covid_by_week)\n",
    "plt.title('Số ca nhiễm mới trong 7 ngày trên 1 triệu dân của từng châu lục')\n",
    "plt.show()"
   ]
  },
  {
   "cell_type": "code",
<<<<<<< Updated upstream
   "execution_count": 78,
=======
<<<<<<< HEAD
   "execution_count": 74,
=======
   "execution_count": 78,
>>>>>>> 0d37aeddba7996b01c5c7139b1a8d4913e743ec5
>>>>>>> Stashed changes
   "metadata": {},
   "outputs": [
    {
     "data": {
<<<<<<< Updated upstream
      "image/png": "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",
=======
<<<<<<< HEAD
      "image/png": "iVBORw0KGgoAAAANSUhEUgAAAY8AAAEZCAYAAABvpam5AAAAOXRFWHRTb2Z0d2FyZQBNYXRwbG90bGliIHZlcnNpb24zLjQuMSwgaHR0cHM6Ly9tYXRwbG90bGliLm9yZy/Z1A+gAAAACXBIWXMAAAsTAAALEwEAmpwYAABIUElEQVR4nO3deXgN1//A8ffNrmglJNRStSup2oklJFSQRIgtllhapLW01B672peq0IVW1U5IrK3YY6+qakmqqEhQZBFCIvud3x9+ma+Q6+ZGlpv6vJ7H85jJzJnPzNw7n3vmzJyjURRFQQghhDCASUEHIIQQovCR5CGEEMJgkjyEEEIYTJKHEEIIg0nyEEIIYTBJHkIIIQz2n0seH374IQsXLizoMIQQ4j/tP5U8oqKiMDc3Z9SoUfm2zZ9++glXV1fGjx+fb9sUQvzP6NGjcXd3Z+/evQUdyiul0CSPP/74A29vb9zd3XFzc2PQoEFcvXpV/XtaWhq+vr7cuXOH48eP51kcH3zwAbGxseq0q6sro0aN4urVq6Snp+fZdvPLwIEDWbJkSaZ5hw4dYtasWc8t++jRI/r165dfoWXi5eWFh4eH+q9OnTpZxphT9+7do0WLFpw+fdrgdW/evMmIESNeuMy8efNwd3dnxYoVOQ2RlJQUBg4cSFBQUJZ/13d+PDw8ePjwoVqWt7c3Xbp04fDhwzmOKcPMmTNZtmyZOv3DDz/g5ubG7NmzX7rsZy1YsIAaNWpw8+ZNg9fN6lwNHz48Vz9L2bFs2TJmzpyp8+8vc/xu3bpFvXr1Xia8LBWK5JGSkoKPjw8TJkxg9+7d7NmzB3d3dwYPHqxesMPDw3F3d2fVqlXcvn07zy7kJ0+efG5e+fLlCQwMxNTUNE+2mV8iIyMxMzNj+PDhmea3adOGyZMnP7d8XFwcFy9ezK/wMtm8eTM7d+5k586dfPLJJ5QvX55PP/0018ovWbIkCxcuJDg42OB1b9++zfXr13X+/d69e5QtW5atW7diZWVFXFycwds4f/48PXv25Pfff9e5jL7zs3PnTl5//XUArl69Ss+ePVm1ahV3795Fq9UaHJMuiYmJmJiYsGXLFipVqkRkZGSulQ2g0Wjw8fFhyJAhBq+b1bmaPXs2YWFhpKam5laILyWvj19OFYrkkZiYyKNHj3j8+LE6r1OnTkyZMkVNEufOneO7777jgw8+4NChQ9y4cSPLsrZt24arqyvu7u7069ePO3fuoNVqmTVrFt27d6djx4506NCBc+fOPbfuxIkTAejfvz937tzB2dmZixcvUrNmTQCcnZ05deoUTZs2zbReeno6rVq1IiQkRJ03cuRINm7cSGpqKp9//jkdO3bE3d2dSZMmER8fr5a3bNkyevfujZOTE19++aW6/sqVK2nXrh1dunRh9uzZODs7PxfvmTNn6NmzJyNHjsTDwwMvLy8OHz7MwIEDad26NXPmzFGX3bJlC4MGDeLu3bsMGDCAixcvsnjxYn744QcCAwPx8fHJ8ngkJSXh4eFBeno69vb2fPrpp7i4uHDx4kV+++03evTogbu7O56enhw7dgyAwMBAPv74Y4YNG4abmxvdunXj2rVrAERERNCnTx/c3NwYOHAgAwYMIDAwMMtzCfDgwQOmTZvG/PnzKV68+HN/9/b2ZvHixfTp0wdnZ2cmTZqkXhgDAwNp3749nTt3Zt68edSqVQuAmJgYhg4dypdffsmBAwfw9vbm3r17nDt3jtatW6vrJyYm4uDgkKkmmp6ezuTJk7lx4wYffvght27dolWrVnzwwQe4uLgQFRVFREQEQUFB9OrVi127dqkJ4EXH5Vnr1q1j9OjR1KlTR+ex0Xd+atSoocb+119/sWrVKj744AMOHDigXlAnTJjAqlWr1DKfnc4QHx+vlu3t7U1YWJj6t19++YWgoCC8vb1ZuXIlmzZtAp58Pr28vBg7diydO3fGzc0ty+8dZP29PXPmDG5ubpiYmFCtWjV1+ulz2LNnT5ydndVz+LSszlW9evV44403+OGHH4iMjKRevXqcOnWKQYMGcevWLdq2bcvnn39Ot27daNeuHQcOHFA/C+PGjcPFxYVu3boxYcIEJkyY8Nx+pKWlMXfuXFxcXOjYsSOTJk0iJSUFgLCwMLy9vWnfvj19+/YlKipK7/HL2N+sprPybA3n6eno6GiGDh1K+/bt6dixI2vXrn1hWSiFxA8//KDUqVNHcXZ2VsaMGaNs3bpVefz4saIoinLq1Cmlbdu2yr179xRFUZSAgAClQ4cOilarzVTGpUuXlCZNmii3b99WFEVRVq9erUyZMkX5/ffflREjRijp6emKoijKihUrFB8fnyzjqF69urodJycn5cKFC+rfMqanTJny3HpLly5VZsyYoSiKojx48EBp3Lix8vDhQ2Xp0qXK8OHDlZSUFCU9PV2ZMGGCur6Tk5Myb948RVEU5e7du8q7776r3LhxQzl27Jji4uKixMXFKVqtVpk4caLi5OT03DZ/+eUX5Z133lFCQ0MVRVGUDz/8UOnZs6eSnJys3Lt3T6ldu7Zy9+5d5dSpU4qzs7O6X/7+/krTpk2V7du3KwcOHFACAgKUIUOGPFf+zZs3lbp162Y6Ntu3b1cURVFiY2MVBwcH5Y8//lAURVGuXLmiNG7cWLlx44YSEBCgNGjQQLlz546iKIoyc+ZMZdy4cYqiKEqPHj2UDRs2KIqiKP/884/y3nvvKQEBAVmeC0VRlAULFii+vr46/963b1/lk08+UdLT05VHjx4pLVq0UE6fPq1cvXpVcXBwUGNYtmyZUr16dUVRFOXHH39UVqxYoSiKomi1WmXQoEHKqlWrFEVRlE6dOinBwcGKoijK1q1blVGjRmV53F1dXdVjVL16deXs2bOKojw59+3atVNu3rypKMqT8+ro6Kj8+++/LzwuL9q/vXv3Zvm3F52fjOl79+4pZ86cUXr37q1+n86ePat06NBBURRFGT9+vPL999+r6zw7nWH27NnKuHHjFK1Wq9y7d09xdHRU/Pz8FK1Wq/Tt21e5fv26ur/vvPOOcu/ePfXz+ddffymKoiirVq1S+vTp81zZur63Tx9nRcl83F90Dp/27Ll6+nhlTKempiozZsxQz+Xhw4cVRVGUoKAgpXXr1oqiKMqiRYuUzz77TP2cubu7K+PHj39ue2vWrFH69OmjJCYmKunp6cqnn36qbN++XfHz88v0Hfz444+V5cuX6z1+uvb/aU/vl5+fn3odenZ62LBhyvz58xVFUZSHDx8qrq6uSnh4+HPlZTB7cWoxHgMHDqR79+6cPXuWs2fP8t133/Hdd9+xbds2jh8/TseOHbGxsQHA09OT2bNnc+vWLSpUqKCWcfr0aVq0aMGbb74JwIABA9S/vfHGG2zevJmbN29y5swZihYtmqM4N23aROvWrZ+b37VrV/UXyZ49e3B2dqZ48eIcO3aMUaNGYW5uDjz5pTxs2DB1vTZt2gBQunRpSpYsSVxcHEePHqV9+/bqLYc+ffrwyy+/ZBlP+fLl1V/Ub731FsWLF8fCwgIbGxuKFi1KXFwcx48fx9XVVT1+3bt3Z968ecTExNC5c+cX/vJ/VsOGDQG4cOECb731Fu+99x4A1apVo379+vz6669oNBpq165NmTJlAKhVqxYHDhwgLi6OCxcusH79egCqVKnyXC3uacnJyfj7++uNz8nJCRMTE4oVK0bFihWJi4vj77//pnnz5moMffv2Ve/R9+/fn99++43Vq1cTHh7O1atX1f3o06cP/v7+tGrVii1btjBu3Di9x8TMzIy6desCT9ruoqOjM51jjUbD5cuXAbI8Lrkp4/w8LTg4mIiICLy8vNR5Dx8+5MGDB9ku9/Tp0/j6+qLRaLCxseH9998Hnuzbt99+S3BwMHv27OHatWsoikJiYiIAZcuW5Z133gGe7O/27duzLDur7+2ZM2d0xvOic2iI1NRUFi1aRJ8+fQAwNzenVatWarwZx+jo0aNMnDhR/Zx16dJFPadPO3XqFB4eHlhZWQGodxOWLVtG8+bN1e9gzZo1iY2N1Xv8ctOpU6cYO3YsAMWLF2fPnj0vXL5QJI9z585x/vx5Bg0ahJOTE05OTnz22We4ublx8uTJLO/PKopCWlpapnmmpqZoNBp1OikpiX///ZebN28ye/ZsBg4cSJs2bahcuTK7du3KVmzKU50Sp6Sk0KtXL959993nlitXrhy1atUiODiYwMBAfH19AdBqtZli0mq1me61Wlpaqv/XaDQoioKZmVmm7b6orcXCwiLTtJnZ86f82Rgy9qtDhw46y9XltddeA57cEsiqzLS0NMzNzdUvD/xvvzL2I7v7duzYMWrWrJnpB0JWdG1L13YWLlzIhQsX6Nq1K02aNCEtLU1d1t3dnS+++IJffvmFx48f06hRoxduG56cg4zjnp6eTpUqVdi6dav698jISGxsbNi9e3eWseamjPPzNK1Wi4eHh3rh0Gq1REVF8cYbbzwXw4vaAbI6no8fP6ZLly60bduWhg0b0rVrVw4ePKgum5391fW9fVFsLzqHumRVnrm5uXr76datW5ibm2NiYqIun+HZ72TGMs969vsXExOjXr+e/ltGLC86foacmxft49OxPb1PN2/exNrammLFimVZVqFo87CxseGbb77ht99+U+dFR0cTHx9P9erVadmyJT///LN6/zYgIIASJUpQsWLFTOU0adKE06dPq/cSN2/ezMKFCzl58iROTk707t0be3t7Dh48qLPB3dTUVE1KNjY2ajvGr7/+SnR09Av3o0ePHnz33XckJibSoEEDAFq2bMmmTZtITU1Fq9WyYcMGmjdv/sJyWrVqxf79+3n06BHw5H7wy2jZsiW7d+9Wj9/27dupUKEC5cqVe+F6ZmZmpKenZ/mlrFu3LmFhYVy4cAF40iB79uxZGjdurLO8YsWKUb9+fbUmcfPmTU6fPv1cEsrw66+/4uDgkK19fFbGk1QZjY9PX8xPnDhB//796dy5MyVLluTUqVPq56FIkSJ06tQJX1/fTL/Un2Zqaqrzi1y3bl0iIiI4e/YsAJcuXcLFxSVPGkFfdH6e1qJFC3766Sf1e7Fp0yb69+8PgLW1tfoZj4yM5Ndff82yjJYtW7Jt2za0Wi1xcXEcOnQIeNKGFR8fz8iRI3F2dubMmTOkpKQY1CCv63trY2PD7du3uXfvHoqi8NNPP6nrvOgcPu3pc/X666+TmpqqtjM9XZ4+rVq1IiAgAK1WS2JiInv27Mnyc+vg4MCePXvUYzB9+vQXbudFx+9F+6+LtbU1oaGhKIpCfHw8R44cyRRbQEAA8ORJvf79+xMeHq6zrEJR86hUqRJfffUVS5Ys4e7du1haWlK8eHHmzJlD5cqVqVy5MgMGDKB///7qQV2xYsVz2b9GjRqMHTuWQYMGAWBra8ucOXOIj49XnxVPS0ujefPm7N+/H61W+1wZ7du3x9vbm2XLljFmzBhmzJjBli1bePfdd7G3t3/hfjg7OzNjxgwGDx6szvv444+ZP38+nTt3Ji0tjTp16jBlypQXluPg4ECPHj3o2bMnVlZWVKtWjSJFihhySDNp3rw5AwcOpH///iiKgp2dXabHLHWxtbWlTp06uLq6smHDhkx/s7GxYenSpXz++eckJSWh0WiYO3culSpV4vz58zrLnD9/PpMmTWLjxo2ULl2a8uXLZ/p1+rSIiAi9x1yXSpUqMXHiRD788EMsLCx455131GM4bNgwFixYwNKlSzE3N6d+/fqZHsDw9PTE39+fzp07Z1l21apVsbS0pFu3bs899mxjY4Ofnx8LFiwgOTkZRVFYsGAB5cuX13lhzqkXnZ+ntWjRgsGDB/PBBx+g0WgoVqwYy5cvR6PR4O3tzZgxY3BxcaF8+fI6byOOGDGCadOm0aFDB2xsbKhevTrw5DvXunVrOnTogIWFBdWrV6dq1apEREQ8VyvWRdf3tnTp0nh5edG1a1dsbW1p3bq1+nSZvnOY4elztXXrVsaOHcvgwYOxsbExqObt4+PDzJkzcXd3p3jx4pQsWTLLz62Xlxf//vsvnp6eKIpC48aN8fb25ptvvtG577qOX8uWLXXuvy6dOnXi+PHjtGvXjtKlS9O4cWP1x8XUqVOZPn067u7uKIqCj4/Pi79fOltDhNG6cOGCsmbNGnX6hx9+UD799NOCCygXff3118o///yjKMqTRrvWrVsrV69ezfXt3LhxQ1m2bJn6kMS+ffuUbt266V1Pq9UqK1asUKZOnZrrMYnCa8+ePeqDFOnp6crQoUPVBz/+qwpFzUNkVqlSJb777jv8/f3RaDS8+eabfP755wUdVq54++23GTVqFCYmJqSnpzN48GCqVq2a69spU6YMUVFRuLu7Y2pqqtZk9WnTpg12dnZ8/fXXuR5TQbt48SKTJ09m586dBR1KoVOtWjWmTp3KF198QWpqKk2aNKF79+4FHZZOkyZNwt7enl69euW4DI2iyDC0QgghDFMoGsyFEEIYF0keQgghDFbo2zy0Wi0JCQmYm5vrfKRTCCFEZoqikJqaStGiRXW+l/IihT55JCQkcOXKlYIOQwghCqXq1atn2S+cPoU+eWR061G9evVsPzcuhBCvupSUFK5cuaJeQw1V6JNHxq0qCwuLTF15CCGE0C+nt/ulwVwIIYTBJHkIIYQwWJ7etlq+fLk6rnCrVq0YN24cEydO5Ny5c2o/QsOHD+f999/n0qVLTJo0iYSEBBo2bMiMGTOy7AFWCCFEwcuzmsepU6c4ceIE27dvZ8eOHYSGhnLgwAFCQkJYv369OoRoRr//Y8eOZerUqezbtw9FUfD398+r0F5KbGws48aNyzR6nBBCvGryLHnY2toyYcIELCwsMDc3p0qVKty+fZvbt2/j6+uLu7s7fn5+aLVa/v33X5KSktQBczw9PQkKCsqr0F7Kxo0bCQ0NVYeCFEKIV1GeJY9q1aqpySA8PJy9e/fSsmVLmjZtypw5c/D39+e3335j27ZtREVFYWtrq65ra2trNIO8Py02NlYdiOXAgQNS+xBCvLLyvFHh6tWr+Pj4MG7cOCpXrsxXX32l/s3b25sdO3ZQpUqVTI+LKf8/SpYhMgasyUu7du1SB5RJT0/Hz88Pd3f3PN+uEEIYmzxNHufOneOTTz7B19cXV1dXLl++THh4OC4uLgDqkKplypTJNApfTEwMdnZ2Bm3L3t4+z9/zmDt3bqbkERISwvTp0/N0m0IIkReSk5Nf6kd3nt22unPnDsOGDWPRokW4uroCT5LFnDlziIuLIzU1lS1btvD+++9Trlw5LC0tOXfuHAA7d+7E0dExr0LLsdatW6tPgJmZmeHk5FTAEQkhRMHIs5rHqlWrSE5OZt68eeo8Ly8vhgwZQq9evUhLS6Ndu3a4ubkBsGjRIiZPnkx8fDy1a9emX79+eRVajvXu3ZuDBw8CTwa4f5mBVIQQojAr9INBZVS98uO2Ffzv3ZWOHTsybNiwPN+eEELkhZe9dspbeAbq3bs3N27ckFqHEOKVJsnDQDY2NixYsKCgwxBCiAIlfVsJIYQwmCQPIYQQBpPkIYQQwmCSPIQQQhhMkocQQgiDSfIQQghhsGwnj7i4OOLj4/MyFiGEEIWE3uQRFhZG165dcXBwoEmTJvTt25fbt2/nR2xCCCGMlN7kMXHiRLp3786ff/7J+fPncXFxYdKkSfkRmxBCCCOlN3kkJibi5eWFubk5FhYWeHt7ExMTkx+xCSGEMFJ6k0flypX5/fff1ekrV65Qvnz5PA1KCCGEcdPbt9Xt27fx9vamRo0amJqacunSJWxtbdUR9Hbv3p3nQQohhDAuepPHmDFj8iMOIYQQhYje5NG4cWP+/PNPjh8/TmpqKs2bN6dx48b5EZsQQggjpbfNY8eOHXzyySfExcWRkJDA6NGj8ff3z4/YhBBCGCm9NY8ff/yRrVu3YmdnB8DgwYP58MMP6dGjR54HJ4QQwjjprXlotVo1cQCULl0aExPp1UQIIV5lerNAiRIlOHjwoDp98OBB3njjjTwNSgghhHHTe9tqypQpDB06lM8//xwAc3NzvvrqqzwPTAghhPHSmzyqVatGUFAQ4eHhpKenU7lyZczMZOhzIYR4lenNAgkJCXz11VecOHECU1NTnJ2d8fHxwcLCIj/iE0IIYYT0tnlMnjyZyMhIJk6cyNixY7l27RqzZs3Kj9iEEEIYKb01j7/++ot9+/ap002bNsXV1TVPgxJCCGHc9NY87OzsiI2NVacfP36MtbV1ngYlhBDCuOmteZQpU4auXbvSvn17TE1NOXToEKVKlVJvXU2ePDnPgxRCCGFc9CaPihUrUrFiRXVablkJIYTQmzyGDx+eH3EIIYQoRKSfESGEEAaT5CGEEMJgeZo8li9fjqurK66urixYsACAU6dO4e7uTrt27ViyZIm67KVLl/D09MTFxYVJkyaRlpaWl6EJIYR4CTrbPFavXv3CFQcOHPjCv586dYoTJ06wfft2NBoNgwYNYs+ePSxatIh169bx5ptv4uPjw9GjR2nVqhVjx45l1qxZ1K1bF19fX/z9/endu3fO9koIIUSe0pk85s+fT6lSpWjWrBmmpqYGF2xra8uECRPUbkyqVKlCeHg4FStWpEKFCgC4u7sTFBRE1apVSUpKom7dugB4enri5+cnyUMIIYyUzuSxZs0aduzYwe+//06bNm3w9PSkatWq2S64WrVq6v/Dw8PZu3cvffv2xdbWVp1vZ2dHZGQkUVFRmebb2toSGRlp6L4IIYTIJzqTR5MmTWjSpAlJSUns37+fOXPmkJCQgIeHB25ubrz++uvZ2sDVq1fx8fFh3LhxmJqaEh4erv5NURQ0Gg1arRaNRvPcfEOEhIQYtLwQQoic0/ueh5WVFZ06daJTp07cunULX19f5s2bx4ULF/QWfu7cOT755BN8fX1xdXXl119/JTo6Wv17dHQ0dnZ2lClTJtP8mJiYTKMXZoe9vT2WlpYGrSOEEK+q5OTkl/rRna2nrS5cuMCsWbPo1asX5ubmzJ49W+86d+7cYdiwYSxatEh9K/29997j+vXrREREkJ6ezp49e3B0dKRcuXJYWlpy7tw5AHbu3Imjo2OOd0oIIUTe0lnzuHXrFrt27WLXrl1YWlri4eFBQEBAtmsEq1atIjk5mXnz5qnzvLy8mDdvHiNGjCA5OZlWrVrRvn17ABYtWsTkyZOJj4+ndu3a9OvX7yV3TQghRF7RKIqiZPWHmjVrUrZsWTp16kStWrWe+3u7du3yPLjsyKh6yW0rIYTIvpe9duqseTRq1Ah40m6RcTspg0ajMZrkIYQQIv/pTB7r1q3LzziEEEIUItK3lRBCCIPprHmEhoa+cMXatWvnejBCCCEKB53JY+LEiYSHh2Nra8uzbeoajYZDhw7leXBCCCGMk87ksX79enr06MGiRYuwt7fPz5iEEEIYOZ1tHq+//joTJ05k6dKl+RmPEEKIQuCF3ZO0atWKVq1a5VcsQgghCgmdNY+FCxfy+++/52csQgghCgmdyaNRo0YEBgbSqVMnJk+eTHBwMCkpKfkZmxBCCCOl87ZV69atad26NYqicP78eQ4dOoSfnx/ly5fH2dmZzp0752OYQgghjIneLtk1Gg3169enfv36AFy7dk0e0xVCiFec3jfMr127xtatW1EUhVGjRuHj48O7776bH7EJIYQwUnqTx7Rp07C0tCQ4OJi7d+8ye/Zsvvzyy3wITQghhLHSmzySk5Pp1KkTJ06coEOHDjRp0oTU1NT8iE0IIYSR0ps8UlJSiImJITg4mGbNmhETE0NycnJ+xCaEEMJI6U0ePXv2xMnJiQYNGlC1alW6detG//798yM2IYQQRkrv01YdOnTAy8sLE5MneWb79u1YW1vneWBCCCGMl96ah6urK2PHjlVHE5TEIYQQQm/yOHz4MA4ODsyfPx93d3c2bNhAfHx8fsQmhBDCSOlNHlZWVnTr1g1/f38mT57MDz/8QMuWLZkxYwb379/PjxiFEEIYmWwNQ3vs2DFGjBjBqFGjaNu2LZs3b+bNN99k6NCheR2fEEIII6S3wdzJyYkSJUrQu3dvFi5ciJWVFQA1atRgy5YteR6gEEII46M3eSxevFjt1+pZ0seVEEK8mvQmj7fffpsff/yRhIQEFEVBq9USERHB4sWL8yM+IYQQRkhv8hg5ciRWVlb8888/NGvWjFOnTtGgQYP8iE0IIYSR0ttgfvv2bVauXImjoyN9+/Zl06ZNhIWF5UdsQgghjJTe5FGqVCngye2rK1euULp0adLS0vI8MCGEEMZL722rkiVL8v3331O3bl2WLVtGsWLFSEpKyo/YhBBCGCm9NY+ZM2diYWFBw4YNsbe3x8/PjzFjxuRHbEIIIYyURlEUpaCDeBnJycmEhIRgb2+PpaVlQYcjhBCFwsteO3XetnJ2dkaj0ehcMTvveMTHx+Pl5cW3335L+fLlmThxIufOnaNIkSIADB8+nPfff59Lly4xadIkEhISaNiwITNmzMDMTO8dNSGEEAVE5xXaz88PgI0bN2Jubk7Pnj0xNTUlMDAwWyMJ/vnnn0yePJnw8HB1XkhICOvXr8fOzi7TsmPHjmXWrFnUrVsXX19f/P396d27dw53SQghRF7T2eZhb2+Pvb09V69eZcaMGdSqVYsaNWowceJELly4oLdgf39/pk2bpiaKxMREbt++ja+vL+7u7vj5+aHVavn3339JSkqibt26AHh6ehIUFJQ7eyeEECJP6L039PDhQ2JjY7GxsQEgMjIyW12yz549O9N0TEwMTZs2Zdq0aRQvXhwfHx+2bdtGtWrVsLW1VZeztbUlMjLS0P0gJCTE4HWEEELkjN7k0b9/f9zd3WnRogWKonDy5EnGjh1r8IYqVKjAV199pU57e3uzY8cOqlSpkqltRVGUF7a16CIN5kIIkX0ZDeY5pTd59O7dm/r163P69GkABg0aRPXq1Q3e0OXLlwkPD8fFxQV4kiTMzMwoU6YM0dHR6nIxMTHPtYkIIYQwLtl6pKlmzZrUrFnzpTakKApz5syhadOmvPbaa2zZsoUuXbpQrlw5LC0tOXfuHA0aNGDnzp04Ojq+1LaEEELkrXx7HrZmzZoMGTKEXr16kZaWRrt27XBzcwNg0aJFTJ48mfj4eGrXrk2/fv3yKywhhBA5IC8JCiHEK+hlr506H9X966+/XiowIYQQ/106k4enpydLlixBq9XmZzxCCCEKAZ3J4+233+b69ev06NGD8+fP52dMQgghjJzOBvMiRYrg5+fHzp07+eyzz6hQoQKenp44ODhQunTp/IxRCCGEkdHbJbuHhwf79++nR48e7N+/H3d3d+zt7fMjNiGEEEZKZ83j6YewzM3NcXNzUx+tjY2NzfvIhBBCGC2dNY/x48frXCmjnyshhBCvJp3Jw8HBIT/jEEIIUYjobfMQQgghniXJQwghhMH0Jo+NGzc+N2/lypV5EowQQojCQefTVps2bSIpKYkff/yR5ORkdX5qaiqbN29myJAh+RKgEEII46MzeZiZmXHlyhWSkpK4cuWKOt/U1JQJEybkS3BCCCGMk87k0b17d7p3787Bgwdp27ZtfsYkhBDCyOlt86hUqRJbt25FURRGjhxJ27Zt+eWXX/IjNiGEEEZKb/KYNm0alpaWBAcHExkZyezZs1myZEl+xCaEEMJI6U0eycnJdOrUiRMnTtChQweaNGlCampqfsQmhBDCSOlNHikpKcTExBAcHEyzZs2IiYnJ9PSVEEKIV4/e5NGzZ0+cnJxo0KABVatWpVu3bvTv3z8/YhNCCGGksjWGuVarxcTkSZ65f/8+1tbWeR5YdskY5kIIYbiXvXbqfFQ3Q2xsLLt27SIhIQFFUdBqtURERLB48eIcBSyEEKLw05s8Ro4ciZWVFf/88w/NmjXj1KlTNGjQID9iE0IIYaT0tnncvn2blStX4ujoSN++fdm0aRNhYWH5EZsQQggjpTd5lCpVCoC3336bK1euULp0adLS0vI8MCGEEMZL722rkiVL8v3331O3bl2WLVtGsWLFSEpKyo/YhBBCGCm9NY+ZM2diYWFBw4YNsbe3x8/PjzFjxuRHbEIIIYxUth7VNWbyqK4QQhguzx7VrVevHhqNRueKv//+u8EbE0II8d+gM3ns2bMnP+MQQghRiOhMHuXKlcvPOIQQQhQiehvMX0Z8fDxubm7cunULgFOnTuHu7k67du0ydet+6dIlPD09cXFxYdKkSfIosBBCGLk8Sx5//vknvXr1Ijw8HICkpCR8fX35+uuv+fnnnwkJCeHo0aMAjB07lqlTp7Jv3z4URcHf3z+vwhJCCJELspU8kpKSuHz5MoqikJiYmK2C/f39mTZtGnZ2dgBcuHCBihUrUqFCBczMzHB3dycoKIh///2XpKQk6tatC4CnpydBQUE52xshhBD5Qm/y+OOPP2jbti0+Pj5ERkbSunXrbD1pNXv2bBo2bKhOR0VFYWtrq07b2dkRGRn53HxbW1siIyMN3Q8hhBD5SO8b5gsWLODHH39kzJgxlClThgULFjB79mwCAgIM2pBWq8306K+iKGg0Gp3zDRUSEmLwOkIIIXJGb/JISkqiatWq6nSrVq1yNIZ5mTJliI6OVqejo6Oxs7N7bn5MTIx6q8sQ8pKgEEJkX8ZLgjml97aVmZkZcXFxam0gpz3qvvfee1y/fp2IiAjS09PZs2cPjo6OlCtXDktLS86dOwfAzp07cXR0zNE2hBBC5A+9NY+PP/6Yvn37EhMTw2effcbJkyeZOXOmwRuytLRk3rx5jBgxguTkZFq1akX79u0BWLRoEZMnTyY+Pp7atWvTr18/w/dECCFEvslW31YRERGcPHkSrVaLg4MDVapUyY/YskX6thJCCMPl+TC0AFZWVtStWxdFUUhKSiI0NJTatWsbvDEhhBD/DXqTx5IlS1i9erU6KBSARqPh0KFDeRqYEEII46U3eezevZvDhw9nSh5CCCFebXqftrK2tpbEIYQQIhOdNY/Q0FAAatWqxaxZs3B3d8fM7H+LS5uHEEK8unQmjxEjRmSaPnz4sPp/afMQQohXm87kkZEs7t69S5kyZTL97erVq3kblRBCCKOms83jwYMHPHjwgCFDhhAXF8eDBw+Ii4sjJibmuVqJEEKIV4vOmsfo0aM5efIkAE2aNPnfCmZmuLi45H1kQgghjJbO5LFq1SoAJk6cyNy5c/MtICGEEMZP76O6kjiEEEI8K0/HMBdCCPHfJMlDCCGEwSR5CCGEMJjevq3Onz/PF198QVxcHE/33r579+48DUwIIYTx0ps8pk6diqenJ7Vq1crR2OJCCCH+e/QmDzMzMwYOHJgfsQghhCgk9LZ5VKtWjcuXL+dHLEIIIQoJvTWPmzdv0rVrV8qWLZtpqEJp8xBCiFeX3uQxatSo/IhDCCFEIaIzeVy7do0qVapQtGjR/IxHCCFEIaAzeSxYsIAVK1Zk2YOujOchhBCvNp3JY8WKFUDmQaCEEEIIkDfMhRBC5IAkDyGEEAaT5CGEEMJg2UoeN2/eBCA4OJivvvqKR48e5WlQQgghjJve5DF16lS+++47rl27xuTJk7l16xa+vr75EZsQQggjpTd5hISEMH36dA4cOECXLl2YO3cu//77b37EJoQQwkjpTR6KomBiYsLJkydp2rQpAElJSXkemLGKjY1l3LhxxMbGFnQoQghRYPQmj7feeovBgwdz69YtGjduzOjRo6lRo0Z+xGaUNm7cSGhoKJs2bSroUIQQosDo7dtq7ty5HDhwgAYNGmBubk7Dhg3p3LnzS23U29ub2NhYzMyebH7mzJkkJCQwd+5ckpOT6dChg1H2qRUbG8uBAwdQFIX9+/fTq1cvbGxsCjosIYTId3qTx2uvvUbTpk25d+8eoaGh1KlTh7CwMGrXrp2jDSqKQnh4OEeOHFGTR1JSEu3bt2fdunW8+eab+Pj4cPToUVq1apWjbeSVjRs3kpaWBkBaWhqbNm1i2LBhBRyVfocOHWL//v3ZWvb+/fsAWFtbZ2v5du3a0aZNmxzHJoQonPQmjyVLlrB69WpKlSqlznuZvq3CwsIA+OCDD3jw4AE9evSgevXqVKxYkQoVKgDg7u5OUFCQ0SWPI0eOqEPxKorC4cOHC0XyMIShyUMI8WrSmzx2797N4cOHMyWPl/Hw4UMcHByYMmUKqamp9OvXj0GDBmFra6suY2dnR2RkZK5sLzfZ2tpy48YNddrOzq4Ao8m+Nm3aZLt2MH78eADmz5+flyEJIQo5vcnD2to61xIHQL169ahXr5463a1bN/z8/GjQoIE6T1EUg8dLDwkJybUYdbl7926m6Tt37nDu3Lk8325+yngB9L+2XxkePXrEli1b6NmzJ8WLFy/ocIQotHQmj9DQUABq1arFrFmzcHd3V9sogBy3efz222+kpqbi4OAAPEkU5cqVIzo6Wl0mOjra4F/19vb2mUY6zAtt27Zl7969anJ7//33MyW9/wJ/f3+A/9x+ZVi+fDk3btwgNDT0P3fLUQhDJCcnv9SPbp3J49lxPJ7umv1l2jwePXqEn58fmzdvJjU1le3btzNjxgxGjhxJREQE5cuXZ8+ePXTt2jVH5eel3r17c+DAAVJTUzEzM6NXr14FHZIwQGxsLAcPHkRRFA4cOCBPywnxEnQmj4xkcffuXcqUKZPpb1evXs3xBp2cnPjzzz/p3LkzWq2W3r17U69ePebNm8eIESNITk6mVatWtG/fPsfbyCs2Nja8//777N27l3bt2smFp5DZuHEjWq0WAK1WW2ielhPCGOlMHg8ePABgyJAhrFu3Tr1Vk5qayogRIwgKCsrxRkeOHMnIkSMzzXNwcGDXrl05LjO/9O7dmxs3bkitoxAKDg7O9Kj1kSNHJHkIkUM6k8fo0aM5efIkAE2aNPnfCmZmuLi45H1kRsrGxoYFCxYUdBgiB1q3bs3+/ftJS0vDzMwMJyengg5JiEJLZ/JYtWoVABMnTmTu3Ln5FpAQeaV3794cPHgQABMTE6k9CvES9PZtNXfuXB48eMCdO3e4ffs2N2/eVGskQhQmNjY2tG3bVn1STtqshMg5ve95+Pn5sWLFCgBMTU1JTU2latWq7N69O8+DEyK3SZuVELlDb81jx44dHDlyBBcXF/bv38/cuXOpWrVqfsQmRK7LaLOSWocQL0dv8rCxscHOzo7KlSvz999/07lzZ65cuZIfsQkhhDBSepOHmZkZN27coHLlyvz222+kpaWRnJycH7EJIYQwUnqTh4+PD1OmTKF169YcOHCA1q1bqyMKCiGEeDXpbTB3cnJSn4ffsWMHERERr/RIgkIIIbKRPBISEli0aBFhYWEsXbqUjRs3Mn78eIoWLZof8QkdVqxYoY6Nkpsyyszomj03Va5cGR8fn1wvVwiR//Qmj1mzZmFnZ8e9e/ewtLQkPj6eqVOnsnjx4vyIT+gQFhbG1b9CKFPMPFfLLaJNB+DRjcu5Wu7d+NRcLU8IUbD0Jo9Lly4xd+5cjh49SpEiRVi0aBFubm75EZtRio2NZd68eUyYMKHAH/csU8ycD+vl3lgreWnV+ZiCDkEIo2ZM15bs0NtgbmKSeZH09PTn5r1KNm7cSGhoKJs2bSroUIQQ/yGF7dqiNws0atSIhQsXkpSUxPHjxxkxYkSmjhJfJc+OBxEbG1vQIQkh/gMK47VF722rMWPGsGLFCooXL86SJUto2bIlQ4cOzY/YjI6MByHy26FDh9i/f3+2lr1//z7wZOjo7GrXrl22x7cXeacwXlv01jzMzc0ZPnw4W7duJTAwkFGjRuX5cK/GKqvxIIQwFvfv31cTiChcCuO15YU1jwMHDvD9999z5coVihQpQvXq1fnggw9wdHTMr/iMiowHIfJbmzZtsl0zyHi8ev78+XkZksgDhfHaorPmsXfvXhYuXIi3tzdbt25l3bp1eHh4MGvWrGxXo/9revfurT4sIONBCCFyS2G8tuiseaxdu5Yff/yRsmXLqvOqVKlC3bp18fX1pV27dvkSoDHJGA9i7969Mh6EELkgL9t0ClN7TmG8tuhMHgkJCZkSR4ZKlSr95zpGNOQDHBMTg7m5OdeuXcvWW9iF6QMshDHLyQMBhUmHDh0IDg6mQ4cOBR1KtuhMHqampjpXUhQlT4IpDB4+fIi5uTnm5rn7ZrcQryJp0/mfvXv3kpiYyN69e43+SSvIxqO6r4LC+AG+f/8+0fGphebN7TvxqaTJk0BCZOnZ9zx69epl9LeudCaPy5cvU79+/efmK4pCSkpKngYlRHYZcssR/tv3zUXhVRjf89CZPA4cOJCfcQgDWVtbY/YoqlD1bVXcCO5V/9fvm4vCKav3PApt8ihXrlx+xiFy4G4e3LaKT3nSq24xC91tXjlxNz6V4tlcNq+6m8+J/fv3Z7tmI13Oi5xq3bo1e/fuRVEUNBpNoXjP4z/b5vFfH++icuXKub59gOj/378338rd8ouT/ZjDwsII+TsUsxK535OB1uTJr7u/7/6Tq+WmPcj+E4iF8bMJkhzzUocOHfj555+BJ00DheGJq/9s8ggLC+Ni6N+YWuXu7Qlt2pMXef66Fpmr5aYnGdaYnFdfYmN5IMCshCXWrcsXaAyGuB98K9vLhoWFcTkkhFKmufv1M///e+b3Lv2dq+UCxKSnZXtZSY6G27t373PThfa21X+BqZU1xSu/X9BhZMujMGljepWUMjXDs4RxP03ztMAH2e/lNSwsjL/+ukzRIrm7f+lpTy5XEdejc7VcgITEgu3F9tm+rA4fPizJQwjx6ilaxIY61ToWdBjZduHqzwW6fVtbW27cuKFO29nZFWA02fPqjuokhBBGIjo6c20qKiqqgCLJPql5CKNz//590h4kG9SOUNDSHiRz31JeghQ506xZMw4dOpRp2tgZVc1j9+7ddOzYkXbt2rFhw4aCDkcIIfJFYezyyWhqHpGRkSxZsoTAwEAsLCzw8vKiSZMmVK1ataBDE/nM2tqafyNv50nZ2qQnTw2ZWOX+R19ePHzi/v37JDy+V+DtCIZIeHyP+/cL7nJ44sSJTNPHjx9n9OjRBRRN9hhN8jh16hRNmzalRIkSALi4uBAUFMTw4cNzVN79+/dJfxzNg7/89S+saJ/8ywsakyf/9NGmcf++RZ6EYEgXHoY+DpkX3XcY8g6LoaPnJSY+eQnSQpu9Y21tbZ29pFAm+3Hfv3+fO2mprIzRf187HYU8+mQCT249mKLRu1wqCiYGHOd0bRoJj+/pXU6raFHy6Lun0Zhgkp3vHk/iza5Dhw7x7bffZmvZ5ORk9c1xQ6SkpNCx44sfODAzM8v2qK4fffRRrn9PjSZ5REVFYWtrq07b2dlx4cKFbK8fEhKSadrKygpLy+xdINLTFdLTs70pg5iaajA1zc4H2AIrKyvOnTuX6zFcv36dR48eZWvZIkWKAGR7+evXr+d6zA0bNqRhw4bZWvb8+fP8/vvv2S47Pj4egGLFimVr+fr161OvXr1sl5+dY2FlZYVFNr/0mvR08uzDCWhMTdG8oAftDBaQ7c9nhQoVMDPL3qUlPj4+2581QxUvXjzb5xngzTffzNb+Xb9+PdsJIaO/qryg1WqzHUdefE+NJnlotVo0mv/9Asp4TT+77O3tM2XhBg0a5Gp8hdl/+VgUxn0rjDEb4lXYv0GDBuVqmZ06dcqUCMzMzNi1a1eubuNZycnJz/3oNoTRNJiXKVMm0+Nq0dHRheJZZyGEeFnPtm+MHTu2gCLJPqNJHs2aNeP06dPExsaSmJjI/v37cXR0LOiwhBAiz7Vq1Uq91WdmZkbLli0LOCL9jCZ5lC5dmlGjRtGvXz86d+6Mm5sbderUKeiwhBAiX2TUPgpDrQNAoxTGB4yfknHf7tk2DyGEELq97LXTaGoeQgghCg9JHkIIIQwmyUMIIYTBjOY9j5zKaLJJSUkp4EiEEKLwyLhm5rTZu9Anj9TUVACuXLlSwJEIIUThk5qaipWVlcHrFfqnrbRaLQkJCZibmxv0RroQQrzKFEUhNTWVokWLYmJieAtGoU8eQggh8p80mAshhDCYJA8hhBAGk+QhhBDCYJI8hBBCGEyShxBCCINJ8hBCCGEwSR5CCCEMJskjC1euXKFGjRrs27fvhctt2rSJTZs25VNU2XPr1i3s7e3x8PDI9G/Dhg0FHRpBQUF4enrSqVMn3N3d+f7773NUzpEjR1i9ejUAy5YtY9myZTqXPXz4MDVq1Hip4Tb1GTx4MJGRkdy6dYsaNWpw8uTJTH93dnbm1q1b2Srr5s2b+Pr6AnDmzBm8vb11Lnv//n3effddfvjhh5wH/4xnP/tLly7l0KFD2V7/6fizKzAwkAkTJgD/O5b6eHl5oSgKCQkJzJgxg/fff59OnTrRu3dvTp8+bdD2X0Z24s3qenL06FFatmz53AiCAB4eHrkeZ14o9N2T5IWAgADat2/Pli1bcHFx0blcr1698jGq7LOzs2Pnzp0FHUYmkZGRzJ8/n8DAQKytrUlISMDb25tKlSrRpk0bg8oyJBEEBgaq59Le3t7QsLPlu+++A54kbnNzc6ZMmcKuXbsoVqyYwWXdvn2bmzdvZmvZ3bt34+zszJYtWxg4cGCu9LDw7Gf/008/NWh9Q+LPSsaxfJHr169TsWJFAD766CPeeecdfvrpJywsLPjrr78YMmQIixcvpkmTJjmOI7uyE29W15OgoCCGDx9Oz549n1ve2L67ukjyeEZqaiq7d+9mw4YNeHl5cePGDd566y3mz5/PyZMnMTExoW3btgwfPlz9xTtixAjWr1/Pzp07SUxMxNzcnMWLF1O5cuUC3pvMatSoweXLl4EnF9Vff/2VefPm4ezsTJ06dbh06RIbN24kODiY1atXo9FoqF27NlOmTKFo0aI4ODjw/vvvc/78eYoWLcqiRYsoX748Fy5cYO7cuSQlJWFtbc2MGTOoUKFCpm3fv3+f1NRUkpKSAChatCjz5s3D0tKSP/74g9mzZ5OcnIy1tTUzZ86kYsWKeHt7M3z4cJo0acKtW7fo168fK1euZPPmzQCULVsWgAsXLuDl5UVkZCSenp6MGDECgNjYWH755Rd27NhB586dGT9+vHpBb968OW3atOHChQuUKlWKrl27sm7dOu7evcu8efNo3LgxERERTJ8+nQcPHmBlZcWUKVOoVasWEyZM4MGDB0RERDB27FhmzZrF2rVrSUlJwdzcnLi4OJycnJgxYwYdO3bk8ePHDB8+nOjoaOLi4ihTpgxt27Zl7Nix3Llzh0GDBmFtbY2VlRUxMTHcunWLGTNm0L59e2JjYxk8eDA3btygUqVK+Pn5YWFhoZ7DiRMnMmvWLH755RccHBwA8Pb2platWpw7d47k5GTGjBnD2rVruXbtGgMGDGDAgAEkJCQwc+ZMrl69Snp6OoMHD8bFxYVt27ZRqVIlQkNDmTZtGsnJyRw5coSAgAAOHjzIDz/8QFxcHH379qVUqVJs3ryZqKgoLC0tKVKkCGlpacTHx6vxL1y4EK1WS7Vq1fjss8/w9fXl0aNHREVF0aVLl+eSk7OzM2vXrqVEiRL4+voSGRlJVFQUDg4OzJ49G41Gw7Fjx3B0dOTXX3/l9u3brF27Vk2ctWrV4uOPP+brr7+mSZMmXLp0ialTp5KUlMQbb7zBokWLKFOmDCtXrmTv3r2kp6fTokULxo4di0ajYcmSJZw+fZq4uDjs7OxYsmQJpUqVokWLFri4uHDu3DlMTU358ssvqVChgt5409LSnruenDlzhkOHDnH69GlMTEzYtWsXb7zxBlevXuXLL7+kc+fOXL58mQcPHjBp0iTCwsKwsLBgwoQJODg4GM21Rm5bPePo0aOULVuWSpUq0bZtW7Zs2cK///7LsWPH2LVrF5s2beKff/4hOTlZXSc+Pp6DBw+ybt069uzZQ+vWrQv0NlFUVNRzt60ykoYujo6O7Nu3j5iYGL799lvWrVvH7t27KVKkCMuXLweeXIzr1avH7t27cXV1ZdasWaSkpDB58mQWL17M9u3bGThwIFOmTHmu/Jo1a9KmTRvatm1Lt27d1IvKm2++yWeffab+Wvfy8uKzzz7TGWfVqlXx8vLCy8uLrl27AnDv3j3Wrl1LQEAAq1atIj4+HoBdu3bRvHlzypcvj729Pbt27VLLiYmJwdHRkR07dpCcnMzBgwfZuHEjI0aMYM2aNQCMHz+esWPHsn37dj7//HNGjRqlrl+iRAn27t2Ls7OzOm/79u0oisKRI0coUqQICxcuJCUlhYSEBNzc3ChXrhy+vr5UrlyZiIgINQlev36dhQsXsnr1aiZPnoy9vT3Tpk0DnvySnzp1Knv37iUmJoZTp04B8PfffxMTE0PDhg3p0KEDW7ZsyXScFEVh27ZtuLi4MGvWLJYvX86GDRv46quvAPjmm2+oXbs2gYGBbNiwgW+//ZaAgABKlCjBw4cP6dKlS6aa099//83GjRuZMWMG7777LiEhIXz99de0aNGC5cuX4+TkxBdffEFcXFym+MPDw1mzZg3z589nz549uLm54e/vz+7du1mzZg2xsbFZnufg4GDeeecdtmzZwr59+zh79iyhoaEAnDx5kubNm3Px4kXs7e2fq3E1atSIixcvAjBmzBiGDh3K7t276dixI2vWrOHYsWOEhISwbds2duzYQWRkJLt27SIiIoKwsDA2b97Mvn37ePPNN9XPTHR0NA4ODuzYsYNGjRo99/3WFW9W15Pu3bvj7OzMJ598Qvfu3QHU21rvvPOOWubSpUt566232Lt3LwsWLODLL780qmuN1DyeERAQgJubGwAdO3ZkzJgxfPrpp1haWuLl5YWTkxNjxozJNGxjsWLFWLx4MT/99BPh4eEcP34804cgv+XkttV7770HwNmzZ3FycsLa2hqAnj17MnHiRAAsLS3p3LkzAF26dOGLL74gPDycmzdv8vHHH6tlZVy8nzVjxgyGDh3KiRMnOHHiBD169GDIkCG8/vrr6nj1HTp0YOrUqTx69Cjbsbds2RILCwtsbGywtrYmLi6OYsWKsX37doYPHw48OZfr16+nd+/e6nqOjo4AlCtXjgYNGgBPajMPHz4kISGBkJAQdd8BHj9+zP379wHUeJ/2559/UqRIEV5//XXmzJnD1KlTSUlJoWTJkgQFBfH666/z008/YWJiQv/+/dmxYwetWrWiZMmSlC9fPst9q1mzplqLq1Klirr9bdu20b59e0xNTenYsSNff/01MTExlCpVKtO+lS1blvfee48iRYpQrlw5Hj58CMCpU6dISkoiICBA3beAgADee+89tFotrq6ujBkzhpYtWwJPandOTk689tpraDQa1qxZw8cff8zZs2e5f/8+JUuWZP369Zl+VAFUqlSJ4sWLA/Dhhx/yyy+/sGrVKq5evUpqaiqJiYlZ7rebmxsXLlzgxx9/JCwsjAcPHvD48WOSkpJITk6mRIkSaDQa0tPTn1s3NTUVjUZDbGws0dHRODk5Aajnfv78+Vy4cAFPT08AkpKSKFu2LB4eHowfP56tW7dy/fp1/vjjD9566y213IxjUa1aNX777bdsxavrevKsrD5PZ8+eZdGiRcCT5JLxA8FYrjWSPJ5y7949jh8/TmhoKGvXrkVRFB4+fMiBAwfYunUrv/76K8eOHcPLy4t169ap6925cwdvb2/69u2Lo6MjpUqV4tKlSwW4J7opioJGoyEtLS3T/IxkqNVqn1s+Y1kTExP1V55Wq8XU1BStVkv58uXVZJWenk5MTMxz2w0ODubx48d07NiRrl270rVrV/UXaFYxZlwUMvrtfDbep5mZ/e9jrNFoUBSF0NBQrly5wuzZs5k7dy7p6elERUXxxx9/ULduXQD19g+AqalppjK1Wi0WFhaZkvDdu3cpUaIEQJZdWD8dR4sWLahTpw6zZs0iOjqa1157DXt7e5o2bar+UszYpxd1h53VvqWkpLBnzx7MzMw4fPiw+vfAwECGDBkCgLm5eZZlPL1/CxcupHbt2gBcvXqVzp07Ex4eTlpaGn/++ScPHz7k9u3baDQaTE1NM31uIiMjmTdvHsOHDycsLIyTJ08yZcoU9uzZk2k7T+/bvHnzuHnzJm5ubrRt25ZTp07pHEti3bp17Nu3jx49etCsWTOuXLmCoiicOXOGxo0bA09+8Kxbt47U1NRM+/vHH39gb2//XE/bycnJREVFkZ6eTv/+/Rk4cCAADx8+xNTUlJCQEEaPHs2AAQNwcXHBxMQkU3wZ35GM86Av3ri4OJ3Xk2fp+jw9Hf+1a9ewsrKif//+RnGtkdtWT9m5cydNmzbl2LFjHD58mCNHjvDRRx8xdepU+vbtS6NGjRg/fjxVqlTh+vXr6noXL16kYsWKDBgwgHfffZeDBw9m+YuooFlbW3P16lUURcl00Xla48aNOXz4MA8ePADA399fbXhMTExU1wsMDMTR0ZHKlSsTFxen/hILCAhgzJgxz5VrZWXF4sWL1aeOFEXh0qVL1K1blwcPHnDhwgUAfv75Z8qWLUuJEiWwtrbmn3/+AeDgwYNqWaampi9MJhnx9ejRg+DgYA4fPszRo0fx8PBQbxXpU7x4cd5++201eZw8eZI+ffq8cJ06deqQmJiIoijcu3ePs2fPcuzYMdLS0ujVqxehoaEEBQWRlpZGQEAATZs2fa6M7OzbkSNHsLa25sSJExw+fJjDhw8zc+ZMtmzZku2BfZo2bao+KRgVFUWPHj2oV68eEydOxMXFRf3sX79+nddee40SJUpw9OhRgoKCUBSFTz75BA8PD0JCQlixYgXOzs7qRVFX/CdPnuTDDz+kQ4cOXL9+ncjIyOd+rDy9bM+ePenUqRPJycn8/fffaLVatb0DoGHDhlStWpU5c+ao4/qEhITwzTffMHToUIoXL07p0qU5ceIE8OT7vXTpUpo2bcrOnTtJSEggLS2NYcOGqbeaGjduTK9evXj77bcJDg7O9vc4q3iPHz+e5fUku5/Bhg0b8tNPPwFPEsfgwYMJCQkxmmuN1Dyesn379kz3tQH69OnD999/j62tLW5ubhQpUoT69evj6Oio3oNt3rw5mzZtomPHjiiKQqNGjbh69WpB7ALwvzaPpzVq1IjRo0fz0UcfUapUKRo0aKDeAnlazZo18fHxwdvbm9TUVGrXrs2MGTPUvwcFBbFkyRLs7OyYP38+FhYWLF26VG3wLlasGPPnz3+u3KZNmzJ8+HA++ugj9YvesmVLRowYgbOzM59//jmJiYm88cYbLFmyBIBBgwYxYcIEAgICMj2RlZHEM27RPCs1NZU9e/awdu3aTPMHDBiQ6TacPgsXLmT69Ol8//33mJubs2TJkhc+0eTh4cGaNWvo1KkTANOmTcPKyorBgwezevVqEhISiIiIID4+nl69etG3b1/u3r2bqYwqVarw6NEjxo4dS7du3bLcTmBgYKbbb/DktskXX3zB8ePHs7Vvw4cPZ/r06bi5uZGenk7x4sX54IMP1B8N8OSz/8033+Dq6sq6detIT0/n4MGDPH78mIEDB1KiRAlWrlxJmzZtsLS0pHnz5pQpU4Z79+5lGb+Pjw/jxo3DysqKMmXKYG9vr/MR5v79+zN9+nRWrlxJsWLFqFevHrdu3SI0NJTJkyeryy1fvpwlS5bg5uaGqakpb7zxBgsXLlR/8GScw4ULF2Jtbc2CBQuws7Pj77//pkePHqSnp9OyZUu6dOlCVFQUw4cPx93dHeCF8WUn3uDgYKZPn55puYzria7P7tM++eQTJk+eTKdOnTAzM2PBggW88847bN682SiuNTKeh8i2p5/WEkK82uS2lRBCCINJzUMIIYTBpOYhhBDCYJI8hBBCGEyShxBCCINJ8hCvvPT0dFavXo2npyceHh507NhR7VokJx49ekS/fv3UaQ8PD/XN7tz07HaEyE+SPMQrb/r06Zw/f541a9awc+dOtm3bxvXr15k0aVKOyouLi1P7VoInL6e9/vrruRWuzu0IkZ/kaSvxSrt16xZubm6cOHEiU0eA0dHR/P777zRr1owZM2bw999/o9FoaNmyJZ999hlmZma8++67DBkyhJMnTxIVFcWgQYPo3bs33t7e/Pbbb1SvXp3AwEBq1arF6dOnCQ4O5sCBA5iYmBAREYGVlRXz589XXwycPXs2V65cITU1FQcHB8aNG2fQdp7tYkWIvCQ1D/FKCw0NpWrVqs+NvWFra6v2SFuiRAl2795NQEAAly9fVgdfSklJwdrams2bN+Pn58fcuXNJTk5m7ty5WFlZsXPnzucu6GfPnlX7gHrvvfdYuXIlAHPmzFF7ud2xYwf3799XB7zKyXaEyGvSPYl4pZmYmOjsXwng2LFjbNq0CY1Gg4WFBV5eXqxZs0btgDCj25TatWuTkpLC48ePX7i92rVrU6ZMGeDJ2BMZ/UEFBwdz8eJFtm3bBqCOe5LB0O0IkdckeYhXWp06dQgLCyM+Pj5T7SMyMpIpU6ag1Woz9Wel1Wozdfz3dE+rgN6OCZ/uPfXp3lm1Wi1Lly6lSpUqwJOeXp/erqHbESKvyW0r8UorXbo07u7u+Pr6quOQxMfHM336dEqUKEGLFi1Yv3692hW6v78/zZo1e2GZZmZmpKenG3SBb9GiBT/++KO6nY8//pj169fn+naEyC2SPMQrb9q0aeoIhR4eHnTv3p2qVasya9YsJk+eTGxsLO7u7ri7u1OpUiU++uijF5Zna2tLnTp1cHV1zbLn4qxMmjSJx48fq9upXr06gwYNyvXtCJFb5GkrIYQQBpOahxBCCINJ8hBCCGEwSR5CCCEMJslDCCGEwSR5CCGEMJgkDyGEEAaT5CGEEMJgkjyEEEIY7P8A6KgsJ3Y6DYAAAAAASUVORK5CYII=\n",
=======
      "image/png": "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",
>>>>>>> 0d37aeddba7996b01c5c7139b1a8d4913e743ec5
>>>>>>> Stashed changes
      "text/plain": [
       "<Figure size 432x288 with 1 Axes>"
      ]
     },
     "metadata": {},
     "output_type": "display_data"
    }
   ],
   "source": [
    "ax = sns.boxplot(x=\"Continent\", y=\"Deaths in the last 7 days/1M pop\", data=df_covid_by_week)\n",
    "plt.title('Số ca tử vong mới trong 7 ngày trên 1 triệu dân của từng châu lục')\n",
    "plt.show()"
   ]
  },
  {
   "cell_type": "markdown",
   "metadata": {},
   "source": [
    "---"
   ]
  },
  {
   "cell_type": "markdown",
   "metadata": {},
   "source": [
    "### Câu 2,3,6 (Trí)"
   ]
  },
  {
   "cell_type": "markdown",
   "metadata": {},
   "source": [
    "### Pie Chart"
   ]
  },
  {
   "cell_type": "markdown",
   "metadata": {},
   "source": [
    "Câu 2 : \n",
    "Pie Chart để so sánh tỷ lệ % giữa 6 châu lục về các thông số \n",
    "- Số ca nhiễm MỚI\n",
    "- Số ca tử vong MỚI\n",
    "- Số ca hồi phục MỚI\n",
    "- Số ca trong cộng đồng\n",
    "\n",
    "Mỗi thông số là một biểu đồ, 100% chính là tổng 6 châu lục từng thông số"
   ]
  },
  {
   "cell_type": "code",
   "execution_count": 79,
   "metadata": {},
   "outputs": [],
   "source": [
    "piechart_plots = continent_yesterday_df[['Continent','NewCases','NewDeaths','NewRecovered','ActiveCases']]"
   ]
  },
  {
   "cell_type": "code",
   "execution_count": 80,
<<<<<<< Updated upstream
   "metadata": {},
   "outputs": [
    {
     "data": {
      "text/html": [
       "<div>\n",
       "<style scoped>\n",
       "    .dataframe tbody tr th:only-of-type {\n",
       "        vertical-align: middle;\n",
       "    }\n",
       "\n",
       "    .dataframe tbody tr th {\n",
       "        vertical-align: top;\n",
       "    }\n",
       "\n",
       "    .dataframe thead th {\n",
       "        text-align: right;\n",
       "    }\n",
       "</style>\n",
       "<table border=\"1\" class=\"dataframe\">\n",
       "  <thead>\n",
       "    <tr style=\"text-align: right;\">\n",
       "      <th></th>\n",
       "      <th>Continent</th>\n",
       "      <th>NewCases</th>\n",
       "      <th>NewDeaths</th>\n",
       "      <th>NewRecovered</th>\n",
       "      <th>ActiveCases</th>\n",
       "    </tr>\n",
       "  </thead>\n",
       "  <tbody>\n",
       "    <tr>\n",
       "      <th>0</th>\n",
       "      <td>Africa</td>\n",
       "      <td>6304</td>\n",
       "      <td>94</td>\n",
       "      <td>5102</td>\n",
       "      <td>540052</td>\n",
       "    </tr>\n",
       "    <tr>\n",
       "      <th>1</th>\n",
       "      <td>Asia</td>\n",
       "      <td>686376</td>\n",
       "      <td>1677</td>\n",
       "      <td>347821</td>\n",
       "      <td>6379153</td>\n",
       "    </tr>\n",
       "    <tr>\n",
       "      <th>2</th>\n",
       "      <td>Australia/Oceania</td>\n",
       "      <td>56281</td>\n",
       "      <td>32</td>\n",
       "      <td>38824</td>\n",
       "      <td>485752</td>\n",
       "    </tr>\n",
       "    <tr>\n",
       "      <th>3</th>\n",
       "      <td>Europe</td>\n",
       "      <td>801055</td>\n",
       "      <td>2147</td>\n",
       "      <td>840095</td>\n",
       "      <td>17058408</td>\n",
       "    </tr>\n",
       "    <tr>\n",
       "      <th>4</th>\n",
       "      <td>NorthAmerica</td>\n",
       "      <td>59310</td>\n",
       "      <td>1303</td>\n",
       "      <td>186917</td>\n",
       "      <td>25701091</td>\n",
       "    </tr>\n",
       "    <tr>\n",
       "      <th>5</th>\n",
       "      <td>SouthAmerica</td>\n",
       "      <td>86119</td>\n",
       "      <td>749</td>\n",
       "      <td>44497</td>\n",
       "      <td>2190247</td>\n",
       "    </tr>\n",
       "  </tbody>\n",
       "</table>\n",
       "</div>"
      ],
      "text/plain": [
       "           Continent  NewCases  NewDeaths  NewRecovered  ActiveCases\n",
       "0             Africa      6304         94          5102       540052\n",
       "1               Asia    686376       1677        347821      6379153\n",
       "2  Australia/Oceania     56281         32         38824       485752\n",
       "3             Europe    801055       2147        840095     17058408\n",
       "4       NorthAmerica     59310       1303        186917     25701091\n",
       "5       SouthAmerica     86119        749         44497      2190247"
      ]
     },
     "execution_count": 80,
     "metadata": {},
     "output_type": "execute_result"
    }
   ],
   "source": [
    "piechart_plots"
   ]
  },
  {
   "cell_type": "code",
   "execution_count": 81,
=======
>>>>>>> Stashed changes
   "metadata": {},
   "outputs": [
    {
     "data": {
<<<<<<< Updated upstream
=======
      "text/html": [
       "<div>\n",
       "<style scoped>\n",
       "    .dataframe tbody tr th:only-of-type {\n",
       "        vertical-align: middle;\n",
       "    }\n",
       "\n",
       "    .dataframe tbody tr th {\n",
       "        vertical-align: top;\n",
       "    }\n",
       "\n",
       "    .dataframe thead th {\n",
       "        text-align: right;\n",
       "    }\n",
       "</style>\n",
       "<table border=\"1\" class=\"dataframe\">\n",
       "  <thead>\n",
       "    <tr style=\"text-align: right;\">\n",
       "      <th></th>\n",
       "      <th>Continent</th>\n",
       "      <th>NewCases</th>\n",
       "      <th>NewDeaths</th>\n",
       "      <th>NewRecovered</th>\n",
       "      <th>ActiveCases</th>\n",
       "    </tr>\n",
       "  </thead>\n",
       "  <tbody>\n",
       "    <tr>\n",
       "      <th>0</th>\n",
       "      <td>Africa</td>\n",
       "      <td>6304</td>\n",
       "      <td>94</td>\n",
       "      <td>5102</td>\n",
       "      <td>540052</td>\n",
       "    </tr>\n",
       "    <tr>\n",
       "      <th>1</th>\n",
       "      <td>Asia</td>\n",
       "      <td>686376</td>\n",
       "      <td>1677</td>\n",
       "      <td>347821</td>\n",
       "      <td>6379153</td>\n",
       "    </tr>\n",
       "    <tr>\n",
       "      <th>2</th>\n",
       "      <td>Australia/Oceania</td>\n",
       "      <td>56281</td>\n",
       "      <td>32</td>\n",
       "      <td>38824</td>\n",
       "      <td>485752</td>\n",
       "    </tr>\n",
       "    <tr>\n",
       "      <th>3</th>\n",
       "      <td>Europe</td>\n",
       "      <td>801055</td>\n",
       "      <td>2147</td>\n",
       "      <td>840095</td>\n",
       "      <td>17058408</td>\n",
       "    </tr>\n",
       "    <tr>\n",
       "      <th>4</th>\n",
       "      <td>NorthAmerica</td>\n",
       "      <td>59310</td>\n",
       "      <td>1303</td>\n",
       "      <td>186917</td>\n",
       "      <td>25701091</td>\n",
       "    </tr>\n",
       "    <tr>\n",
       "      <th>5</th>\n",
       "      <td>SouthAmerica</td>\n",
       "      <td>86119</td>\n",
       "      <td>749</td>\n",
       "      <td>44497</td>\n",
       "      <td>2190247</td>\n",
       "    </tr>\n",
       "  </tbody>\n",
       "</table>\n",
       "</div>"
      ],
      "text/plain": [
       "           Continent  NewCases  NewDeaths  NewRecovered  ActiveCases\n",
       "0             Africa      6304         94          5102       540052\n",
       "1               Asia    686376       1677        347821      6379153\n",
       "2  Australia/Oceania     56281         32         38824       485752\n",
       "3             Europe    801055       2147        840095     17058408\n",
       "4       NorthAmerica     59310       1303        186917     25701091\n",
       "5       SouthAmerica     86119        749         44497      2190247"
      ]
     },
     "execution_count": 80,
     "metadata": {},
     "output_type": "execute_result"
    }
   ],
   "source": [
    "piechart_plots"
   ]
  },
  {
   "cell_type": "code",
   "execution_count": 81,
   "metadata": {},
   "outputs": [
    {
     "data": {
>>>>>>> Stashed changes
      "application/vnd.plotly.v1+json": {
       "config": {
        "plotlyServerURL": "https://plot.ly"
       },
       "data": [
        {
         "domain": {
          "x": [
           0,
           0.45
          ],
          "y": [
           0.625,
           1
          ]
         },
         "labels": [
          "Africa",
          "Asia",
          "Australia/Oceania",
          "Europe",
          "NorthAmerica",
          "SouthAmerica"
         ],
         "type": "pie",
         "values": [
          6304,
          686376,
          56281,
          801055,
          59310,
          86119
         ]
        },
        {
         "domain": {
          "x": [
           0.55,
           1
          ],
          "y": [
           0.625,
           1
          ]
         },
         "labels": [
          "Africa",
          "Asia",
          "Australia/Oceania",
          "Europe",
          "NorthAmerica",
          "SouthAmerica"
         ],
         "type": "pie",
         "values": [
          94,
          1677,
          32,
          2147,
          1303,
          749
         ]
        },
        {
         "domain": {
          "x": [
           0,
           0.45
          ],
          "y": [
           0,
           0.375
          ]
         },
         "labels": [
          "Africa",
          "Asia",
          "Australia/Oceania",
          "Europe",
          "NorthAmerica",
          "SouthAmerica"
         ],
         "type": "pie",
         "values": [
          5102,
          347821,
          38824,
          840095,
          186917,
          44497
         ]
        },
        {
         "domain": {
          "x": [
           0.55,
           1
          ],
          "y": [
           0,
           0.375
          ]
         },
         "labels": [
          "Africa",
          "Asia",
          "Australia/Oceania",
          "Europe",
          "NorthAmerica",
          "SouthAmerica"
         ],
         "type": "pie",
         "values": [
          540052,
          6379153,
          485752,
          17058408,
          25701091,
          2190247
         ]
        }
       ],
       "layout": {
        "annotations": [
         {
          "font": {
           "size": 16
          },
          "showarrow": false,
          "text": "New Cases",
          "x": 0.225,
          "xanchor": "center",
          "xref": "paper",
          "y": 1,
          "yanchor": "bottom",
          "yref": "paper"
         },
         {
          "font": {
           "size": 16
          },
          "showarrow": false,
          "text": "New Deaths",
          "x": 0.775,
          "xanchor": "center",
          "xref": "paper",
          "y": 1,
          "yanchor": "bottom",
          "yref": "paper"
         },
         {
          "font": {
           "size": 16
          },
          "showarrow": false,
          "text": "New Recovered",
          "x": 0.225,
          "xanchor": "center",
          "xref": "paper",
          "y": 0.375,
          "yanchor": "bottom",
          "yref": "paper"
         },
         {
          "font": {
           "size": 16
          },
          "showarrow": false,
          "text": "Active Cases",
          "x": 0.775,
          "xanchor": "center",
          "xref": "paper",
          "y": 0.375,
          "yanchor": "bottom",
          "yref": "paper"
         }
        ],
        "template": {
         "data": {
          "bar": [
           {
            "error_x": {
             "color": "#2a3f5f"
            },
            "error_y": {
             "color": "#2a3f5f"
            },
            "marker": {
             "line": {
              "color": "#E5ECF6",
              "width": 0.5
             },
             "pattern": {
              "fillmode": "overlay",
              "size": 10,
              "solidity": 0.2
             }
            },
            "type": "bar"
           }
          ],
          "barpolar": [
           {
            "marker": {
             "line": {
              "color": "#E5ECF6",
              "width": 0.5
             },
             "pattern": {
              "fillmode": "overlay",
              "size": 10,
              "solidity": 0.2
             }
            },
            "type": "barpolar"
           }
          ],
          "carpet": [
           {
            "aaxis": {
             "endlinecolor": "#2a3f5f",
             "gridcolor": "white",
             "linecolor": "white",
             "minorgridcolor": "white",
             "startlinecolor": "#2a3f5f"
            },
            "baxis": {
             "endlinecolor": "#2a3f5f",
             "gridcolor": "white",
             "linecolor": "white",
             "minorgridcolor": "white",
             "startlinecolor": "#2a3f5f"
            },
            "type": "carpet"
           }
          ],
          "choropleth": [
           {
            "colorbar": {
             "outlinewidth": 0,
             "ticks": ""
            },
            "type": "choropleth"
           }
          ],
          "contour": [
           {
            "colorbar": {
             "outlinewidth": 0,
             "ticks": ""
            },
            "colorscale": [
             [
              0,
              "#0d0887"
             ],
             [
              0.1111111111111111,
              "#46039f"
             ],
             [
              0.2222222222222222,
              "#7201a8"
             ],
             [
              0.3333333333333333,
              "#9c179e"
             ],
             [
              0.4444444444444444,
              "#bd3786"
             ],
             [
              0.5555555555555556,
              "#d8576b"
             ],
             [
              0.6666666666666666,
              "#ed7953"
             ],
             [
              0.7777777777777778,
              "#fb9f3a"
             ],
             [
              0.8888888888888888,
              "#fdca26"
             ],
             [
              1,
              "#f0f921"
             ]
            ],
            "type": "contour"
           }
          ],
          "contourcarpet": [
           {
            "colorbar": {
             "outlinewidth": 0,
             "ticks": ""
            },
            "type": "contourcarpet"
           }
          ],
          "heatmap": [
           {
            "colorbar": {
             "outlinewidth": 0,
             "ticks": ""
            },
            "colorscale": [
             [
              0,
              "#0d0887"
             ],
             [
              0.1111111111111111,
              "#46039f"
             ],
             [
              0.2222222222222222,
              "#7201a8"
             ],
             [
              0.3333333333333333,
              "#9c179e"
             ],
             [
              0.4444444444444444,
              "#bd3786"
             ],
             [
              0.5555555555555556,
              "#d8576b"
             ],
             [
              0.6666666666666666,
              "#ed7953"
             ],
             [
              0.7777777777777778,
              "#fb9f3a"
             ],
             [
              0.8888888888888888,
              "#fdca26"
             ],
             [
              1,
              "#f0f921"
             ]
            ],
            "type": "heatmap"
           }
          ],
          "heatmapgl": [
           {
            "colorbar": {
             "outlinewidth": 0,
             "ticks": ""
            },
            "colorscale": [
             [
              0,
              "#0d0887"
             ],
             [
              0.1111111111111111,
              "#46039f"
             ],
             [
              0.2222222222222222,
              "#7201a8"
             ],
             [
              0.3333333333333333,
              "#9c179e"
             ],
             [
              0.4444444444444444,
              "#bd3786"
             ],
             [
              0.5555555555555556,
              "#d8576b"
             ],
             [
              0.6666666666666666,
              "#ed7953"
             ],
             [
              0.7777777777777778,
              "#fb9f3a"
             ],
             [
              0.8888888888888888,
              "#fdca26"
             ],
             [
              1,
              "#f0f921"
             ]
            ],
            "type": "heatmapgl"
           }
          ],
          "histogram": [
           {
            "marker": {
             "pattern": {
              "fillmode": "overlay",
              "size": 10,
              "solidity": 0.2
             }
            },
            "type": "histogram"
           }
          ],
          "histogram2d": [
           {
            "colorbar": {
             "outlinewidth": 0,
             "ticks": ""
            },
            "colorscale": [
             [
              0,
              "#0d0887"
             ],
             [
              0.1111111111111111,
              "#46039f"
             ],
             [
              0.2222222222222222,
              "#7201a8"
             ],
             [
              0.3333333333333333,
              "#9c179e"
             ],
             [
              0.4444444444444444,
              "#bd3786"
             ],
             [
              0.5555555555555556,
              "#d8576b"
             ],
             [
              0.6666666666666666,
              "#ed7953"
             ],
             [
              0.7777777777777778,
              "#fb9f3a"
             ],
             [
              0.8888888888888888,
              "#fdca26"
             ],
             [
              1,
              "#f0f921"
             ]
            ],
            "type": "histogram2d"
           }
          ],
          "histogram2dcontour": [
           {
            "colorbar": {
             "outlinewidth": 0,
             "ticks": ""
            },
            "colorscale": [
             [
              0,
              "#0d0887"
             ],
             [
              0.1111111111111111,
              "#46039f"
             ],
             [
              0.2222222222222222,
              "#7201a8"
             ],
             [
              0.3333333333333333,
              "#9c179e"
             ],
             [
              0.4444444444444444,
              "#bd3786"
             ],
             [
              0.5555555555555556,
              "#d8576b"
             ],
             [
              0.6666666666666666,
              "#ed7953"
             ],
             [
              0.7777777777777778,
              "#fb9f3a"
             ],
             [
              0.8888888888888888,
              "#fdca26"
             ],
             [
              1,
              "#f0f921"
             ]
            ],
            "type": "histogram2dcontour"
           }
          ],
          "mesh3d": [
           {
            "colorbar": {
             "outlinewidth": 0,
             "ticks": ""
            },
            "type": "mesh3d"
           }
          ],
          "parcoords": [
           {
            "line": {
             "colorbar": {
              "outlinewidth": 0,
              "ticks": ""
             }
            },
            "type": "parcoords"
           }
          ],
          "pie": [
           {
            "automargin": true,
            "type": "pie"
           }
          ],
          "scatter": [
           {
            "marker": {
             "colorbar": {
              "outlinewidth": 0,
              "ticks": ""
             }
            },
            "type": "scatter"
           }
          ],
          "scatter3d": [
           {
            "line": {
             "colorbar": {
              "outlinewidth": 0,
              "ticks": ""
             }
            },
            "marker": {
             "colorbar": {
              "outlinewidth": 0,
              "ticks": ""
             }
            },
            "type": "scatter3d"
           }
          ],
          "scattercarpet": [
           {
            "marker": {
             "colorbar": {
              "outlinewidth": 0,
              "ticks": ""
             }
            },
            "type": "scattercarpet"
           }
          ],
          "scattergeo": [
           {
            "marker": {
             "colorbar": {
              "outlinewidth": 0,
              "ticks": ""
             }
            },
            "type": "scattergeo"
           }
          ],
          "scattergl": [
           {
            "marker": {
             "colorbar": {
              "outlinewidth": 0,
              "ticks": ""
             }
            },
            "type": "scattergl"
           }
          ],
          "scattermapbox": [
           {
            "marker": {
             "colorbar": {
              "outlinewidth": 0,
              "ticks": ""
             }
            },
            "type": "scattermapbox"
           }
          ],
          "scatterpolar": [
           {
            "marker": {
             "colorbar": {
              "outlinewidth": 0,
              "ticks": ""
             }
            },
            "type": "scatterpolar"
           }
          ],
          "scatterpolargl": [
           {
            "marker": {
             "colorbar": {
              "outlinewidth": 0,
              "ticks": ""
             }
            },
            "type": "scatterpolargl"
           }
          ],
          "scatterternary": [
           {
            "marker": {
             "colorbar": {
              "outlinewidth": 0,
              "ticks": ""
             }
            },
            "type": "scatterternary"
           }
          ],
          "surface": [
           {
            "colorbar": {
             "outlinewidth": 0,
             "ticks": ""
            },
            "colorscale": [
             [
              0,
              "#0d0887"
             ],
             [
              0.1111111111111111,
              "#46039f"
             ],
             [
              0.2222222222222222,
              "#7201a8"
             ],
             [
              0.3333333333333333,
              "#9c179e"
             ],
             [
              0.4444444444444444,
              "#bd3786"
             ],
             [
              0.5555555555555556,
              "#d8576b"
             ],
             [
              0.6666666666666666,
              "#ed7953"
             ],
             [
              0.7777777777777778,
              "#fb9f3a"
             ],
             [
              0.8888888888888888,
              "#fdca26"
             ],
             [
              1,
              "#f0f921"
             ]
            ],
            "type": "surface"
           }
          ],
          "table": [
           {
            "cells": {
             "fill": {
              "color": "#EBF0F8"
             },
             "line": {
              "color": "white"
             }
            },
            "header": {
             "fill": {
              "color": "#C8D4E3"
             },
             "line": {
              "color": "white"
             }
            },
            "type": "table"
           }
          ]
         },
         "layout": {
          "annotationdefaults": {
           "arrowcolor": "#2a3f5f",
           "arrowhead": 0,
           "arrowwidth": 1
          },
          "autotypenumbers": "strict",
          "coloraxis": {
           "colorbar": {
            "outlinewidth": 0,
            "ticks": ""
           }
          },
          "colorscale": {
           "diverging": [
            [
             0,
             "#8e0152"
            ],
            [
             0.1,
             "#c51b7d"
            ],
            [
             0.2,
             "#de77ae"
            ],
            [
             0.3,
             "#f1b6da"
            ],
            [
             0.4,
             "#fde0ef"
            ],
            [
             0.5,
             "#f7f7f7"
            ],
            [
             0.6,
             "#e6f5d0"
            ],
            [
             0.7,
             "#b8e186"
            ],
            [
             0.8,
             "#7fbc41"
            ],
            [
             0.9,
             "#4d9221"
            ],
            [
             1,
             "#276419"
            ]
           ],
           "sequential": [
            [
             0,
             "#0d0887"
            ],
            [
             0.1111111111111111,
             "#46039f"
            ],
            [
             0.2222222222222222,
             "#7201a8"
            ],
            [
             0.3333333333333333,
             "#9c179e"
            ],
            [
             0.4444444444444444,
             "#bd3786"
            ],
            [
             0.5555555555555556,
             "#d8576b"
            ],
            [
             0.6666666666666666,
             "#ed7953"
            ],
            [
             0.7777777777777778,
             "#fb9f3a"
            ],
            [
             0.8888888888888888,
             "#fdca26"
            ],
            [
             1,
             "#f0f921"
            ]
           ],
           "sequentialminus": [
            [
             0,
             "#0d0887"
            ],
            [
             0.1111111111111111,
             "#46039f"
            ],
            [
             0.2222222222222222,
             "#7201a8"
            ],
            [
             0.3333333333333333,
             "#9c179e"
            ],
            [
             0.4444444444444444,
             "#bd3786"
            ],
            [
             0.5555555555555556,
             "#d8576b"
            ],
            [
             0.6666666666666666,
             "#ed7953"
            ],
            [
             0.7777777777777778,
             "#fb9f3a"
            ],
            [
             0.8888888888888888,
             "#fdca26"
            ],
            [
             1,
             "#f0f921"
            ]
           ]
          },
          "colorway": [
           "#636efa",
           "#EF553B",
           "#00cc96",
           "#ab63fa",
           "#FFA15A",
           "#19d3f3",
           "#FF6692",
           "#B6E880",
           "#FF97FF",
           "#FECB52"
          ],
          "font": {
           "color": "#2a3f5f"
          },
          "geo": {
           "bgcolor": "white",
           "lakecolor": "white",
           "landcolor": "#E5ECF6",
           "showlakes": true,
           "showland": true,
           "subunitcolor": "white"
          },
          "hoverlabel": {
           "align": "left"
          },
          "hovermode": "closest",
          "mapbox": {
           "style": "light"
          },
          "paper_bgcolor": "white",
          "plot_bgcolor": "#E5ECF6",
          "polar": {
           "angularaxis": {
            "gridcolor": "white",
            "linecolor": "white",
            "ticks": ""
           },
           "bgcolor": "#E5ECF6",
           "radialaxis": {
            "gridcolor": "white",
            "linecolor": "white",
            "ticks": ""
           }
          },
          "scene": {
           "xaxis": {
            "backgroundcolor": "#E5ECF6",
            "gridcolor": "white",
            "gridwidth": 2,
            "linecolor": "white",
            "showbackground": true,
            "ticks": "",
            "zerolinecolor": "white"
           },
           "yaxis": {
            "backgroundcolor": "#E5ECF6",
            "gridcolor": "white",
            "gridwidth": 2,
            "linecolor": "white",
            "showbackground": true,
            "ticks": "",
            "zerolinecolor": "white"
           },
           "zaxis": {
            "backgroundcolor": "#E5ECF6",
            "gridcolor": "white",
            "gridwidth": 2,
            "linecolor": "white",
            "showbackground": true,
            "ticks": "",
            "zerolinecolor": "white"
           }
          },
          "shapedefaults": {
           "line": {
            "color": "#2a3f5f"
           }
          },
          "ternary": {
           "aaxis": {
            "gridcolor": "white",
            "linecolor": "white",
            "ticks": ""
           },
           "baxis": {
            "gridcolor": "white",
            "linecolor": "white",
            "ticks": ""
           },
           "bgcolor": "#E5ECF6",
           "caxis": {
            "gridcolor": "white",
            "linecolor": "white",
            "ticks": ""
           }
          },
          "title": {
           "x": 0.05
          },
          "xaxis": {
           "automargin": true,
           "gridcolor": "white",
           "linecolor": "white",
           "ticks": "",
           "title": {
            "standoff": 15
           },
           "zerolinecolor": "white",
           "zerolinewidth": 2
          },
          "yaxis": {
           "automargin": true,
           "gridcolor": "white",
           "linecolor": "white",
           "ticks": "",
           "title": {
            "standoff": 15
           },
           "zerolinecolor": "white",
           "zerolinewidth": 2
          }
         }
        }
       }
      }
     },
     "metadata": {},
     "output_type": "display_data"
    }
   ],
   "source": [
    "specs = [[{'type':'domain'}, {'type':'domain'}], [{'type':'domain'}, {'type':'domain'}]]\n",
    "fig = make_subplots(rows=2, cols=2, specs = specs, \n",
    "subplot_titles=['New Cases', 'New Deaths', 'New Recovered', 'Active Cases'])\n",
    "\n",
    "fig.add_trace(go.Pie(labels=piechart_plots['Continent'], values=piechart_plots['NewCases']), 1, 1)\n",
    "fig.add_trace(go.Pie(labels=piechart_plots['Continent'], values=piechart_plots['NewDeaths']), 1, 2)\n",
    "\n",
    "fig.add_trace(go.Pie(labels=piechart_plots['Continent'], values=piechart_plots['NewRecovered']), 2, 1)\n",
    "fig.add_trace(go.Pie(labels=piechart_plots['Continent'], values=piechart_plots['ActiveCases']), 2, 2)"
   ]
  },
  {
   "cell_type": "markdown",
   "metadata": {},
   "source": [
    "---"
   ]
  },
  {
   "cell_type": "markdown",
   "metadata": {},
   "source": [
    "### Line Chart"
   ]
  },
  {
   "cell_type": "markdown",
   "metadata": {},
   "source": [
    "Linechart để trực quan theo thời gian 3 thông số NEW (cases/deaths/recovered) trên toàn bộ thế giới."
   ]
  },
  {
   "cell_type": "code",
   "execution_count": 82,
   "metadata": {},
   "outputs": [],
   "source": [
    "linechart_plots = df_covid_time[['Date','NewCases','NewDeaths','NewRecovered']]"
   ]
  },
  {
   "cell_type": "code",
   "execution_count": 83,
   "metadata": {},
   "outputs": [
    {
     "data": {
      "text/html": [
       "<div>\n",
       "<style scoped>\n",
       "    .dataframe tbody tr th:only-of-type {\n",
       "        vertical-align: middle;\n",
       "    }\n",
       "\n",
       "    .dataframe tbody tr th {\n",
       "        vertical-align: top;\n",
       "    }\n",
       "\n",
       "    .dataframe thead th {\n",
       "        text-align: right;\n",
       "    }\n",
       "</style>\n",
       "<table border=\"1\" class=\"dataframe\">\n",
       "  <thead>\n",
       "    <tr style=\"text-align: right;\">\n",
       "      <th></th>\n",
       "      <th>Date</th>\n",
       "      <th>NewCases</th>\n",
       "      <th>NewDeaths</th>\n",
       "      <th>NewRecovered</th>\n",
       "    </tr>\n",
       "  </thead>\n",
       "  <tbody>\n",
       "    <tr>\n",
       "      <th>0</th>\n",
       "      <td>2022-02-28</td>\n",
       "      <td>1128262</td>\n",
       "      <td>6045</td>\n",
       "      <td>2154754</td>\n",
       "    </tr>\n",
       "    <tr>\n",
       "      <th>1</th>\n",
       "      <td>2022-03-01</td>\n",
       "      <td>1337398</td>\n",
       "      <td>6813</td>\n",
       "      <td>2074376</td>\n",
       "    </tr>\n",
       "    <tr>\n",
       "      <th>2</th>\n",
       "      <td>2022-03-02</td>\n",
       "      <td>1590173</td>\n",
       "      <td>7756</td>\n",
       "      <td>1939726</td>\n",
       "    </tr>\n",
       "    <tr>\n",
       "      <th>3</th>\n",
       "      <td>2022-03-03</td>\n",
       "      <td>1599844</td>\n",
       "      <td>7872</td>\n",
       "      <td>1942866</td>\n",
       "    </tr>\n",
       "    <tr>\n",
       "      <th>4</th>\n",
       "      <td>2022-03-04</td>\n",
       "      <td>1646436</td>\n",
       "      <td>8022</td>\n",
       "      <td>1751635</td>\n",
       "    </tr>\n",
       "    <tr>\n",
       "      <th>5</th>\n",
       "      <td>2022-03-05</td>\n",
       "      <td>1371131</td>\n",
       "      <td>5651</td>\n",
       "      <td>1407925</td>\n",
       "    </tr>\n",
       "    <tr>\n",
       "      <th>6</th>\n",
       "      <td>2022-03-06</td>\n",
       "      <td>1158654</td>\n",
       "      <td>4135</td>\n",
       "      <td>1328479</td>\n",
       "    </tr>\n",
       "    <tr>\n",
       "      <th>7</th>\n",
       "      <td>2022-03-07</td>\n",
       "      <td>1216094</td>\n",
       "      <td>4912</td>\n",
       "      <td>1799427</td>\n",
       "    </tr>\n",
       "    <tr>\n",
       "      <th>8</th>\n",
       "      <td>2022-03-08</td>\n",
       "      <td>1622156</td>\n",
       "      <td>6945</td>\n",
       "      <td>1926545</td>\n",
       "    </tr>\n",
       "    <tr>\n",
       "      <th>9</th>\n",
       "      <td>2022-03-09</td>\n",
       "      <td>1699924</td>\n",
       "      <td>6811</td>\n",
       "      <td>1643000</td>\n",
       "    </tr>\n",
       "    <tr>\n",
       "      <th>10</th>\n",
       "      <td>2022-03-10</td>\n",
       "      <td>1799907</td>\n",
       "      <td>6687</td>\n",
       "      <td>1733676</td>\n",
       "    </tr>\n",
       "    <tr>\n",
       "      <th>11</th>\n",
       "      <td>2022-03-11</td>\n",
       "      <td>1695445</td>\n",
       "      <td>6002</td>\n",
       "      <td>1463256</td>\n",
       "    </tr>\n",
       "  </tbody>\n",
       "</table>\n",
       "</div>"
      ],
      "text/plain": [
       "         Date  NewCases  NewDeaths  NewRecovered\n",
       "0  2022-02-28   1128262       6045       2154754\n",
       "1  2022-03-01   1337398       6813       2074376\n",
       "2  2022-03-02   1590173       7756       1939726\n",
       "3  2022-03-03   1599844       7872       1942866\n",
       "4  2022-03-04   1646436       8022       1751635\n",
       "5  2022-03-05   1371131       5651       1407925\n",
       "6  2022-03-06   1158654       4135       1328479\n",
       "7  2022-03-07   1216094       4912       1799427\n",
       "8  2022-03-08   1622156       6945       1926545\n",
       "9  2022-03-09   1699924       6811       1643000\n",
       "10 2022-03-10   1799907       6687       1733676\n",
       "11 2022-03-11   1695445       6002       1463256"
      ]
     },
     "execution_count": 83,
     "metadata": {},
     "output_type": "execute_result"
    }
   ],
   "source": [
    "linechart_plots"
   ]
  },
  {
   "cell_type": "code",
   "execution_count": 84,
   "metadata": {},
   "outputs": [
    {
     "data": {
      "application/vnd.plotly.v1+json": {
       "config": {
        "plotlyServerURL": "https://plot.ly"
       },
       "data": [
        {
         "hovertemplate": "variable=NewCases<br>Date=%{x}<br>value=%{y}<extra></extra>",
         "legendgroup": "NewCases",
         "line": {
          "color": "#636efa",
          "dash": "solid"
         },
         "marker": {
          "symbol": "circle"
         },
         "mode": "markers+lines",
         "name": "NewCases",
         "orientation": "v",
         "showlegend": true,
         "type": "scatter",
         "x": [
          "2022-02-28T00:00:00",
          "2022-03-01T00:00:00",
          "2022-03-02T00:00:00",
          "2022-03-03T00:00:00",
          "2022-03-04T00:00:00",
          "2022-03-05T00:00:00",
          "2022-03-06T00:00:00",
          "2022-03-07T00:00:00",
          "2022-03-08T00:00:00",
          "2022-03-09T00:00:00",
          "2022-03-10T00:00:00",
          "2022-03-11T00:00:00"
         ],
         "xaxis": "x",
         "y": [
          1128262,
          1337398,
          1590173,
          1599844,
          1646436,
          1371131,
          1158654,
          1216094,
          1622156,
          1699924,
          1799907,
          1695445
         ],
         "yaxis": "y"
        },
        {
         "hovertemplate": "variable=NewDeaths<br>Date=%{x}<br>value=%{y}<extra></extra>",
         "legendgroup": "NewDeaths",
         "line": {
          "color": "#EF553B",
          "dash": "solid"
         },
         "marker": {
          "symbol": "circle"
         },
         "mode": "markers+lines",
         "name": "NewDeaths",
         "orientation": "v",
         "showlegend": true,
         "type": "scatter",
         "x": [
          "2022-02-28T00:00:00",
          "2022-03-01T00:00:00",
          "2022-03-02T00:00:00",
          "2022-03-03T00:00:00",
          "2022-03-04T00:00:00",
          "2022-03-05T00:00:00",
          "2022-03-06T00:00:00",
          "2022-03-07T00:00:00",
          "2022-03-08T00:00:00",
          "2022-03-09T00:00:00",
          "2022-03-10T00:00:00",
          "2022-03-11T00:00:00"
         ],
         "xaxis": "x",
         "y": [
          6045,
          6813,
          7756,
          7872,
          8022,
          5651,
          4135,
          4912,
          6945,
          6811,
          6687,
          6002
         ],
         "yaxis": "y"
        },
        {
         "hovertemplate": "variable=NewRecovered<br>Date=%{x}<br>value=%{y}<extra></extra>",
         "legendgroup": "NewRecovered",
         "line": {
          "color": "#00cc96",
          "dash": "solid"
         },
         "marker": {
          "symbol": "circle"
         },
         "mode": "markers+lines",
         "name": "NewRecovered",
         "orientation": "v",
         "showlegend": true,
         "type": "scatter",
         "x": [
          "2022-02-28T00:00:00",
          "2022-03-01T00:00:00",
          "2022-03-02T00:00:00",
          "2022-03-03T00:00:00",
          "2022-03-04T00:00:00",
          "2022-03-05T00:00:00",
          "2022-03-06T00:00:00",
          "2022-03-07T00:00:00",
          "2022-03-08T00:00:00",
          "2022-03-09T00:00:00",
          "2022-03-10T00:00:00",
          "2022-03-11T00:00:00"
         ],
         "xaxis": "x",
         "y": [
          2154754,
          2074376,
          1939726,
          1942866,
          1751635,
          1407925,
          1328479,
          1799427,
          1926545,
          1643000,
          1733676,
          1463256
         ],
         "yaxis": "y"
        }
       ],
       "layout": {
        "legend": {
         "title": {
          "text": "variable"
         },
         "tracegroupgap": 0
        },
        "template": {
         "data": {
          "bar": [
           {
            "error_x": {
             "color": "#2a3f5f"
            },
            "error_y": {
             "color": "#2a3f5f"
            },
            "marker": {
             "line": {
              "color": "#E5ECF6",
              "width": 0.5
             },
             "pattern": {
              "fillmode": "overlay",
              "size": 10,
              "solidity": 0.2
             }
            },
            "type": "bar"
           }
          ],
          "barpolar": [
           {
            "marker": {
             "line": {
              "color": "#E5ECF6",
              "width": 0.5
             },
             "pattern": {
              "fillmode": "overlay",
              "size": 10,
              "solidity": 0.2
             }
            },
            "type": "barpolar"
           }
          ],
          "carpet": [
           {
            "aaxis": {
             "endlinecolor": "#2a3f5f",
             "gridcolor": "white",
             "linecolor": "white",
             "minorgridcolor": "white",
             "startlinecolor": "#2a3f5f"
            },
            "baxis": {
             "endlinecolor": "#2a3f5f",
             "gridcolor": "white",
             "linecolor": "white",
             "minorgridcolor": "white",
             "startlinecolor": "#2a3f5f"
            },
            "type": "carpet"
           }
          ],
          "choropleth": [
           {
            "colorbar": {
             "outlinewidth": 0,
             "ticks": ""
            },
            "type": "choropleth"
           }
          ],
          "contour": [
           {
            "colorbar": {
             "outlinewidth": 0,
             "ticks": ""
            },
            "colorscale": [
             [
              0,
              "#0d0887"
             ],
             [
              0.1111111111111111,
              "#46039f"
             ],
             [
              0.2222222222222222,
              "#7201a8"
             ],
             [
              0.3333333333333333,
              "#9c179e"
             ],
             [
              0.4444444444444444,
              "#bd3786"
             ],
             [
              0.5555555555555556,
              "#d8576b"
             ],
             [
              0.6666666666666666,
              "#ed7953"
             ],
             [
              0.7777777777777778,
              "#fb9f3a"
             ],
             [
              0.8888888888888888,
              "#fdca26"
             ],
             [
              1,
              "#f0f921"
             ]
            ],
            "type": "contour"
           }
          ],
          "contourcarpet": [
           {
            "colorbar": {
             "outlinewidth": 0,
             "ticks": ""
            },
            "type": "contourcarpet"
           }
          ],
          "heatmap": [
           {
            "colorbar": {
             "outlinewidth": 0,
             "ticks": ""
            },
            "colorscale": [
             [
              0,
              "#0d0887"
             ],
             [
              0.1111111111111111,
              "#46039f"
             ],
             [
              0.2222222222222222,
              "#7201a8"
             ],
             [
              0.3333333333333333,
              "#9c179e"
             ],
             [
              0.4444444444444444,
              "#bd3786"
             ],
             [
              0.5555555555555556,
              "#d8576b"
             ],
             [
              0.6666666666666666,
              "#ed7953"
             ],
             [
              0.7777777777777778,
              "#fb9f3a"
             ],
             [
              0.8888888888888888,
              "#fdca26"
             ],
             [
              1,
              "#f0f921"
             ]
            ],
            "type": "heatmap"
           }
          ],
          "heatmapgl": [
           {
            "colorbar": {
             "outlinewidth": 0,
             "ticks": ""
            },
            "colorscale": [
             [
              0,
              "#0d0887"
             ],
             [
              0.1111111111111111,
              "#46039f"
             ],
             [
              0.2222222222222222,
              "#7201a8"
             ],
             [
              0.3333333333333333,
              "#9c179e"
             ],
             [
              0.4444444444444444,
              "#bd3786"
             ],
             [
              0.5555555555555556,
              "#d8576b"
             ],
             [
              0.6666666666666666,
              "#ed7953"
             ],
             [
              0.7777777777777778,
              "#fb9f3a"
             ],
             [
              0.8888888888888888,
              "#fdca26"
             ],
             [
              1,
              "#f0f921"
             ]
            ],
            "type": "heatmapgl"
           }
          ],
          "histogram": [
           {
            "marker": {
             "pattern": {
              "fillmode": "overlay",
              "size": 10,
              "solidity": 0.2
             }
            },
            "type": "histogram"
           }
          ],
          "histogram2d": [
           {
            "colorbar": {
             "outlinewidth": 0,
             "ticks": ""
            },
            "colorscale": [
             [
              0,
              "#0d0887"
             ],
             [
              0.1111111111111111,
              "#46039f"
             ],
             [
              0.2222222222222222,
              "#7201a8"
             ],
             [
              0.3333333333333333,
              "#9c179e"
             ],
             [
              0.4444444444444444,
              "#bd3786"
             ],
             [
              0.5555555555555556,
              "#d8576b"
             ],
             [
              0.6666666666666666,
              "#ed7953"
             ],
             [
              0.7777777777777778,
              "#fb9f3a"
             ],
             [
              0.8888888888888888,
              "#fdca26"
             ],
             [
              1,
              "#f0f921"
             ]
            ],
            "type": "histogram2d"
           }
          ],
          "histogram2dcontour": [
           {
            "colorbar": {
             "outlinewidth": 0,
             "ticks": ""
            },
            "colorscale": [
             [
              0,
              "#0d0887"
             ],
             [
              0.1111111111111111,
              "#46039f"
             ],
             [
              0.2222222222222222,
              "#7201a8"
             ],
             [
              0.3333333333333333,
              "#9c179e"
             ],
             [
              0.4444444444444444,
              "#bd3786"
             ],
             [
              0.5555555555555556,
              "#d8576b"
             ],
             [
              0.6666666666666666,
              "#ed7953"
             ],
             [
              0.7777777777777778,
              "#fb9f3a"
             ],
             [
              0.8888888888888888,
              "#fdca26"
             ],
             [
              1,
              "#f0f921"
             ]
            ],
            "type": "histogram2dcontour"
           }
          ],
          "mesh3d": [
           {
            "colorbar": {
             "outlinewidth": 0,
             "ticks": ""
            },
            "type": "mesh3d"
           }
          ],
          "parcoords": [
           {
            "line": {
             "colorbar": {
              "outlinewidth": 0,
              "ticks": ""
             }
            },
            "type": "parcoords"
           }
          ],
          "pie": [
           {
            "automargin": true,
            "type": "pie"
           }
          ],
          "scatter": [
           {
            "marker": {
             "colorbar": {
              "outlinewidth": 0,
              "ticks": ""
             }
            },
            "type": "scatter"
           }
          ],
          "scatter3d": [
           {
            "line": {
             "colorbar": {
              "outlinewidth": 0,
              "ticks": ""
             }
            },
            "marker": {
             "colorbar": {
              "outlinewidth": 0,
              "ticks": ""
             }
            },
            "type": "scatter3d"
           }
          ],
          "scattercarpet": [
           {
            "marker": {
             "colorbar": {
              "outlinewidth": 0,
              "ticks": ""
             }
            },
            "type": "scattercarpet"
           }
          ],
          "scattergeo": [
           {
            "marker": {
             "colorbar": {
              "outlinewidth": 0,
              "ticks": ""
             }
            },
            "type": "scattergeo"
           }
          ],
          "scattergl": [
           {
            "marker": {
             "colorbar": {
              "outlinewidth": 0,
              "ticks": ""
             }
            },
            "type": "scattergl"
           }
          ],
          "scattermapbox": [
           {
            "marker": {
             "colorbar": {
              "outlinewidth": 0,
              "ticks": ""
             }
            },
            "type": "scattermapbox"
           }
          ],
          "scatterpolar": [
           {
            "marker": {
             "colorbar": {
              "outlinewidth": 0,
              "ticks": ""
             }
            },
            "type": "scatterpolar"
           }
          ],
          "scatterpolargl": [
           {
            "marker": {
             "colorbar": {
              "outlinewidth": 0,
              "ticks": ""
             }
            },
            "type": "scatterpolargl"
           }
          ],
          "scatterternary": [
           {
            "marker": {
             "colorbar": {
              "outlinewidth": 0,
              "ticks": ""
             }
            },
            "type": "scatterternary"
           }
          ],
          "surface": [
           {
            "colorbar": {
             "outlinewidth": 0,
             "ticks": ""
            },
            "colorscale": [
             [
              0,
              "#0d0887"
             ],
             [
              0.1111111111111111,
              "#46039f"
             ],
             [
              0.2222222222222222,
              "#7201a8"
             ],
             [
              0.3333333333333333,
              "#9c179e"
             ],
             [
              0.4444444444444444,
              "#bd3786"
             ],
             [
              0.5555555555555556,
              "#d8576b"
             ],
             [
              0.6666666666666666,
              "#ed7953"
             ],
             [
              0.7777777777777778,
              "#fb9f3a"
             ],
             [
              0.8888888888888888,
              "#fdca26"
             ],
             [
              1,
              "#f0f921"
             ]
            ],
            "type": "surface"
           }
          ],
          "table": [
           {
            "cells": {
             "fill": {
              "color": "#EBF0F8"
             },
             "line": {
              "color": "white"
             }
            },
            "header": {
             "fill": {
              "color": "#C8D4E3"
             },
             "line": {
              "color": "white"
             }
            },
            "type": "table"
           }
          ]
         },
         "layout": {
          "annotationdefaults": {
           "arrowcolor": "#2a3f5f",
           "arrowhead": 0,
           "arrowwidth": 1
          },
          "autotypenumbers": "strict",
          "coloraxis": {
           "colorbar": {
            "outlinewidth": 0,
            "ticks": ""
           }
          },
          "colorscale": {
           "diverging": [
            [
             0,
             "#8e0152"
            ],
            [
             0.1,
             "#c51b7d"
            ],
            [
             0.2,
             "#de77ae"
            ],
            [
             0.3,
             "#f1b6da"
            ],
            [
             0.4,
             "#fde0ef"
            ],
            [
             0.5,
             "#f7f7f7"
            ],
            [
             0.6,
             "#e6f5d0"
            ],
            [
             0.7,
             "#b8e186"
            ],
            [
             0.8,
             "#7fbc41"
            ],
            [
             0.9,
             "#4d9221"
            ],
            [
             1,
             "#276419"
            ]
           ],
           "sequential": [
            [
             0,
             "#0d0887"
            ],
            [
             0.1111111111111111,
             "#46039f"
            ],
            [
             0.2222222222222222,
             "#7201a8"
            ],
            [
             0.3333333333333333,
             "#9c179e"
            ],
            [
             0.4444444444444444,
             "#bd3786"
            ],
            [
             0.5555555555555556,
             "#d8576b"
            ],
            [
             0.6666666666666666,
             "#ed7953"
            ],
            [
             0.7777777777777778,
             "#fb9f3a"
            ],
            [
             0.8888888888888888,
             "#fdca26"
            ],
            [
             1,
             "#f0f921"
            ]
           ],
           "sequentialminus": [
            [
             0,
             "#0d0887"
            ],
            [
             0.1111111111111111,
             "#46039f"
            ],
            [
             0.2222222222222222,
             "#7201a8"
            ],
            [
             0.3333333333333333,
             "#9c179e"
            ],
            [
             0.4444444444444444,
             "#bd3786"
            ],
            [
             0.5555555555555556,
             "#d8576b"
            ],
            [
             0.6666666666666666,
             "#ed7953"
            ],
            [
             0.7777777777777778,
             "#fb9f3a"
            ],
            [
             0.8888888888888888,
             "#fdca26"
            ],
            [
             1,
             "#f0f921"
            ]
           ]
          },
          "colorway": [
           "#636efa",
           "#EF553B",
           "#00cc96",
           "#ab63fa",
           "#FFA15A",
           "#19d3f3",
           "#FF6692",
           "#B6E880",
           "#FF97FF",
           "#FECB52"
          ],
          "font": {
           "color": "#2a3f5f"
          },
          "geo": {
           "bgcolor": "white",
           "lakecolor": "white",
           "landcolor": "#E5ECF6",
           "showlakes": true,
           "showland": true,
           "subunitcolor": "white"
          },
          "hoverlabel": {
           "align": "left"
          },
          "hovermode": "closest",
          "mapbox": {
           "style": "light"
          },
          "paper_bgcolor": "white",
          "plot_bgcolor": "#E5ECF6",
          "polar": {
           "angularaxis": {
            "gridcolor": "white",
            "linecolor": "white",
            "ticks": ""
           },
           "bgcolor": "#E5ECF6",
           "radialaxis": {
            "gridcolor": "white",
            "linecolor": "white",
            "ticks": ""
           }
          },
          "scene": {
           "xaxis": {
            "backgroundcolor": "#E5ECF6",
            "gridcolor": "white",
            "gridwidth": 2,
            "linecolor": "white",
            "showbackground": true,
            "ticks": "",
            "zerolinecolor": "white"
           },
           "yaxis": {
            "backgroundcolor": "#E5ECF6",
            "gridcolor": "white",
            "gridwidth": 2,
            "linecolor": "white",
            "showbackground": true,
            "ticks": "",
            "zerolinecolor": "white"
           },
           "zaxis": {
            "backgroundcolor": "#E5ECF6",
            "gridcolor": "white",
            "gridwidth": 2,
            "linecolor": "white",
            "showbackground": true,
            "ticks": "",
            "zerolinecolor": "white"
           }
          },
          "shapedefaults": {
           "line": {
            "color": "#2a3f5f"
           }
          },
          "ternary": {
           "aaxis": {
            "gridcolor": "white",
            "linecolor": "white",
            "ticks": ""
           },
           "baxis": {
            "gridcolor": "white",
            "linecolor": "white",
            "ticks": ""
           },
           "bgcolor": "#E5ECF6",
           "caxis": {
            "gridcolor": "white",
            "linecolor": "white",
            "ticks": ""
           }
          },
          "title": {
           "x": 0.05
          },
          "xaxis": {
           "automargin": true,
           "gridcolor": "white",
           "linecolor": "white",
           "ticks": "",
           "title": {
            "standoff": 15
           },
           "zerolinecolor": "white",
           "zerolinewidth": 2
          },
          "yaxis": {
           "automargin": true,
           "gridcolor": "white",
           "linecolor": "white",
           "ticks": "",
           "title": {
            "standoff": 15
           },
           "zerolinecolor": "white",
           "zerolinewidth": 2
          }
         }
        },
        "title": {
         "text": "World Overview"
        },
        "xaxis": {
         "anchor": "y",
         "domain": [
          0,
          1
         ],
         "title": {
          "text": "Date"
         }
        },
        "yaxis": {
         "anchor": "x",
         "domain": [
          0,
          1
         ],
         "title": {
          "text": "value"
         }
        }
       }
      }
     },
     "metadata": {},
     "output_type": "display_data"
    }
   ],
   "source": [
    "fig = px.line(linechart_plots, x=\"Date\", y=['NewCases', 'NewDeaths','NewRecovered'], markers = True, title=\"World Overview\") \n",
    "fig.show()"
   ]
  },
  {
   "cell_type": "markdown",
   "metadata": {},
   "source": [
    "Tiếp theo, ta chia từng châu lục theo thời gian với thông số giống với World."
   ]
  },
  {
   "cell_type": "code",
   "execution_count": 85,
   "metadata": {},
   "outputs": [],
   "source": [
    "continents = [\"Europe\",\"NorthAmerica\",\"Asia\",\"SouthAmerica\",\"Australia/Oceania\",\"Africa\"]\n",
    "df_covid_by_day_plots = df_covid_by_day[['Date','Continent','NewCases', 'NewDeaths','NewRecovered']]"
   ]
  },
  {
   "cell_type": "code",
   "execution_count": 86,
   "metadata": {},
   "outputs": [
    {
     "data": {
      "application/vnd.plotly.v1+json": {
       "config": {
        "plotlyServerURL": "https://plot.ly"
       },
       "data": [
        {
         "hovertemplate": "variable=NewCases<br>Date=%{x}<br>value=%{y}<extra></extra>",
         "legendgroup": "NewCases",
         "line": {
          "color": "#636efa",
          "dash": "solid"
         },
         "marker": {
          "symbol": "circle"
         },
         "mode": "markers+lines",
         "name": "NewCases",
         "orientation": "v",
         "showlegend": true,
         "type": "scatter",
         "x": [
          "2022-02-28T00:00:00",
          "2022-03-01T00:00:00",
          "2022-03-02T00:00:00",
          "2022-03-03T00:00:00",
          "2022-03-04T00:00:00",
          "2022-03-05T00:00:00",
          "2022-03-06T00:00:00",
          "2022-03-07T00:00:00",
          "2022-03-08T00:00:00",
          "2022-03-09T00:00:00",
          "2022-03-10T00:00:00",
          "2022-03-11T00:00:00"
         ],
         "xaxis": "x",
         "y": [
          438608,
          631745,
          730262,
          731256,
          720211,
          539851,
          429928,
          496107,
          777168,
          756033,
          842448,
          801055
         ],
         "yaxis": "y"
        },
        {
         "hovertemplate": "variable=NewDeaths<br>Date=%{x}<br>value=%{y}<extra></extra>",
         "legendgroup": "NewDeaths",
         "line": {
          "color": "#EF553B",
          "dash": "solid"
         },
         "marker": {
          "symbol": "circle"
         },
         "mode": "markers+lines",
         "name": "NewDeaths",
         "orientation": "v",
         "showlegend": true,
         "type": "scatter",
         "x": [
          "2022-02-28T00:00:00",
          "2022-03-01T00:00:00",
          "2022-03-02T00:00:00",
          "2022-03-03T00:00:00",
          "2022-03-04T00:00:00",
          "2022-03-05T00:00:00",
          "2022-03-06T00:00:00",
          "2022-03-07T00:00:00",
          "2022-03-08T00:00:00",
          "2022-03-09T00:00:00",
          "2022-03-10T00:00:00",
          "2022-03-11T00:00:00"
         ],
         "xaxis": "x",
         "y": [
          2269,
          2651,
          2628,
          2628,
          2552,
          1888,
          1268,
          1932,
          2982,
          2311,
          2153,
          2147
         ],
         "yaxis": "y"
        },
        {
         "hovertemplate": "variable=NewRecovered<br>Date=%{x}<br>value=%{y}<extra></extra>",
         "legendgroup": "NewRecovered",
         "line": {
          "color": "#00cc96",
          "dash": "solid"
         },
         "marker": {
          "symbol": "circle"
         },
         "mode": "markers+lines",
         "name": "NewRecovered",
         "orientation": "v",
         "showlegend": true,
         "type": "scatter",
         "x": [
          "2022-02-28T00:00:00",
          "2022-03-01T00:00:00",
          "2022-03-02T00:00:00",
          "2022-03-03T00:00:00",
          "2022-03-04T00:00:00",
          "2022-03-05T00:00:00",
          "2022-03-06T00:00:00",
          "2022-03-07T00:00:00",
          "2022-03-08T00:00:00",
          "2022-03-09T00:00:00",
          "2022-03-10T00:00:00",
          "2022-03-11T00:00:00"
         ],
         "xaxis": "x",
         "y": [
          1195673,
          1207050,
          1082923,
          1082923,
          962173,
          719040,
          637883,
          968520,
          1002120,
          837165,
          1033432,
          840095
         ],
         "yaxis": "y"
        }
       ],
       "layout": {
        "legend": {
         "title": {
          "text": "variable"
         },
         "tracegroupgap": 0
        },
        "template": {
         "data": {
          "bar": [
           {
            "error_x": {
             "color": "#2a3f5f"
            },
            "error_y": {
             "color": "#2a3f5f"
            },
            "marker": {
             "line": {
              "color": "#E5ECF6",
              "width": 0.5
             },
             "pattern": {
              "fillmode": "overlay",
              "size": 10,
              "solidity": 0.2
             }
            },
            "type": "bar"
           }
          ],
          "barpolar": [
           {
            "marker": {
             "line": {
              "color": "#E5ECF6",
              "width": 0.5
             },
             "pattern": {
              "fillmode": "overlay",
              "size": 10,
              "solidity": 0.2
             }
            },
            "type": "barpolar"
           }
          ],
          "carpet": [
           {
            "aaxis": {
             "endlinecolor": "#2a3f5f",
             "gridcolor": "white",
             "linecolor": "white",
             "minorgridcolor": "white",
             "startlinecolor": "#2a3f5f"
            },
            "baxis": {
             "endlinecolor": "#2a3f5f",
             "gridcolor": "white",
             "linecolor": "white",
             "minorgridcolor": "white",
             "startlinecolor": "#2a3f5f"
            },
            "type": "carpet"
           }
          ],
          "choropleth": [
           {
            "colorbar": {
             "outlinewidth": 0,
             "ticks": ""
            },
            "type": "choropleth"
           }
          ],
          "contour": [
           {
            "colorbar": {
             "outlinewidth": 0,
             "ticks": ""
            },
            "colorscale": [
             [
              0,
              "#0d0887"
             ],
             [
              0.1111111111111111,
              "#46039f"
             ],
             [
              0.2222222222222222,
              "#7201a8"
             ],
             [
              0.3333333333333333,
              "#9c179e"
             ],
             [
              0.4444444444444444,
              "#bd3786"
             ],
             [
              0.5555555555555556,
              "#d8576b"
             ],
             [
              0.6666666666666666,
              "#ed7953"
             ],
             [
              0.7777777777777778,
              "#fb9f3a"
             ],
             [
              0.8888888888888888,
              "#fdca26"
             ],
             [
              1,
              "#f0f921"
             ]
            ],
            "type": "contour"
           }
          ],
          "contourcarpet": [
           {
            "colorbar": {
             "outlinewidth": 0,
             "ticks": ""
            },
            "type": "contourcarpet"
           }
          ],
          "heatmap": [
           {
            "colorbar": {
             "outlinewidth": 0,
             "ticks": ""
            },
            "colorscale": [
             [
              0,
              "#0d0887"
             ],
             [
              0.1111111111111111,
              "#46039f"
             ],
             [
              0.2222222222222222,
              "#7201a8"
             ],
             [
              0.3333333333333333,
              "#9c179e"
             ],
             [
              0.4444444444444444,
              "#bd3786"
             ],
             [
              0.5555555555555556,
              "#d8576b"
             ],
             [
              0.6666666666666666,
              "#ed7953"
             ],
             [
              0.7777777777777778,
              "#fb9f3a"
             ],
             [
              0.8888888888888888,
              "#fdca26"
             ],
             [
              1,
              "#f0f921"
             ]
            ],
            "type": "heatmap"
           }
          ],
          "heatmapgl": [
           {
            "colorbar": {
             "outlinewidth": 0,
             "ticks": ""
            },
            "colorscale": [
             [
              0,
              "#0d0887"
             ],
             [
              0.1111111111111111,
              "#46039f"
             ],
             [
              0.2222222222222222,
              "#7201a8"
             ],
             [
              0.3333333333333333,
              "#9c179e"
             ],
             [
              0.4444444444444444,
              "#bd3786"
             ],
             [
              0.5555555555555556,
              "#d8576b"
             ],
             [
              0.6666666666666666,
              "#ed7953"
             ],
             [
              0.7777777777777778,
              "#fb9f3a"
             ],
             [
              0.8888888888888888,
              "#fdca26"
             ],
             [
              1,
              "#f0f921"
             ]
            ],
            "type": "heatmapgl"
           }
          ],
          "histogram": [
           {
            "marker": {
             "pattern": {
              "fillmode": "overlay",
              "size": 10,
              "solidity": 0.2
             }
            },
            "type": "histogram"
           }
          ],
          "histogram2d": [
           {
            "colorbar": {
             "outlinewidth": 0,
             "ticks": ""
            },
            "colorscale": [
             [
              0,
              "#0d0887"
             ],
             [
              0.1111111111111111,
              "#46039f"
             ],
             [
              0.2222222222222222,
              "#7201a8"
             ],
             [
              0.3333333333333333,
              "#9c179e"
             ],
             [
              0.4444444444444444,
              "#bd3786"
             ],
             [
              0.5555555555555556,
              "#d8576b"
             ],
             [
              0.6666666666666666,
              "#ed7953"
             ],
             [
              0.7777777777777778,
              "#fb9f3a"
             ],
             [
              0.8888888888888888,
              "#fdca26"
             ],
             [
              1,
              "#f0f921"
             ]
            ],
            "type": "histogram2d"
           }
          ],
          "histogram2dcontour": [
           {
            "colorbar": {
             "outlinewidth": 0,
             "ticks": ""
            },
            "colorscale": [
             [
              0,
              "#0d0887"
             ],
             [
              0.1111111111111111,
              "#46039f"
             ],
             [
              0.2222222222222222,
              "#7201a8"
             ],
             [
              0.3333333333333333,
              "#9c179e"
             ],
             [
              0.4444444444444444,
              "#bd3786"
             ],
             [
              0.5555555555555556,
              "#d8576b"
             ],
             [
              0.6666666666666666,
              "#ed7953"
             ],
             [
              0.7777777777777778,
              "#fb9f3a"
             ],
             [
              0.8888888888888888,
              "#fdca26"
             ],
             [
              1,
              "#f0f921"
             ]
            ],
            "type": "histogram2dcontour"
           }
          ],
          "mesh3d": [
           {
            "colorbar": {
             "outlinewidth": 0,
             "ticks": ""
            },
            "type": "mesh3d"
           }
          ],
          "parcoords": [
           {
            "line": {
             "colorbar": {
              "outlinewidth": 0,
              "ticks": ""
             }
            },
            "type": "parcoords"
           }
          ],
          "pie": [
           {
            "automargin": true,
            "type": "pie"
           }
          ],
          "scatter": [
           {
            "marker": {
             "colorbar": {
              "outlinewidth": 0,
              "ticks": ""
             }
            },
            "type": "scatter"
           }
          ],
          "scatter3d": [
           {
            "line": {
             "colorbar": {
              "outlinewidth": 0,
              "ticks": ""
             }
            },
            "marker": {
             "colorbar": {
              "outlinewidth": 0,
              "ticks": ""
             }
            },
            "type": "scatter3d"
           }
          ],
          "scattercarpet": [
           {
            "marker": {
             "colorbar": {
              "outlinewidth": 0,
              "ticks": ""
             }
            },
            "type": "scattercarpet"
           }
          ],
          "scattergeo": [
           {
            "marker": {
             "colorbar": {
              "outlinewidth": 0,
              "ticks": ""
             }
            },
            "type": "scattergeo"
           }
          ],
          "scattergl": [
           {
            "marker": {
             "colorbar": {
              "outlinewidth": 0,
              "ticks": ""
             }
            },
            "type": "scattergl"
           }
          ],
          "scattermapbox": [
           {
            "marker": {
             "colorbar": {
              "outlinewidth": 0,
              "ticks": ""
             }
            },
            "type": "scattermapbox"
           }
          ],
          "scatterpolar": [
           {
            "marker": {
             "colorbar": {
              "outlinewidth": 0,
              "ticks": ""
             }
            },
            "type": "scatterpolar"
           }
          ],
          "scatterpolargl": [
           {
            "marker": {
             "colorbar": {
              "outlinewidth": 0,
              "ticks": ""
             }
            },
            "type": "scatterpolargl"
           }
          ],
          "scatterternary": [
           {
            "marker": {
             "colorbar": {
              "outlinewidth": 0,
              "ticks": ""
             }
            },
            "type": "scatterternary"
           }
          ],
          "surface": [
           {
            "colorbar": {
             "outlinewidth": 0,
             "ticks": ""
            },
            "colorscale": [
             [
              0,
              "#0d0887"
             ],
             [
              0.1111111111111111,
              "#46039f"
             ],
             [
              0.2222222222222222,
              "#7201a8"
             ],
             [
              0.3333333333333333,
              "#9c179e"
             ],
             [
              0.4444444444444444,
              "#bd3786"
             ],
             [
              0.5555555555555556,
              "#d8576b"
             ],
             [
              0.6666666666666666,
              "#ed7953"
             ],
             [
              0.7777777777777778,
              "#fb9f3a"
             ],
             [
              0.8888888888888888,
              "#fdca26"
             ],
             [
              1,
              "#f0f921"
             ]
            ],
            "type": "surface"
           }
          ],
          "table": [
           {
            "cells": {
             "fill": {
              "color": "#EBF0F8"
             },
             "line": {
              "color": "white"
             }
            },
            "header": {
             "fill": {
              "color": "#C8D4E3"
             },
             "line": {
              "color": "white"
             }
            },
            "type": "table"
           }
          ]
         },
         "layout": {
          "annotationdefaults": {
           "arrowcolor": "#2a3f5f",
           "arrowhead": 0,
           "arrowwidth": 1
          },
          "autotypenumbers": "strict",
          "coloraxis": {
           "colorbar": {
            "outlinewidth": 0,
            "ticks": ""
           }
          },
          "colorscale": {
           "diverging": [
            [
             0,
             "#8e0152"
            ],
            [
             0.1,
             "#c51b7d"
            ],
            [
             0.2,
             "#de77ae"
            ],
            [
             0.3,
             "#f1b6da"
            ],
            [
             0.4,
             "#fde0ef"
            ],
            [
             0.5,
             "#f7f7f7"
            ],
            [
             0.6,
             "#e6f5d0"
            ],
            [
             0.7,
             "#b8e186"
            ],
            [
             0.8,
             "#7fbc41"
            ],
            [
             0.9,
             "#4d9221"
            ],
            [
             1,
             "#276419"
            ]
           ],
           "sequential": [
            [
             0,
             "#0d0887"
            ],
            [
             0.1111111111111111,
             "#46039f"
            ],
            [
             0.2222222222222222,
             "#7201a8"
            ],
            [
             0.3333333333333333,
             "#9c179e"
            ],
            [
             0.4444444444444444,
             "#bd3786"
            ],
            [
             0.5555555555555556,
             "#d8576b"
            ],
            [
             0.6666666666666666,
             "#ed7953"
            ],
            [
             0.7777777777777778,
             "#fb9f3a"
            ],
            [
             0.8888888888888888,
             "#fdca26"
            ],
            [
             1,
             "#f0f921"
            ]
           ],
           "sequentialminus": [
            [
             0,
             "#0d0887"
            ],
            [
             0.1111111111111111,
             "#46039f"
            ],
            [
             0.2222222222222222,
             "#7201a8"
            ],
            [
             0.3333333333333333,
             "#9c179e"
            ],
            [
             0.4444444444444444,
             "#bd3786"
            ],
            [
             0.5555555555555556,
             "#d8576b"
            ],
            [
             0.6666666666666666,
             "#ed7953"
            ],
            [
             0.7777777777777778,
             "#fb9f3a"
            ],
            [
             0.8888888888888888,
             "#fdca26"
            ],
            [
             1,
             "#f0f921"
            ]
           ]
          },
          "colorway": [
           "#636efa",
           "#EF553B",
           "#00cc96",
           "#ab63fa",
           "#FFA15A",
           "#19d3f3",
           "#FF6692",
           "#B6E880",
           "#FF97FF",
           "#FECB52"
          ],
          "font": {
           "color": "#2a3f5f"
          },
          "geo": {
           "bgcolor": "white",
           "lakecolor": "white",
           "landcolor": "#E5ECF6",
           "showlakes": true,
           "showland": true,
           "subunitcolor": "white"
          },
          "hoverlabel": {
           "align": "left"
          },
          "hovermode": "closest",
          "mapbox": {
           "style": "light"
          },
          "paper_bgcolor": "white",
          "plot_bgcolor": "#E5ECF6",
          "polar": {
           "angularaxis": {
            "gridcolor": "white",
            "linecolor": "white",
            "ticks": ""
           },
           "bgcolor": "#E5ECF6",
           "radialaxis": {
            "gridcolor": "white",
            "linecolor": "white",
            "ticks": ""
           }
          },
          "scene": {
           "xaxis": {
            "backgroundcolor": "#E5ECF6",
            "gridcolor": "white",
            "gridwidth": 2,
            "linecolor": "white",
            "showbackground": true,
            "ticks": "",
            "zerolinecolor": "white"
           },
           "yaxis": {
            "backgroundcolor": "#E5ECF6",
            "gridcolor": "white",
            "gridwidth": 2,
            "linecolor": "white",
            "showbackground": true,
            "ticks": "",
            "zerolinecolor": "white"
           },
           "zaxis": {
            "backgroundcolor": "#E5ECF6",
            "gridcolor": "white",
            "gridwidth": 2,
            "linecolor": "white",
            "showbackground": true,
            "ticks": "",
            "zerolinecolor": "white"
           }
          },
          "shapedefaults": {
           "line": {
            "color": "#2a3f5f"
           }
          },
          "ternary": {
           "aaxis": {
            "gridcolor": "white",
            "linecolor": "white",
            "ticks": ""
           },
           "baxis": {
            "gridcolor": "white",
            "linecolor": "white",
            "ticks": ""
           },
           "bgcolor": "#E5ECF6",
           "caxis": {
            "gridcolor": "white",
            "linecolor": "white",
            "ticks": ""
           }
          },
          "title": {
           "x": 0.05
          },
          "xaxis": {
           "automargin": true,
           "gridcolor": "white",
           "linecolor": "white",
           "ticks": "",
           "title": {
            "standoff": 15
           },
           "zerolinecolor": "white",
           "zerolinewidth": 2
          },
          "yaxis": {
           "automargin": true,
           "gridcolor": "white",
           "linecolor": "white",
           "ticks": "",
           "title": {
            "standoff": 15
           },
           "zerolinecolor": "white",
           "zerolinewidth": 2
          }
         }
        },
        "title": {
         "text": "Europe Overview"
        },
        "xaxis": {
         "anchor": "y",
         "domain": [
          0,
          1
         ],
         "title": {
          "text": "Date"
         }
        },
        "yaxis": {
         "anchor": "x",
         "domain": [
          0,
          1
         ],
         "title": {
          "text": "value"
         }
        }
       }
      }
     },
     "metadata": {},
     "output_type": "display_data"
    },
    {
     "data": {
      "application/vnd.plotly.v1+json": {
       "config": {
        "plotlyServerURL": "https://plot.ly"
       },
       "data": [
        {
         "hovertemplate": "variable=NewCases<br>Date=%{x}<br>value=%{y}<extra></extra>",
         "legendgroup": "NewCases",
         "line": {
          "color": "#636efa",
          "dash": "solid"
         },
         "marker": {
          "symbol": "circle"
         },
         "mode": "markers+lines",
         "name": "NewCases",
         "orientation": "v",
         "showlegend": true,
         "type": "scatter",
         "x": [
          "2022-02-28T00:00:00",
          "2022-03-01T00:00:00",
          "2022-03-02T00:00:00",
          "2022-03-03T00:00:00",
          "2022-03-04T00:00:00",
          "2022-03-05T00:00:00",
          "2022-03-06T00:00:00",
          "2022-03-07T00:00:00",
          "2022-03-08T00:00:00",
          "2022-03-09T00:00:00",
          "2022-03-10T00:00:00",
          "2022-03-11T00:00:00"
         ],
         "xaxis": "x",
         "y": [
          48494,
          59993,
          74462,
          79565,
          69621,
          34089,
          17526,
          37276,
          52481,
          59922,
          61684,
          59310
         ],
         "yaxis": "y"
        },
        {
         "hovertemplate": "variable=NewDeaths<br>Date=%{x}<br>value=%{y}<extra></extra>",
         "legendgroup": "NewDeaths",
         "line": {
          "color": "#EF553B",
          "dash": "solid"
         },
         "marker": {
          "symbol": "circle"
         },
         "mode": "markers+lines",
         "name": "NewDeaths",
         "orientation": "v",
         "showlegend": true,
         "type": "scatter",
         "x": [
          "2022-02-28T00:00:00",
          "2022-03-01T00:00:00",
          "2022-03-02T00:00:00",
          "2022-03-03T00:00:00",
          "2022-03-04T00:00:00",
          "2022-03-05T00:00:00",
          "2022-03-06T00:00:00",
          "2022-03-07T00:00:00",
          "2022-03-08T00:00:00",
          "2022-03-09T00:00:00",
          "2022-03-10T00:00:00",
          "2022-03-11T00:00:00"
         ],
         "xaxis": "x",
         "y": [
          1008,
          1692,
          2278,
          2393,
          2031,
          734,
          450,
          634,
          1307,
          1609,
          1605,
          1303
         ],
         "yaxis": "y"
        },
        {
         "hovertemplate": "variable=NewRecovered<br>Date=%{x}<br>value=%{y}<extra></extra>",
         "legendgroup": "NewRecovered",
         "line": {
          "color": "#00cc96",
          "dash": "solid"
         },
         "marker": {
          "symbol": "circle"
         },
         "mode": "markers+lines",
         "name": "NewRecovered",
         "orientation": "v",
         "showlegend": true,
         "type": "scatter",
         "x": [
          "2022-02-28T00:00:00",
          "2022-03-01T00:00:00",
          "2022-03-02T00:00:00",
          "2022-03-03T00:00:00",
          "2022-03-04T00:00:00",
          "2022-03-05T00:00:00",
          "2022-03-06T00:00:00",
          "2022-03-07T00:00:00",
          "2022-03-08T00:00:00",
          "2022-03-09T00:00:00",
          "2022-03-10T00:00:00",
          "2022-03-11T00:00:00"
         ],
         "xaxis": "x",
         "y": [
          311972,
          254870,
          241729,
          244869,
          234855,
          182292,
          171862,
          272036,
          226778,
          228602,
          194200,
          186917
         ],
         "yaxis": "y"
        }
       ],
       "layout": {
        "legend": {
         "title": {
          "text": "variable"
         },
         "tracegroupgap": 0
        },
        "template": {
         "data": {
          "bar": [
           {
            "error_x": {
             "color": "#2a3f5f"
            },
            "error_y": {
             "color": "#2a3f5f"
            },
            "marker": {
             "line": {
              "color": "#E5ECF6",
              "width": 0.5
             },
             "pattern": {
              "fillmode": "overlay",
              "size": 10,
              "solidity": 0.2
             }
            },
            "type": "bar"
           }
          ],
          "barpolar": [
           {
            "marker": {
             "line": {
              "color": "#E5ECF6",
              "width": 0.5
             },
             "pattern": {
              "fillmode": "overlay",
              "size": 10,
              "solidity": 0.2
             }
            },
            "type": "barpolar"
           }
          ],
          "carpet": [
           {
            "aaxis": {
             "endlinecolor": "#2a3f5f",
             "gridcolor": "white",
             "linecolor": "white",
             "minorgridcolor": "white",
             "startlinecolor": "#2a3f5f"
            },
            "baxis": {
             "endlinecolor": "#2a3f5f",
             "gridcolor": "white",
             "linecolor": "white",
             "minorgridcolor": "white",
             "startlinecolor": "#2a3f5f"
            },
            "type": "carpet"
           }
          ],
          "choropleth": [
           {
            "colorbar": {
             "outlinewidth": 0,
             "ticks": ""
            },
            "type": "choropleth"
           }
          ],
          "contour": [
           {
            "colorbar": {
             "outlinewidth": 0,
             "ticks": ""
            },
            "colorscale": [
             [
              0,
              "#0d0887"
             ],
             [
              0.1111111111111111,
              "#46039f"
             ],
             [
              0.2222222222222222,
              "#7201a8"
             ],
             [
              0.3333333333333333,
              "#9c179e"
             ],
             [
              0.4444444444444444,
              "#bd3786"
             ],
             [
              0.5555555555555556,
              "#d8576b"
             ],
             [
              0.6666666666666666,
              "#ed7953"
             ],
             [
              0.7777777777777778,
              "#fb9f3a"
             ],
             [
              0.8888888888888888,
              "#fdca26"
             ],
             [
              1,
              "#f0f921"
             ]
            ],
            "type": "contour"
           }
          ],
          "contourcarpet": [
           {
            "colorbar": {
             "outlinewidth": 0,
             "ticks": ""
            },
            "type": "contourcarpet"
           }
          ],
          "heatmap": [
           {
            "colorbar": {
             "outlinewidth": 0,
             "ticks": ""
            },
            "colorscale": [
             [
              0,
              "#0d0887"
             ],
             [
              0.1111111111111111,
              "#46039f"
             ],
             [
              0.2222222222222222,
              "#7201a8"
             ],
             [
              0.3333333333333333,
              "#9c179e"
             ],
             [
              0.4444444444444444,
              "#bd3786"
             ],
             [
              0.5555555555555556,
              "#d8576b"
             ],
             [
              0.6666666666666666,
              "#ed7953"
             ],
             [
              0.7777777777777778,
              "#fb9f3a"
             ],
             [
              0.8888888888888888,
              "#fdca26"
             ],
             [
              1,
              "#f0f921"
             ]
            ],
            "type": "heatmap"
           }
          ],
          "heatmapgl": [
           {
            "colorbar": {
             "outlinewidth": 0,
             "ticks": ""
            },
            "colorscale": [
             [
              0,
              "#0d0887"
             ],
             [
              0.1111111111111111,
              "#46039f"
             ],
             [
              0.2222222222222222,
              "#7201a8"
             ],
             [
              0.3333333333333333,
              "#9c179e"
             ],
             [
              0.4444444444444444,
              "#bd3786"
             ],
             [
              0.5555555555555556,
              "#d8576b"
             ],
             [
              0.6666666666666666,
              "#ed7953"
             ],
             [
              0.7777777777777778,
              "#fb9f3a"
             ],
             [
              0.8888888888888888,
              "#fdca26"
             ],
             [
              1,
              "#f0f921"
             ]
            ],
            "type": "heatmapgl"
           }
          ],
          "histogram": [
           {
            "marker": {
             "pattern": {
              "fillmode": "overlay",
              "size": 10,
              "solidity": 0.2
             }
            },
            "type": "histogram"
           }
          ],
          "histogram2d": [
           {
            "colorbar": {
             "outlinewidth": 0,
             "ticks": ""
            },
            "colorscale": [
             [
              0,
              "#0d0887"
             ],
             [
              0.1111111111111111,
              "#46039f"
             ],
             [
              0.2222222222222222,
              "#7201a8"
             ],
             [
              0.3333333333333333,
              "#9c179e"
             ],
             [
              0.4444444444444444,
              "#bd3786"
             ],
             [
              0.5555555555555556,
              "#d8576b"
             ],
             [
              0.6666666666666666,
              "#ed7953"
             ],
             [
              0.7777777777777778,
              "#fb9f3a"
             ],
             [
              0.8888888888888888,
              "#fdca26"
             ],
             [
              1,
              "#f0f921"
             ]
            ],
            "type": "histogram2d"
           }
          ],
          "histogram2dcontour": [
           {
            "colorbar": {
             "outlinewidth": 0,
             "ticks": ""
            },
            "colorscale": [
             [
              0,
              "#0d0887"
             ],
             [
              0.1111111111111111,
              "#46039f"
             ],
             [
              0.2222222222222222,
              "#7201a8"
             ],
             [
              0.3333333333333333,
              "#9c179e"
             ],
             [
              0.4444444444444444,
              "#bd3786"
             ],
             [
              0.5555555555555556,
              "#d8576b"
             ],
             [
              0.6666666666666666,
              "#ed7953"
             ],
             [
              0.7777777777777778,
              "#fb9f3a"
             ],
             [
              0.8888888888888888,
              "#fdca26"
             ],
             [
              1,
              "#f0f921"
             ]
            ],
            "type": "histogram2dcontour"
           }
          ],
          "mesh3d": [
           {
            "colorbar": {
             "outlinewidth": 0,
             "ticks": ""
            },
            "type": "mesh3d"
           }
          ],
          "parcoords": [
           {
            "line": {
             "colorbar": {
              "outlinewidth": 0,
              "ticks": ""
             }
            },
            "type": "parcoords"
           }
          ],
          "pie": [
           {
            "automargin": true,
            "type": "pie"
           }
          ],
          "scatter": [
           {
            "marker": {
             "colorbar": {
              "outlinewidth": 0,
              "ticks": ""
             }
            },
            "type": "scatter"
           }
          ],
          "scatter3d": [
           {
            "line": {
             "colorbar": {
              "outlinewidth": 0,
              "ticks": ""
             }
            },
            "marker": {
             "colorbar": {
              "outlinewidth": 0,
              "ticks": ""
             }
            },
            "type": "scatter3d"
           }
          ],
          "scattercarpet": [
           {
            "marker": {
             "colorbar": {
              "outlinewidth": 0,
              "ticks": ""
             }
            },
            "type": "scattercarpet"
           }
          ],
          "scattergeo": [
           {
            "marker": {
             "colorbar": {
              "outlinewidth": 0,
              "ticks": ""
             }
            },
            "type": "scattergeo"
           }
          ],
          "scattergl": [
           {
            "marker": {
             "colorbar": {
              "outlinewidth": 0,
              "ticks": ""
             }
            },
            "type": "scattergl"
           }
          ],
          "scattermapbox": [
           {
            "marker": {
             "colorbar": {
              "outlinewidth": 0,
              "ticks": ""
             }
            },
            "type": "scattermapbox"
           }
          ],
          "scatterpolar": [
           {
            "marker": {
             "colorbar": {
              "outlinewidth": 0,
              "ticks": ""
             }
            },
            "type": "scatterpolar"
           }
          ],
          "scatterpolargl": [
           {
            "marker": {
             "colorbar": {
              "outlinewidth": 0,
              "ticks": ""
             }
            },
            "type": "scatterpolargl"
           }
          ],
          "scatterternary": [
           {
            "marker": {
             "colorbar": {
              "outlinewidth": 0,
              "ticks": ""
             }
            },
            "type": "scatterternary"
           }
          ],
          "surface": [
           {
            "colorbar": {
             "outlinewidth": 0,
             "ticks": ""
            },
            "colorscale": [
             [
              0,
              "#0d0887"
             ],
             [
              0.1111111111111111,
              "#46039f"
             ],
             [
              0.2222222222222222,
              "#7201a8"
             ],
             [
              0.3333333333333333,
              "#9c179e"
             ],
             [
              0.4444444444444444,
              "#bd3786"
             ],
             [
              0.5555555555555556,
              "#d8576b"
             ],
             [
              0.6666666666666666,
              "#ed7953"
             ],
             [
              0.7777777777777778,
              "#fb9f3a"
             ],
             [
              0.8888888888888888,
              "#fdca26"
             ],
             [
              1,
              "#f0f921"
             ]
            ],
            "type": "surface"
           }
          ],
          "table": [
           {
            "cells": {
             "fill": {
              "color": "#EBF0F8"
             },
             "line": {
              "color": "white"
             }
            },
            "header": {
             "fill": {
              "color": "#C8D4E3"
             },
             "line": {
              "color": "white"
             }
            },
            "type": "table"
           }
          ]
         },
         "layout": {
          "annotationdefaults": {
           "arrowcolor": "#2a3f5f",
           "arrowhead": 0,
           "arrowwidth": 1
          },
          "autotypenumbers": "strict",
          "coloraxis": {
           "colorbar": {
            "outlinewidth": 0,
            "ticks": ""
           }
          },
          "colorscale": {
           "diverging": [
            [
             0,
             "#8e0152"
            ],
            [
             0.1,
             "#c51b7d"
            ],
            [
             0.2,
             "#de77ae"
            ],
            [
             0.3,
             "#f1b6da"
            ],
            [
             0.4,
             "#fde0ef"
            ],
            [
             0.5,
             "#f7f7f7"
            ],
            [
             0.6,
             "#e6f5d0"
            ],
            [
             0.7,
             "#b8e186"
            ],
            [
             0.8,
             "#7fbc41"
            ],
            [
             0.9,
             "#4d9221"
            ],
            [
             1,
             "#276419"
            ]
           ],
           "sequential": [
            [
             0,
             "#0d0887"
            ],
            [
             0.1111111111111111,
             "#46039f"
            ],
            [
             0.2222222222222222,
             "#7201a8"
            ],
            [
             0.3333333333333333,
             "#9c179e"
            ],
            [
             0.4444444444444444,
             "#bd3786"
            ],
            [
             0.5555555555555556,
             "#d8576b"
            ],
            [
             0.6666666666666666,
             "#ed7953"
            ],
            [
             0.7777777777777778,
             "#fb9f3a"
            ],
            [
             0.8888888888888888,
             "#fdca26"
            ],
            [
             1,
             "#f0f921"
            ]
           ],
           "sequentialminus": [
            [
             0,
             "#0d0887"
            ],
            [
             0.1111111111111111,
             "#46039f"
            ],
            [
             0.2222222222222222,
             "#7201a8"
            ],
            [
             0.3333333333333333,
             "#9c179e"
            ],
            [
             0.4444444444444444,
             "#bd3786"
            ],
            [
             0.5555555555555556,
             "#d8576b"
            ],
            [
             0.6666666666666666,
             "#ed7953"
            ],
            [
             0.7777777777777778,
             "#fb9f3a"
            ],
            [
             0.8888888888888888,
             "#fdca26"
            ],
            [
             1,
             "#f0f921"
            ]
           ]
          },
          "colorway": [
           "#636efa",
           "#EF553B",
           "#00cc96",
           "#ab63fa",
           "#FFA15A",
           "#19d3f3",
           "#FF6692",
           "#B6E880",
           "#FF97FF",
           "#FECB52"
          ],
          "font": {
           "color": "#2a3f5f"
          },
          "geo": {
           "bgcolor": "white",
           "lakecolor": "white",
           "landcolor": "#E5ECF6",
           "showlakes": true,
           "showland": true,
           "subunitcolor": "white"
          },
          "hoverlabel": {
           "align": "left"
          },
          "hovermode": "closest",
          "mapbox": {
           "style": "light"
          },
          "paper_bgcolor": "white",
          "plot_bgcolor": "#E5ECF6",
          "polar": {
           "angularaxis": {
            "gridcolor": "white",
            "linecolor": "white",
            "ticks": ""
           },
           "bgcolor": "#E5ECF6",
           "radialaxis": {
            "gridcolor": "white",
            "linecolor": "white",
            "ticks": ""
           }
          },
          "scene": {
           "xaxis": {
            "backgroundcolor": "#E5ECF6",
            "gridcolor": "white",
            "gridwidth": 2,
            "linecolor": "white",
            "showbackground": true,
            "ticks": "",
            "zerolinecolor": "white"
           },
           "yaxis": {
            "backgroundcolor": "#E5ECF6",
            "gridcolor": "white",
            "gridwidth": 2,
            "linecolor": "white",
            "showbackground": true,
            "ticks": "",
            "zerolinecolor": "white"
           },
           "zaxis": {
            "backgroundcolor": "#E5ECF6",
            "gridcolor": "white",
            "gridwidth": 2,
            "linecolor": "white",
            "showbackground": true,
            "ticks": "",
            "zerolinecolor": "white"
           }
          },
          "shapedefaults": {
           "line": {
            "color": "#2a3f5f"
           }
          },
          "ternary": {
           "aaxis": {
            "gridcolor": "white",
            "linecolor": "white",
            "ticks": ""
           },
           "baxis": {
            "gridcolor": "white",
            "linecolor": "white",
            "ticks": ""
           },
           "bgcolor": "#E5ECF6",
           "caxis": {
            "gridcolor": "white",
            "linecolor": "white",
            "ticks": ""
           }
          },
          "title": {
           "x": 0.05
          },
          "xaxis": {
           "automargin": true,
           "gridcolor": "white",
           "linecolor": "white",
           "ticks": "",
           "title": {
            "standoff": 15
           },
           "zerolinecolor": "white",
           "zerolinewidth": 2
          },
          "yaxis": {
           "automargin": true,
           "gridcolor": "white",
           "linecolor": "white",
           "ticks": "",
           "title": {
            "standoff": 15
           },
           "zerolinecolor": "white",
           "zerolinewidth": 2
          }
         }
        },
        "title": {
         "text": "NorthAmerica Overview"
        },
        "xaxis": {
         "anchor": "y",
         "domain": [
          0,
          1
         ],
         "title": {
          "text": "Date"
         }
        },
        "yaxis": {
         "anchor": "x",
         "domain": [
          0,
          1
         ],
         "title": {
          "text": "value"
         }
        }
       }
      }
     },
     "metadata": {},
     "output_type": "display_data"
    },
    {
     "data": {
      "application/vnd.plotly.v1+json": {
       "config": {
        "plotlyServerURL": "https://plot.ly"
       },
       "data": [
        {
         "hovertemplate": "variable=NewCases<br>Date=%{x}<br>value=%{y}<extra></extra>",
         "legendgroup": "NewCases",
         "line": {
          "color": "#636efa",
          "dash": "solid"
         },
         "marker": {
          "symbol": "circle"
         },
         "mode": "markers+lines",
         "name": "NewCases",
         "orientation": "v",
         "showlegend": true,
         "type": "scatter",
         "x": [
          "2022-02-28T00:00:00",
          "2022-03-01T00:00:00",
          "2022-03-02T00:00:00",
          "2022-03-03T00:00:00",
          "2022-03-04T00:00:00",
          "2022-03-05T00:00:00",
          "2022-03-06T00:00:00",
          "2022-03-07T00:00:00",
          "2022-03-08T00:00:00",
          "2022-03-09T00:00:00",
          "2022-03-10T00:00:00",
          "2022-03-11T00:00:00"
         ],
         "xaxis": "x",
         "y": [
          550075,
          540721,
          663771,
          665479,
          697132,
          660777,
          628950,
          592776,
          613406,
          745049,
          746291,
          686376
         ],
         "yaxis": "y"
        },
        {
         "hovertemplate": "variable=NewDeaths<br>Date=%{x}<br>value=%{y}<extra></extra>",
         "legendgroup": "NewDeaths",
         "line": {
          "color": "#EF553B",
          "dash": "solid"
         },
         "marker": {
          "symbol": "circle"
         },
         "mode": "markers+lines",
         "name": "NewDeaths",
         "orientation": "v",
         "showlegend": true,
         "type": "scatter",
         "x": [
          "2022-02-28T00:00:00",
          "2022-03-01T00:00:00",
          "2022-03-02T00:00:00",
          "2022-03-03T00:00:00",
          "2022-03-04T00:00:00",
          "2022-03-05T00:00:00",
          "2022-03-06T00:00:00",
          "2022-03-07T00:00:00",
          "2022-03-08T00:00:00",
          "2022-03-09T00:00:00",
          "2022-03-10T00:00:00",
          "2022-03-11T00:00:00"
         ],
         "xaxis": "x",
         "y": [
          1816,
          1787,
          2004,
          2004,
          2245,
          1960,
          1761,
          1668,
          1796,
          1941,
          1875,
          1677
         ],
         "yaxis": "y"
        },
        {
         "hovertemplate": "variable=NewRecovered<br>Date=%{x}<br>value=%{y}<extra></extra>",
         "legendgroup": "NewRecovered",
         "line": {
          "color": "#00cc96",
          "dash": "solid"
         },
         "marker": {
          "symbol": "circle"
         },
         "mode": "markers+lines",
         "name": "NewRecovered",
         "orientation": "v",
         "showlegend": true,
         "type": "scatter",
         "x": [
          "2022-02-28T00:00:00",
          "2022-03-01T00:00:00",
          "2022-03-02T00:00:00",
          "2022-03-03T00:00:00",
          "2022-03-04T00:00:00",
          "2022-03-05T00:00:00",
          "2022-03-06T00:00:00",
          "2022-03-07T00:00:00",
          "2022-03-08T00:00:00",
          "2022-03-09T00:00:00",
          "2022-03-10T00:00:00",
          "2022-03-11T00:00:00"
         ],
         "xaxis": "x",
         "y": [
          406160,
          365353,
          378837,
          378837,
          355344,
          347517,
          380772,
          335291,
          400761,
          360733,
          334194,
          347821
         ],
         "yaxis": "y"
        }
       ],
       "layout": {
        "legend": {
         "title": {
          "text": "variable"
         },
         "tracegroupgap": 0
        },
        "template": {
         "data": {
          "bar": [
           {
            "error_x": {
             "color": "#2a3f5f"
            },
            "error_y": {
             "color": "#2a3f5f"
            },
            "marker": {
             "line": {
              "color": "#E5ECF6",
              "width": 0.5
             },
             "pattern": {
              "fillmode": "overlay",
              "size": 10,
              "solidity": 0.2
             }
            },
            "type": "bar"
           }
          ],
          "barpolar": [
           {
            "marker": {
             "line": {
              "color": "#E5ECF6",
              "width": 0.5
             },
             "pattern": {
              "fillmode": "overlay",
              "size": 10,
              "solidity": 0.2
             }
            },
            "type": "barpolar"
           }
          ],
          "carpet": [
           {
            "aaxis": {
             "endlinecolor": "#2a3f5f",
             "gridcolor": "white",
             "linecolor": "white",
             "minorgridcolor": "white",
             "startlinecolor": "#2a3f5f"
            },
            "baxis": {
             "endlinecolor": "#2a3f5f",
             "gridcolor": "white",
             "linecolor": "white",
             "minorgridcolor": "white",
             "startlinecolor": "#2a3f5f"
            },
            "type": "carpet"
           }
          ],
          "choropleth": [
           {
            "colorbar": {
             "outlinewidth": 0,
             "ticks": ""
            },
            "type": "choropleth"
           }
          ],
          "contour": [
           {
            "colorbar": {
             "outlinewidth": 0,
             "ticks": ""
            },
            "colorscale": [
             [
              0,
              "#0d0887"
             ],
             [
              0.1111111111111111,
              "#46039f"
             ],
             [
              0.2222222222222222,
              "#7201a8"
             ],
             [
              0.3333333333333333,
              "#9c179e"
             ],
             [
              0.4444444444444444,
              "#bd3786"
             ],
             [
              0.5555555555555556,
              "#d8576b"
             ],
             [
              0.6666666666666666,
              "#ed7953"
             ],
             [
              0.7777777777777778,
              "#fb9f3a"
             ],
             [
              0.8888888888888888,
              "#fdca26"
             ],
             [
              1,
              "#f0f921"
             ]
            ],
            "type": "contour"
           }
          ],
          "contourcarpet": [
           {
            "colorbar": {
             "outlinewidth": 0,
             "ticks": ""
            },
            "type": "contourcarpet"
           }
          ],
          "heatmap": [
           {
            "colorbar": {
             "outlinewidth": 0,
             "ticks": ""
            },
            "colorscale": [
             [
              0,
              "#0d0887"
             ],
             [
              0.1111111111111111,
              "#46039f"
             ],
             [
              0.2222222222222222,
              "#7201a8"
             ],
             [
              0.3333333333333333,
              "#9c179e"
             ],
             [
              0.4444444444444444,
              "#bd3786"
             ],
             [
              0.5555555555555556,
              "#d8576b"
             ],
             [
              0.6666666666666666,
              "#ed7953"
             ],
             [
              0.7777777777777778,
              "#fb9f3a"
             ],
             [
              0.8888888888888888,
              "#fdca26"
             ],
             [
              1,
              "#f0f921"
             ]
            ],
            "type": "heatmap"
           }
          ],
          "heatmapgl": [
           {
            "colorbar": {
             "outlinewidth": 0,
             "ticks": ""
            },
            "colorscale": [
             [
              0,
              "#0d0887"
             ],
             [
              0.1111111111111111,
              "#46039f"
             ],
             [
              0.2222222222222222,
              "#7201a8"
             ],
             [
              0.3333333333333333,
              "#9c179e"
             ],
             [
              0.4444444444444444,
              "#bd3786"
             ],
             [
              0.5555555555555556,
              "#d8576b"
             ],
             [
              0.6666666666666666,
              "#ed7953"
             ],
             [
              0.7777777777777778,
              "#fb9f3a"
             ],
             [
              0.8888888888888888,
              "#fdca26"
             ],
             [
              1,
              "#f0f921"
             ]
            ],
            "type": "heatmapgl"
           }
          ],
          "histogram": [
           {
            "marker": {
             "pattern": {
              "fillmode": "overlay",
              "size": 10,
              "solidity": 0.2
             }
            },
            "type": "histogram"
           }
          ],
          "histogram2d": [
           {
            "colorbar": {
             "outlinewidth": 0,
             "ticks": ""
            },
            "colorscale": [
             [
              0,
              "#0d0887"
             ],
             [
              0.1111111111111111,
              "#46039f"
             ],
             [
              0.2222222222222222,
              "#7201a8"
             ],
             [
              0.3333333333333333,
              "#9c179e"
             ],
             [
              0.4444444444444444,
              "#bd3786"
             ],
             [
              0.5555555555555556,
              "#d8576b"
             ],
             [
              0.6666666666666666,
              "#ed7953"
             ],
             [
              0.7777777777777778,
              "#fb9f3a"
             ],
             [
              0.8888888888888888,
              "#fdca26"
             ],
             [
              1,
              "#f0f921"
             ]
            ],
            "type": "histogram2d"
           }
          ],
          "histogram2dcontour": [
           {
            "colorbar": {
             "outlinewidth": 0,
             "ticks": ""
            },
            "colorscale": [
             [
              0,
              "#0d0887"
             ],
             [
              0.1111111111111111,
              "#46039f"
             ],
             [
              0.2222222222222222,
              "#7201a8"
             ],
             [
              0.3333333333333333,
              "#9c179e"
             ],
             [
              0.4444444444444444,
              "#bd3786"
             ],
             [
              0.5555555555555556,
              "#d8576b"
             ],
             [
              0.6666666666666666,
              "#ed7953"
             ],
             [
              0.7777777777777778,
              "#fb9f3a"
             ],
             [
              0.8888888888888888,
              "#fdca26"
             ],
             [
              1,
              "#f0f921"
             ]
            ],
            "type": "histogram2dcontour"
           }
          ],
          "mesh3d": [
           {
            "colorbar": {
             "outlinewidth": 0,
             "ticks": ""
            },
            "type": "mesh3d"
           }
          ],
          "parcoords": [
           {
            "line": {
             "colorbar": {
              "outlinewidth": 0,
              "ticks": ""
             }
            },
            "type": "parcoords"
           }
          ],
          "pie": [
           {
            "automargin": true,
            "type": "pie"
           }
          ],
          "scatter": [
           {
            "marker": {
             "colorbar": {
              "outlinewidth": 0,
              "ticks": ""
             }
            },
            "type": "scatter"
           }
          ],
          "scatter3d": [
           {
            "line": {
             "colorbar": {
              "outlinewidth": 0,
              "ticks": ""
             }
            },
            "marker": {
             "colorbar": {
              "outlinewidth": 0,
              "ticks": ""
             }
            },
            "type": "scatter3d"
           }
          ],
          "scattercarpet": [
           {
            "marker": {
             "colorbar": {
              "outlinewidth": 0,
              "ticks": ""
             }
            },
            "type": "scattercarpet"
           }
          ],
          "scattergeo": [
           {
            "marker": {
             "colorbar": {
              "outlinewidth": 0,
              "ticks": ""
             }
            },
            "type": "scattergeo"
           }
          ],
          "scattergl": [
           {
            "marker": {
             "colorbar": {
              "outlinewidth": 0,
              "ticks": ""
             }
            },
            "type": "scattergl"
           }
          ],
          "scattermapbox": [
           {
            "marker": {
             "colorbar": {
              "outlinewidth": 0,
              "ticks": ""
             }
            },
            "type": "scattermapbox"
           }
          ],
          "scatterpolar": [
           {
            "marker": {
             "colorbar": {
              "outlinewidth": 0,
              "ticks": ""
             }
            },
            "type": "scatterpolar"
           }
          ],
          "scatterpolargl": [
           {
            "marker": {
             "colorbar": {
              "outlinewidth": 0,
              "ticks": ""
             }
            },
            "type": "scatterpolargl"
           }
          ],
          "scatterternary": [
           {
            "marker": {
             "colorbar": {
              "outlinewidth": 0,
              "ticks": ""
             }
            },
            "type": "scatterternary"
           }
          ],
          "surface": [
           {
            "colorbar": {
             "outlinewidth": 0,
             "ticks": ""
            },
            "colorscale": [
             [
              0,
              "#0d0887"
             ],
             [
              0.1111111111111111,
              "#46039f"
             ],
             [
              0.2222222222222222,
              "#7201a8"
             ],
             [
              0.3333333333333333,
              "#9c179e"
             ],
             [
              0.4444444444444444,
              "#bd3786"
             ],
             [
              0.5555555555555556,
              "#d8576b"
             ],
             [
              0.6666666666666666,
              "#ed7953"
             ],
             [
              0.7777777777777778,
              "#fb9f3a"
             ],
             [
              0.8888888888888888,
              "#fdca26"
             ],
             [
              1,
              "#f0f921"
             ]
            ],
            "type": "surface"
           }
          ],
          "table": [
           {
            "cells": {
             "fill": {
              "color": "#EBF0F8"
             },
             "line": {
              "color": "white"
             }
            },
            "header": {
             "fill": {
              "color": "#C8D4E3"
             },
             "line": {
              "color": "white"
             }
            },
            "type": "table"
           }
          ]
         },
         "layout": {
          "annotationdefaults": {
           "arrowcolor": "#2a3f5f",
           "arrowhead": 0,
           "arrowwidth": 1
          },
          "autotypenumbers": "strict",
          "coloraxis": {
           "colorbar": {
            "outlinewidth": 0,
            "ticks": ""
           }
          },
          "colorscale": {
           "diverging": [
            [
             0,
             "#8e0152"
            ],
            [
             0.1,
             "#c51b7d"
            ],
            [
             0.2,
             "#de77ae"
            ],
            [
             0.3,
             "#f1b6da"
            ],
            [
             0.4,
             "#fde0ef"
            ],
            [
             0.5,
             "#f7f7f7"
            ],
            [
             0.6,
             "#e6f5d0"
            ],
            [
             0.7,
             "#b8e186"
            ],
            [
             0.8,
             "#7fbc41"
            ],
            [
             0.9,
             "#4d9221"
            ],
            [
             1,
             "#276419"
            ]
           ],
           "sequential": [
            [
             0,
             "#0d0887"
            ],
            [
             0.1111111111111111,
             "#46039f"
            ],
            [
             0.2222222222222222,
             "#7201a8"
            ],
            [
             0.3333333333333333,
             "#9c179e"
            ],
            [
             0.4444444444444444,
             "#bd3786"
            ],
            [
             0.5555555555555556,
             "#d8576b"
            ],
            [
             0.6666666666666666,
             "#ed7953"
            ],
            [
             0.7777777777777778,
             "#fb9f3a"
            ],
            [
             0.8888888888888888,
             "#fdca26"
            ],
            [
             1,
             "#f0f921"
            ]
           ],
           "sequentialminus": [
            [
             0,
             "#0d0887"
            ],
            [
             0.1111111111111111,
             "#46039f"
            ],
            [
             0.2222222222222222,
             "#7201a8"
            ],
            [
             0.3333333333333333,
             "#9c179e"
            ],
            [
             0.4444444444444444,
             "#bd3786"
            ],
            [
             0.5555555555555556,
             "#d8576b"
            ],
            [
             0.6666666666666666,
             "#ed7953"
            ],
            [
             0.7777777777777778,
             "#fb9f3a"
            ],
            [
             0.8888888888888888,
             "#fdca26"
            ],
            [
             1,
             "#f0f921"
            ]
           ]
          },
          "colorway": [
           "#636efa",
           "#EF553B",
           "#00cc96",
           "#ab63fa",
           "#FFA15A",
           "#19d3f3",
           "#FF6692",
           "#B6E880",
           "#FF97FF",
           "#FECB52"
          ],
          "font": {
           "color": "#2a3f5f"
          },
          "geo": {
           "bgcolor": "white",
           "lakecolor": "white",
           "landcolor": "#E5ECF6",
           "showlakes": true,
           "showland": true,
           "subunitcolor": "white"
          },
          "hoverlabel": {
           "align": "left"
          },
          "hovermode": "closest",
          "mapbox": {
           "style": "light"
          },
          "paper_bgcolor": "white",
          "plot_bgcolor": "#E5ECF6",
          "polar": {
           "angularaxis": {
            "gridcolor": "white",
            "linecolor": "white",
            "ticks": ""
           },
           "bgcolor": "#E5ECF6",
           "radialaxis": {
            "gridcolor": "white",
            "linecolor": "white",
            "ticks": ""
           }
          },
          "scene": {
           "xaxis": {
            "backgroundcolor": "#E5ECF6",
            "gridcolor": "white",
            "gridwidth": 2,
            "linecolor": "white",
            "showbackground": true,
            "ticks": "",
            "zerolinecolor": "white"
           },
           "yaxis": {
            "backgroundcolor": "#E5ECF6",
            "gridcolor": "white",
            "gridwidth": 2,
            "linecolor": "white",
            "showbackground": true,
            "ticks": "",
            "zerolinecolor": "white"
           },
           "zaxis": {
            "backgroundcolor": "#E5ECF6",
            "gridcolor": "white",
            "gridwidth": 2,
            "linecolor": "white",
            "showbackground": true,
            "ticks": "",
            "zerolinecolor": "white"
           }
          },
          "shapedefaults": {
           "line": {
            "color": "#2a3f5f"
           }
          },
          "ternary": {
           "aaxis": {
            "gridcolor": "white",
            "linecolor": "white",
            "ticks": ""
           },
           "baxis": {
            "gridcolor": "white",
            "linecolor": "white",
            "ticks": ""
           },
           "bgcolor": "#E5ECF6",
           "caxis": {
            "gridcolor": "white",
            "linecolor": "white",
            "ticks": ""
           }
          },
          "title": {
           "x": 0.05
          },
          "xaxis": {
           "automargin": true,
           "gridcolor": "white",
           "linecolor": "white",
           "ticks": "",
           "title": {
            "standoff": 15
           },
           "zerolinecolor": "white",
           "zerolinewidth": 2
          },
          "yaxis": {
           "automargin": true,
           "gridcolor": "white",
           "linecolor": "white",
           "ticks": "",
           "title": {
            "standoff": 15
           },
           "zerolinecolor": "white",
           "zerolinewidth": 2
          }
         }
        },
        "title": {
         "text": "Asia Overview"
        },
        "xaxis": {
         "anchor": "y",
         "domain": [
          0,
          1
         ],
         "title": {
          "text": "Date"
         }
        },
        "yaxis": {
         "anchor": "x",
         "domain": [
          0,
          1
         ],
         "title": {
          "text": "value"
         }
        }
       }
      }
     },
     "metadata": {},
     "output_type": "display_data"
    },
    {
     "data": {
      "application/vnd.plotly.v1+json": {
       "config": {
        "plotlyServerURL": "https://plot.ly"
       },
       "data": [
        {
         "hovertemplate": "variable=NewCases<br>Date=%{x}<br>value=%{y}<extra></extra>",
         "legendgroup": "NewCases",
         "line": {
          "color": "#636efa",
          "dash": "solid"
         },
         "marker": {
          "symbol": "circle"
         },
         "mode": "markers+lines",
         "name": "NewCases",
         "orientation": "v",
         "showlegend": true,
         "type": "scatter",
         "x": [
          "2022-02-28T00:00:00",
          "2022-03-01T00:00:00",
          "2022-03-02T00:00:00",
          "2022-03-03T00:00:00",
          "2022-03-04T00:00:00",
          "2022-03-05T00:00:00",
          "2022-03-06T00:00:00",
          "2022-03-07T00:00:00",
          "2022-03-08T00:00:00",
          "2022-03-09T00:00:00",
          "2022-03-10T00:00:00",
          "2022-03-11T00:00:00"
         ],
         "xaxis": "x",
         "y": [
          48257,
          44831,
          65916,
          67782,
          106315,
          88234,
          43889,
          44520,
          98227,
          76281,
          85498,
          86119
         ],
         "yaxis": "y"
        },
        {
         "hovertemplate": "variable=NewDeaths<br>Date=%{x}<br>value=%{y}<extra></extra>",
         "legendgroup": "NewDeaths",
         "line": {
          "color": "#EF553B",
          "dash": "solid"
         },
         "marker": {
          "symbol": "circle"
         },
         "mode": "markers+lines",
         "name": "NewDeaths",
         "orientation": "v",
         "showlegend": true,
         "type": "scatter",
         "x": [
          "2022-02-28T00:00:00",
          "2022-03-01T00:00:00",
          "2022-03-02T00:00:00",
          "2022-03-03T00:00:00",
          "2022-03-04T00:00:00",
          "2022-03-05T00:00:00",
          "2022-03-06T00:00:00",
          "2022-03-07T00:00:00",
          "2022-03-08T00:00:00",
          "2022-03-09T00:00:00",
          "2022-03-10T00:00:00",
          "2022-03-11T00:00:00"
         ],
         "xaxis": "x",
         "y": [
          666,
          532,
          701,
          702,
          1093,
          947,
          594,
          530,
          771,
          842,
          966,
          749
         ],
         "yaxis": "y"
        },
        {
         "hovertemplate": "variable=NewRecovered<br>Date=%{x}<br>value=%{y}<extra></extra>",
         "legendgroup": "NewRecovered",
         "line": {
          "color": "#00cc96",
          "dash": "solid"
         },
         "marker": {
          "symbol": "circle"
         },
         "mode": "markers+lines",
         "name": "NewRecovered",
         "orientation": "v",
         "showlegend": true,
         "type": "scatter",
         "x": [
          "2022-02-28T00:00:00",
          "2022-03-01T00:00:00",
          "2022-03-02T00:00:00",
          "2022-03-03T00:00:00",
          "2022-03-04T00:00:00",
          "2022-03-05T00:00:00",
          "2022-03-06T00:00:00",
          "2022-03-07T00:00:00",
          "2022-03-08T00:00:00",
          "2022-03-09T00:00:00",
          "2022-03-10T00:00:00",
          "2022-03-11T00:00:00"
         ],
         "xaxis": "x",
         "y": [
          203040,
          214819,
          204507,
          204507,
          153257,
          126908,
          129029,
          173239,
          214119,
          168169,
          122849,
          44497
         ],
         "yaxis": "y"
        }
       ],
       "layout": {
        "legend": {
         "title": {
          "text": "variable"
         },
         "tracegroupgap": 0
        },
        "template": {
         "data": {
          "bar": [
           {
            "error_x": {
             "color": "#2a3f5f"
            },
            "error_y": {
             "color": "#2a3f5f"
            },
            "marker": {
             "line": {
              "color": "#E5ECF6",
              "width": 0.5
             },
             "pattern": {
              "fillmode": "overlay",
              "size": 10,
              "solidity": 0.2
             }
            },
            "type": "bar"
           }
          ],
          "barpolar": [
           {
            "marker": {
             "line": {
              "color": "#E5ECF6",
              "width": 0.5
             },
             "pattern": {
              "fillmode": "overlay",
              "size": 10,
              "solidity": 0.2
             }
            },
            "type": "barpolar"
           }
          ],
          "carpet": [
           {
            "aaxis": {
             "endlinecolor": "#2a3f5f",
             "gridcolor": "white",
             "linecolor": "white",
             "minorgridcolor": "white",
             "startlinecolor": "#2a3f5f"
            },
            "baxis": {
             "endlinecolor": "#2a3f5f",
             "gridcolor": "white",
             "linecolor": "white",
             "minorgridcolor": "white",
             "startlinecolor": "#2a3f5f"
            },
            "type": "carpet"
           }
          ],
          "choropleth": [
           {
            "colorbar": {
             "outlinewidth": 0,
             "ticks": ""
            },
            "type": "choropleth"
           }
          ],
          "contour": [
           {
            "colorbar": {
             "outlinewidth": 0,
             "ticks": ""
            },
            "colorscale": [
             [
              0,
              "#0d0887"
             ],
             [
              0.1111111111111111,
              "#46039f"
             ],
             [
              0.2222222222222222,
              "#7201a8"
             ],
             [
              0.3333333333333333,
              "#9c179e"
             ],
             [
              0.4444444444444444,
              "#bd3786"
             ],
             [
              0.5555555555555556,
              "#d8576b"
             ],
             [
              0.6666666666666666,
              "#ed7953"
             ],
             [
              0.7777777777777778,
              "#fb9f3a"
             ],
             [
              0.8888888888888888,
              "#fdca26"
             ],
             [
              1,
              "#f0f921"
             ]
            ],
            "type": "contour"
           }
          ],
          "contourcarpet": [
           {
            "colorbar": {
             "outlinewidth": 0,
             "ticks": ""
            },
            "type": "contourcarpet"
           }
          ],
          "heatmap": [
           {
            "colorbar": {
             "outlinewidth": 0,
             "ticks": ""
            },
            "colorscale": [
             [
              0,
              "#0d0887"
             ],
             [
              0.1111111111111111,
              "#46039f"
             ],
             [
              0.2222222222222222,
              "#7201a8"
             ],
             [
              0.3333333333333333,
              "#9c179e"
             ],
             [
              0.4444444444444444,
              "#bd3786"
             ],
             [
              0.5555555555555556,
              "#d8576b"
             ],
             [
              0.6666666666666666,
              "#ed7953"
             ],
             [
              0.7777777777777778,
              "#fb9f3a"
             ],
             [
              0.8888888888888888,
              "#fdca26"
             ],
             [
              1,
              "#f0f921"
             ]
            ],
            "type": "heatmap"
           }
          ],
          "heatmapgl": [
           {
            "colorbar": {
             "outlinewidth": 0,
             "ticks": ""
            },
            "colorscale": [
             [
              0,
              "#0d0887"
             ],
             [
              0.1111111111111111,
              "#46039f"
             ],
             [
              0.2222222222222222,
              "#7201a8"
             ],
             [
              0.3333333333333333,
              "#9c179e"
             ],
             [
              0.4444444444444444,
              "#bd3786"
             ],
             [
              0.5555555555555556,
              "#d8576b"
             ],
             [
              0.6666666666666666,
              "#ed7953"
             ],
             [
              0.7777777777777778,
              "#fb9f3a"
             ],
             [
              0.8888888888888888,
              "#fdca26"
             ],
             [
              1,
              "#f0f921"
             ]
            ],
            "type": "heatmapgl"
           }
          ],
          "histogram": [
           {
            "marker": {
             "pattern": {
              "fillmode": "overlay",
              "size": 10,
              "solidity": 0.2
             }
            },
            "type": "histogram"
           }
          ],
          "histogram2d": [
           {
            "colorbar": {
             "outlinewidth": 0,
             "ticks": ""
            },
            "colorscale": [
             [
              0,
              "#0d0887"
             ],
             [
              0.1111111111111111,
              "#46039f"
             ],
             [
              0.2222222222222222,
              "#7201a8"
             ],
             [
              0.3333333333333333,
              "#9c179e"
             ],
             [
              0.4444444444444444,
              "#bd3786"
             ],
             [
              0.5555555555555556,
              "#d8576b"
             ],
             [
              0.6666666666666666,
              "#ed7953"
             ],
             [
              0.7777777777777778,
              "#fb9f3a"
             ],
             [
              0.8888888888888888,
              "#fdca26"
             ],
             [
              1,
              "#f0f921"
             ]
            ],
            "type": "histogram2d"
           }
          ],
          "histogram2dcontour": [
           {
            "colorbar": {
             "outlinewidth": 0,
             "ticks": ""
            },
            "colorscale": [
             [
              0,
              "#0d0887"
             ],
             [
              0.1111111111111111,
              "#46039f"
             ],
             [
              0.2222222222222222,
              "#7201a8"
             ],
             [
              0.3333333333333333,
              "#9c179e"
             ],
             [
              0.4444444444444444,
              "#bd3786"
             ],
             [
              0.5555555555555556,
              "#d8576b"
             ],
             [
              0.6666666666666666,
              "#ed7953"
             ],
             [
              0.7777777777777778,
              "#fb9f3a"
             ],
             [
              0.8888888888888888,
              "#fdca26"
             ],
             [
              1,
              "#f0f921"
             ]
            ],
            "type": "histogram2dcontour"
           }
          ],
          "mesh3d": [
           {
            "colorbar": {
             "outlinewidth": 0,
             "ticks": ""
            },
            "type": "mesh3d"
           }
          ],
          "parcoords": [
           {
            "line": {
             "colorbar": {
              "outlinewidth": 0,
              "ticks": ""
             }
            },
            "type": "parcoords"
           }
          ],
          "pie": [
           {
            "automargin": true,
            "type": "pie"
           }
          ],
          "scatter": [
           {
            "marker": {
             "colorbar": {
              "outlinewidth": 0,
              "ticks": ""
             }
            },
            "type": "scatter"
           }
          ],
          "scatter3d": [
           {
            "line": {
             "colorbar": {
              "outlinewidth": 0,
              "ticks": ""
             }
            },
            "marker": {
             "colorbar": {
              "outlinewidth": 0,
              "ticks": ""
             }
            },
            "type": "scatter3d"
           }
          ],
          "scattercarpet": [
           {
            "marker": {
             "colorbar": {
              "outlinewidth": 0,
              "ticks": ""
             }
            },
            "type": "scattercarpet"
           }
          ],
          "scattergeo": [
           {
            "marker": {
             "colorbar": {
              "outlinewidth": 0,
              "ticks": ""
             }
            },
            "type": "scattergeo"
           }
          ],
          "scattergl": [
           {
            "marker": {
             "colorbar": {
              "outlinewidth": 0,
              "ticks": ""
             }
            },
            "type": "scattergl"
           }
          ],
          "scattermapbox": [
           {
            "marker": {
             "colorbar": {
              "outlinewidth": 0,
              "ticks": ""
             }
            },
            "type": "scattermapbox"
           }
          ],
          "scatterpolar": [
           {
            "marker": {
             "colorbar": {
              "outlinewidth": 0,
              "ticks": ""
             }
            },
            "type": "scatterpolar"
           }
          ],
          "scatterpolargl": [
           {
            "marker": {
             "colorbar": {
              "outlinewidth": 0,
              "ticks": ""
             }
            },
            "type": "scatterpolargl"
           }
          ],
          "scatterternary": [
           {
            "marker": {
             "colorbar": {
              "outlinewidth": 0,
              "ticks": ""
             }
            },
            "type": "scatterternary"
           }
          ],
          "surface": [
           {
            "colorbar": {
             "outlinewidth": 0,
             "ticks": ""
            },
            "colorscale": [
             [
              0,
              "#0d0887"
             ],
             [
              0.1111111111111111,
              "#46039f"
             ],
             [
              0.2222222222222222,
              "#7201a8"
             ],
             [
              0.3333333333333333,
              "#9c179e"
             ],
             [
              0.4444444444444444,
              "#bd3786"
             ],
             [
              0.5555555555555556,
              "#d8576b"
             ],
             [
              0.6666666666666666,
              "#ed7953"
             ],
             [
              0.7777777777777778,
              "#fb9f3a"
             ],
             [
              0.8888888888888888,
              "#fdca26"
             ],
             [
              1,
              "#f0f921"
             ]
            ],
            "type": "surface"
           }
          ],
          "table": [
           {
            "cells": {
             "fill": {
              "color": "#EBF0F8"
             },
             "line": {
              "color": "white"
             }
            },
            "header": {
             "fill": {
              "color": "#C8D4E3"
             },
             "line": {
              "color": "white"
             }
            },
            "type": "table"
           }
          ]
         },
         "layout": {
          "annotationdefaults": {
           "arrowcolor": "#2a3f5f",
           "arrowhead": 0,
           "arrowwidth": 1
          },
          "autotypenumbers": "strict",
          "coloraxis": {
           "colorbar": {
            "outlinewidth": 0,
            "ticks": ""
           }
          },
          "colorscale": {
           "diverging": [
            [
             0,
             "#8e0152"
            ],
            [
             0.1,
             "#c51b7d"
            ],
            [
             0.2,
             "#de77ae"
            ],
            [
             0.3,
             "#f1b6da"
            ],
            [
             0.4,
             "#fde0ef"
            ],
            [
             0.5,
             "#f7f7f7"
            ],
            [
             0.6,
             "#e6f5d0"
            ],
            [
             0.7,
             "#b8e186"
            ],
            [
             0.8,
             "#7fbc41"
            ],
            [
             0.9,
             "#4d9221"
            ],
            [
             1,
             "#276419"
            ]
           ],
           "sequential": [
            [
             0,
             "#0d0887"
            ],
            [
             0.1111111111111111,
             "#46039f"
            ],
            [
             0.2222222222222222,
             "#7201a8"
            ],
            [
             0.3333333333333333,
             "#9c179e"
            ],
            [
             0.4444444444444444,
             "#bd3786"
            ],
            [
             0.5555555555555556,
             "#d8576b"
            ],
            [
             0.6666666666666666,
             "#ed7953"
            ],
            [
             0.7777777777777778,
             "#fb9f3a"
            ],
            [
             0.8888888888888888,
             "#fdca26"
            ],
            [
             1,
             "#f0f921"
            ]
           ],
           "sequentialminus": [
            [
             0,
             "#0d0887"
            ],
            [
             0.1111111111111111,
             "#46039f"
            ],
            [
             0.2222222222222222,
             "#7201a8"
            ],
            [
             0.3333333333333333,
             "#9c179e"
            ],
            [
             0.4444444444444444,
             "#bd3786"
            ],
            [
             0.5555555555555556,
             "#d8576b"
            ],
            [
             0.6666666666666666,
             "#ed7953"
            ],
            [
             0.7777777777777778,
             "#fb9f3a"
            ],
            [
             0.8888888888888888,
             "#fdca26"
            ],
            [
             1,
             "#f0f921"
            ]
           ]
          },
          "colorway": [
           "#636efa",
           "#EF553B",
           "#00cc96",
           "#ab63fa",
           "#FFA15A",
           "#19d3f3",
           "#FF6692",
           "#B6E880",
           "#FF97FF",
           "#FECB52"
          ],
          "font": {
           "color": "#2a3f5f"
          },
          "geo": {
           "bgcolor": "white",
           "lakecolor": "white",
           "landcolor": "#E5ECF6",
           "showlakes": true,
           "showland": true,
           "subunitcolor": "white"
          },
          "hoverlabel": {
           "align": "left"
          },
          "hovermode": "closest",
          "mapbox": {
           "style": "light"
          },
          "paper_bgcolor": "white",
          "plot_bgcolor": "#E5ECF6",
          "polar": {
           "angularaxis": {
            "gridcolor": "white",
            "linecolor": "white",
            "ticks": ""
           },
           "bgcolor": "#E5ECF6",
           "radialaxis": {
            "gridcolor": "white",
            "linecolor": "white",
            "ticks": ""
           }
          },
          "scene": {
           "xaxis": {
            "backgroundcolor": "#E5ECF6",
            "gridcolor": "white",
            "gridwidth": 2,
            "linecolor": "white",
            "showbackground": true,
            "ticks": "",
            "zerolinecolor": "white"
           },
           "yaxis": {
            "backgroundcolor": "#E5ECF6",
            "gridcolor": "white",
            "gridwidth": 2,
            "linecolor": "white",
            "showbackground": true,
            "ticks": "",
            "zerolinecolor": "white"
           },
           "zaxis": {
            "backgroundcolor": "#E5ECF6",
            "gridcolor": "white",
            "gridwidth": 2,
            "linecolor": "white",
            "showbackground": true,
            "ticks": "",
            "zerolinecolor": "white"
           }
          },
          "shapedefaults": {
           "line": {
            "color": "#2a3f5f"
           }
          },
          "ternary": {
           "aaxis": {
            "gridcolor": "white",
            "linecolor": "white",
            "ticks": ""
           },
           "baxis": {
            "gridcolor": "white",
            "linecolor": "white",
            "ticks": ""
           },
           "bgcolor": "#E5ECF6",
           "caxis": {
            "gridcolor": "white",
            "linecolor": "white",
            "ticks": ""
           }
          },
          "title": {
           "x": 0.05
          },
          "xaxis": {
           "automargin": true,
           "gridcolor": "white",
           "linecolor": "white",
           "ticks": "",
           "title": {
            "standoff": 15
           },
           "zerolinecolor": "white",
           "zerolinewidth": 2
          },
          "yaxis": {
           "automargin": true,
           "gridcolor": "white",
           "linecolor": "white",
           "ticks": "",
           "title": {
            "standoff": 15
           },
           "zerolinecolor": "white",
           "zerolinewidth": 2
          }
         }
        },
        "title": {
         "text": "SouthAmerica Overview"
        },
        "xaxis": {
         "anchor": "y",
         "domain": [
          0,
          1
         ],
         "title": {
          "text": "Date"
         }
        },
        "yaxis": {
         "anchor": "x",
         "domain": [
          0,
          1
         ],
         "title": {
          "text": "value"
         }
        }
       }
      }
     },
     "metadata": {},
     "output_type": "display_data"
    },
    {
     "data": {
      "application/vnd.plotly.v1+json": {
       "config": {
        "plotlyServerURL": "https://plot.ly"
       },
       "data": [
        {
         "hovertemplate": "variable=NewCases<br>Date=%{x}<br>value=%{y}<extra></extra>",
         "legendgroup": "NewCases",
         "line": {
          "color": "#636efa",
          "dash": "solid"
         },
         "marker": {
          "symbol": "circle"
         },
         "mode": "markers+lines",
         "name": "NewCases",
         "orientation": "v",
         "showlegend": true,
         "type": "scatter",
         "x": [
          "2022-02-28T00:00:00",
          "2022-03-01T00:00:00",
          "2022-03-02T00:00:00",
          "2022-03-03T00:00:00",
          "2022-03-04T00:00:00",
          "2022-03-05T00:00:00",
          "2022-03-06T00:00:00",
          "2022-03-07T00:00:00",
          "2022-03-08T00:00:00",
          "2022-03-09T00:00:00",
          "2022-03-10T00:00:00",
          "2022-03-11T00:00:00"
         ],
         "xaxis": "x",
         "y": [
          36534,
          44872,
          50092,
          50092,
          47851,
          42607,
          34942,
          41568,
          67914,
          57621,
          59747,
          56281
         ],
         "yaxis": "y"
        },
        {
         "hovertemplate": "variable=NewDeaths<br>Date=%{x}<br>value=%{y}<extra></extra>",
         "legendgroup": "NewDeaths",
         "line": {
          "color": "#EF553B",
          "dash": "solid"
         },
         "marker": {
          "symbol": "circle"
         },
         "mode": "markers+lines",
         "name": "NewDeaths",
         "orientation": "v",
         "showlegend": true,
         "type": "scatter",
         "x": [
          "2022-02-28T00:00:00",
          "2022-03-01T00:00:00",
          "2022-03-02T00:00:00",
          "2022-03-03T00:00:00",
          "2022-03-04T00:00:00",
          "2022-03-05T00:00:00",
          "2022-03-06T00:00:00",
          "2022-03-07T00:00:00",
          "2022-03-08T00:00:00",
          "2022-03-09T00:00:00",
          "2022-03-10T00:00:00",
          "2022-03-11T00:00:00"
         ],
         "xaxis": "x",
         "y": [
          17,
          49,
          61,
          61,
          46,
          52,
          16,
          37,
          19,
          34,
          31,
          32
         ],
         "yaxis": "y"
        },
        {
         "hovertemplate": "variable=NewRecovered<br>Date=%{x}<br>value=%{y}<extra></extra>",
         "legendgroup": "NewRecovered",
         "line": {
          "color": "#00cc96",
          "dash": "solid"
         },
         "marker": {
          "symbol": "circle"
         },
         "mode": "markers+lines",
         "name": "NewRecovered",
         "orientation": "v",
         "showlegend": true,
         "type": "scatter",
         "x": [
          "2022-02-28T00:00:00",
          "2022-03-01T00:00:00",
          "2022-03-02T00:00:00",
          "2022-03-03T00:00:00",
          "2022-03-04T00:00:00",
          "2022-03-05T00:00:00",
          "2022-03-06T00:00:00",
          "2022-03-07T00:00:00",
          "2022-03-08T00:00:00",
          "2022-03-09T00:00:00",
          "2022-03-10T00:00:00",
          "2022-03-11T00:00:00"
         ],
         "xaxis": "x",
         "y": [
          25778,
          1461,
          23024,
          23024,
          38944,
          24940,
          3597,
          27021,
          59556,
          44668,
          41577,
          38824
         ],
         "yaxis": "y"
        }
       ],
       "layout": {
        "legend": {
         "title": {
          "text": "variable"
         },
         "tracegroupgap": 0
        },
        "template": {
         "data": {
          "bar": [
           {
            "error_x": {
             "color": "#2a3f5f"
            },
            "error_y": {
             "color": "#2a3f5f"
            },
            "marker": {
             "line": {
              "color": "#E5ECF6",
              "width": 0.5
             },
             "pattern": {
              "fillmode": "overlay",
              "size": 10,
              "solidity": 0.2
             }
            },
            "type": "bar"
           }
          ],
          "barpolar": [
           {
            "marker": {
             "line": {
              "color": "#E5ECF6",
              "width": 0.5
             },
             "pattern": {
              "fillmode": "overlay",
              "size": 10,
              "solidity": 0.2
             }
            },
            "type": "barpolar"
           }
          ],
          "carpet": [
           {
            "aaxis": {
             "endlinecolor": "#2a3f5f",
             "gridcolor": "white",
             "linecolor": "white",
             "minorgridcolor": "white",
             "startlinecolor": "#2a3f5f"
            },
            "baxis": {
             "endlinecolor": "#2a3f5f",
             "gridcolor": "white",
             "linecolor": "white",
             "minorgridcolor": "white",
             "startlinecolor": "#2a3f5f"
            },
            "type": "carpet"
           }
          ],
          "choropleth": [
           {
            "colorbar": {
             "outlinewidth": 0,
             "ticks": ""
            },
            "type": "choropleth"
           }
          ],
          "contour": [
           {
            "colorbar": {
             "outlinewidth": 0,
             "ticks": ""
            },
            "colorscale": [
             [
              0,
              "#0d0887"
             ],
             [
              0.1111111111111111,
              "#46039f"
             ],
             [
              0.2222222222222222,
              "#7201a8"
             ],
             [
              0.3333333333333333,
              "#9c179e"
             ],
             [
              0.4444444444444444,
              "#bd3786"
             ],
             [
              0.5555555555555556,
              "#d8576b"
             ],
             [
              0.6666666666666666,
              "#ed7953"
             ],
             [
              0.7777777777777778,
              "#fb9f3a"
             ],
             [
              0.8888888888888888,
              "#fdca26"
             ],
             [
              1,
              "#f0f921"
             ]
            ],
            "type": "contour"
           }
          ],
          "contourcarpet": [
           {
            "colorbar": {
             "outlinewidth": 0,
             "ticks": ""
            },
            "type": "contourcarpet"
           }
          ],
          "heatmap": [
           {
            "colorbar": {
             "outlinewidth": 0,
             "ticks": ""
            },
            "colorscale": [
             [
              0,
              "#0d0887"
             ],
             [
              0.1111111111111111,
              "#46039f"
             ],
             [
              0.2222222222222222,
              "#7201a8"
             ],
             [
              0.3333333333333333,
              "#9c179e"
             ],
             [
              0.4444444444444444,
              "#bd3786"
             ],
             [
              0.5555555555555556,
              "#d8576b"
             ],
             [
              0.6666666666666666,
              "#ed7953"
             ],
             [
              0.7777777777777778,
              "#fb9f3a"
             ],
             [
              0.8888888888888888,
              "#fdca26"
             ],
             [
              1,
              "#f0f921"
             ]
            ],
            "type": "heatmap"
           }
          ],
          "heatmapgl": [
           {
            "colorbar": {
             "outlinewidth": 0,
             "ticks": ""
            },
            "colorscale": [
             [
              0,
              "#0d0887"
             ],
             [
              0.1111111111111111,
              "#46039f"
             ],
             [
              0.2222222222222222,
              "#7201a8"
             ],
             [
              0.3333333333333333,
              "#9c179e"
             ],
             [
              0.4444444444444444,
              "#bd3786"
             ],
             [
              0.5555555555555556,
              "#d8576b"
             ],
             [
              0.6666666666666666,
              "#ed7953"
             ],
             [
              0.7777777777777778,
              "#fb9f3a"
             ],
             [
              0.8888888888888888,
              "#fdca26"
             ],
             [
              1,
              "#f0f921"
             ]
            ],
            "type": "heatmapgl"
           }
          ],
          "histogram": [
           {
            "marker": {
             "pattern": {
              "fillmode": "overlay",
              "size": 10,
              "solidity": 0.2
             }
            },
            "type": "histogram"
           }
          ],
          "histogram2d": [
           {
            "colorbar": {
             "outlinewidth": 0,
             "ticks": ""
            },
            "colorscale": [
             [
              0,
              "#0d0887"
             ],
             [
              0.1111111111111111,
              "#46039f"
             ],
             [
              0.2222222222222222,
              "#7201a8"
             ],
             [
              0.3333333333333333,
              "#9c179e"
             ],
             [
              0.4444444444444444,
              "#bd3786"
             ],
             [
              0.5555555555555556,
              "#d8576b"
             ],
             [
              0.6666666666666666,
              "#ed7953"
             ],
             [
              0.7777777777777778,
              "#fb9f3a"
             ],
             [
              0.8888888888888888,
              "#fdca26"
             ],
             [
              1,
              "#f0f921"
             ]
            ],
            "type": "histogram2d"
           }
          ],
          "histogram2dcontour": [
           {
            "colorbar": {
             "outlinewidth": 0,
             "ticks": ""
            },
            "colorscale": [
             [
              0,
              "#0d0887"
             ],
             [
              0.1111111111111111,
              "#46039f"
             ],
             [
              0.2222222222222222,
              "#7201a8"
             ],
             [
              0.3333333333333333,
              "#9c179e"
             ],
             [
              0.4444444444444444,
              "#bd3786"
             ],
             [
              0.5555555555555556,
              "#d8576b"
             ],
             [
              0.6666666666666666,
              "#ed7953"
             ],
             [
              0.7777777777777778,
              "#fb9f3a"
             ],
             [
              0.8888888888888888,
              "#fdca26"
             ],
             [
              1,
              "#f0f921"
             ]
            ],
            "type": "histogram2dcontour"
           }
          ],
          "mesh3d": [
           {
            "colorbar": {
             "outlinewidth": 0,
             "ticks": ""
            },
            "type": "mesh3d"
           }
          ],
          "parcoords": [
           {
            "line": {
             "colorbar": {
              "outlinewidth": 0,
              "ticks": ""
             }
            },
            "type": "parcoords"
           }
          ],
          "pie": [
           {
            "automargin": true,
            "type": "pie"
           }
          ],
          "scatter": [
           {
            "marker": {
             "colorbar": {
              "outlinewidth": 0,
              "ticks": ""
             }
            },
            "type": "scatter"
           }
          ],
          "scatter3d": [
           {
            "line": {
             "colorbar": {
              "outlinewidth": 0,
              "ticks": ""
             }
            },
            "marker": {
             "colorbar": {
              "outlinewidth": 0,
              "ticks": ""
             }
            },
            "type": "scatter3d"
           }
          ],
          "scattercarpet": [
           {
            "marker": {
             "colorbar": {
              "outlinewidth": 0,
              "ticks": ""
             }
            },
            "type": "scattercarpet"
           }
          ],
          "scattergeo": [
           {
            "marker": {
             "colorbar": {
              "outlinewidth": 0,
              "ticks": ""
             }
            },
            "type": "scattergeo"
           }
          ],
          "scattergl": [
           {
            "marker": {
             "colorbar": {
              "outlinewidth": 0,
              "ticks": ""
             }
            },
            "type": "scattergl"
           }
          ],
          "scattermapbox": [
           {
            "marker": {
             "colorbar": {
              "outlinewidth": 0,
              "ticks": ""
             }
            },
            "type": "scattermapbox"
           }
          ],
          "scatterpolar": [
           {
            "marker": {
             "colorbar": {
              "outlinewidth": 0,
              "ticks": ""
             }
            },
            "type": "scatterpolar"
           }
          ],
          "scatterpolargl": [
           {
            "marker": {
             "colorbar": {
              "outlinewidth": 0,
              "ticks": ""
             }
            },
            "type": "scatterpolargl"
           }
          ],
          "scatterternary": [
           {
            "marker": {
             "colorbar": {
              "outlinewidth": 0,
              "ticks": ""
             }
            },
            "type": "scatterternary"
           }
          ],
          "surface": [
           {
            "colorbar": {
             "outlinewidth": 0,
             "ticks": ""
            },
            "colorscale": [
             [
              0,
              "#0d0887"
             ],
             [
              0.1111111111111111,
              "#46039f"
             ],
             [
              0.2222222222222222,
              "#7201a8"
             ],
             [
              0.3333333333333333,
              "#9c179e"
             ],
             [
              0.4444444444444444,
              "#bd3786"
             ],
             [
              0.5555555555555556,
              "#d8576b"
             ],
             [
              0.6666666666666666,
              "#ed7953"
             ],
             [
              0.7777777777777778,
              "#fb9f3a"
             ],
             [
              0.8888888888888888,
              "#fdca26"
             ],
             [
              1,
              "#f0f921"
             ]
            ],
            "type": "surface"
           }
          ],
          "table": [
           {
            "cells": {
             "fill": {
              "color": "#EBF0F8"
             },
             "line": {
              "color": "white"
             }
            },
            "header": {
             "fill": {
              "color": "#C8D4E3"
             },
             "line": {
              "color": "white"
             }
            },
            "type": "table"
           }
          ]
         },
         "layout": {
          "annotationdefaults": {
           "arrowcolor": "#2a3f5f",
           "arrowhead": 0,
           "arrowwidth": 1
          },
          "autotypenumbers": "strict",
          "coloraxis": {
           "colorbar": {
            "outlinewidth": 0,
            "ticks": ""
           }
          },
          "colorscale": {
           "diverging": [
            [
             0,
             "#8e0152"
            ],
            [
             0.1,
             "#c51b7d"
            ],
            [
             0.2,
             "#de77ae"
            ],
            [
             0.3,
             "#f1b6da"
            ],
            [
             0.4,
             "#fde0ef"
            ],
            [
             0.5,
             "#f7f7f7"
            ],
            [
             0.6,
             "#e6f5d0"
            ],
            [
             0.7,
             "#b8e186"
            ],
            [
             0.8,
             "#7fbc41"
            ],
            [
             0.9,
             "#4d9221"
            ],
            [
             1,
             "#276419"
            ]
           ],
           "sequential": [
            [
             0,
             "#0d0887"
            ],
            [
             0.1111111111111111,
             "#46039f"
            ],
            [
             0.2222222222222222,
             "#7201a8"
            ],
            [
             0.3333333333333333,
             "#9c179e"
            ],
            [
             0.4444444444444444,
             "#bd3786"
            ],
            [
             0.5555555555555556,
             "#d8576b"
            ],
            [
             0.6666666666666666,
             "#ed7953"
            ],
            [
             0.7777777777777778,
             "#fb9f3a"
            ],
            [
             0.8888888888888888,
             "#fdca26"
            ],
            [
             1,
             "#f0f921"
            ]
           ],
           "sequentialminus": [
            [
             0,
             "#0d0887"
            ],
            [
             0.1111111111111111,
             "#46039f"
            ],
            [
             0.2222222222222222,
             "#7201a8"
            ],
            [
             0.3333333333333333,
             "#9c179e"
            ],
            [
             0.4444444444444444,
             "#bd3786"
            ],
            [
             0.5555555555555556,
             "#d8576b"
            ],
            [
             0.6666666666666666,
             "#ed7953"
            ],
            [
             0.7777777777777778,
             "#fb9f3a"
            ],
            [
             0.8888888888888888,
             "#fdca26"
            ],
            [
             1,
             "#f0f921"
            ]
           ]
          },
          "colorway": [
           "#636efa",
           "#EF553B",
           "#00cc96",
           "#ab63fa",
           "#FFA15A",
           "#19d3f3",
           "#FF6692",
           "#B6E880",
           "#FF97FF",
           "#FECB52"
          ],
          "font": {
           "color": "#2a3f5f"
          },
          "geo": {
           "bgcolor": "white",
           "lakecolor": "white",
           "landcolor": "#E5ECF6",
           "showlakes": true,
           "showland": true,
           "subunitcolor": "white"
          },
          "hoverlabel": {
           "align": "left"
          },
          "hovermode": "closest",
          "mapbox": {
           "style": "light"
          },
          "paper_bgcolor": "white",
          "plot_bgcolor": "#E5ECF6",
          "polar": {
           "angularaxis": {
            "gridcolor": "white",
            "linecolor": "white",
            "ticks": ""
           },
           "bgcolor": "#E5ECF6",
           "radialaxis": {
            "gridcolor": "white",
            "linecolor": "white",
            "ticks": ""
           }
          },
          "scene": {
           "xaxis": {
            "backgroundcolor": "#E5ECF6",
            "gridcolor": "white",
            "gridwidth": 2,
            "linecolor": "white",
            "showbackground": true,
            "ticks": "",
            "zerolinecolor": "white"
           },
           "yaxis": {
            "backgroundcolor": "#E5ECF6",
            "gridcolor": "white",
            "gridwidth": 2,
            "linecolor": "white",
            "showbackground": true,
            "ticks": "",
            "zerolinecolor": "white"
           },
           "zaxis": {
            "backgroundcolor": "#E5ECF6",
            "gridcolor": "white",
            "gridwidth": 2,
            "linecolor": "white",
            "showbackground": true,
            "ticks": "",
            "zerolinecolor": "white"
           }
          },
          "shapedefaults": {
           "line": {
            "color": "#2a3f5f"
           }
          },
          "ternary": {
           "aaxis": {
            "gridcolor": "white",
            "linecolor": "white",
            "ticks": ""
           },
           "baxis": {
            "gridcolor": "white",
            "linecolor": "white",
            "ticks": ""
           },
           "bgcolor": "#E5ECF6",
           "caxis": {
            "gridcolor": "white",
            "linecolor": "white",
            "ticks": ""
           }
          },
          "title": {
           "x": 0.05
          },
          "xaxis": {
           "automargin": true,
           "gridcolor": "white",
           "linecolor": "white",
           "ticks": "",
           "title": {
            "standoff": 15
           },
           "zerolinecolor": "white",
           "zerolinewidth": 2
          },
          "yaxis": {
           "automargin": true,
           "gridcolor": "white",
           "linecolor": "white",
           "ticks": "",
           "title": {
            "standoff": 15
           },
           "zerolinecolor": "white",
           "zerolinewidth": 2
          }
         }
        },
        "title": {
         "text": "Australia/Oceania Overview"
        },
        "xaxis": {
         "anchor": "y",
         "domain": [
          0,
          1
         ],
         "title": {
          "text": "Date"
         }
        },
        "yaxis": {
         "anchor": "x",
         "domain": [
          0,
          1
         ],
         "title": {
          "text": "value"
         }
        }
       }
      }
     },
     "metadata": {},
     "output_type": "display_data"
    },
    {
     "data": {
      "application/vnd.plotly.v1+json": {
       "config": {
        "plotlyServerURL": "https://plot.ly"
       },
       "data": [
        {
         "hovertemplate": "variable=NewCases<br>Date=%{x}<br>value=%{y}<extra></extra>",
         "legendgroup": "NewCases",
         "line": {
          "color": "#636efa",
          "dash": "solid"
         },
         "marker": {
          "symbol": "circle"
         },
         "mode": "markers+lines",
         "name": "NewCases",
         "orientation": "v",
         "showlegend": true,
         "type": "scatter",
         "x": [
          "2022-02-28T00:00:00",
          "2022-03-01T00:00:00",
          "2022-03-02T00:00:00",
          "2022-03-03T00:00:00",
          "2022-03-04T00:00:00",
          "2022-03-05T00:00:00",
          "2022-03-06T00:00:00",
          "2022-03-07T00:00:00",
          "2022-03-08T00:00:00",
          "2022-03-09T00:00:00",
          "2022-03-10T00:00:00",
          "2022-03-11T00:00:00"
         ],
         "xaxis": "x",
         "y": [
          6294,
          15236,
          5670,
          5670,
          5306,
          5573,
          3419,
          3847,
          12960,
          5018,
          4239,
          6304
         ],
         "yaxis": "y"
        },
        {
         "hovertemplate": "variable=NewDeaths<br>Date=%{x}<br>value=%{y}<extra></extra>",
         "legendgroup": "NewDeaths",
         "line": {
          "color": "#EF553B",
          "dash": "solid"
         },
         "marker": {
          "symbol": "circle"
         },
         "mode": "markers+lines",
         "name": "NewDeaths",
         "orientation": "v",
         "showlegend": true,
         "type": "scatter",
         "x": [
          "2022-02-28T00:00:00",
          "2022-03-01T00:00:00",
          "2022-03-02T00:00:00",
          "2022-03-03T00:00:00",
          "2022-03-04T00:00:00",
          "2022-03-05T00:00:00",
          "2022-03-06T00:00:00",
          "2022-03-07T00:00:00",
          "2022-03-08T00:00:00",
          "2022-03-09T00:00:00",
          "2022-03-10T00:00:00",
          "2022-03-11T00:00:00"
         ],
         "xaxis": "x",
         "y": [
          269,
          102,
          84,
          84,
          55,
          70,
          46,
          111,
          70,
          74,
          57,
          94
         ],
         "yaxis": "y"
        },
        {
         "hovertemplate": "variable=NewRecovered<br>Date=%{x}<br>value=%{y}<extra></extra>",
         "legendgroup": "NewRecovered",
         "line": {
          "color": "#00cc96",
          "dash": "solid"
         },
         "marker": {
          "symbol": "circle"
         },
         "mode": "markers+lines",
         "name": "NewRecovered",
         "orientation": "v",
         "showlegend": true,
         "type": "scatter",
         "x": [
          "2022-02-28T00:00:00",
          "2022-03-01T00:00:00",
          "2022-03-02T00:00:00",
          "2022-03-03T00:00:00",
          "2022-03-04T00:00:00",
          "2022-03-05T00:00:00",
          "2022-03-06T00:00:00",
          "2022-03-07T00:00:00",
          "2022-03-08T00:00:00",
          "2022-03-09T00:00:00",
          "2022-03-10T00:00:00",
          "2022-03-11T00:00:00"
         ],
         "xaxis": "x",
         "y": [
          12131,
          30823,
          8706,
          8706,
          7062,
          7228,
          5336,
          23320,
          23211,
          3663,
          7424,
          5102
         ],
         "yaxis": "y"
        }
       ],
       "layout": {
        "legend": {
         "title": {
          "text": "variable"
         },
         "tracegroupgap": 0
        },
        "template": {
         "data": {
          "bar": [
           {
            "error_x": {
             "color": "#2a3f5f"
            },
            "error_y": {
             "color": "#2a3f5f"
            },
            "marker": {
             "line": {
              "color": "#E5ECF6",
              "width": 0.5
             },
             "pattern": {
              "fillmode": "overlay",
              "size": 10,
              "solidity": 0.2
             }
            },
            "type": "bar"
           }
          ],
          "barpolar": [
           {
            "marker": {
             "line": {
              "color": "#E5ECF6",
              "width": 0.5
             },
             "pattern": {
              "fillmode": "overlay",
              "size": 10,
              "solidity": 0.2
             }
            },
            "type": "barpolar"
           }
          ],
          "carpet": [
           {
            "aaxis": {
             "endlinecolor": "#2a3f5f",
             "gridcolor": "white",
             "linecolor": "white",
             "minorgridcolor": "white",
             "startlinecolor": "#2a3f5f"
            },
            "baxis": {
             "endlinecolor": "#2a3f5f",
             "gridcolor": "white",
             "linecolor": "white",
             "minorgridcolor": "white",
             "startlinecolor": "#2a3f5f"
            },
            "type": "carpet"
           }
          ],
          "choropleth": [
           {
            "colorbar": {
             "outlinewidth": 0,
             "ticks": ""
            },
            "type": "choropleth"
           }
          ],
          "contour": [
           {
            "colorbar": {
             "outlinewidth": 0,
             "ticks": ""
            },
            "colorscale": [
             [
              0,
              "#0d0887"
             ],
             [
              0.1111111111111111,
              "#46039f"
             ],
             [
              0.2222222222222222,
              "#7201a8"
             ],
             [
              0.3333333333333333,
              "#9c179e"
             ],
             [
              0.4444444444444444,
              "#bd3786"
             ],
             [
              0.5555555555555556,
              "#d8576b"
             ],
             [
              0.6666666666666666,
              "#ed7953"
             ],
             [
              0.7777777777777778,
              "#fb9f3a"
             ],
             [
              0.8888888888888888,
              "#fdca26"
             ],
             [
              1,
              "#f0f921"
             ]
            ],
            "type": "contour"
           }
          ],
          "contourcarpet": [
           {
            "colorbar": {
             "outlinewidth": 0,
             "ticks": ""
            },
            "type": "contourcarpet"
           }
          ],
          "heatmap": [
           {
            "colorbar": {
             "outlinewidth": 0,
             "ticks": ""
            },
            "colorscale": [
             [
              0,
              "#0d0887"
             ],
             [
              0.1111111111111111,
              "#46039f"
             ],
             [
              0.2222222222222222,
              "#7201a8"
             ],
             [
              0.3333333333333333,
              "#9c179e"
             ],
             [
              0.4444444444444444,
              "#bd3786"
             ],
             [
              0.5555555555555556,
              "#d8576b"
             ],
             [
              0.6666666666666666,
              "#ed7953"
             ],
             [
              0.7777777777777778,
              "#fb9f3a"
             ],
             [
              0.8888888888888888,
              "#fdca26"
             ],
             [
              1,
              "#f0f921"
             ]
            ],
            "type": "heatmap"
           }
          ],
          "heatmapgl": [
           {
            "colorbar": {
             "outlinewidth": 0,
             "ticks": ""
            },
            "colorscale": [
             [
              0,
              "#0d0887"
             ],
             [
              0.1111111111111111,
              "#46039f"
             ],
             [
              0.2222222222222222,
              "#7201a8"
             ],
             [
              0.3333333333333333,
              "#9c179e"
             ],
             [
              0.4444444444444444,
              "#bd3786"
             ],
             [
              0.5555555555555556,
              "#d8576b"
             ],
             [
              0.6666666666666666,
              "#ed7953"
             ],
             [
              0.7777777777777778,
              "#fb9f3a"
             ],
             [
              0.8888888888888888,
              "#fdca26"
             ],
             [
              1,
              "#f0f921"
             ]
            ],
            "type": "heatmapgl"
           }
          ],
          "histogram": [
           {
            "marker": {
             "pattern": {
              "fillmode": "overlay",
              "size": 10,
              "solidity": 0.2
             }
            },
            "type": "histogram"
           }
          ],
          "histogram2d": [
           {
            "colorbar": {
             "outlinewidth": 0,
             "ticks": ""
            },
            "colorscale": [
             [
              0,
              "#0d0887"
             ],
             [
              0.1111111111111111,
              "#46039f"
             ],
             [
              0.2222222222222222,
              "#7201a8"
             ],
             [
              0.3333333333333333,
              "#9c179e"
             ],
             [
              0.4444444444444444,
              "#bd3786"
             ],
             [
              0.5555555555555556,
              "#d8576b"
             ],
             [
              0.6666666666666666,
              "#ed7953"
             ],
             [
              0.7777777777777778,
              "#fb9f3a"
             ],
             [
              0.8888888888888888,
              "#fdca26"
             ],
             [
              1,
              "#f0f921"
             ]
            ],
            "type": "histogram2d"
           }
          ],
          "histogram2dcontour": [
           {
            "colorbar": {
             "outlinewidth": 0,
             "ticks": ""
            },
            "colorscale": [
             [
              0,
              "#0d0887"
             ],
             [
              0.1111111111111111,
              "#46039f"
             ],
             [
              0.2222222222222222,
              "#7201a8"
             ],
             [
              0.3333333333333333,
              "#9c179e"
             ],
             [
              0.4444444444444444,
              "#bd3786"
             ],
             [
              0.5555555555555556,
              "#d8576b"
             ],
             [
              0.6666666666666666,
              "#ed7953"
             ],
             [
              0.7777777777777778,
              "#fb9f3a"
             ],
             [
              0.8888888888888888,
              "#fdca26"
             ],
             [
              1,
              "#f0f921"
             ]
            ],
            "type": "histogram2dcontour"
           }
          ],
          "mesh3d": [
           {
            "colorbar": {
             "outlinewidth": 0,
             "ticks": ""
            },
            "type": "mesh3d"
           }
          ],
          "parcoords": [
           {
            "line": {
             "colorbar": {
              "outlinewidth": 0,
              "ticks": ""
             }
            },
            "type": "parcoords"
           }
          ],
          "pie": [
           {
            "automargin": true,
            "type": "pie"
           }
          ],
          "scatter": [
           {
            "marker": {
             "colorbar": {
              "outlinewidth": 0,
              "ticks": ""
             }
            },
            "type": "scatter"
           }
          ],
          "scatter3d": [
           {
            "line": {
             "colorbar": {
              "outlinewidth": 0,
              "ticks": ""
             }
            },
            "marker": {
             "colorbar": {
              "outlinewidth": 0,
              "ticks": ""
             }
            },
            "type": "scatter3d"
           }
          ],
          "scattercarpet": [
           {
            "marker": {
             "colorbar": {
              "outlinewidth": 0,
              "ticks": ""
             }
            },
            "type": "scattercarpet"
           }
          ],
          "scattergeo": [
           {
            "marker": {
             "colorbar": {
              "outlinewidth": 0,
              "ticks": ""
             }
            },
            "type": "scattergeo"
           }
          ],
          "scattergl": [
           {
            "marker": {
             "colorbar": {
              "outlinewidth": 0,
              "ticks": ""
             }
            },
            "type": "scattergl"
           }
          ],
          "scattermapbox": [
           {
            "marker": {
             "colorbar": {
              "outlinewidth": 0,
              "ticks": ""
             }
            },
            "type": "scattermapbox"
           }
          ],
          "scatterpolar": [
           {
            "marker": {
             "colorbar": {
              "outlinewidth": 0,
              "ticks": ""
             }
            },
            "type": "scatterpolar"
           }
          ],
          "scatterpolargl": [
           {
            "marker": {
             "colorbar": {
              "outlinewidth": 0,
              "ticks": ""
             }
            },
            "type": "scatterpolargl"
           }
          ],
          "scatterternary": [
           {
            "marker": {
             "colorbar": {
              "outlinewidth": 0,
              "ticks": ""
             }
            },
            "type": "scatterternary"
           }
          ],
          "surface": [
           {
            "colorbar": {
             "outlinewidth": 0,
             "ticks": ""
            },
            "colorscale": [
             [
              0,
              "#0d0887"
             ],
             [
              0.1111111111111111,
              "#46039f"
             ],
             [
              0.2222222222222222,
              "#7201a8"
             ],
             [
              0.3333333333333333,
              "#9c179e"
             ],
             [
              0.4444444444444444,
              "#bd3786"
             ],
             [
              0.5555555555555556,
              "#d8576b"
             ],
             [
              0.6666666666666666,
              "#ed7953"
             ],
             [
              0.7777777777777778,
              "#fb9f3a"
             ],
             [
              0.8888888888888888,
              "#fdca26"
             ],
             [
              1,
              "#f0f921"
             ]
            ],
            "type": "surface"
           }
          ],
          "table": [
           {
            "cells": {
             "fill": {
              "color": "#EBF0F8"
             },
             "line": {
              "color": "white"
             }
            },
            "header": {
             "fill": {
              "color": "#C8D4E3"
             },
             "line": {
              "color": "white"
             }
            },
            "type": "table"
           }
          ]
         },
         "layout": {
          "annotationdefaults": {
           "arrowcolor": "#2a3f5f",
           "arrowhead": 0,
           "arrowwidth": 1
          },
          "autotypenumbers": "strict",
          "coloraxis": {
           "colorbar": {
            "outlinewidth": 0,
            "ticks": ""
           }
          },
          "colorscale": {
           "diverging": [
            [
             0,
             "#8e0152"
            ],
            [
             0.1,
             "#c51b7d"
            ],
            [
             0.2,
             "#de77ae"
            ],
            [
             0.3,
             "#f1b6da"
            ],
            [
             0.4,
             "#fde0ef"
            ],
            [
             0.5,
             "#f7f7f7"
            ],
            [
             0.6,
             "#e6f5d0"
            ],
            [
             0.7,
             "#b8e186"
            ],
            [
             0.8,
             "#7fbc41"
            ],
            [
             0.9,
             "#4d9221"
            ],
            [
             1,
             "#276419"
            ]
           ],
           "sequential": [
            [
             0,
             "#0d0887"
            ],
            [
             0.1111111111111111,
             "#46039f"
            ],
            [
             0.2222222222222222,
             "#7201a8"
            ],
            [
             0.3333333333333333,
             "#9c179e"
            ],
            [
             0.4444444444444444,
             "#bd3786"
            ],
            [
             0.5555555555555556,
             "#d8576b"
            ],
            [
             0.6666666666666666,
             "#ed7953"
            ],
            [
             0.7777777777777778,
             "#fb9f3a"
            ],
            [
             0.8888888888888888,
             "#fdca26"
            ],
            [
             1,
             "#f0f921"
            ]
           ],
           "sequentialminus": [
            [
             0,
             "#0d0887"
            ],
            [
             0.1111111111111111,
             "#46039f"
            ],
            [
             0.2222222222222222,
             "#7201a8"
            ],
            [
             0.3333333333333333,
             "#9c179e"
            ],
            [
             0.4444444444444444,
             "#bd3786"
            ],
            [
             0.5555555555555556,
             "#d8576b"
            ],
            [
             0.6666666666666666,
             "#ed7953"
            ],
            [
             0.7777777777777778,
             "#fb9f3a"
            ],
            [
             0.8888888888888888,
             "#fdca26"
            ],
            [
             1,
             "#f0f921"
            ]
           ]
          },
          "colorway": [
           "#636efa",
           "#EF553B",
           "#00cc96",
           "#ab63fa",
           "#FFA15A",
           "#19d3f3",
           "#FF6692",
           "#B6E880",
           "#FF97FF",
           "#FECB52"
          ],
          "font": {
           "color": "#2a3f5f"
          },
          "geo": {
           "bgcolor": "white",
           "lakecolor": "white",
           "landcolor": "#E5ECF6",
           "showlakes": true,
           "showland": true,
           "subunitcolor": "white"
          },
          "hoverlabel": {
           "align": "left"
          },
          "hovermode": "closest",
          "mapbox": {
           "style": "light"
          },
          "paper_bgcolor": "white",
          "plot_bgcolor": "#E5ECF6",
          "polar": {
           "angularaxis": {
            "gridcolor": "white",
            "linecolor": "white",
            "ticks": ""
           },
           "bgcolor": "#E5ECF6",
           "radialaxis": {
            "gridcolor": "white",
            "linecolor": "white",
            "ticks": ""
           }
          },
          "scene": {
           "xaxis": {
            "backgroundcolor": "#E5ECF6",
            "gridcolor": "white",
            "gridwidth": 2,
            "linecolor": "white",
            "showbackground": true,
            "ticks": "",
            "zerolinecolor": "white"
           },
           "yaxis": {
            "backgroundcolor": "#E5ECF6",
            "gridcolor": "white",
            "gridwidth": 2,
            "linecolor": "white",
            "showbackground": true,
            "ticks": "",
            "zerolinecolor": "white"
           },
           "zaxis": {
            "backgroundcolor": "#E5ECF6",
            "gridcolor": "white",
            "gridwidth": 2,
            "linecolor": "white",
            "showbackground": true,
            "ticks": "",
            "zerolinecolor": "white"
           }
          },
          "shapedefaults": {
           "line": {
            "color": "#2a3f5f"
           }
          },
          "ternary": {
           "aaxis": {
            "gridcolor": "white",
            "linecolor": "white",
            "ticks": ""
           },
           "baxis": {
            "gridcolor": "white",
            "linecolor": "white",
            "ticks": ""
           },
           "bgcolor": "#E5ECF6",
           "caxis": {
            "gridcolor": "white",
            "linecolor": "white",
            "ticks": ""
           }
          },
          "title": {
           "x": 0.05
          },
          "xaxis": {
           "automargin": true,
           "gridcolor": "white",
           "linecolor": "white",
           "ticks": "",
           "title": {
            "standoff": 15
           },
           "zerolinecolor": "white",
           "zerolinewidth": 2
          },
          "yaxis": {
           "automargin": true,
           "gridcolor": "white",
           "linecolor": "white",
           "ticks": "",
           "title": {
            "standoff": 15
           },
           "zerolinecolor": "white",
           "zerolinewidth": 2
          }
         }
        },
        "title": {
         "text": "Africa Overview"
        },
        "xaxis": {
         "anchor": "y",
         "domain": [
          0,
          1
         ],
         "title": {
          "text": "Date"
         }
        },
        "yaxis": {
         "anchor": "x",
         "domain": [
          0,
          1
         ],
         "title": {
          "text": "value"
         }
        }
       }
      }
     },
     "metadata": {},
     "output_type": "display_data"
    }
   ],
   "source": [
    "for continent in continents:\n",
    "    continent_df_day = df_covid_by_day_plots[df_covid_by_day_plots['Continent'] == continent]\n",
    "    \n",
    "    #continent_df_day.set_index('Date',inplace=True)\n",
    "    continent_df_day = continent_df_day.groupby(by='Date').sum().reset_index()\n",
    "    \n",
    "    title = continent + \" Overview\"\n",
    "    fig = px.line(continent_df_day, x=\"Date\", y=['NewCases', 'NewDeaths','NewRecovered'], markers = True, title=title)\n",
    "    fig.show()"
   ]
  },
  {
   "cell_type": "markdown",
   "metadata": {},
   "source": [
    "---"
   ]
  },
  {
   "cell_type": "markdown",
   "metadata": {},
   "source": [
    "### Scatter plot"
   ]
  },
  {
   "cell_type": "markdown",
   "metadata": {},
   "source": [
    "Scatterplot để trực quan về mối quan hệ của hai cặp thông số:\n",
    "- Tổng nhiễm / Tổng chết trên toàn thế giới.\n",
    "- Ca nhiễm / ca chết trong 7 ngày gần đây / 1 triệu dân trên toàn thế giới."
   ]
  },
  {
   "cell_type": "code",
   "execution_count": 87,
   "metadata": {},
   "outputs": [
    {
     "data": {
      "application/vnd.plotly.v1+json": {
       "config": {
        "plotlyServerURL": "https://plot.ly"
       },
       "data": [
        {
         "hovertemplate": "Country=Niue<br>TotalCases=%{x}<br>TotalDeaths=%{y}<extra></extra>",
         "legendgroup": "Niue",
         "marker": {
          "color": "#636efa",
          "symbol": "circle"
         },
         "mode": "markers",
         "name": "Niue",
         "orientation": "v",
         "showlegend": true,
         "type": "scatter",
         "x": [
          1,
          1
         ],
         "xaxis": "x",
         "y": [
          0,
          0
         ],
         "yaxis": "y"
        },
        {
         "hovertemplate": "Country=USA<br>TotalCases=%{x}<br>TotalDeaths=%{y}<extra></extra>",
         "legendgroup": "USA",
         "marker": {
          "color": "#EF553B",
          "symbol": "circle"
         },
         "mode": "markers",
         "name": "USA",
         "orientation": "v",
         "showlegend": true,
         "type": "scatter",
         "x": [
          81154960
         ],
         "xaxis": "x",
         "y": [
          993044
         ],
         "yaxis": "y"
        },
        {
         "hovertemplate": "Country=India<br>TotalCases=%{x}<br>TotalDeaths=%{y}<extra></extra>",
         "legendgroup": "India",
         "marker": {
          "color": "#00cc96",
          "symbol": "circle"
         },
         "mode": "markers",
         "name": "India",
         "orientation": "v",
         "showlegend": true,
         "type": "scatter",
         "x": [
          42987875
         ],
         "xaxis": "x",
         "y": [
          515833
         ],
         "yaxis": "y"
        },
        {
         "hovertemplate": "Country=Brazil<br>TotalCases=%{x}<br>TotalDeaths=%{y}<extra></extra>",
         "legendgroup": "Brazil",
         "marker": {
          "color": "#ab63fa",
          "symbol": "circle"
         },
         "mode": "markers",
         "name": "Brazil",
         "orientation": "v",
         "showlegend": true,
         "type": "scatter",
         "x": [
          29305114
         ],
         "xaxis": "x",
         "y": [
          654612
         ],
         "yaxis": "y"
        },
        {
         "hovertemplate": "Country=France<br>TotalCases=%{x}<br>TotalDeaths=%{y}<extra></extra>",
         "legendgroup": "France",
         "marker": {
          "color": "#FFA15A",
          "symbol": "circle"
         },
         "mode": "markers",
         "name": "France",
         "orientation": "v",
         "showlegend": true,
         "type": "scatter",
         "x": [
          23381279
         ],
         "xaxis": "x",
         "y": [
          140029
         ],
         "yaxis": "y"
        },
        {
         "hovertemplate": "Country=UK<br>TotalCases=%{x}<br>TotalDeaths=%{y}<extra></extra>",
         "legendgroup": "UK",
         "marker": {
          "color": "#19d3f3",
          "symbol": "circle"
         },
         "mode": "markers",
         "name": "UK",
         "orientation": "v",
         "showlegend": true,
         "type": "scatter",
         "x": [
          19530485
         ],
         "xaxis": "x",
         "y": [
          162738
         ],
         "yaxis": "y"
        },
        {
         "hovertemplate": "Country=Russia<br>TotalCases=%{x}<br>TotalDeaths=%{y}<extra></extra>",
         "legendgroup": "Russia",
         "marker": {
          "color": "#FF6692",
          "symbol": "circle"
         },
         "mode": "markers",
         "name": "Russia",
         "orientation": "v",
         "showlegend": true,
         "type": "scatter",
         "x": [
          17242043
         ],
         "xaxis": "x",
         "y": [
          359585
         ],
         "yaxis": "y"
        },
        {
         "hovertemplate": "Country=Germany<br>TotalCases=%{x}<br>TotalDeaths=%{y}<extra></extra>",
         "legendgroup": "Germany",
         "marker": {
          "color": "#B6E880",
          "symbol": "circle"
         },
         "mode": "markers",
         "name": "Germany",
         "orientation": "v",
         "showlegend": true,
         "type": "scatter",
         "x": [
          16881948
         ],
         "xaxis": "x",
         "y": [
          125911
         ],
         "yaxis": "y"
        },
        {
         "hovertemplate": "Country= Turkey<br>TotalCases=%{x}<br>TotalDeaths=%{y}<extra></extra>",
         "legendgroup": " Turkey",
         "marker": {
          "color": "#FF97FF",
          "symbol": "circle"
         },
         "mode": "markers",
         "name": " Turkey",
         "orientation": "v",
         "showlegend": true,
         "type": "scatter",
         "x": [
          14513774
         ],
         "xaxis": "x",
         "y": [
          96217
         ],
         "yaxis": "y"
        },
        {
         "hovertemplate": "Country=Italy<br>TotalCases=%{x}<br>TotalDeaths=%{y}<extra></extra>",
         "legendgroup": "Italy",
         "marker": {
          "color": "#FECB52",
          "symbol": "circle"
         },
         "mode": "markers",
         "name": "Italy",
         "orientation": "v",
         "showlegend": true,
         "type": "scatter",
         "x": [
          13269303
         ],
         "xaxis": "x",
         "y": [
          156649
         ],
         "yaxis": "y"
        },
        {
         "hovertemplate": "Country=Spain<br>TotalCases=%{x}<br>TotalDeaths=%{y}<extra></extra>",
         "legendgroup": "Spain",
         "marker": {
          "color": "#636efa",
          "symbol": "circle"
         },
         "mode": "markers",
         "name": "Spain",
         "orientation": "v",
         "showlegend": true,
         "type": "scatter",
         "x": [
          11223974
         ],
         "xaxis": "x",
         "y": [
          101135
         ],
         "yaxis": "y"
        },
        {
         "hovertemplate": "Country=Argentina<br>TotalCases=%{x}<br>TotalDeaths=%{y}<extra></extra>",
         "legendgroup": "Argentina",
         "marker": {
          "color": "#EF553B",
          "symbol": "circle"
         },
         "mode": "markers",
         "name": "Argentina",
         "orientation": "v",
         "showlegend": true,
         "type": "scatter",
         "x": [
          8967210
         ],
         "xaxis": "x",
         "y": [
          127051
         ],
         "yaxis": "y"
        },
        {
         "hovertemplate": "Country=Iran<br>TotalCases=%{x}<br>TotalDeaths=%{y}<extra></extra>",
         "legendgroup": "Iran",
         "marker": {
          "color": "#00cc96",
          "symbol": "circle"
         },
         "mode": "markers",
         "name": "Iran",
         "orientation": "v",
         "showlegend": true,
         "type": "scatter",
         "x": [
          7117544
         ],
         "xaxis": "x",
         "y": [
          138692
         ],
         "yaxis": "y"
        },
        {
         "hovertemplate": "Country=Netherlands<br>TotalCases=%{x}<br>TotalDeaths=%{y}<extra></extra>",
         "legendgroup": "Netherlands",
         "marker": {
          "color": "#ab63fa",
          "symbol": "circle"
         },
         "mode": "markers",
         "name": "Netherlands",
         "orientation": "v",
         "showlegend": true,
         "type": "scatter",
         "x": [
          7055814
         ],
         "xaxis": "x",
         "y": [
          21688
         ],
         "yaxis": "y"
        },
        {
         "hovertemplate": "Country=Colombia<br>TotalCases=%{x}<br>TotalDeaths=%{y}<extra></extra>",
         "legendgroup": "Colombia",
         "marker": {
          "color": "#FFA15A",
          "symbol": "circle"
         },
         "mode": "markers",
         "name": "Colombia",
         "orientation": "v",
         "showlegend": true,
         "type": "scatter",
         "x": [
          6075656
         ],
         "xaxis": "x",
         "y": [
          139255
         ],
         "yaxis": "y"
        },
        {
         "hovertemplate": "Country=Indonesia<br>TotalCases=%{x}<br>TotalDeaths=%{y}<extra></extra>",
         "legendgroup": "Indonesia",
         "marker": {
          "color": "#19d3f3",
          "symbol": "circle"
         },
         "mode": "markers",
         "name": "Indonesia",
         "orientation": "v",
         "showlegend": true,
         "type": "scatter",
         "x": [
          5864010
         ],
         "xaxis": "x",
         "y": [
          151703
         ],
         "yaxis": "y"
        },
        {
         "hovertemplate": "Country=S. Korea<br>TotalCases=%{x}<br>TotalDeaths=%{y}<extra></extra>",
         "legendgroup": "S. Korea",
         "marker": {
          "color": "#FF6692",
          "symbol": "circle"
         },
         "mode": "markers",
         "name": "S. Korea",
         "orientation": "v",
         "showlegend": true,
         "type": "scatter",
         "x": [
          5822626
         ],
         "xaxis": "x",
         "y": [
          9875
         ],
         "yaxis": "y"
        },
        {
         "hovertemplate": "Country=Poland<br>TotalCases=%{x}<br>TotalDeaths=%{y}<extra></extra>",
         "legendgroup": "Poland",
         "marker": {
          "color": "#B6E880",
          "symbol": "circle"
         },
         "mode": "markers",
         "name": "Poland",
         "orientation": "v",
         "showlegend": true,
         "type": "scatter",
         "x": [
          5799993
         ],
         "xaxis": "x",
         "y": [
          113307
         ],
         "yaxis": "y"
        },
        {
         "hovertemplate": "Country=Japan<br>TotalCases=%{x}<br>TotalDeaths=%{y}<extra></extra>",
         "legendgroup": "Japan",
         "marker": {
          "color": "#FF97FF",
          "symbol": "circle"
         },
         "mode": "markers",
         "name": "Japan",
         "orientation": "v",
         "showlegend": true,
         "type": "scatter",
         "x": [
          5609096
         ],
         "xaxis": "x",
         "y": [
          25697
         ],
         "yaxis": "y"
        },
        {
         "hovertemplate": "Country=Mexico<br>TotalCases=%{x}<br>TotalDeaths=%{y}<extra></extra>",
         "legendgroup": "Mexico",
         "marker": {
          "color": "#FECB52",
          "symbol": "circle"
         },
         "mode": "markers",
         "name": "Mexico",
         "orientation": "v",
         "showlegend": true,
         "type": "scatter",
         "x": [
          5591871
         ],
         "xaxis": "x",
         "y": [
          320607
         ],
         "yaxis": "y"
        },
        {
         "hovertemplate": "Country=Vietnam<br>TotalCases=%{x}<br>TotalDeaths=%{y}<extra></extra>",
         "legendgroup": "Vietnam",
         "marker": {
          "color": "#636efa",
          "symbol": "circle"
         },
         "mode": "markers",
         "name": "Vietnam",
         "orientation": "v",
         "showlegend": true,
         "type": "scatter",
         "x": [
          5448935
         ],
         "xaxis": "x",
         "y": [
          41228
         ],
         "yaxis": "y"
        },
        {
         "hovertemplate": "Country=Ukraine<br>TotalCases=%{x}<br>TotalDeaths=%{y}<extra></extra>",
         "legendgroup": "Ukraine",
         "marker": {
          "color": "#EF553B",
          "symbol": "circle"
         },
         "mode": "markers",
         "name": "Ukraine",
         "orientation": "v",
         "showlegend": true,
         "type": "scatter",
         "x": [
          4894331
         ],
         "xaxis": "x",
         "y": [
          106985
         ],
         "yaxis": "y"
        },
        {
         "hovertemplate": "Country=Malaysia<br>TotalCases=%{x}<br>TotalDeaths=%{y}<extra></extra>",
         "legendgroup": "Malaysia",
         "marker": {
          "color": "#00cc96",
          "symbol": "circle"
         },
         "mode": "markers",
         "name": "Malaysia",
         "orientation": "v",
         "showlegend": true,
         "type": "scatter",
         "x": [
          3774786
         ],
         "xaxis": "x",
         "y": [
          33643
         ],
         "yaxis": "y"
        },
        {
         "hovertemplate": "Country=Israel<br>TotalCases=%{x}<br>TotalDeaths=%{y}<extra></extra>",
         "legendgroup": "Israel",
         "marker": {
          "color": "#ab63fa",
          "symbol": "circle"
         },
         "mode": "markers",
         "name": "Israel",
         "orientation": "v",
         "showlegend": true,
         "type": "scatter",
         "x": [
          3707477
         ],
         "xaxis": "x",
         "y": [
          10359
         ],
         "yaxis": "y"
        },
        {
         "hovertemplate": "Country=South Africa<br>TotalCases=%{x}<br>TotalDeaths=%{y}<extra></extra>",
         "legendgroup": "South Africa",
         "marker": {
          "color": "#FFA15A",
          "symbol": "circle"
         },
         "mode": "markers",
         "name": "South Africa",
         "orientation": "v",
         "showlegend": true,
         "type": "scatter",
         "x": [
          3691962
         ],
         "xaxis": "x",
         "y": [
          99709
         ],
         "yaxis": "y"
        },
        {
         "hovertemplate": "Country=Czechia<br>TotalCases=%{x}<br>TotalDeaths=%{y}<extra></extra>",
         "legendgroup": "Czechia",
         "marker": {
          "color": "#19d3f3",
          "symbol": "circle"
         },
         "mode": "markers",
         "name": "Czechia",
         "orientation": "v",
         "showlegend": true,
         "type": "scatter",
         "x": [
          3670406
         ],
         "xaxis": "x",
         "y": [
          39121
         ],
         "yaxis": "y"
        },
        {
         "hovertemplate": "Country=Philippines<br>TotalCases=%{x}<br>TotalDeaths=%{y}<extra></extra>",
         "legendgroup": "Philippines",
         "marker": {
          "color": "#FF6692",
          "symbol": "circle"
         },
         "mode": "markers",
         "name": "Philippines",
         "orientation": "v",
         "showlegend": true,
         "type": "scatter",
         "x": [
          3669522
         ],
         "xaxis": "x",
         "y": [
          57317
         ],
         "yaxis": "y"
        },
        {
         "hovertemplate": "Country=Belgium<br>TotalCases=%{x}<br>TotalDeaths=%{y}<extra></extra>",
         "legendgroup": "Belgium",
         "marker": {
          "color": "#B6E880",
          "symbol": "circle"
         },
         "mode": "markers",
         "name": "Belgium",
         "orientation": "v",
         "showlegend": true,
         "type": "scatter",
         "x": [
          3629671
         ],
         "xaxis": "x",
         "y": [
          30380
         ],
         "yaxis": "y"
        },
        {
         "hovertemplate": "Country=Australia<br>TotalCases=%{x}<br>TotalDeaths=%{y}<extra></extra>",
         "legendgroup": "Australia",
         "marker": {
          "color": "#FF97FF",
          "symbol": "circle"
         },
         "mode": "markers",
         "name": "Australia",
         "orientation": "v",
         "showlegend": true,
         "type": "scatter",
         "x": [
          3535620
         ],
         "xaxis": "x",
         "y": [
          5549
         ],
         "yaxis": "y"
        },
        {
         "hovertemplate": "Country=Peru<br>TotalCases=%{x}<br>TotalDeaths=%{y}<extra></extra>",
         "legendgroup": "Peru",
         "marker": {
          "color": "#FECB52",
          "symbol": "circle"
         },
         "mode": "markers",
         "name": "Peru",
         "orientation": "v",
         "showlegend": true,
         "type": "scatter",
         "x": [
          3534687
         ],
         "xaxis": "x",
         "y": [
          211423
         ],
         "yaxis": "y"
        },
        {
         "hovertemplate": "Country=Portugal<br>TotalCases=%{x}<br>TotalDeaths=%{y}<extra></extra>",
         "legendgroup": "Portugal",
         "marker": {
          "color": "#636efa",
          "symbol": "circle"
         },
         "mode": "markers",
         "name": "Portugal",
         "orientation": "v",
         "showlegend": true,
         "type": "scatter",
         "x": [
          3380263
         ],
         "xaxis": "x",
         "y": [
          21285
         ],
         "yaxis": "y"
        },
        {
         "hovertemplate": "Country=Canada<br>TotalCases=%{x}<br>TotalDeaths=%{y}<extra></extra>",
         "legendgroup": "Canada",
         "marker": {
          "color": "#EF553B",
          "symbol": "circle"
         },
         "mode": "markers",
         "name": "Canada",
         "orientation": "v",
         "showlegend": true,
         "type": "scatter",
         "x": [
          3357009
         ],
         "xaxis": "x",
         "y": [
          36855
         ],
         "yaxis": "y"
        },
        {
         "hovertemplate": "Country=Chile<br>TotalCases=%{x}<br>TotalDeaths=%{y}<extra></extra>",
         "legendgroup": "Chile",
         "marker": {
          "color": "#00cc96",
          "symbol": "circle"
         },
         "mode": "markers",
         "name": "Chile",
         "orientation": "v",
         "showlegend": true,
         "type": "scatter",
         "x": [
          3269062
         ],
         "xaxis": "x",
         "y": [
          43659
         ],
         "yaxis": "y"
        },
        {
         "hovertemplate": "Country=Thailand<br>TotalCases=%{x}<br>TotalDeaths=%{y}<extra></extra>",
         "legendgroup": "Thailand",
         "marker": {
          "color": "#ab63fa",
          "symbol": "circle"
         },
         "mode": "markers",
         "name": "Thailand",
         "orientation": "v",
         "showlegend": true,
         "type": "scatter",
         "x": [
          3136649
         ],
         "xaxis": "x",
         "y": [
          23578
         ],
         "yaxis": "y"
        },
        {
         "hovertemplate": "Country=Austria<br>TotalCases=%{x}<br>TotalDeaths=%{y}<extra></extra>",
         "legendgroup": "Austria",
         "marker": {
          "color": "#FFA15A",
          "symbol": "circle"
         },
         "mode": "markers",
         "name": "Austria",
         "orientation": "v",
         "showlegend": true,
         "type": "scatter",
         "x": [
          3071402
         ],
         "xaxis": "x",
         "y": [
          15163
         ],
         "yaxis": "y"
        },
        {
         "hovertemplate": "Country=Switzerland<br>TotalCases=%{x}<br>TotalDeaths=%{y}<extra></extra>",
         "legendgroup": "Switzerland",
         "marker": {
          "color": "#19d3f3",
          "symbol": "circle"
         },
         "mode": "markers",
         "name": "Switzerland",
         "orientation": "v",
         "showlegend": true,
         "type": "scatter",
         "x": [
          3058800
         ],
         "xaxis": "x",
         "y": [
          13366
         ],
         "yaxis": "y"
        },
        {
         "hovertemplate": "Country=Denmark<br>TotalCases=%{x}<br>TotalDeaths=%{y}<extra></extra>",
         "legendgroup": "Denmark",
         "marker": {
          "color": "#FF6692",
          "symbol": "circle"
         },
         "mode": "markers",
         "name": "Denmark",
         "orientation": "v",
         "showlegend": true,
         "type": "scatter",
         "x": [
          2796420
         ],
         "xaxis": "x",
         "y": [
          5076
         ],
         "yaxis": "y"
        },
        {
         "hovertemplate": "Country=Romania<br>TotalCases=%{x}<br>TotalDeaths=%{y}<extra></extra>",
         "legendgroup": "Romania",
         "marker": {
          "color": "#B6E880",
          "symbol": "circle"
         },
         "mode": "markers",
         "name": "Romania",
         "orientation": "v",
         "showlegend": true,
         "type": "scatter",
         "x": [
          2787625
         ],
         "xaxis": "x",
         "y": [
          64288
         ],
         "yaxis": "y"
        },
        {
         "hovertemplate": "Country=Greece<br>TotalCases=%{x}<br>TotalDeaths=%{y}<extra></extra>",
         "legendgroup": "Greece",
         "marker": {
          "color": "#FF97FF",
          "symbol": "circle"
         },
         "mode": "markers",
         "name": "Greece",
         "orientation": "v",
         "showlegend": true,
         "type": "scatter",
         "x": [
          2604626
         ],
         "xaxis": "x",
         "y": [
          26473
         ],
         "yaxis": "y"
        },
        {
         "hovertemplate": "Country=Sweden<br>TotalCases=%{x}<br>TotalDeaths=%{y}<extra></extra>",
         "legendgroup": "Sweden",
         "marker": {
          "color": "#FECB52",
          "symbol": "circle"
         },
         "mode": "markers",
         "name": "Sweden",
         "orientation": "v",
         "showlegend": true,
         "type": "scatter",
         "x": [
          2466577
         ],
         "xaxis": "x",
         "y": [
          17765
         ],
         "yaxis": "y"
        },
        {
         "hovertemplate": "Country=Iraq<br>TotalCases=%{x}<br>TotalDeaths=%{y}<extra></extra>",
         "legendgroup": "Iraq",
         "marker": {
          "color": "#636efa",
          "symbol": "circle"
         },
         "mode": "markers",
         "name": "Iraq",
         "orientation": "v",
         "showlegend": true,
         "type": "scatter",
         "x": [
          2311926
         ],
         "xaxis": "x",
         "y": [
          25094
         ],
         "yaxis": "y"
        },
        {
         "hovertemplate": "Country=Bangladesh<br>TotalCases=%{x}<br>TotalDeaths=%{y}<extra></extra>",
         "legendgroup": "Bangladesh",
         "marker": {
          "color": "#EF553B",
          "symbol": "circle"
         },
         "mode": "markers",
         "name": "Bangladesh",
         "orientation": "v",
         "showlegend": true,
         "type": "scatter",
         "x": [
          1949055
         ],
         "xaxis": "x",
         "y": [
          29105
         ],
         "yaxis": "y"
        },
        {
         "hovertemplate": "Country=Serbia<br>TotalCases=%{x}<br>TotalDeaths=%{y}<extra></extra>",
         "legendgroup": "Serbia",
         "marker": {
          "color": "#00cc96",
          "symbol": "circle"
         },
         "mode": "markers",
         "name": "Serbia",
         "orientation": "v",
         "showlegend": true,
         "type": "scatter",
         "x": [
          1937183
         ],
         "xaxis": "x",
         "y": [
          15552
         ],
         "yaxis": "y"
        },
        {
         "hovertemplate": "Country=Hungary<br>TotalCases=%{x}<br>TotalDeaths=%{y}<extra></extra>",
         "legendgroup": "Hungary",
         "marker": {
          "color": "#ab63fa",
          "symbol": "circle"
         },
         "mode": "markers",
         "name": "Hungary",
         "orientation": "v",
         "showlegend": true,
         "type": "scatter",
         "x": [
          1814362
         ],
         "xaxis": "x",
         "y": [
          44653
         ],
         "yaxis": "y"
        },
        {
         "hovertemplate": "Country=Jordan<br>TotalCases=%{x}<br>TotalDeaths=%{y}<extra></extra>",
         "legendgroup": "Jordan",
         "marker": {
          "color": "#FFA15A",
          "symbol": "circle"
         },
         "mode": "markers",
         "name": "Jordan",
         "orientation": "v",
         "showlegend": true,
         "type": "scatter",
         "x": [
          1654677
         ],
         "xaxis": "x",
         "y": [
          13882
         ],
         "yaxis": "y"
        },
        {
         "hovertemplate": "Country=Georgia<br>TotalCases=%{x}<br>TotalDeaths=%{y}<extra></extra>",
         "legendgroup": "Georgia",
         "marker": {
          "color": "#19d3f3",
          "symbol": "circle"
         },
         "mode": "markers",
         "name": "Georgia",
         "orientation": "v",
         "showlegend": true,
         "type": "scatter",
         "x": [
          1633443
         ],
         "xaxis": "x",
         "y": [
          16505
         ],
         "yaxis": "y"
        },
        {
         "hovertemplate": "Country=Slovakia<br>TotalCases=%{x}<br>TotalDeaths=%{y}<extra></extra>",
         "legendgroup": "Slovakia",
         "marker": {
          "color": "#FF6692",
          "symbol": "circle"
         },
         "mode": "markers",
         "name": "Slovakia",
         "orientation": "v",
         "showlegend": true,
         "type": "scatter",
         "x": [
          1556433
         ],
         "xaxis": "x",
         "y": [
          18847
         ],
         "yaxis": "y"
        },
        {
         "hovertemplate": "Country= Pakistan<br>TotalCases=%{x}<br>TotalDeaths=%{y}<extra></extra>",
         "legendgroup": " Pakistan",
         "marker": {
          "color": "#B6E880",
          "symbol": "circle"
         },
         "mode": "markers",
         "name": " Pakistan",
         "orientation": "v",
         "showlegend": true,
         "type": "scatter",
         "x": [
          1517512
         ],
         "xaxis": "x",
         "y": [
          30298
         ],
         "yaxis": "y"
        },
        {
         "hovertemplate": "Country=Norway<br>TotalCases=%{x}<br>TotalDeaths=%{y}<extra></extra>",
         "legendgroup": "Norway",
         "marker": {
          "color": "#FF97FF",
          "symbol": "circle"
         },
         "mode": "markers",
         "name": "Norway",
         "orientation": "v",
         "showlegend": true,
         "type": "scatter",
         "x": [
          1346777
         ],
         "xaxis": "x",
         "y": [
          1753
         ],
         "yaxis": "y"
        },
        {
         "hovertemplate": "Country=Ireland<br>TotalCases=%{x}<br>TotalDeaths=%{y}<extra></extra>",
         "legendgroup": "Ireland",
         "marker": {
          "color": "#FECB52",
          "symbol": "circle"
         },
         "mode": "markers",
         "name": "Ireland",
         "orientation": "v",
         "showlegend": true,
         "type": "scatter",
         "x": [
          1341826
         ],
         "xaxis": "x",
         "y": [
          6611
         ],
         "yaxis": "y"
        },
        {
         "hovertemplate": "Country=Kazakhstan<br>TotalCases=%{x}<br>TotalDeaths=%{y}<extra></extra>",
         "legendgroup": "Kazakhstan",
         "marker": {
          "color": "#636efa",
          "symbol": "circle"
         },
         "mode": "markers",
         "name": "Kazakhstan",
         "orientation": "v",
         "showlegend": true,
         "type": "scatter",
         "x": [
          1304220
         ],
         "xaxis": "x",
         "y": [
          13642
         ],
         "yaxis": "y"
        },
        {
         "hovertemplate": "Country=Morocco<br>TotalCases=%{x}<br>TotalDeaths=%{y}<extra></extra>",
         "legendgroup": "Morocco",
         "marker": {
          "color": "#EF553B",
          "symbol": "circle"
         },
         "mode": "markers",
         "name": "Morocco",
         "orientation": "v",
         "showlegend": true,
         "type": "scatter",
         "x": [
          1161980
         ],
         "xaxis": "x",
         "y": [
          16034
         ],
         "yaxis": "y"
        },
        {
         "hovertemplate": "Country=Bulgaria<br>TotalCases=%{x}<br>TotalDeaths=%{y}<extra></extra>",
         "legendgroup": "Bulgaria",
         "marker": {
          "color": "#00cc96",
          "symbol": "circle"
         },
         "mode": "markers",
         "name": "Bulgaria",
         "orientation": "v",
         "showlegend": true,
         "type": "scatter",
         "x": [
          1111216
         ],
         "xaxis": "x",
         "y": [
          36069
         ],
         "yaxis": "y"
        },
        {
         "hovertemplate": "Country=Lebanon<br>TotalCases=%{x}<br>TotalDeaths=%{y}<extra></extra>",
         "legendgroup": "Lebanon",
         "marker": {
          "color": "#ab63fa",
          "symbol": "circle"
         },
         "mode": "markers",
         "name": "Lebanon",
         "orientation": "v",
         "showlegend": true,
         "type": "scatter",
         "x": [
          1083351
         ],
         "xaxis": "x",
         "y": [
          10193
         ],
         "yaxis": "y"
        },
        {
         "hovertemplate": "Country=Cuba<br>TotalCases=%{x}<br>TotalDeaths=%{y}<extra></extra>",
         "legendgroup": "Cuba",
         "marker": {
          "color": "#FFA15A",
          "symbol": "circle"
         },
         "mode": "markers",
         "name": "Cuba",
         "orientation": "v",
         "showlegend": true,
         "type": "scatter",
         "x": [
          1075616
         ],
         "xaxis": "x",
         "y": [
          8503
         ],
         "yaxis": "y"
        },
        {
         "hovertemplate": "Country=Croatia<br>TotalCases=%{x}<br>TotalDeaths=%{y}<extra></extra>",
         "legendgroup": "Croatia",
         "marker": {
          "color": "#19d3f3",
          "symbol": "circle"
         },
         "mode": "markers",
         "name": "Croatia",
         "orientation": "v",
         "showlegend": true,
         "type": "scatter",
         "x": [
          1070855
         ],
         "xaxis": "x",
         "y": [
          15308
         ],
         "yaxis": "y"
        },
        {
         "hovertemplate": "Country=Tunisia<br>TotalCases=%{x}<br>TotalDeaths=%{y}<extra></extra>",
         "legendgroup": "Tunisia",
         "marker": {
          "color": "#FF6692",
          "symbol": "circle"
         },
         "mode": "markers",
         "name": "Tunisia",
         "orientation": "v",
         "showlegend": true,
         "type": "scatter",
         "x": [
          1020546
         ],
         "xaxis": "x",
         "y": [
          28018
         ],
         "yaxis": "y"
        },
        {
         "hovertemplate": "Country=Nepal<br>TotalCases=%{x}<br>TotalDeaths=%{y}<extra></extra>",
         "legendgroup": "Nepal",
         "marker": {
          "color": "#B6E880",
          "symbol": "circle"
         },
         "mode": "markers",
         "name": "Nepal",
         "orientation": "v",
         "showlegend": true,
         "type": "scatter",
         "x": [
          977848
         ],
         "xaxis": "x",
         "y": [
          11950
         ],
         "yaxis": "y"
        },
        {
         "hovertemplate": "Country=Lithuania<br>TotalCases=%{x}<br>TotalDeaths=%{y}<extra></extra>",
         "legendgroup": "Lithuania",
         "marker": {
          "color": "#FF97FF",
          "symbol": "circle"
         },
         "mode": "markers",
         "name": "Lithuania",
         "orientation": "v",
         "showlegend": true,
         "type": "scatter",
         "x": [
          956648
         ],
         "xaxis": "x",
         "y": [
          8605
         ],
         "yaxis": "y"
        },
        {
         "hovertemplate": "Country=Belarus<br>TotalCases=%{x}<br>TotalDeaths=%{y}<extra></extra>",
         "legendgroup": "Belarus",
         "marker": {
          "color": "#FECB52",
          "symbol": "circle"
         },
         "mode": "markers",
         "name": "Belarus",
         "orientation": "v",
         "showlegend": true,
         "type": "scatter",
         "x": [
          937583
         ],
         "xaxis": "x",
         "y": [
          6633
         ],
         "yaxis": "y"
        },
        {
         "hovertemplate": "Country=Singapore<br>TotalCases=%{x}<br>TotalDeaths=%{y}<extra></extra>",
         "legendgroup": "Singapore",
         "marker": {
          "color": "#636efa",
          "symbol": "circle"
         },
         "mode": "markers",
         "name": "Singapore",
         "orientation": "v",
         "showlegend": true,
         "type": "scatter",
         "x": [
          917103
         ],
         "xaxis": "x",
         "y": [
          1129
         ],
         "yaxis": "y"
        },
        {
         "hovertemplate": "Country=Slovenia<br>TotalCases=%{x}<br>TotalDeaths=%{y}<extra></extra>",
         "legendgroup": "Slovenia",
         "marker": {
          "color": "#EF553B",
          "symbol": "circle"
         },
         "mode": "markers",
         "name": "Slovenia",
         "orientation": "v",
         "showlegend": true,
         "type": "scatter",
         "x": [
          914455
         ],
         "xaxis": "x",
         "y": [
          6398
         ],
         "yaxis": "y"
        },
        {
         "hovertemplate": "Country=Bolivia<br>TotalCases=%{x}<br>TotalDeaths=%{y}<extra></extra>",
         "legendgroup": "Bolivia",
         "marker": {
          "color": "#00cc96",
          "symbol": "circle"
         },
         "mode": "markers",
         "name": "Bolivia",
         "orientation": "v",
         "showlegend": true,
         "type": "scatter",
         "x": [
          896744
         ],
         "xaxis": "x",
         "y": [
          21472
         ],
         "yaxis": "y"
        },
        {
         "hovertemplate": "Country=UAE<br>TotalCases=%{x}<br>TotalDeaths=%{y}<extra></extra>",
         "legendgroup": "UAE",
         "marker": {
          "color": "#ab63fa",
          "symbol": "circle"
         },
         "mode": "markers",
         "name": "UAE",
         "orientation": "v",
         "showlegend": true,
         "type": "scatter",
         "x": [
          884736
         ],
         "xaxis": "x",
         "y": [
          2302
         ],
         "yaxis": "y"
        },
        {
         "hovertemplate": "Country=Uruguay<br>TotalCases=%{x}<br>TotalDeaths=%{y}<extra></extra>",
         "legendgroup": "Uruguay",
         "marker": {
          "color": "#FFA15A",
          "symbol": "circle"
         },
         "mode": "markers",
         "name": "Uruguay",
         "orientation": "v",
         "showlegend": true,
         "type": "scatter",
         "x": [
          862153
         ],
         "xaxis": "x",
         "y": [
          7083
         ],
         "yaxis": "y"
        },
        {
         "hovertemplate": "Country=Ecuador<br>TotalCases=%{x}<br>TotalDeaths=%{y}<extra></extra>",
         "legendgroup": "Ecuador",
         "marker": {
          "color": "#19d3f3",
          "symbol": "circle"
         },
         "mode": "markers",
         "name": "Ecuador",
         "orientation": "v",
         "showlegend": true,
         "type": "scatter",
         "x": [
          843760
         ],
         "xaxis": "x",
         "y": [
          35316
         ],
         "yaxis": "y"
        },
        {
         "hovertemplate": "Country=Costa Rica<br>TotalCases=%{x}<br>TotalDeaths=%{y}<extra></extra>",
         "legendgroup": "Costa Rica",
         "marker": {
          "color": "#FF6692",
          "symbol": "circle"
         },
         "mode": "markers",
         "name": "Costa Rica",
         "orientation": "v",
         "showlegend": true,
         "type": "scatter",
         "x": [
          822935
         ],
         "xaxis": "x",
         "y": [
          8160
         ],
         "yaxis": "y"
        },
        {
         "hovertemplate": "Country=Guatemala<br>TotalCases=%{x}<br>TotalDeaths=%{y}<extra></extra>",
         "legendgroup": "Guatemala",
         "marker": {
          "color": "#B6E880",
          "symbol": "circle"
         },
         "mode": "markers",
         "name": "Guatemala",
         "orientation": "v",
         "showlegend": true,
         "type": "scatter",
         "x": [
          802744
         ],
         "xaxis": "x",
         "y": [
          17139
         ],
         "yaxis": "y"
        },
        {
         "hovertemplate": "Country=Azerbaijan<br>TotalCases=%{x}<br>TotalDeaths=%{y}<extra></extra>",
         "legendgroup": "Azerbaijan",
         "marker": {
          "color": "#FF97FF",
          "symbol": "circle"
         },
         "mode": "markers",
         "name": "Azerbaijan",
         "orientation": "v",
         "showlegend": true,
         "type": "scatter",
         "x": [
          790378
         ],
         "xaxis": "x",
         "y": [
          9589
         ],
         "yaxis": "y"
        },
        {
         "hovertemplate": "Country=Panama<br>TotalCases=%{x}<br>TotalDeaths=%{y}<extra></extra>",
         "legendgroup": "Panama",
         "marker": {
          "color": "#FECB52",
          "symbol": "circle"
         },
         "mode": "markers",
         "name": "Panama",
         "orientation": "v",
         "showlegend": true,
         "type": "scatter",
         "x": [
          759224
         ],
         "xaxis": "x",
         "y": [
          8131
         ],
         "yaxis": "y"
        },
        {
         "hovertemplate": "Country=Saudi Arabia<br>TotalCases=%{x}<br>TotalDeaths=%{y}<extra></extra>",
         "legendgroup": "Saudi Arabia",
         "marker": {
          "color": "#636efa",
          "symbol": "circle"
         },
         "mode": "markers",
         "name": "Saudi Arabia",
         "orientation": "v",
         "showlegend": true,
         "type": "scatter",
         "x": [
          748489
         ],
         "xaxis": "x",
         "y": [
          9016
         ],
         "yaxis": "y"
        },
        {
         "hovertemplate": "Country=Finland<br>TotalCases=%{x}<br>TotalDeaths=%{y}<extra></extra>",
         "legendgroup": "Finland",
         "marker": {
          "color": "#EF553B",
          "symbol": "circle"
         },
         "mode": "markers",
         "name": "Finland",
         "orientation": "v",
         "showlegend": true,
         "type": "scatter",
         "x": [
          734262
         ],
         "xaxis": "x",
         "y": [
          2653
         ],
         "yaxis": "y"
        },
        {
         "hovertemplate": "Country=Latvia<br>TotalCases=%{x}<br>TotalDeaths=%{y}<extra></extra>",
         "legendgroup": "Latvia",
         "marker": {
          "color": "#00cc96",
          "symbol": "circle"
         },
         "mode": "markers",
         "name": "Latvia",
         "orientation": "v",
         "showlegend": true,
         "type": "scatter",
         "x": [
          733084
         ],
         "xaxis": "x",
         "y": [
          5411
         ],
         "yaxis": "y"
        },
        {
         "hovertemplate": "Country=Sri Lanka<br>TotalCases=%{x}<br>TotalDeaths=%{y}<extra></extra>",
         "legendgroup": "Sri Lanka",
         "marker": {
          "color": "#ab63fa",
          "symbol": "circle"
         },
         "mode": "markers",
         "name": "Sri Lanka",
         "orientation": "v",
         "showlegend": true,
         "type": "scatter",
         "x": [
          655383
         ],
         "xaxis": "x",
         "y": [
          16381
         ],
         "yaxis": "y"
        },
        {
         "hovertemplate": "Country=Hong Kong<br>TotalCases=%{x}<br>TotalDeaths=%{y}<extra></extra>",
         "legendgroup": "Hong Kong",
         "marker": {
          "color": "#FFA15A",
          "symbol": "circle"
         },
         "mode": "markers",
         "name": "Hong Kong",
         "orientation": "v",
         "showlegend": true,
         "type": "scatter",
         "x": [
          646700
         ],
         "xaxis": "x",
         "y": [
          3444
         ],
         "yaxis": "y"
        },
        {
         "hovertemplate": "Country=Paraguay<br>TotalCases=%{x}<br>TotalDeaths=%{y}<extra></extra>",
         "legendgroup": "Paraguay",
         "marker": {
          "color": "#19d3f3",
          "symbol": "circle"
         },
         "mode": "markers",
         "name": "Paraguay",
         "orientation": "v",
         "showlegend": true,
         "type": "scatter",
         "x": [
          645655
         ],
         "xaxis": "x",
         "y": [
          18522
         ],
         "yaxis": "y"
        },
        {
         "hovertemplate": "Country=Kuwait<br>TotalCases=%{x}<br>TotalDeaths=%{y}<extra></extra>",
         "legendgroup": "Kuwait",
         "marker": {
          "color": "#FF6692",
          "symbol": "circle"
         },
         "mode": "markers",
         "name": "Kuwait",
         "orientation": "v",
         "showlegend": true,
         "type": "scatter",
         "x": [
          625202
         ],
         "xaxis": "x",
         "y": [
          2549
         ],
         "yaxis": "y"
        },
        {
         "hovertemplate": "Country=Myanmar<br>TotalCases=%{x}<br>TotalDeaths=%{y}<extra></extra>",
         "legendgroup": "Myanmar",
         "marker": {
          "color": "#B6E880",
          "symbol": "circle"
         },
         "mode": "markers",
         "name": "Myanmar",
         "orientation": "v",
         "showlegend": true,
         "type": "scatter",
         "x": [
          604219
         ],
         "xaxis": "x",
         "y": [
          19403
         ],
         "yaxis": "y"
        },
        {
         "hovertemplate": "Country=Palestine<br>TotalCases=%{x}<br>TotalDeaths=%{y}<extra></extra>",
         "legendgroup": "Palestine",
         "marker": {
          "color": "#FF97FF",
          "symbol": "circle"
         },
         "mode": "markers",
         "name": "Palestine",
         "orientation": "v",
         "showlegend": true,
         "type": "scatter",
         "x": [
          579548
         ],
         "xaxis": "x",
         "y": [
          5306
         ],
         "yaxis": "y"
        },
        {
         "hovertemplate": "Country=Dominican Republic<br>TotalCases=%{x}<br>TotalDeaths=%{y}<extra></extra>",
         "legendgroup": "Dominican Republic",
         "marker": {
          "color": "#FECB52",
          "symbol": "circle"
         },
         "mode": "markers",
         "name": "Dominican Republic",
         "orientation": "v",
         "showlegend": true,
         "type": "scatter",
         "x": [
          576367
         ],
         "xaxis": "x",
         "y": [
          4374
         ],
         "yaxis": "y"
        },
        {
         "hovertemplate": "Country=Bahrain<br>TotalCases=%{x}<br>TotalDeaths=%{y}<extra></extra>",
         "legendgroup": "Bahrain",
         "marker": {
          "color": "#636efa",
          "symbol": "circle"
         },
         "mode": "markers",
         "name": "Bahrain",
         "orientation": "v",
         "showlegend": true,
         "type": "scatter",
         "x": [
          535065
         ],
         "xaxis": "x",
         "y": [
          1462
         ],
         "yaxis": "y"
        },
        {
         "hovertemplate": "Country=Estonia<br>TotalCases=%{x}<br>TotalDeaths=%{y}<extra></extra>",
         "legendgroup": "Estonia",
         "marker": {
          "color": "#EF553B",
          "symbol": "circle"
         },
         "mode": "markers",
         "name": "Estonia",
         "orientation": "v",
         "showlegend": true,
         "type": "scatter",
         "x": [
          527902
         ],
         "xaxis": "x",
         "y": [
          2337
         ],
         "yaxis": "y"
        },
        {
         "hovertemplate": "Country=Venezuela<br>TotalCases=%{x}<br>TotalDeaths=%{y}<extra></extra>",
         "legendgroup": "Venezuela",
         "marker": {
          "color": "#00cc96",
          "symbol": "circle"
         },
         "mode": "markers",
         "name": "Venezuela",
         "orientation": "v",
         "showlegend": true,
         "type": "scatter",
         "x": [
          517999
         ],
         "xaxis": "x",
         "y": [
          5656
         ],
         "yaxis": "y"
        },
        {
         "hovertemplate": "Country=Moldova<br>TotalCases=%{x}<br>TotalDeaths=%{y}<extra></extra>",
         "legendgroup": "Moldova",
         "marker": {
          "color": "#ab63fa",
          "symbol": "circle"
         },
         "mode": "markers",
         "name": "Moldova",
         "orientation": "v",
         "showlegend": true,
         "type": "scatter",
         "x": [
          507028
         ],
         "xaxis": "x",
         "y": [
          11333
         ],
         "yaxis": "y"
        },
        {
         "hovertemplate": "Country=Libya<br>TotalCases=%{x}<br>TotalDeaths=%{y}<extra></extra>",
         "legendgroup": "Libya",
         "marker": {
          "color": "#FFA15A",
          "symbol": "circle"
         },
         "mode": "markers",
         "name": "Libya",
         "orientation": "v",
         "showlegend": true,
         "type": "scatter",
         "x": [
          499767
         ],
         "xaxis": "x",
         "y": [
          6336
         ],
         "yaxis": "y"
        },
        {
         "hovertemplate": "Country=Egypt<br>TotalCases=%{x}<br>TotalDeaths=%{y}<extra></extra>",
         "legendgroup": "Egypt",
         "marker": {
          "color": "#19d3f3",
          "symbol": "circle"
         },
         "mode": "markers",
         "name": "Egypt",
         "orientation": "v",
         "showlegend": true,
         "type": "scatter",
         "x": [
          495373
         ],
         "xaxis": "x",
         "y": [
          24277
         ],
         "yaxis": "y"
        },
        {
         "hovertemplate": "Country=Ethiopia<br>TotalCases=%{x}<br>TotalDeaths=%{y}<extra></extra>",
         "legendgroup": "Ethiopia",
         "marker": {
          "color": "#FF6692",
          "symbol": "circle"
         },
         "mode": "markers",
         "name": "Ethiopia",
         "orientation": "v",
         "showlegend": true,
         "type": "scatter",
         "x": [
          469153
         ],
         "xaxis": "x",
         "y": [
          7484
         ],
         "yaxis": "y"
        },
        {
         "hovertemplate": "Country=Mongolia<br>TotalCases=%{x}<br>TotalDeaths=%{y}<extra></extra>",
         "legendgroup": "Mongolia",
         "marker": {
          "color": "#B6E880",
          "symbol": "circle"
         },
         "mode": "markers",
         "name": "Mongolia",
         "orientation": "v",
         "showlegend": true,
         "type": "scatter",
         "x": [
          466642
         ],
         "xaxis": "x",
         "y": [
          2177
         ],
         "yaxis": "y"
        },
        {
         "hovertemplate": "Country=Armenia<br>TotalCases=%{x}<br>TotalDeaths=%{y}<extra></extra>",
         "legendgroup": "Armenia",
         "marker": {
          "color": "#FF97FF",
          "symbol": "circle"
         },
         "mode": "markers",
         "name": "Armenia",
         "orientation": "v",
         "showlegend": true,
         "type": "scatter",
         "x": [
          421842
         ],
         "xaxis": "x",
         "y": [
          8568
         ],
         "yaxis": "y"
        },
        {
         "hovertemplate": "Country=Honduras<br>TotalCases=%{x}<br>TotalDeaths=%{y}<extra></extra>",
         "legendgroup": "Honduras",
         "marker": {
          "color": "#FECB52",
          "symbol": "circle"
         },
         "mode": "markers",
         "name": "Honduras",
         "orientation": "v",
         "showlegend": true,
         "type": "scatter",
         "x": [
          414714
         ],
         "xaxis": "x",
         "y": [
          10812
         ],
         "yaxis": "y"
        },
        {
         "hovertemplate": "Country=Oman<br>TotalCases=%{x}<br>TotalDeaths=%{y}<extra></extra>",
         "legendgroup": "Oman",
         "marker": {
          "color": "#636efa",
          "symbol": "circle"
         },
         "mode": "markers",
         "name": "Oman",
         "orientation": "v",
         "showlegend": true,
         "type": "scatter",
         "x": [
          386003
         ],
         "xaxis": "x",
         "y": [
          4250
         ],
         "yaxis": "y"
        },
        {
         "hovertemplate": "Country=Bosnia and Herzegovina<br>TotalCases=%{x}<br>TotalDeaths=%{y}<extra></extra>",
         "legendgroup": "Bosnia and Herzegovina",
         "marker": {
          "color": "#EF553B",
          "symbol": "circle"
         },
         "mode": "markers",
         "name": "Bosnia and Herzegovina",
         "orientation": "v",
         "showlegend": true,
         "type": "scatter",
         "x": [
          373105
         ],
         "xaxis": "x",
         "y": [
          15614
         ],
         "yaxis": "y"
        },
        {
         "hovertemplate": "Country=Qatar<br>TotalCases=%{x}<br>TotalDeaths=%{y}<extra></extra>",
         "legendgroup": "Qatar",
         "marker": {
          "color": "#00cc96",
          "symbol": "circle"
         },
         "mode": "markers",
         "name": "Qatar",
         "orientation": "v",
         "showlegend": true,
         "type": "scatter",
         "x": [
          358946
         ],
         "xaxis": "x",
         "y": [
          674
         ],
         "yaxis": "y"
        },
        {
         "hovertemplate": "Country=Cyprus<br>TotalCases=%{x}<br>TotalDeaths=%{y}<extra></extra>",
         "legendgroup": "Cyprus",
         "marker": {
          "color": "#ab63fa",
          "symbol": "circle"
         },
         "mode": "markers",
         "name": "Cyprus",
         "orientation": "v",
         "showlegend": true,
         "type": "scatter",
         "x": [
          347876
         ],
         "xaxis": "x",
         "y": [
          895
         ],
         "yaxis": "y"
        },
        {
         "hovertemplate": "Country=New Zealand<br>TotalCases=%{x}<br>TotalDeaths=%{y}<extra></extra>",
         "legendgroup": "New Zealand",
         "marker": {
          "color": "#FFA15A",
          "symbol": "circle"
         },
         "mode": "markers",
         "name": "New Zealand",
         "orientation": "v",
         "showlegend": true,
         "type": "scatter",
         "x": [
          328836
         ],
         "xaxis": "x",
         "y": [
          91
         ],
         "yaxis": "y"
        },
        {
         "hovertemplate": "Country=Kenya<br>TotalCases=%{x}<br>TotalDeaths=%{y}<extra></extra>",
         "legendgroup": "Kenya",
         "marker": {
          "color": "#19d3f3",
          "symbol": "circle"
         },
         "mode": "markers",
         "name": "Kenya",
         "orientation": "v",
         "showlegend": true,
         "type": "scatter",
         "x": [
          323160
         ],
         "xaxis": "x",
         "y": [
          5644
         ],
         "yaxis": "y"
        },
        {
         "hovertemplate": "Country=Zambia<br>TotalCases=%{x}<br>TotalDeaths=%{y}<extra></extra>",
         "legendgroup": "Zambia",
         "marker": {
          "color": "#FF6692",
          "symbol": "circle"
         },
         "mode": "markers",
         "name": "Zambia",
         "orientation": "v",
         "showlegend": true,
         "type": "scatter",
         "x": [
          314986
         ],
         "xaxis": "x",
         "y": [
          3960
         ],
         "yaxis": "y"
        },
        {
         "hovertemplate": "Country=Réunion<br>TotalCases=%{x}<br>TotalDeaths=%{y}<extra></extra>",
         "legendgroup": "Réunion",
         "marker": {
          "color": "#B6E880",
          "symbol": "circle"
         },
         "mode": "markers",
         "name": "Réunion",
         "orientation": "v",
         "showlegend": true,
         "type": "scatter",
         "x": [
          310181
         ],
         "xaxis": "x",
         "y": [
          680
         ],
         "yaxis": "y"
        },
        {
         "hovertemplate": "Country=North Macedonia<br>TotalCases=%{x}<br>TotalDeaths=%{y}<extra></extra>",
         "legendgroup": "North Macedonia",
         "marker": {
          "color": "#FF97FF",
          "symbol": "circle"
         },
         "mode": "markers",
         "name": "North Macedonia",
         "orientation": "v",
         "showlegend": true,
         "type": "scatter",
         "x": [
          301016
         ],
         "xaxis": "x",
         "y": [
          9123
         ],
         "yaxis": "y"
        },
        {
         "hovertemplate": "Country=Albania<br>TotalCases=%{x}<br>TotalDeaths=%{y}<extra></extra>",
         "legendgroup": "Albania",
         "marker": {
          "color": "#FECB52",
          "symbol": "circle"
         },
         "mode": "markers",
         "name": "Albania",
         "orientation": "v",
         "showlegend": true,
         "type": "scatter",
         "x": [
          272552
         ],
         "xaxis": "x",
         "y": [
          3485
         ],
         "yaxis": "y"
        },
        {
         "hovertemplate": "Country=Algeria<br>TotalCases=%{x}<br>TotalDeaths=%{y}<extra></extra>",
         "legendgroup": "Algeria",
         "marker": {
          "color": "#636efa",
          "symbol": "circle"
         },
         "mode": "markers",
         "name": "Algeria",
         "orientation": "v",
         "showlegend": true,
         "type": "scatter",
         "x": [
          265391
         ],
         "xaxis": "x",
         "y": [
          6861
         ],
         "yaxis": "y"
        },
        {
         "hovertemplate": "Country=Botswana<br>TotalCases=%{x}<br>TotalDeaths=%{y}<extra></extra>",
         "legendgroup": "Botswana",
         "marker": {
          "color": "#EF553B",
          "symbol": "circle"
         },
         "mode": "markers",
         "name": "Botswana",
         "orientation": "v",
         "showlegend": true,
         "type": "scatter",
         "x": [
          263950
         ],
         "xaxis": "x",
         "y": [
          2619
         ],
         "yaxis": "y"
        },
        {
         "hovertemplate": "Country=Nigeria<br>TotalCases=%{x}<br>TotalDeaths=%{y}<extra></extra>",
         "legendgroup": "Nigeria",
         "marker": {
          "color": "#00cc96",
          "symbol": "circle"
         },
         "mode": "markers",
         "name": "Nigeria",
         "orientation": "v",
         "showlegend": true,
         "type": "scatter",
         "x": [
          254894
         ],
         "xaxis": "x",
         "y": [
          3142
         ],
         "yaxis": "y"
        },
        {
         "hovertemplate": "Country=Zimbabwe<br>TotalCases=%{x}<br>TotalDeaths=%{y}<extra></extra>",
         "legendgroup": "Zimbabwe",
         "marker": {
          "color": "#ab63fa",
          "symbol": "circle"
         },
         "mode": "markers",
         "name": "Zimbabwe",
         "orientation": "v",
         "showlegend": true,
         "type": "scatter",
         "x": [
          242069
         ],
         "xaxis": "x",
         "y": [
          5412
         ],
         "yaxis": "y"
        },
        {
         "hovertemplate": "Country=Uzbekistan<br>TotalCases=%{x}<br>TotalDeaths=%{y}<extra></extra>",
         "legendgroup": "Uzbekistan",
         "marker": {
          "color": "#FFA15A",
          "symbol": "circle"
         },
         "mode": "markers",
         "name": "Uzbekistan",
         "orientation": "v",
         "showlegend": true,
         "type": "scatter",
         "x": [
          237129
         ],
         "xaxis": "x",
         "y": [
          1637
         ],
         "yaxis": "y"
        },
        {
         "hovertemplate": "Country=Montenegro<br>TotalCases=%{x}<br>TotalDeaths=%{y}<extra></extra>",
         "legendgroup": "Montenegro",
         "marker": {
          "color": "#19d3f3",
          "symbol": "circle"
         },
         "mode": "markers",
         "name": "Montenegro",
         "orientation": "v",
         "showlegend": true,
         "type": "scatter",
         "x": [
          231391
         ],
         "xaxis": "x",
         "y": [
          2692
         ],
         "yaxis": "y"
        },
        {
         "hovertemplate": "Country=Mozambique<br>TotalCases=%{x}<br>TotalDeaths=%{y}<extra></extra>",
         "legendgroup": "Mozambique",
         "marker": {
          "color": "#FF6692",
          "symbol": "circle"
         },
         "mode": "markers",
         "name": "Mozambique",
         "orientation": "v",
         "showlegend": true,
         "type": "scatter",
         "x": [
          225165
         ],
         "xaxis": "x",
         "y": [
          2198
         ],
         "yaxis": "y"
        },
        {
         "hovertemplate": "Country=Kyrgyzstan<br>TotalCases=%{x}<br>TotalDeaths=%{y}<extra></extra>",
         "legendgroup": "Kyrgyzstan",
         "marker": {
          "color": "#B6E880",
          "symbol": "circle"
         },
         "mode": "markers",
         "name": "Kyrgyzstan",
         "orientation": "v",
         "showlegend": true,
         "type": "scatter",
         "x": [
          200707
         ],
         "xaxis": "x",
         "y": [
          2971
         ],
         "yaxis": "y"
        },
        {
         "hovertemplate": "Country=Luxembourg<br>TotalCases=%{x}<br>TotalDeaths=%{y}<extra></extra>",
         "legendgroup": "Luxembourg",
         "marker": {
          "color": "#FF97FF",
          "symbol": "circle"
         },
         "mode": "markers",
         "name": "Luxembourg",
         "orientation": "v",
         "showlegend": true,
         "type": "scatter",
         "x": [
          191964
         ],
         "xaxis": "x",
         "y": [
          1004
         ],
         "yaxis": "y"
        },
        {
         "hovertemplate": "Country=Afghanistan<br>TotalCases=%{x}<br>TotalDeaths=%{y}<extra></extra>",
         "legendgroup": "Afghanistan",
         "marker": {
          "color": "#FECB52",
          "symbol": "circle"
         },
         "mode": "markers",
         "name": "Afghanistan",
         "orientation": "v",
         "showlegend": true,
         "type": "scatter",
         "x": [
          175981
         ],
         "xaxis": "x",
         "y": [
          7640
         ],
         "yaxis": "y"
        },
        {
         "hovertemplate": "Country=Maldives<br>TotalCases=%{x}<br>TotalDeaths=%{y}<extra></extra>",
         "legendgroup": "Maldives",
         "marker": {
          "color": "#636efa",
          "symbol": "circle"
         },
         "mode": "markers",
         "name": "Maldives",
         "orientation": "v",
         "showlegend": true,
         "type": "scatter",
         "x": [
          174163
         ],
         "xaxis": "x",
         "y": [
          297
         ],
         "yaxis": "y"
        },
        {
         "hovertemplate": "Country=Uganda<br>TotalCases=%{x}<br>TotalDeaths=%{y}<extra></extra>",
         "legendgroup": "Uganda",
         "marker": {
          "color": "#EF553B",
          "symbol": "circle"
         },
         "mode": "markers",
         "name": "Uganda",
         "orientation": "v",
         "showlegend": true,
         "type": "scatter",
         "x": [
          163462
         ],
         "xaxis": "x",
         "y": [
          3594
         ],
         "yaxis": "y"
        },
        {
         "hovertemplate": "Country=Ghana<br>TotalCases=%{x}<br>TotalDeaths=%{y}<extra></extra>",
         "legendgroup": "Ghana",
         "marker": {
          "color": "#00cc96",
          "symbol": "circle"
         },
         "mode": "markers",
         "name": "Ghana",
         "orientation": "v",
         "showlegend": true,
         "type": "scatter",
         "x": [
          160693
         ],
         "xaxis": "x",
         "y": [
          1445
         ],
         "yaxis": "y"
        },
        {
         "hovertemplate": "Country=Iceland<br>TotalCases=%{x}<br>TotalDeaths=%{y}<extra></extra>",
         "legendgroup": "Iceland",
         "marker": {
          "color": "#ab63fa",
          "symbol": "circle"
         },
         "mode": "markers",
         "name": "Iceland",
         "orientation": "v",
         "showlegend": true,
         "type": "scatter",
         "x": [
          158533
         ],
         "xaxis": "x",
         "y": [
          79
         ],
         "yaxis": "y"
        },
        {
         "hovertemplate": "Country=Namibia<br>TotalCases=%{x}<br>TotalDeaths=%{y}<extra></extra>",
         "legendgroup": "Namibia",
         "marker": {
          "color": "#FFA15A",
          "symbol": "circle"
         },
         "mode": "markers",
         "name": "Namibia",
         "orientation": "v",
         "showlegend": true,
         "type": "scatter",
         "x": [
          157366
         ],
         "xaxis": "x",
         "y": [
          4014
         ],
         "yaxis": "y"
        },
        {
         "hovertemplate": "Country=El Salvador<br>TotalCases=%{x}<br>TotalDeaths=%{y}<extra></extra>",
         "legendgroup": "El Salvador",
         "marker": {
          "color": "#19d3f3",
          "symbol": "circle"
         },
         "mode": "markers",
         "name": "El Salvador",
         "orientation": "v",
         "showlegend": true,
         "type": "scatter",
         "x": [
          156364
         ],
         "xaxis": "x",
         "y": [
          4095
         ],
         "yaxis": "y"
        },
        {
         "hovertemplate": "Country=Laos<br>TotalCases=%{x}<br>TotalDeaths=%{y}<extra></extra>",
         "legendgroup": "Laos",
         "marker": {
          "color": "#FF6692",
          "symbol": "circle"
         },
         "mode": "markers",
         "name": "Laos",
         "orientation": "v",
         "showlegend": true,
         "type": "scatter",
         "x": [
          145507
         ],
         "xaxis": "x",
         "y": [
          640
         ],
         "yaxis": "y"
        },
        {
         "hovertemplate": "Country=Cambodia<br>TotalCases=%{x}<br>TotalDeaths=%{y}<extra></extra>",
         "legendgroup": "Cambodia",
         "marker": {
          "color": "#B6E880",
          "symbol": "circle"
         },
         "mode": "markers",
         "name": "Cambodia",
         "orientation": "v",
         "showlegend": true,
         "type": "scatter",
         "x": [
          133738
         ],
         "xaxis": "x",
         "y": [
          3045
         ],
         "yaxis": "y"
        },
        {
         "hovertemplate": "Country=Trinidad and Tobago<br>TotalCases=%{x}<br>TotalDeaths=%{y}<extra></extra>",
         "legendgroup": "Trinidad and Tobago",
         "marker": {
          "color": "#FF97FF",
          "symbol": "circle"
         },
         "mode": "markers",
         "name": "Trinidad and Tobago",
         "orientation": "v",
         "showlegend": true,
         "type": "scatter",
         "x": [
          132383
         ],
         "xaxis": "x",
         "y": [
          3676
         ],
         "yaxis": "y"
        },
        {
         "hovertemplate": "Country=Guadeloupe<br>TotalCases=%{x}<br>TotalDeaths=%{y}<extra></extra>",
         "legendgroup": "Guadeloupe",
         "marker": {
          "color": "#FECB52",
          "symbol": "circle"
         },
         "mode": "markers",
         "name": "Guadeloupe",
         "orientation": "v",
         "showlegend": true,
         "type": "scatter",
         "x": [
          130705
         ],
         "xaxis": "x",
         "y": [
          843
         ],
         "yaxis": "y"
        },
        {
         "hovertemplate": "Country=Rwanda<br>TotalCases=%{x}<br>TotalDeaths=%{y}<extra></extra>",
         "legendgroup": "Rwanda",
         "marker": {
          "color": "#636efa",
          "symbol": "circle"
         },
         "mode": "markers",
         "name": "Rwanda",
         "orientation": "v",
         "showlegend": true,
         "type": "scatter",
         "x": [
          129589
         ],
         "xaxis": "x",
         "y": [
          1458
         ],
         "yaxis": "y"
        },
        {
         "hovertemplate": "Country=Jamaica<br>TotalCases=%{x}<br>TotalDeaths=%{y}<extra></extra>",
         "legendgroup": "Jamaica",
         "marker": {
          "color": "#EF553B",
          "symbol": "circle"
         },
         "mode": "markers",
         "name": "Jamaica",
         "orientation": "v",
         "showlegend": true,
         "type": "scatter",
         "x": [
          128318
         ],
         "xaxis": "x",
         "y": [
          2839
         ],
         "yaxis": "y"
        },
        {
         "hovertemplate": "Country=Martinique<br>TotalCases=%{x}<br>TotalDeaths=%{y}<extra></extra>",
         "legendgroup": "Martinique",
         "marker": {
          "color": "#00cc96",
          "symbol": "circle"
         },
         "mode": "markers",
         "name": "Martinique",
         "orientation": "v",
         "showlegend": true,
         "type": "scatter",
         "x": [
          126221
         ],
         "xaxis": "x",
         "y": [
          900
         ],
         "yaxis": "y"
        },
        {
         "hovertemplate": "Country=Cameroon<br>TotalCases=%{x}<br>TotalDeaths=%{y}<extra></extra>",
         "legendgroup": "Cameroon",
         "marker": {
          "color": "#ab63fa",
          "symbol": "circle"
         },
         "mode": "markers",
         "name": "Cameroon",
         "orientation": "v",
         "showlegend": true,
         "type": "scatter",
         "x": [
          119322
         ],
         "xaxis": "x",
         "y": [
          1926
         ],
         "yaxis": "y"
        },
        {
         "hovertemplate": "Country=China<br>TotalCases=%{x}<br>TotalDeaths=%{y}<extra></extra>",
         "legendgroup": "China",
         "marker": {
          "color": "#FFA15A",
          "symbol": "circle"
         },
         "mode": "markers",
         "name": "China",
         "orientation": "v",
         "showlegend": true,
         "type": "scatter",
         "x": [
          112940
         ],
         "xaxis": "x",
         "y": [
          4636
         ],
         "yaxis": "y"
        },
        {
         "hovertemplate": "Country=Brunei <br>TotalCases=%{x}<br>TotalDeaths=%{y}<extra></extra>",
         "legendgroup": "Brunei ",
         "marker": {
          "color": "#19d3f3",
          "symbol": "circle"
         },
         "mode": "markers",
         "name": "Brunei ",
         "orientation": "v",
         "showlegend": true,
         "type": "scatter",
         "x": [
          106936
         ],
         "xaxis": "x",
         "y": [
          158
         ],
         "yaxis": "y"
        },
        {
         "hovertemplate": "Country=Angola<br>TotalCases=%{x}<br>TotalDeaths=%{y}<extra></extra>",
         "legendgroup": "Angola",
         "marker": {
          "color": "#FF6692",
          "symbol": "circle"
         },
         "mode": "markers",
         "name": "Angola",
         "orientation": "v",
         "showlegend": true,
         "type": "scatter",
         "x": [
          98855
         ],
         "xaxis": "x",
         "y": [
          1900
         ],
         "yaxis": "y"
        },
        {
         "hovertemplate": "Country=DRC<br>TotalCases=%{x}<br>TotalDeaths=%{y}<extra></extra>",
         "legendgroup": "DRC",
         "marker": {
          "color": "#B6E880",
          "symbol": "circle"
         },
         "mode": "markers",
         "name": "DRC",
         "orientation": "v",
         "showlegend": true,
         "type": "scatter",
         "x": [
          86315
         ],
         "xaxis": "x",
         "y": [
          1335
         ],
         "yaxis": "y"
        },
        {
         "hovertemplate": "Country=Senegal<br>TotalCases=%{x}<br>TotalDeaths=%{y}<extra></extra>",
         "legendgroup": "Senegal",
         "marker": {
          "color": "#FF97FF",
          "symbol": "circle"
         },
         "mode": "markers",
         "name": "Senegal",
         "orientation": "v",
         "showlegend": true,
         "type": "scatter",
         "x": [
          85785
         ],
         "xaxis": "x",
         "y": [
          1964
         ],
         "yaxis": "y"
        },
        {
         "hovertemplate": "Country=Malawi<br>TotalCases=%{x}<br>TotalDeaths=%{y}<extra></extra>",
         "legendgroup": "Malawi",
         "marker": {
          "color": "#FECB52",
          "symbol": "circle"
         },
         "mode": "markers",
         "name": "Malawi",
         "orientation": "v",
         "showlegend": true,
         "type": "scatter",
         "x": [
          85486
         ],
         "xaxis": "x",
         "y": [
          2620
         ],
         "yaxis": "y"
        },
        {
         "hovertemplate": "Country=Ivory Coast<br>TotalCases=%{x}<br>TotalDeaths=%{y}<extra></extra>",
         "legendgroup": "Ivory Coast",
         "marker": {
          "color": "#636efa",
          "symbol": "circle"
         },
         "mode": "markers",
         "name": "Ivory Coast",
         "orientation": "v",
         "showlegend": true,
         "type": "scatter",
         "x": [
          81577
         ],
         "xaxis": "x",
         "y": [
          795
         ],
         "yaxis": "y"
        },
        {
         "hovertemplate": "Country=Suriname<br>TotalCases=%{x}<br>TotalDeaths=%{y}<extra></extra>",
         "legendgroup": "Suriname",
         "marker": {
          "color": "#EF553B",
          "symbol": "circle"
         },
         "mode": "markers",
         "name": "Suriname",
         "orientation": "v",
         "showlegend": true,
         "type": "scatter",
         "x": [
          78705
         ],
         "xaxis": "x",
         "y": [
          1319
         ],
         "yaxis": "y"
        },
        {
         "hovertemplate": "Country=French Guiana<br>TotalCases=%{x}<br>TotalDeaths=%{y}<extra></extra>",
         "legendgroup": "French Guiana",
         "marker": {
          "color": "#00cc96",
          "symbol": "circle"
         },
         "mode": "markers",
         "name": "French Guiana",
         "orientation": "v",
         "showlegend": true,
         "type": "scatter",
         "x": [
          78075
         ],
         "xaxis": "x",
         "y": [
          394
         ],
         "yaxis": "y"
        },
        {
         "hovertemplate": "Country=Malta<br>TotalCases=%{x}<br>TotalDeaths=%{y}<extra></extra>",
         "legendgroup": "Malta",
         "marker": {
          "color": "#ab63fa",
          "symbol": "circle"
         },
         "mode": "markers",
         "name": "Malta",
         "orientation": "v",
         "showlegend": true,
         "type": "scatter",
         "x": [
          72560
         ],
         "xaxis": "x",
         "y": [
          613
         ],
         "yaxis": "y"
        },
        {
         "hovertemplate": "Country=French Polynesia<br>TotalCases=%{x}<br>TotalDeaths=%{y}<extra></extra>",
         "legendgroup": "French Polynesia",
         "marker": {
          "color": "#FFA15A",
          "symbol": "circle"
         },
         "mode": "markers",
         "name": "French Polynesia",
         "orientation": "v",
         "showlegend": true,
         "type": "scatter",
         "x": [
          70158
         ],
         "xaxis": "x",
         "y": [
          643
         ],
         "yaxis": "y"
        },
        {
         "hovertemplate": "Country=Eswatini<br>TotalCases=%{x}<br>TotalDeaths=%{y}<extra></extra>",
         "legendgroup": "Eswatini",
         "marker": {
          "color": "#19d3f3",
          "symbol": "circle"
         },
         "mode": "markers",
         "name": "Eswatini",
         "orientation": "v",
         "showlegend": true,
         "type": "scatter",
         "x": [
          69408
         ],
         "xaxis": "x",
         "y": [
          1392
         ],
         "yaxis": "y"
        },
        {
         "hovertemplate": "Country=Fiji<br>TotalCases=%{x}<br>TotalDeaths=%{y}<extra></extra>",
         "legendgroup": "Fiji",
         "marker": {
          "color": "#FF6692",
          "symbol": "circle"
         },
         "mode": "markers",
         "name": "Fiji",
         "orientation": "v",
         "showlegend": true,
         "type": "scatter",
         "x": [
          64067
         ],
         "xaxis": "x",
         "y": [
          834
         ],
         "yaxis": "y"
        },
        {
         "hovertemplate": "Country=Madagascar<br>TotalCases=%{x}<br>TotalDeaths=%{y}<extra></extra>",
         "legendgroup": "Madagascar",
         "marker": {
          "color": "#B6E880",
          "symbol": "circle"
         },
         "mode": "markers",
         "name": "Madagascar",
         "orientation": "v",
         "showlegend": true,
         "type": "scatter",
         "x": [
          63791
         ],
         "xaxis": "x",
         "y": [
          1373
         ],
         "yaxis": "y"
        },
        {
         "hovertemplate": "Country=Guyana<br>TotalCases=%{x}<br>TotalDeaths=%{y}<extra></extra>",
         "legendgroup": "Guyana",
         "marker": {
          "color": "#FF97FF",
          "symbol": "circle"
         },
         "mode": "markers",
         "name": "Guyana",
         "orientation": "v",
         "showlegend": true,
         "type": "scatter",
         "x": [
          63107
         ],
         "xaxis": "x",
         "y": [
          1224
         ],
         "yaxis": "y"
        },
        {
         "hovertemplate": "Country=Sudan<br>TotalCases=%{x}<br>TotalDeaths=%{y}<extra></extra>",
         "legendgroup": "Sudan",
         "marker": {
          "color": "#FECB52",
          "symbol": "circle"
         },
         "mode": "markers",
         "name": "Sudan",
         "orientation": "v",
         "showlegend": true,
         "type": "scatter",
         "x": [
          61655
         ],
         "xaxis": "x",
         "y": [
          4865
         ],
         "yaxis": "y"
        },
        {
         "hovertemplate": "Country=New Caledonia<br>TotalCases=%{x}<br>TotalDeaths=%{y}<extra></extra>",
         "legendgroup": "New Caledonia",
         "marker": {
          "color": "#636efa",
          "symbol": "circle"
         },
         "mode": "markers",
         "name": "New Caledonia",
         "orientation": "v",
         "showlegend": true,
         "type": "scatter",
         "x": [
          59217
         ],
         "xaxis": "x",
         "y": [
          305
         ],
         "yaxis": "y"
        },
        {
         "hovertemplate": "Country=Mauritania<br>TotalCases=%{x}<br>TotalDeaths=%{y}<extra></extra>",
         "legendgroup": "Mauritania",
         "marker": {
          "color": "#EF553B",
          "symbol": "circle"
         },
         "mode": "markers",
         "name": "Mauritania",
         "orientation": "v",
         "showlegend": true,
         "type": "scatter",
         "x": [
          58657
         ],
         "xaxis": "x",
         "y": [
          981
         ],
         "yaxis": "y"
        },
        {
         "hovertemplate": "Country=Belize<br>TotalCases=%{x}<br>TotalDeaths=%{y}<extra></extra>",
         "legendgroup": "Belize",
         "marker": {
          "color": "#00cc96",
          "symbol": "circle"
         },
         "mode": "markers",
         "name": "Belize",
         "orientation": "v",
         "showlegend": true,
         "type": "scatter",
         "x": [
          57034
         ],
         "xaxis": "x",
         "y": [
          652
         ],
         "yaxis": "y"
        },
        {
         "hovertemplate": "Country=Barbados<br>TotalCases=%{x}<br>TotalDeaths=%{y}<extra></extra>",
         "legendgroup": "Barbados",
         "marker": {
          "color": "#ab63fa",
          "symbol": "circle"
         },
         "mode": "markers",
         "name": "Barbados",
         "orientation": "v",
         "showlegend": true,
         "type": "scatter",
         "x": [
          56805
         ],
         "xaxis": "x",
         "y": [
          323
         ],
         "yaxis": "y"
        },
        {
         "hovertemplate": "Country=Channel Islands<br>TotalCases=%{x}<br>TotalDeaths=%{y}<extra></extra>",
         "legendgroup": "Channel Islands",
         "marker": {
          "color": "#FFA15A",
          "symbol": "circle"
         },
         "mode": "markers",
         "name": "Channel Islands",
         "orientation": "v",
         "showlegend": true,
         "type": "scatter",
         "x": [
          56437
         ],
         "xaxis": "x",
         "y": [
          147
         ],
         "yaxis": "y"
        },
        {
         "hovertemplate": "Country=Cabo Verde<br>TotalCases=%{x}<br>TotalDeaths=%{y}<extra></extra>",
         "legendgroup": "Cabo Verde",
         "marker": {
          "color": "#19d3f3",
          "symbol": "circle"
         },
         "mode": "markers",
         "name": "Cabo Verde",
         "orientation": "v",
         "showlegend": true,
         "type": "scatter",
         "x": [
          55906
         ],
         "xaxis": "x",
         "y": [
          401
         ],
         "yaxis": "y"
        },
        {
         "hovertemplate": "Country=Syria<br>TotalCases=%{x}<br>TotalDeaths=%{y}<extra></extra>",
         "legendgroup": "Syria",
         "marker": {
          "color": "#FF6692",
          "symbol": "circle"
         },
         "mode": "markers",
         "name": "Syria",
         "orientation": "v",
         "showlegend": true,
         "type": "scatter",
         "x": [
          55288
         ],
         "xaxis": "x",
         "y": [
          3110
         ],
         "yaxis": "y"
        },
        {
         "hovertemplate": "Country=Gabon<br>TotalCases=%{x}<br>TotalDeaths=%{y}<extra></extra>",
         "legendgroup": "Gabon",
         "marker": {
          "color": "#B6E880",
          "symbol": "circle"
         },
         "mode": "markers",
         "name": "Gabon",
         "orientation": "v",
         "showlegend": true,
         "type": "scatter",
         "x": [
          47564
         ],
         "xaxis": "x",
         "y": [
          303
         ],
         "yaxis": "y"
        },
        {
         "hovertemplate": "Country=Papua New Guinea<br>TotalCases=%{x}<br>TotalDeaths=%{y}<extra></extra>",
         "legendgroup": "Papua New Guinea",
         "marker": {
          "color": "#FF97FF",
          "symbol": "circle"
         },
         "mode": "markers",
         "name": "Papua New Guinea",
         "orientation": "v",
         "showlegend": true,
         "type": "scatter",
         "x": [
          41533
         ],
         "xaxis": "x",
         "y": [
          639
         ],
         "yaxis": "y"
        },
        {
         "hovertemplate": "Country=Seychelles<br>TotalCases=%{x}<br>TotalDeaths=%{y}<extra></extra>",
         "legendgroup": "Seychelles",
         "marker": {
          "color": "#FECB52",
          "symbol": "circle"
         },
         "mode": "markers",
         "name": "Seychelles",
         "orientation": "v",
         "showlegend": true,
         "type": "scatter",
         "x": [
          39605
         ],
         "xaxis": "x",
         "y": [
          163
         ],
         "yaxis": "y"
        },
        {
         "hovertemplate": "Country=Curaçao<br>TotalCases=%{x}<br>TotalDeaths=%{y}<extra></extra>",
         "legendgroup": "Curaçao",
         "marker": {
          "color": "#636efa",
          "symbol": "circle"
         },
         "mode": "markers",
         "name": "Curaçao",
         "orientation": "v",
         "showlegend": true,
         "type": "scatter",
         "x": [
          39459
         ],
         "xaxis": "x",
         "y": [
          265
         ],
         "yaxis": "y"
        },
        {
         "hovertemplate": "Country=Andorra<br>TotalCases=%{x}<br>TotalDeaths=%{y}<extra></extra>",
         "legendgroup": "Andorra",
         "marker": {
          "color": "#EF553B",
          "symbol": "circle"
         },
         "mode": "markers",
         "name": "Andorra",
         "orientation": "v",
         "showlegend": true,
         "type": "scatter",
         "x": [
          38794
         ],
         "xaxis": "x",
         "y": [
          152
         ],
         "yaxis": "y"
        },
        {
         "hovertemplate": "Country=Burundi<br>TotalCases=%{x}<br>TotalDeaths=%{y}<extra></extra>",
         "legendgroup": "Burundi",
         "marker": {
          "color": "#00cc96",
          "symbol": "circle"
         },
         "mode": "markers",
         "name": "Burundi",
         "orientation": "v",
         "showlegend": true,
         "type": "scatter",
         "x": [
          38248
         ],
         "xaxis": "x",
         "y": [
          38
         ],
         "yaxis": "y"
        },
        {
         "hovertemplate": "Country=Togo<br>TotalCases=%{x}<br>TotalDeaths=%{y}<extra></extra>",
         "legendgroup": "Togo",
         "marker": {
          "color": "#ab63fa",
          "symbol": "circle"
         },
         "mode": "markers",
         "name": "Togo",
         "orientation": "v",
         "showlegend": true,
         "type": "scatter",
         "x": [
          36848
         ],
         "xaxis": "x",
         "y": [
          272
         ],
         "yaxis": "y"
        },
        {
         "hovertemplate": "Country=Mayotte<br>TotalCases=%{x}<br>TotalDeaths=%{y}<extra></extra>",
         "legendgroup": "Mayotte",
         "marker": {
          "color": "#FFA15A",
          "symbol": "circle"
         },
         "mode": "markers",
         "name": "Mayotte",
         "orientation": "v",
         "showlegend": true,
         "type": "scatter",
         "x": [
          36745
         ],
         "xaxis": "x",
         "y": [
          187
         ],
         "yaxis": "y"
        },
        {
         "hovertemplate": "Country=Guinea<br>TotalCases=%{x}<br>TotalDeaths=%{y}<extra></extra>",
         "legendgroup": "Guinea",
         "marker": {
          "color": "#19d3f3",
          "symbol": "circle"
         },
         "mode": "markers",
         "name": "Guinea",
         "orientation": "v",
         "showlegend": true,
         "type": "scatter",
         "x": [
          36427
         ],
         "xaxis": "x",
         "y": [
          440
         ],
         "yaxis": "y"
        },
        {
         "hovertemplate": "Country=Faeroe Islands<br>TotalCases=%{x}<br>TotalDeaths=%{y}<extra></extra>",
         "legendgroup": "Faeroe Islands",
         "marker": {
          "color": "#FF6692",
          "symbol": "circle"
         },
         "mode": "markers",
         "name": "Faeroe Islands",
         "orientation": "v",
         "showlegend": true,
         "type": "scatter",
         "x": [
          34237
         ],
         "xaxis": "x",
         "y": [
          28
         ],
         "yaxis": "y"
        },
        {
         "hovertemplate": "Country=Mauritius<br>TotalCases=%{x}<br>TotalDeaths=%{y}<extra></extra>",
         "legendgroup": "Mauritius",
         "marker": {
          "color": "#B6E880",
          "symbol": "circle"
         },
         "mode": "markers",
         "name": "Mauritius",
         "orientation": "v",
         "showlegend": true,
         "type": "scatter",
         "x": [
          33856
         ],
         "xaxis": "x",
         "y": [
          934
         ],
         "yaxis": "y"
        },
        {
         "hovertemplate": "Country=Aruba<br>TotalCases=%{x}<br>TotalDeaths=%{y}<extra></extra>",
         "legendgroup": "Aruba",
         "marker": {
          "color": "#FF97FF",
          "symbol": "circle"
         },
         "mode": "markers",
         "name": "Aruba",
         "orientation": "v",
         "showlegend": true,
         "type": "scatter",
         "x": [
          33796
         ],
         "xaxis": "x",
         "y": [
          212
         ],
         "yaxis": "y"
        },
        {
         "hovertemplate": "Country=Tanzania<br>TotalCases=%{x}<br>TotalDeaths=%{y}<extra></extra>",
         "legendgroup": "Tanzania",
         "marker": {
          "color": "#FECB52",
          "symbol": "circle"
         },
         "mode": "markers",
         "name": "Tanzania",
         "orientation": "v",
         "showlegend": true,
         "type": "scatter",
         "x": [
          33726
         ],
         "xaxis": "x",
         "y": [
          800
         ],
         "yaxis": "y"
        },
        {
         "hovertemplate": "Country=Bahamas<br>TotalCases=%{x}<br>TotalDeaths=%{y}<extra></extra>",
         "legendgroup": "Bahamas",
         "marker": {
          "color": "#636efa",
          "symbol": "circle"
         },
         "mode": "markers",
         "name": "Bahamas",
         "orientation": "v",
         "showlegend": true,
         "type": "scatter",
         "x": [
          33191
         ],
         "xaxis": "x",
         "y": [
          771
         ],
         "yaxis": "y"
        },
        {
         "hovertemplate": "Country=Lesotho<br>TotalCases=%{x}<br>TotalDeaths=%{y}<extra></extra>",
         "legendgroup": "Lesotho",
         "marker": {
          "color": "#EF553B",
          "symbol": "circle"
         },
         "mode": "markers",
         "name": "Lesotho",
         "orientation": "v",
         "showlegend": true,
         "type": "scatter",
         "x": [
          32716
         ],
         "xaxis": "x",
         "y": [
          697
         ],
         "yaxis": "y"
        },
        {
         "hovertemplate": "Country=Haiti<br>TotalCases=%{x}<br>TotalDeaths=%{y}<extra></extra>",
         "legendgroup": "Haiti",
         "marker": {
          "color": "#00cc96",
          "symbol": "circle"
         },
         "mode": "markers",
         "name": "Haiti",
         "orientation": "v",
         "showlegend": true,
         "type": "scatter",
         "x": [
          30438
         ],
         "xaxis": "x",
         "y": [
          827
         ],
         "yaxis": "y"
        },
        {
         "hovertemplate": "Country=Mali<br>TotalCases=%{x}<br>TotalDeaths=%{y}<extra></extra>",
         "legendgroup": "Mali",
         "marker": {
          "color": "#ab63fa",
          "symbol": "circle"
         },
         "mode": "markers",
         "name": "Mali",
         "orientation": "v",
         "showlegend": true,
         "type": "scatter",
         "x": [
          30409
         ],
         "xaxis": "x",
         "y": [
          726
         ],
         "yaxis": "y"
        },
        {
         "hovertemplate": "Country=Benin<br>TotalCases=%{x}<br>TotalDeaths=%{y}<extra></extra>",
         "legendgroup": "Benin",
         "marker": {
          "color": "#FFA15A",
          "symbol": "circle"
         },
         "mode": "markers",
         "name": "Benin",
         "orientation": "v",
         "showlegend": true,
         "type": "scatter",
         "x": [
          26575
         ],
         "xaxis": "x",
         "y": [
          163
         ],
         "yaxis": "y"
        },
        {
         "hovertemplate": "Country=Somalia<br>TotalCases=%{x}<br>TotalDeaths=%{y}<extra></extra>",
         "legendgroup": "Somalia",
         "marker": {
          "color": "#19d3f3",
          "symbol": "circle"
         },
         "mode": "markers",
         "name": "Somalia",
         "orientation": "v",
         "showlegend": true,
         "type": "scatter",
         "x": [
          26400
         ],
         "xaxis": "x",
         "y": [
          1348
         ],
         "yaxis": "y"
        },
        {
         "hovertemplate": "Country=Isle of Man<br>TotalCases=%{x}<br>TotalDeaths=%{y}<extra></extra>",
         "legendgroup": "Isle of Man",
         "marker": {
          "color": "#FF6692",
          "symbol": "circle"
         },
         "mode": "markers",
         "name": "Isle of Man",
         "orientation": "v",
         "showlegend": true,
         "type": "scatter",
         "x": [
          24346
         ],
         "xaxis": "x",
         "y": [
          81
         ],
         "yaxis": "y"
        },
        {
         "hovertemplate": "Country=Congo<br>TotalCases=%{x}<br>TotalDeaths=%{y}<extra></extra>",
         "legendgroup": "Congo",
         "marker": {
          "color": "#B6E880",
          "symbol": "circle"
         },
         "mode": "markers",
         "name": "Congo",
         "orientation": "v",
         "showlegend": true,
         "type": "scatter",
         "x": [
          24049
         ],
         "xaxis": "x",
         "y": [
          378
         ],
         "yaxis": "y"
        },
        {
         "hovertemplate": "Country=Saint Lucia<br>TotalCases=%{x}<br>TotalDeaths=%{y}<extra></extra>",
         "legendgroup": "Saint Lucia",
         "marker": {
          "color": "#FF97FF",
          "symbol": "circle"
         },
         "mode": "markers",
         "name": "Saint Lucia",
         "orientation": "v",
         "showlegend": true,
         "type": "scatter",
         "x": [
          22833
         ],
         "xaxis": "x",
         "y": [
          364
         ],
         "yaxis": "y"
        },
        {
         "hovertemplate": "Country=Timor-Leste<br>TotalCases=%{x}<br>TotalDeaths=%{y}<extra></extra>",
         "legendgroup": "Timor-Leste",
         "marker": {
          "color": "#FECB52",
          "symbol": "circle"
         },
         "mode": "markers",
         "name": "Timor-Leste",
         "orientation": "v",
         "showlegend": true,
         "type": "scatter",
         "x": [
          22786
         ],
         "xaxis": "x",
         "y": [
          129
         ],
         "yaxis": "y"
        },
        {
         "hovertemplate": "Country=Taiwan<br>TotalCases=%{x}<br>TotalDeaths=%{y}<extra></extra>",
         "legendgroup": "Taiwan",
         "marker": {
          "color": "#636efa",
          "symbol": "circle"
         },
         "mode": "markers",
         "name": "Taiwan",
         "orientation": "v",
         "showlegend": true,
         "type": "scatter",
         "x": [
          21163
         ],
         "xaxis": "x",
         "y": [
          853
         ],
         "yaxis": "y"
        },
        {
         "hovertemplate": "Country=Burkina Faso<br>TotalCases=%{x}<br>TotalDeaths=%{y}<extra></extra>",
         "legendgroup": "Burkina Faso",
         "marker": {
          "color": "#EF553B",
          "symbol": "circle"
         },
         "mode": "markers",
         "name": "Burkina Faso",
         "orientation": "v",
         "showlegend": true,
         "type": "scatter",
         "x": [
          20751
         ],
         "xaxis": "x",
         "y": [
          375
         ],
         "yaxis": "y"
        },
        {
         "hovertemplate": "Country=Cayman Islands<br>TotalCases=%{x}<br>TotalDeaths=%{y}<extra></extra>",
         "legendgroup": "Cayman Islands",
         "marker": {
          "color": "#00cc96",
          "symbol": "circle"
         },
         "mode": "markers",
         "name": "Cayman Islands",
         "orientation": "v",
         "showlegend": true,
         "type": "scatter",
         "x": [
          19433
         ],
         "xaxis": "x",
         "y": [
          17
         ],
         "yaxis": "y"
        },
        {
         "hovertemplate": "Country=Nicaragua<br>TotalCases=%{x}<br>TotalDeaths=%{y}<extra></extra>",
         "legendgroup": "Nicaragua",
         "marker": {
          "color": "#ab63fa",
          "symbol": "circle"
         },
         "mode": "markers",
         "name": "Nicaragua",
         "orientation": "v",
         "showlegend": true,
         "type": "scatter",
         "x": [
          18203
         ],
         "xaxis": "x",
         "y": [
          222
         ],
         "yaxis": "y"
        },
        {
         "hovertemplate": "Country=Tajikistan<br>TotalCases=%{x}<br>TotalDeaths=%{y}<extra></extra>",
         "legendgroup": "Tajikistan",
         "marker": {
          "color": "#FFA15A",
          "symbol": "circle"
         },
         "mode": "markers",
         "name": "Tajikistan",
         "orientation": "v",
         "showlegend": true,
         "type": "scatter",
         "x": [
          17388
         ],
         "xaxis": "x",
         "y": [
          124
         ],
         "yaxis": "y"
        },
        {
         "hovertemplate": "Country=South Sudan<br>TotalCases=%{x}<br>TotalDeaths=%{y}<extra></extra>",
         "legendgroup": "South Sudan",
         "marker": {
          "color": "#19d3f3",
          "symbol": "circle"
         },
         "mode": "markers",
         "name": "South Sudan",
         "orientation": "v",
         "showlegend": true,
         "type": "scatter",
         "x": [
          17051
         ],
         "xaxis": "x",
         "y": [
          138
         ],
         "yaxis": "y"
        },
        {
         "hovertemplate": "Country=Bhutan<br>TotalCases=%{x}<br>TotalDeaths=%{y}<extra></extra>",
         "legendgroup": "Bhutan",
         "marker": {
          "color": "#FF6692",
          "symbol": "circle"
         },
         "mode": "markers",
         "name": "Bhutan",
         "orientation": "v",
         "showlegend": true,
         "type": "scatter",
         "x": [
          16666
         ],
         "xaxis": "x",
         "y": [
          7
         ],
         "yaxis": "y"
        },
        {
         "hovertemplate": "Country=Equatorial Guinea<br>TotalCases=%{x}<br>TotalDeaths=%{y}<extra></extra>",
         "legendgroup": "Equatorial Guinea",
         "marker": {
          "color": "#B6E880",
          "symbol": "circle"
         },
         "mode": "markers",
         "name": "Equatorial Guinea",
         "orientation": "v",
         "showlegend": true,
         "type": "scatter",
         "x": [
          15894
         ],
         "xaxis": "x",
         "y": [
          183
         ],
         "yaxis": "y"
        },
        {
         "hovertemplate": "Country=Gibraltar<br>TotalCases=%{x}<br>TotalDeaths=%{y}<extra></extra>",
         "legendgroup": "Gibraltar",
         "marker": {
          "color": "#FF97FF",
          "symbol": "circle"
         },
         "mode": "markers",
         "name": "Gibraltar",
         "orientation": "v",
         "showlegend": true,
         "type": "scatter",
         "x": [
          15840
         ],
         "xaxis": "x",
         "y": [
          101
         ],
         "yaxis": "y"
        },
        {
         "hovertemplate": "Country=Djibouti<br>TotalCases=%{x}<br>TotalDeaths=%{y}<extra></extra>",
         "legendgroup": "Djibouti",
         "marker": {
          "color": "#FECB52",
          "symbol": "circle"
         },
         "mode": "markers",
         "name": "Djibouti",
         "orientation": "v",
         "showlegend": true,
         "type": "scatter",
         "x": [
          15564
         ],
         "xaxis": "x",
         "y": [
          189
         ],
         "yaxis": "y"
        },
        {
         "hovertemplate": "Country=San Marino<br>TotalCases=%{x}<br>TotalDeaths=%{y}<extra></extra>",
         "legendgroup": "San Marino",
         "marker": {
          "color": "#636efa",
          "symbol": "circle"
         },
         "mode": "markers",
         "name": "San Marino",
         "orientation": "v",
         "showlegend": true,
         "type": "scatter",
         "x": [
          14523
         ],
         "xaxis": "x",
         "y": [
          112
         ],
         "yaxis": "y"
        },
        {
         "hovertemplate": "Country=CAR<br>TotalCases=%{x}<br>TotalDeaths=%{y}<extra></extra>",
         "legendgroup": "CAR",
         "marker": {
          "color": "#EF553B",
          "symbol": "circle"
         },
         "mode": "markers",
         "name": "CAR",
         "orientation": "v",
         "showlegend": true,
         "type": "scatter",
         "x": [
          14320
         ],
         "xaxis": "x",
         "y": [
          113
         ],
         "yaxis": "y"
        },
        {
         "hovertemplate": "Country=Liechtenstein<br>TotalCases=%{x}<br>TotalDeaths=%{y}<extra></extra>",
         "legendgroup": "Liechtenstein",
         "marker": {
          "color": "#00cc96",
          "symbol": "circle"
         },
         "mode": "markers",
         "name": "Liechtenstein",
         "orientation": "v",
         "showlegend": true,
         "type": "scatter",
         "x": [
          13789
         ],
         "xaxis": "x",
         "y": [
          79
         ],
         "yaxis": "y"
        },
        {
         "hovertemplate": "Country=Grenada<br>TotalCases=%{x}<br>TotalDeaths=%{y}<extra></extra>",
         "legendgroup": "Grenada",
         "marker": {
          "color": "#ab63fa",
          "symbol": "circle"
         },
         "mode": "markers",
         "name": "Grenada",
         "orientation": "v",
         "showlegend": true,
         "type": "scatter",
         "x": [
          13690
         ],
         "xaxis": "x",
         "y": [
          216
         ],
         "yaxis": "y"
        },
        {
         "hovertemplate": "Country=Gambia<br>TotalCases=%{x}<br>TotalDeaths=%{y}<extra></extra>",
         "legendgroup": "Gambia",
         "marker": {
          "color": "#FFA15A",
          "symbol": "circle"
         },
         "mode": "markers",
         "name": "Gambia",
         "orientation": "v",
         "showlegend": true,
         "type": "scatter",
         "x": [
          11963
         ],
         "xaxis": "x",
         "y": [
          365
         ],
         "yaxis": "y"
        },
        {
         "hovertemplate": "Country=Greenland<br>TotalCases=%{x}<br>TotalDeaths=%{y}<extra></extra>",
         "legendgroup": "Greenland",
         "marker": {
          "color": "#19d3f3",
          "symbol": "circle"
         },
         "mode": "markers",
         "name": "Greenland",
         "orientation": "v",
         "showlegend": true,
         "type": "scatter",
         "x": [
          11856
         ],
         "xaxis": "x",
         "y": [
          20
         ],
         "yaxis": "y"
        },
        {
         "hovertemplate": "Country=Bermuda<br>TotalCases=%{x}<br>TotalDeaths=%{y}<extra></extra>",
         "legendgroup": "Bermuda",
         "marker": {
          "color": "#FF6692",
          "symbol": "circle"
         },
         "mode": "markers",
         "name": "Bermuda",
         "orientation": "v",
         "showlegend": true,
         "type": "scatter",
         "x": [
          11850
         ],
         "xaxis": "x",
         "y": [
          124
         ],
         "yaxis": "y"
        },
        {
         "hovertemplate": "Country=Yemen<br>TotalCases=%{x}<br>TotalDeaths=%{y}<extra></extra>",
         "legendgroup": "Yemen",
         "marker": {
          "color": "#B6E880",
          "symbol": "circle"
         },
         "mode": "markers",
         "name": "Yemen",
         "orientation": "v",
         "showlegend": true,
         "type": "scatter",
         "x": [
          11783
         ],
         "xaxis": "x",
         "y": [
          2139
         ],
         "yaxis": "y"
        },
        {
         "hovertemplate": "Country=Dominica<br>TotalCases=%{x}<br>TotalDeaths=%{y}<extra></extra>",
         "legendgroup": "Dominica",
         "marker": {
          "color": "#FF97FF",
          "symbol": "circle"
         },
         "mode": "markers",
         "name": "Dominica",
         "orientation": "v",
         "showlegend": true,
         "type": "scatter",
         "x": [
          11502
         ],
         "xaxis": "x",
         "y": [
          62
         ],
         "yaxis": "y"
        },
        {
         "hovertemplate": "Country=Saint Martin<br>TotalCases=%{x}<br>TotalDeaths=%{y}<extra></extra>",
         "legendgroup": "Saint Martin",
         "marker": {
          "color": "#FECB52",
          "symbol": "circle"
         },
         "mode": "markers",
         "name": "Saint Martin",
         "orientation": "v",
         "showlegend": true,
         "type": "scatter",
         "x": [
          9912
         ],
         "xaxis": "x",
         "y": [
          63
         ],
         "yaxis": "y"
        },
        {
         "hovertemplate": "Country=Monaco<br>TotalCases=%{x}<br>TotalDeaths=%{y}<extra></extra>",
         "legendgroup": "Monaco",
         "marker": {
          "color": "#636efa",
          "symbol": "circle"
         },
         "mode": "markers",
         "name": "Monaco",
         "orientation": "v",
         "showlegend": true,
         "type": "scatter",
         "x": [
          9736
         ],
         "xaxis": "x",
         "y": [
          51
         ],
         "yaxis": "y"
        },
        {
         "hovertemplate": "Country=Eritrea<br>TotalCases=%{x}<br>TotalDeaths=%{y}<extra></extra>",
         "legendgroup": "Eritrea",
         "marker": {
          "color": "#EF553B",
          "symbol": "circle"
         },
         "mode": "markers",
         "name": "Eritrea",
         "orientation": "v",
         "showlegend": true,
         "type": "scatter",
         "x": [
          9720
         ],
         "xaxis": "x",
         "y": [
          103
         ],
         "yaxis": "y"
        },
        {
         "hovertemplate": "Country=Sint Maarten<br>TotalCases=%{x}<br>TotalDeaths=%{y}<extra></extra>",
         "legendgroup": "Sint Maarten",
         "marker": {
          "color": "#00cc96",
          "symbol": "circle"
         },
         "mode": "markers",
         "name": "Sint Maarten",
         "orientation": "v",
         "showlegend": true,
         "type": "scatter",
         "x": [
          9599
         ],
         "xaxis": "x",
         "y": [
          85
         ],
         "yaxis": "y"
        },
        {
         "hovertemplate": "Country=Niger<br>TotalCases=%{x}<br>TotalDeaths=%{y}<extra></extra>",
         "legendgroup": "Niger",
         "marker": {
          "color": "#ab63fa",
          "symbol": "circle"
         },
         "mode": "markers",
         "name": "Niger",
         "orientation": "v",
         "showlegend": true,
         "type": "scatter",
         "x": [
          8780
         ],
         "xaxis": "x",
         "y": [
          308
         ],
         "yaxis": "y"
        },
        {
         "hovertemplate": "Country=Solomon Islands<br>TotalCases=%{x}<br>TotalDeaths=%{y}<extra></extra>",
         "legendgroup": "Solomon Islands",
         "marker": {
          "color": "#FFA15A",
          "symbol": "circle"
         },
         "mode": "markers",
         "name": "Solomon Islands",
         "orientation": "v",
         "showlegend": true,
         "type": "scatter",
         "x": [
          8491
         ],
         "xaxis": "x",
         "y": [
          118
         ],
         "yaxis": "y"
        },
        {
         "hovertemplate": "Country=Comoros<br>TotalCases=%{x}<br>TotalDeaths=%{y}<extra></extra>",
         "legendgroup": "Comoros",
         "marker": {
          "color": "#19d3f3",
          "symbol": "circle"
         },
         "mode": "markers",
         "name": "Comoros",
         "orientation": "v",
         "showlegend": true,
         "type": "scatter",
         "x": [
          8060
         ],
         "xaxis": "x",
         "y": [
          160
         ],
         "yaxis": "y"
        },
        {
         "hovertemplate": "Country=Guinea-Bissau<br>TotalCases=%{x}<br>TotalDeaths=%{y}<extra></extra>",
         "legendgroup": "Guinea-Bissau",
         "marker": {
          "color": "#FF6692",
          "symbol": "circle"
         },
         "mode": "markers",
         "name": "Guinea-Bissau",
         "orientation": "v",
         "showlegend": true,
         "type": "scatter",
         "x": [
          8050
         ],
         "xaxis": "x",
         "y": [
          168
         ],
         "yaxis": "y"
        },
        {
         "hovertemplate": "Country=Sierra Leone<br>TotalCases=%{x}<br>TotalDeaths=%{y}<extra></extra>",
         "legendgroup": "Sierra Leone",
         "marker": {
          "color": "#B6E880",
          "symbol": "circle"
         },
         "mode": "markers",
         "name": "Sierra Leone",
         "orientation": "v",
         "showlegend": true,
         "type": "scatter",
         "x": [
          7667
         ],
         "xaxis": "x",
         "y": [
          125
         ],
         "yaxis": "y"
        },
        {
         "hovertemplate": "Country=Caribbean Netherlands<br>TotalCases=%{x}<br>TotalDeaths=%{y}<extra></extra>",
         "legendgroup": "Caribbean Netherlands",
         "marker": {
          "color": "#FF97FF",
          "symbol": "circle"
         },
         "mode": "markers",
         "name": "Caribbean Netherlands",
         "orientation": "v",
         "showlegend": true,
         "type": "scatter",
         "x": [
          7614
         ],
         "xaxis": "x",
         "y": [
          31
         ],
         "yaxis": "y"
        },
        {
         "hovertemplate": "Country=Antigua and Barbuda<br>TotalCases=%{x}<br>TotalDeaths=%{y}<extra></extra>",
         "legendgroup": "Antigua and Barbuda",
         "marker": {
          "color": "#FECB52",
          "symbol": "circle"
         },
         "mode": "markers",
         "name": "Antigua and Barbuda",
         "orientation": "v",
         "showlegend": true,
         "type": "scatter",
         "x": [
          7466
         ],
         "xaxis": "x",
         "y": [
          135
         ],
         "yaxis": "y"
        },
        {
         "hovertemplate": "Country=Liberia<br>TotalCases=%{x}<br>TotalDeaths=%{y}<extra></extra>",
         "legendgroup": "Liberia",
         "marker": {
          "color": "#636efa",
          "symbol": "circle"
         },
         "mode": "markers",
         "name": "Liberia",
         "orientation": "v",
         "showlegend": true,
         "type": "scatter",
         "x": [
          7392
         ],
         "xaxis": "x",
         "y": [
          294
         ],
         "yaxis": "y"
        },
        {
         "hovertemplate": "Country=Chad<br>TotalCases=%{x}<br>TotalDeaths=%{y}<extra></extra>",
         "legendgroup": "Chad",
         "marker": {
          "color": "#EF553B",
          "symbol": "circle"
         },
         "mode": "markers",
         "name": "Chad",
         "orientation": "v",
         "showlegend": true,
         "type": "scatter",
         "x": [
          7258
         ],
         "xaxis": "x",
         "y": [
          190
         ],
         "yaxis": "y"
        },
        {
         "hovertemplate": "Country=St. Vincent Grenadines<br>TotalCases=%{x}<br>TotalDeaths=%{y}<extra></extra>",
         "legendgroup": "St. Vincent Grenadines",
         "marker": {
          "color": "#00cc96",
          "symbol": "circle"
         },
         "mode": "markers",
         "name": "St. Vincent Grenadines",
         "orientation": "v",
         "showlegend": true,
         "type": "scatter",
         "x": [
          6742
         ],
         "xaxis": "x",
         "y": [
          106
         ],
         "yaxis": "y"
        },
        {
         "hovertemplate": "Country=British Virgin Islands<br>TotalCases=%{x}<br>TotalDeaths=%{y}<extra></extra>",
         "legendgroup": "British Virgin Islands",
         "marker": {
          "color": "#ab63fa",
          "symbol": "circle"
         },
         "mode": "markers",
         "name": "British Virgin Islands",
         "orientation": "v",
         "showlegend": true,
         "type": "scatter",
         "x": [
          6091
         ],
         "xaxis": "x",
         "y": [
          62
         ],
         "yaxis": "y"
        },
        {
         "hovertemplate": "Country=Sao Tome and Principe<br>TotalCases=%{x}<br>TotalDeaths=%{y}<extra></extra>",
         "legendgroup": "Sao Tome and Principe",
         "marker": {
          "color": "#FFA15A",
          "symbol": "circle"
         },
         "mode": "markers",
         "name": "Sao Tome and Principe",
         "orientation": "v",
         "showlegend": true,
         "type": "scatter",
         "x": [
          5934
         ],
         "xaxis": "x",
         "y": [
          72
         ],
         "yaxis": "y"
        },
        {
         "hovertemplate": "Country=Turks and Caicos<br>TotalCases=%{x}<br>TotalDeaths=%{y}<extra></extra>",
         "legendgroup": "Turks and Caicos",
         "marker": {
          "color": "#19d3f3",
          "symbol": "circle"
         },
         "mode": "markers",
         "name": "Turks and Caicos",
         "orientation": "v",
         "showlegend": true,
         "type": "scatter",
         "x": [
          5874
         ],
         "xaxis": "x",
         "y": [
          36
         ],
         "yaxis": "y"
        },
        {
         "hovertemplate": "Country=Saint Kitts and Nevis<br>TotalCases=%{x}<br>TotalDeaths=%{y}<extra></extra>",
         "legendgroup": "Saint Kitts and Nevis",
         "marker": {
          "color": "#FF6692",
          "symbol": "circle"
         },
         "mode": "markers",
         "name": "Saint Kitts and Nevis",
         "orientation": "v",
         "showlegend": true,
         "type": "scatter",
         "x": [
          5538
         ],
         "xaxis": "x",
         "y": [
          42
         ],
         "yaxis": "y"
        },
        {
         "hovertemplate": "Country=Palau<br>TotalCases=%{x}<br>TotalDeaths=%{y}<extra></extra>",
         "legendgroup": "Palau",
         "marker": {
          "color": "#B6E880",
          "symbol": "circle"
         },
         "mode": "markers",
         "name": "Palau",
         "orientation": "v",
         "showlegend": true,
         "type": "scatter",
         "x": [
          3899
         ],
         "xaxis": "x",
         "y": [
          6
         ],
         "yaxis": "y"
        },
        {
         "hovertemplate": "Country=St. Barth<br>TotalCases=%{x}<br>TotalDeaths=%{y}<extra></extra>",
         "legendgroup": "St. Barth",
         "marker": {
          "color": "#FF97FF",
          "symbol": "circle"
         },
         "mode": "markers",
         "name": "St. Barth",
         "orientation": "v",
         "showlegend": true,
         "type": "scatter",
         "x": [
          3780
         ],
         "xaxis": "x",
         "y": [
          6
         ],
         "yaxis": "y"
        },
        {
         "hovertemplate": "Country=Kiribati<br>TotalCases=%{x}<br>TotalDeaths=%{y}<extra></extra>",
         "legendgroup": "Kiribati",
         "marker": {
          "color": "#FECB52",
          "symbol": "circle"
         },
         "mode": "markers",
         "name": "Kiribati",
         "orientation": "v",
         "showlegend": true,
         "type": "scatter",
         "x": [
          3019
         ],
         "xaxis": "x",
         "y": [
          13
         ],
         "yaxis": "y"
        },
        {
         "hovertemplate": "Country=Anguilla<br>TotalCases=%{x}<br>TotalDeaths=%{y}<extra></extra>",
         "legendgroup": "Anguilla",
         "marker": {
          "color": "#636efa",
          "symbol": "circle"
         },
         "mode": "markers",
         "name": "Anguilla",
         "orientation": "v",
         "showlegend": true,
         "type": "scatter",
         "x": [
          2574
         ],
         "xaxis": "x",
         "y": [
          9
         ],
         "yaxis": "y"
        },
        {
         "hovertemplate": "Country=Tonga<br>TotalCases=%{x}<br>TotalDeaths=%{y}<extra></extra>",
         "legendgroup": "Tonga",
         "marker": {
          "color": "#EF553B",
          "symbol": "circle"
         },
         "mode": "markers",
         "name": "Tonga",
         "orientation": "v",
         "showlegend": true,
         "type": "scatter",
         "x": [
          1382
         ],
         "xaxis": "x",
         "y": [
          2
         ],
         "yaxis": "y"
        },
        {
         "hovertemplate": "Country=Saint Pierre Miquelon<br>TotalCases=%{x}<br>TotalDeaths=%{y}<extra></extra>",
         "legendgroup": "Saint Pierre Miquelon",
         "marker": {
          "color": "#00cc96",
          "symbol": "circle"
         },
         "mode": "markers",
         "name": "Saint Pierre Miquelon",
         "orientation": "v",
         "showlegend": true,
         "type": "scatter",
         "x": [
          1316
         ],
         "xaxis": "x",
         "y": [
          1
         ],
         "yaxis": "y"
        },
        {
         "hovertemplate": "Country=Diamond Princess<br>TotalCases=%{x}<br>TotalDeaths=%{y}<extra></extra>",
         "legendgroup": "Diamond Princess",
         "marker": {
          "color": "#ab63fa",
          "symbol": "circle"
         },
         "mode": "markers",
         "name": "Diamond Princess",
         "orientation": "v",
         "showlegend": true,
         "type": "scatter",
         "x": [
          712
         ],
         "xaxis": "x",
         "y": [
          13
         ],
         "yaxis": "y"
        },
        {
         "hovertemplate": "Country=Wallis and Futuna<br>TotalCases=%{x}<br>TotalDeaths=%{y}<extra></extra>",
         "legendgroup": "Wallis and Futuna",
         "marker": {
          "color": "#FFA15A",
          "symbol": "circle"
         },
         "mode": "markers",
         "name": "Wallis and Futuna",
         "orientation": "v",
         "showlegend": true,
         "type": "scatter",
         "x": [
          454
         ],
         "xaxis": "x",
         "y": [
          7
         ],
         "yaxis": "y"
        },
        {
         "hovertemplate": "Country=Cook Islands<br>TotalCases=%{x}<br>TotalDeaths=%{y}<extra></extra>",
         "legendgroup": "Cook Islands",
         "marker": {
          "color": "#19d3f3",
          "symbol": "circle"
         },
         "mode": "markers",
         "name": "Cook Islands",
         "orientation": "v",
         "showlegend": true,
         "type": "scatter",
         "x": [
          280
         ],
         "xaxis": "x",
         "y": [
          0
         ],
         "yaxis": "y"
        },
        {
         "hovertemplate": "Country=Montserrat<br>TotalCases=%{x}<br>TotalDeaths=%{y}<extra></extra>",
         "legendgroup": "Montserrat",
         "marker": {
          "color": "#FF6692",
          "symbol": "circle"
         },
         "mode": "markers",
         "name": "Montserrat",
         "orientation": "v",
         "showlegend": true,
         "type": "scatter",
         "x": [
          166
         ],
         "xaxis": "x",
         "y": [
          2
         ],
         "yaxis": "y"
        },
        {
         "hovertemplate": "Country=Vanuatu<br>TotalCases=%{x}<br>TotalDeaths=%{y}<extra></extra>",
         "legendgroup": "Vanuatu",
         "marker": {
          "color": "#B6E880",
          "symbol": "circle"
         },
         "mode": "markers",
         "name": "Vanuatu",
         "orientation": "v",
         "showlegend": true,
         "type": "scatter",
         "x": [
          157
         ],
         "xaxis": "x",
         "y": [
          1
         ],
         "yaxis": "y"
        },
        {
         "hovertemplate": "Country=Falkland Islands<br>TotalCases=%{x}<br>TotalDeaths=%{y}<extra></extra>",
         "legendgroup": "Falkland Islands",
         "marker": {
          "color": "#FF97FF",
          "symbol": "circle"
         },
         "mode": "markers",
         "name": "Falkland Islands",
         "orientation": "v",
         "showlegend": true,
         "type": "scatter",
         "x": [
          118
         ],
         "xaxis": "x",
         "y": [
          0
         ],
         "yaxis": "y"
        },
        {
         "hovertemplate": "Country=Macao<br>TotalCases=%{x}<br>TotalDeaths=%{y}<extra></extra>",
         "legendgroup": "Macao",
         "marker": {
          "color": "#FECB52",
          "symbol": "circle"
         },
         "mode": "markers",
         "name": "Macao",
         "orientation": "v",
         "showlegend": true,
         "type": "scatter",
         "x": [
          82
         ],
         "xaxis": "x",
         "y": [
          0
         ],
         "yaxis": "y"
        },
        {
         "hovertemplate": "Country=Samoa<br>TotalCases=%{x}<br>TotalDeaths=%{y}<extra></extra>",
         "legendgroup": "Samoa",
         "marker": {
          "color": "#636efa",
          "symbol": "circle"
         },
         "mode": "markers",
         "name": "Samoa",
         "orientation": "v",
         "showlegend": true,
         "type": "scatter",
         "x": [
          45
         ],
         "xaxis": "x",
         "y": [
          0
         ],
         "yaxis": "y"
        },
        {
         "hovertemplate": "Country=Vatican City<br>TotalCases=%{x}<br>TotalDeaths=%{y}<extra></extra>",
         "legendgroup": "Vatican City",
         "marker": {
          "color": "#EF553B",
          "symbol": "circle"
         },
         "mode": "markers",
         "name": "Vatican City",
         "orientation": "v",
         "showlegend": true,
         "type": "scatter",
         "x": [
          29
         ],
         "xaxis": "x",
         "y": [
          0
         ],
         "yaxis": "y"
        },
        {
         "hovertemplate": "Country=Western Sahara<br>TotalCases=%{x}<br>TotalDeaths=%{y}<extra></extra>",
         "legendgroup": "Western Sahara",
         "marker": {
          "color": "#00cc96",
          "symbol": "circle"
         },
         "mode": "markers",
         "name": "Western Sahara",
         "orientation": "v",
         "showlegend": true,
         "type": "scatter",
         "x": [
          10
         ],
         "xaxis": "x",
         "y": [
          1
         ],
         "yaxis": "y"
        },
        {
         "hovertemplate": "Country=MS Zaandam<br>TotalCases=%{x}<br>TotalDeaths=%{y}<extra></extra>",
         "legendgroup": "MS Zaandam",
         "marker": {
          "color": "#ab63fa",
          "symbol": "circle"
         },
         "mode": "markers",
         "name": "MS Zaandam",
         "orientation": "v",
         "showlegend": true,
         "type": "scatter",
         "x": [
          9
         ],
         "xaxis": "x",
         "y": [
          2
         ],
         "yaxis": "y"
        },
        {
         "hovertemplate": "Country=Marshall Islands<br>TotalCases=%{x}<br>TotalDeaths=%{y}<extra></extra>",
         "legendgroup": "Marshall Islands",
         "marker": {
          "color": "#FFA15A",
          "symbol": "circle"
         },
         "mode": "markers",
         "name": "Marshall Islands",
         "orientation": "v",
         "showlegend": true,
         "type": "scatter",
         "x": [
          7
         ],
         "xaxis": "x",
         "y": [
          0
         ],
         "yaxis": "y"
        },
        {
         "hovertemplate": "Country=Saint Helena<br>TotalCases=%{x}<br>TotalDeaths=%{y}<extra></extra>",
         "legendgroup": "Saint Helena",
         "marker": {
          "color": "#19d3f3",
          "symbol": "circle"
         },
         "mode": "markers",
         "name": "Saint Helena",
         "orientation": "v",
         "showlegend": true,
         "type": "scatter",
         "x": [
          2
         ],
         "xaxis": "x",
         "y": [
          0
         ],
         "yaxis": "y"
        },
        {
         "hovertemplate": "Country=Micronesia<br>TotalCases=%{x}<br>TotalDeaths=%{y}<extra></extra>",
         "legendgroup": "Micronesia",
         "marker": {
          "color": "#FF6692",
          "symbol": "circle"
         },
         "mode": "markers",
         "name": "Micronesia",
         "orientation": "v",
         "showlegend": true,
         "type": "scatter",
         "x": [
          1
         ],
         "xaxis": "x",
         "y": [
          0
         ],
         "yaxis": "y"
        }
       ],
       "layout": {
        "height": 500,
        "legend": {
         "title": {
          "text": "Country"
         },
         "tracegroupgap": 0
        },
        "template": {
         "data": {
          "bar": [
           {
            "error_x": {
             "color": "#2a3f5f"
            },
            "error_y": {
             "color": "#2a3f5f"
            },
            "marker": {
             "line": {
              "color": "#E5ECF6",
              "width": 0.5
             },
             "pattern": {
              "fillmode": "overlay",
              "size": 10,
              "solidity": 0.2
             }
            },
            "type": "bar"
           }
          ],
          "barpolar": [
           {
            "marker": {
             "line": {
              "color": "#E5ECF6",
              "width": 0.5
             },
             "pattern": {
              "fillmode": "overlay",
              "size": 10,
              "solidity": 0.2
             }
            },
            "type": "barpolar"
           }
          ],
          "carpet": [
           {
            "aaxis": {
             "endlinecolor": "#2a3f5f",
             "gridcolor": "white",
             "linecolor": "white",
             "minorgridcolor": "white",
             "startlinecolor": "#2a3f5f"
            },
            "baxis": {
             "endlinecolor": "#2a3f5f",
             "gridcolor": "white",
             "linecolor": "white",
             "minorgridcolor": "white",
             "startlinecolor": "#2a3f5f"
            },
            "type": "carpet"
           }
          ],
          "choropleth": [
           {
            "colorbar": {
             "outlinewidth": 0,
             "ticks": ""
            },
            "type": "choropleth"
           }
          ],
          "contour": [
           {
            "colorbar": {
             "outlinewidth": 0,
             "ticks": ""
            },
            "colorscale": [
             [
              0,
              "#0d0887"
             ],
             [
              0.1111111111111111,
              "#46039f"
             ],
             [
              0.2222222222222222,
              "#7201a8"
             ],
             [
              0.3333333333333333,
              "#9c179e"
             ],
             [
              0.4444444444444444,
              "#bd3786"
             ],
             [
              0.5555555555555556,
              "#d8576b"
             ],
             [
              0.6666666666666666,
              "#ed7953"
             ],
             [
              0.7777777777777778,
              "#fb9f3a"
             ],
             [
              0.8888888888888888,
              "#fdca26"
             ],
             [
              1,
              "#f0f921"
             ]
            ],
            "type": "contour"
           }
          ],
          "contourcarpet": [
           {
            "colorbar": {
             "outlinewidth": 0,
             "ticks": ""
            },
            "type": "contourcarpet"
           }
          ],
          "heatmap": [
           {
            "colorbar": {
             "outlinewidth": 0,
             "ticks": ""
            },
            "colorscale": [
             [
              0,
              "#0d0887"
             ],
             [
              0.1111111111111111,
              "#46039f"
             ],
             [
              0.2222222222222222,
              "#7201a8"
             ],
             [
              0.3333333333333333,
              "#9c179e"
             ],
             [
              0.4444444444444444,
              "#bd3786"
             ],
             [
              0.5555555555555556,
              "#d8576b"
             ],
             [
              0.6666666666666666,
              "#ed7953"
             ],
             [
              0.7777777777777778,
              "#fb9f3a"
             ],
             [
              0.8888888888888888,
              "#fdca26"
             ],
             [
              1,
              "#f0f921"
             ]
            ],
            "type": "heatmap"
           }
          ],
          "heatmapgl": [
           {
            "colorbar": {
             "outlinewidth": 0,
             "ticks": ""
            },
            "colorscale": [
             [
              0,
              "#0d0887"
             ],
             [
              0.1111111111111111,
              "#46039f"
             ],
             [
              0.2222222222222222,
              "#7201a8"
             ],
             [
              0.3333333333333333,
              "#9c179e"
             ],
             [
              0.4444444444444444,
              "#bd3786"
             ],
             [
              0.5555555555555556,
              "#d8576b"
             ],
             [
              0.6666666666666666,
              "#ed7953"
             ],
             [
              0.7777777777777778,
              "#fb9f3a"
             ],
             [
              0.8888888888888888,
              "#fdca26"
             ],
             [
              1,
              "#f0f921"
             ]
            ],
            "type": "heatmapgl"
           }
          ],
          "histogram": [
           {
            "marker": {
             "pattern": {
              "fillmode": "overlay",
              "size": 10,
              "solidity": 0.2
             }
            },
            "type": "histogram"
           }
          ],
          "histogram2d": [
           {
            "colorbar": {
             "outlinewidth": 0,
             "ticks": ""
            },
            "colorscale": [
             [
              0,
              "#0d0887"
             ],
             [
              0.1111111111111111,
              "#46039f"
             ],
             [
              0.2222222222222222,
              "#7201a8"
             ],
             [
              0.3333333333333333,
              "#9c179e"
             ],
             [
              0.4444444444444444,
              "#bd3786"
             ],
             [
              0.5555555555555556,
              "#d8576b"
             ],
             [
              0.6666666666666666,
              "#ed7953"
             ],
             [
              0.7777777777777778,
              "#fb9f3a"
             ],
             [
              0.8888888888888888,
              "#fdca26"
             ],
             [
              1,
              "#f0f921"
             ]
            ],
            "type": "histogram2d"
           }
          ],
          "histogram2dcontour": [
           {
            "colorbar": {
             "outlinewidth": 0,
             "ticks": ""
            },
            "colorscale": [
             [
              0,
              "#0d0887"
             ],
             [
              0.1111111111111111,
              "#46039f"
             ],
             [
              0.2222222222222222,
              "#7201a8"
             ],
             [
              0.3333333333333333,
              "#9c179e"
             ],
             [
              0.4444444444444444,
              "#bd3786"
             ],
             [
              0.5555555555555556,
              "#d8576b"
             ],
             [
              0.6666666666666666,
              "#ed7953"
             ],
             [
              0.7777777777777778,
              "#fb9f3a"
             ],
             [
              0.8888888888888888,
              "#fdca26"
             ],
             [
              1,
              "#f0f921"
             ]
            ],
            "type": "histogram2dcontour"
           }
          ],
          "mesh3d": [
           {
            "colorbar": {
             "outlinewidth": 0,
             "ticks": ""
            },
            "type": "mesh3d"
           }
          ],
          "parcoords": [
           {
            "line": {
             "colorbar": {
              "outlinewidth": 0,
              "ticks": ""
             }
            },
            "type": "parcoords"
           }
          ],
          "pie": [
           {
            "automargin": true,
            "type": "pie"
           }
          ],
          "scatter": [
           {
            "marker": {
             "colorbar": {
              "outlinewidth": 0,
              "ticks": ""
             }
            },
            "type": "scatter"
           }
          ],
          "scatter3d": [
           {
            "line": {
             "colorbar": {
              "outlinewidth": 0,
              "ticks": ""
             }
            },
            "marker": {
             "colorbar": {
              "outlinewidth": 0,
              "ticks": ""
             }
            },
            "type": "scatter3d"
           }
          ],
          "scattercarpet": [
           {
            "marker": {
             "colorbar": {
              "outlinewidth": 0,
              "ticks": ""
             }
            },
            "type": "scattercarpet"
           }
          ],
          "scattergeo": [
           {
            "marker": {
             "colorbar": {
              "outlinewidth": 0,
              "ticks": ""
             }
            },
            "type": "scattergeo"
           }
          ],
          "scattergl": [
           {
            "marker": {
             "colorbar": {
              "outlinewidth": 0,
              "ticks": ""
             }
            },
            "type": "scattergl"
           }
          ],
          "scattermapbox": [
           {
            "marker": {
             "colorbar": {
              "outlinewidth": 0,
              "ticks": ""
             }
            },
            "type": "scattermapbox"
           }
          ],
          "scatterpolar": [
           {
            "marker": {
             "colorbar": {
              "outlinewidth": 0,
              "ticks": ""
             }
            },
            "type": "scatterpolar"
           }
          ],
          "scatterpolargl": [
           {
            "marker": {
             "colorbar": {
              "outlinewidth": 0,
              "ticks": ""
             }
            },
            "type": "scatterpolargl"
           }
          ],
          "scatterternary": [
           {
            "marker": {
             "colorbar": {
              "outlinewidth": 0,
              "ticks": ""
             }
            },
            "type": "scatterternary"
           }
          ],
          "surface": [
           {
            "colorbar": {
             "outlinewidth": 0,
             "ticks": ""
            },
            "colorscale": [
             [
              0,
              "#0d0887"
             ],
             [
              0.1111111111111111,
              "#46039f"
             ],
             [
              0.2222222222222222,
              "#7201a8"
             ],
             [
              0.3333333333333333,
              "#9c179e"
             ],
             [
              0.4444444444444444,
              "#bd3786"
             ],
             [
              0.5555555555555556,
              "#d8576b"
             ],
             [
              0.6666666666666666,
              "#ed7953"
             ],
             [
              0.7777777777777778,
              "#fb9f3a"
             ],
             [
              0.8888888888888888,
              "#fdca26"
             ],
             [
              1,
              "#f0f921"
             ]
            ],
            "type": "surface"
           }
          ],
          "table": [
           {
            "cells": {
             "fill": {
              "color": "#EBF0F8"
             },
             "line": {
              "color": "white"
             }
            },
            "header": {
             "fill": {
              "color": "#C8D4E3"
             },
             "line": {
              "color": "white"
             }
            },
            "type": "table"
           }
          ]
         },
         "layout": {
          "annotationdefaults": {
           "arrowcolor": "#2a3f5f",
           "arrowhead": 0,
           "arrowwidth": 1
          },
          "autotypenumbers": "strict",
          "coloraxis": {
           "colorbar": {
            "outlinewidth": 0,
            "ticks": ""
           }
          },
          "colorscale": {
           "diverging": [
            [
             0,
             "#8e0152"
            ],
            [
             0.1,
             "#c51b7d"
            ],
            [
             0.2,
             "#de77ae"
            ],
            [
             0.3,
             "#f1b6da"
            ],
            [
             0.4,
             "#fde0ef"
            ],
            [
             0.5,
             "#f7f7f7"
            ],
            [
             0.6,
             "#e6f5d0"
            ],
            [
             0.7,
             "#b8e186"
            ],
            [
             0.8,
             "#7fbc41"
            ],
            [
             0.9,
             "#4d9221"
            ],
            [
             1,
             "#276419"
            ]
           ],
           "sequential": [
            [
             0,
             "#0d0887"
            ],
            [
             0.1111111111111111,
             "#46039f"
            ],
            [
             0.2222222222222222,
             "#7201a8"
            ],
            [
             0.3333333333333333,
             "#9c179e"
            ],
            [
             0.4444444444444444,
             "#bd3786"
            ],
            [
             0.5555555555555556,
             "#d8576b"
            ],
            [
             0.6666666666666666,
             "#ed7953"
            ],
            [
             0.7777777777777778,
             "#fb9f3a"
            ],
            [
             0.8888888888888888,
             "#fdca26"
            ],
            [
             1,
             "#f0f921"
            ]
           ],
           "sequentialminus": [
            [
             0,
             "#0d0887"
            ],
            [
             0.1111111111111111,
             "#46039f"
            ],
            [
             0.2222222222222222,
             "#7201a8"
            ],
            [
             0.3333333333333333,
             "#9c179e"
            ],
            [
             0.4444444444444444,
             "#bd3786"
            ],
            [
             0.5555555555555556,
             "#d8576b"
            ],
            [
             0.6666666666666666,
             "#ed7953"
            ],
            [
             0.7777777777777778,
             "#fb9f3a"
            ],
            [
             0.8888888888888888,
             "#fdca26"
            ],
            [
             1,
             "#f0f921"
            ]
           ]
          },
          "colorway": [
           "#636efa",
           "#EF553B",
           "#00cc96",
           "#ab63fa",
           "#FFA15A",
           "#19d3f3",
           "#FF6692",
           "#B6E880",
           "#FF97FF",
           "#FECB52"
          ],
          "font": {
           "color": "#2a3f5f"
          },
          "geo": {
           "bgcolor": "white",
           "lakecolor": "white",
           "landcolor": "#E5ECF6",
           "showlakes": true,
           "showland": true,
           "subunitcolor": "white"
          },
          "hoverlabel": {
           "align": "left"
          },
          "hovermode": "closest",
          "mapbox": {
           "style": "light"
          },
          "paper_bgcolor": "white",
          "plot_bgcolor": "#E5ECF6",
          "polar": {
           "angularaxis": {
            "gridcolor": "white",
            "linecolor": "white",
            "ticks": ""
           },
           "bgcolor": "#E5ECF6",
           "radialaxis": {
            "gridcolor": "white",
            "linecolor": "white",
            "ticks": ""
           }
          },
          "scene": {
           "xaxis": {
            "backgroundcolor": "#E5ECF6",
            "gridcolor": "white",
            "gridwidth": 2,
            "linecolor": "white",
            "showbackground": true,
            "ticks": "",
            "zerolinecolor": "white"
           },
           "yaxis": {
            "backgroundcolor": "#E5ECF6",
            "gridcolor": "white",
            "gridwidth": 2,
            "linecolor": "white",
            "showbackground": true,
            "ticks": "",
            "zerolinecolor": "white"
           },
           "zaxis": {
            "backgroundcolor": "#E5ECF6",
            "gridcolor": "white",
            "gridwidth": 2,
            "linecolor": "white",
            "showbackground": true,
            "ticks": "",
            "zerolinecolor": "white"
           }
          },
          "shapedefaults": {
           "line": {
            "color": "#2a3f5f"
           }
          },
          "ternary": {
           "aaxis": {
            "gridcolor": "white",
            "linecolor": "white",
            "ticks": ""
           },
           "baxis": {
            "gridcolor": "white",
            "linecolor": "white",
            "ticks": ""
           },
           "bgcolor": "#E5ECF6",
           "caxis": {
            "gridcolor": "white",
            "linecolor": "white",
            "ticks": ""
           }
          },
          "title": {
           "x": 0.05
          },
          "xaxis": {
           "automargin": true,
           "gridcolor": "white",
           "linecolor": "white",
           "ticks": "",
           "title": {
            "standoff": 15
           },
           "zerolinecolor": "white",
           "zerolinewidth": 2
          },
          "yaxis": {
           "automargin": true,
           "gridcolor": "white",
           "linecolor": "white",
           "ticks": "",
           "title": {
            "standoff": 15
           },
           "zerolinecolor": "white",
           "zerolinewidth": 2
          }
         }
        },
        "title": {
         "text": "World"
        },
        "width": 1200,
        "xaxis": {
         "anchor": "y",
         "domain": [
          0,
          1
         ],
         "title": {
          "text": "TotalCases"
         }
        },
        "yaxis": {
         "anchor": "x",
         "domain": [
          0,
          1
         ],
         "title": {
          "text": "TotalDeaths"
         }
        }
       }
      }
     },
     "metadata": {},
     "output_type": "display_data"
    }
   ],
   "source": [
    "scatterplot_df_day = df_covid_yesterday[['Country','TotalCases','TotalDeaths']]\n",
    "fig = px.scatter(scatterplot_df_day, x='TotalCases', y='TotalDeaths',color='Country',title='World')\n",
    "fig.update_layout(height=500, width=1200)\n",
    "fig.show()"
   ]
  },
  {
   "cell_type": "code",
   "execution_count": 88,
   "metadata": {},
   "outputs": [
    {
     "data": {
      "application/vnd.plotly.v1+json": {
       "config": {
        "plotlyServerURL": "https://plot.ly"
       },
       "data": [
        {
         "hovertemplate": "Country=S. Korea<br>Cases in the last 7 days/1M pop=%{x}<br>Deaths in the last 7 days/1M pop=%{y}<extra></extra>",
         "legendgroup": "S. Korea",
         "marker": {
          "color": "#636efa",
          "symbol": "circle"
         },
         "mode": "markers",
         "name": "S. Korea",
         "orientation": "v",
         "showlegend": true,
         "type": "scatter",
         "x": [
          42834
         ],
         "xaxis": "x",
         "y": [
          29
         ],
         "yaxis": "y"
        },
        {
         "hovertemplate": "Country=Germany<br>Cases in the last 7 days/1M pop=%{x}<br>Deaths in the last 7 days/1M pop=%{y}<extra></extra>",
         "legendgroup": "Germany",
         "marker": {
          "color": "#EF553B",
          "symbol": "circle"
         },
         "mode": "markers",
         "name": "Germany",
         "orientation": "v",
         "showlegend": true,
         "type": "scatter",
         "x": [
          16513
         ],
         "xaxis": "x",
         "y": [
          18
         ],
         "yaxis": "y"
        },
        {
         "hovertemplate": "Country=Vietnam<br>Cases in the last 7 days/1M pop=%{x}<br>Deaths in the last 7 days/1M pop=%{y}<extra></extra>",
         "legendgroup": "Vietnam",
         "marker": {
          "color": "#00cc96",
          "symbol": "circle"
         },
         "mode": "markers",
         "name": "Vietnam",
         "orientation": "v",
         "showlegend": true,
         "type": "scatter",
         "x": [
          12362
         ],
         "xaxis": "x",
         "y": [
          6
         ],
         "yaxis": "y"
        },
        {
         "hovertemplate": "Country=France<br>Cases in the last 7 days/1M pop=%{x}<br>Deaths in the last 7 days/1M pop=%{y}<extra></extra>",
         "legendgroup": "France",
         "marker": {
          "color": "#ab63fa",
          "symbol": "circle"
         },
         "mode": "markers",
         "name": "France",
         "orientation": "v",
         "showlegend": true,
         "type": "scatter",
         "x": [
          7039
         ],
         "xaxis": "x",
         "y": [
          13
         ],
         "yaxis": "y"
        },
        {
         "hovertemplate": "Country=Netherlands<br>Cases in the last 7 days/1M pop=%{x}<br>Deaths in the last 7 days/1M pop=%{y}<extra></extra>",
         "legendgroup": "Netherlands",
         "marker": {
          "color": "#FFA15A",
          "symbol": "circle"
         },
         "mode": "markers",
         "name": "Netherlands",
         "orientation": "v",
         "showlegend": true,
         "type": "scatter",
         "x": [
          25724
         ],
         "xaxis": "x",
         "y": [
          6
         ],
         "yaxis": "y"
        },
        {
         "hovertemplate": "Country=UK<br>Cases in the last 7 days/1M pop=%{x}<br>Deaths in the last 7 days/1M pop=%{y}<extra></extra>",
         "legendgroup": "UK",
         "marker": {
          "color": "#19d3f3",
          "symbol": "circle"
         },
         "mode": "markers",
         "name": "UK",
         "orientation": "v",
         "showlegend": true,
         "type": "scatter",
         "x": [
          6068
         ],
         "xaxis": "x",
         "y": [
          11
         ],
         "yaxis": "y"
        },
        {
         "hovertemplate": "Country=Japan<br>Cases in the last 7 days/1M pop=%{x}<br>Deaths in the last 7 days/1M pop=%{y}<extra></extra>",
         "legendgroup": "Japan",
         "marker": {
          "color": "#FF6692",
          "symbol": "circle"
         },
         "mode": "markers",
         "name": "Japan",
         "orientation": "v",
         "showlegend": true,
         "type": "scatter",
         "x": [
          3011
         ],
         "xaxis": "x",
         "y": [
          10
         ],
         "yaxis": "y"
        },
        {
         "hovertemplate": "Country=Russia<br>Cases in the last 7 days/1M pop=%{x}<br>Deaths in the last 7 days/1M pop=%{y}<extra></extra>",
         "legendgroup": "Russia",
         "marker": {
          "color": "#B6E880",
          "symbol": "circle"
         },
         "mode": "markers",
         "name": "Russia",
         "orientation": "v",
         "showlegend": true,
         "type": "scatter",
         "x": [
          2475
         ],
         "xaxis": "x",
         "y": [
          30
         ],
         "yaxis": "y"
        },
        {
         "hovertemplate": "Country=Italy<br>Cases in the last 7 days/1M pop=%{x}<br>Deaths in the last 7 days/1M pop=%{y}<extra></extra>",
         "legendgroup": "Italy",
         "marker": {
          "color": "#FF97FF",
          "symbol": "circle"
         },
         "mode": "markers",
         "name": "Italy",
         "orientation": "v",
         "showlegend": true,
         "type": "scatter",
         "x": [
          5862
         ],
         "xaxis": "x",
         "y": [
          16
         ],
         "yaxis": "y"
        },
        {
         "hovertemplate": "Country=Brazil<br>Cases in the last 7 days/1M pop=%{x}<br>Deaths in the last 7 days/1M pop=%{y}<extra></extra>",
         "legendgroup": "Brazil",
         "marker": {
          "color": "#FECB52",
          "symbol": "circle"
         },
         "mode": "markers",
         "name": "Brazil",
         "orientation": "v",
         "showlegend": true,
         "type": "scatter",
         "x": [
          1454
         ],
         "xaxis": "x",
         "y": [
          14
         ],
         "yaxis": "y"
        },
        {
         "hovertemplate": "Country=Austria<br>Cases in the last 7 days/1M pop=%{x}<br>Deaths in the last 7 days/1M pop=%{y}<extra></extra>",
         "legendgroup": "Austria",
         "marker": {
          "color": "#636efa",
          "symbol": "circle"
         },
         "mode": "markers",
         "name": "Austria",
         "orientation": "v",
         "showlegend": true,
         "type": "scatter",
         "x": [
          32356
         ],
         "xaxis": "x",
         "y": [
          21
         ],
         "yaxis": "y"
        },
        {
         "hovertemplate": "Country=Australia<br>Cases in the last 7 days/1M pop=%{x}<br>Deaths in the last 7 days/1M pop=%{y}<extra></extra>",
         "legendgroup": "Australia",
         "marker": {
          "color": "#EF553B",
          "symbol": "circle"
         },
         "mode": "markers",
         "name": "Australia",
         "orientation": "v",
         "showlegend": true,
         "type": "scatter",
         "x": [
          9111
         ],
         "xaxis": "x",
         "y": [
          5
         ],
         "yaxis": "y"
        },
        {
         "hovertemplate": "Country=USA<br>Cases in the last 7 days/1M pop=%{x}<br>Deaths in the last 7 days/1M pop=%{y}<extra></extra>",
         "legendgroup": "USA",
         "marker": {
          "color": "#00cc96",
          "symbol": "circle"
         },
         "mode": "markers",
         "name": "USA",
         "orientation": "v",
         "showlegend": true,
         "type": "scatter",
         "x": [
          671
         ],
         "xaxis": "x",
         "y": [
          21
         ],
         "yaxis": "y"
        },
        {
         "hovertemplate": "Country=Hong Kong<br>Cases in the last 7 days/1M pop=%{x}<br>Deaths in the last 7 days/1M pop=%{y}<extra></extra>",
         "legendgroup": "Hong Kong",
         "marker": {
          "color": "#ab63fa",
          "symbol": "circle"
         },
         "mode": "markers",
         "name": "Hong Kong",
         "orientation": "v",
         "showlegend": true,
         "type": "scatter",
         "x": [
          28632
         ],
         "xaxis": "x",
         "y": [
          262
         ],
         "yaxis": "y"
        },
        {
         "hovertemplate": "Country=Malaysia<br>Cases in the last 7 days/1M pop=%{x}<br>Deaths in the last 7 days/1M pop=%{y}<extra></extra>",
         "legendgroup": "Malaysia",
         "marker": {
          "color": "#FFA15A",
          "symbol": "circle"
         },
         "mode": "markers",
         "name": "Malaysia",
         "orientation": "v",
         "showlegend": true,
         "type": "scatter",
         "x": [
          5931
         ],
         "xaxis": "x",
         "y": [
          18
         ],
         "yaxis": "y"
        },
        {
         "hovertemplate": "Country=Turkey<br>Cases in the last 7 days/1M pop=%{x}<br>Deaths in the last 7 days/1M pop=%{y}<extra></extra>",
         "legendgroup": "Turkey",
         "marker": {
          "color": "#19d3f3",
          "symbol": "circle"
         },
         "mode": "markers",
         "name": "Turkey",
         "orientation": "v",
         "showlegend": true,
         "type": "scatter",
         "x": [
          2187
         ],
         "xaxis": "x",
         "y": [
          11
         ],
         "yaxis": "y"
        },
        {
         "hovertemplate": "Country=Switzerland<br>Cases in the last 7 days/1M pop=%{x}<br>Deaths in the last 7 days/1M pop=%{y}<extra></extra>",
         "legendgroup": "Switzerland",
         "marker": {
          "color": "#FF6692",
          "symbol": "circle"
         },
         "mode": "markers",
         "name": "Switzerland",
         "orientation": "v",
         "showlegend": true,
         "type": "scatter",
         "x": [
          20888
         ],
         "xaxis": "x",
         "y": [
          3
         ],
         "yaxis": "y"
        },
        {
         "hovertemplate": "Country=Thailand<br>Cases in the last 7 days/1M pop=%{x}<br>Deaths in the last 7 days/1M pop=%{y}<extra></extra>",
         "legendgroup": "Thailand",
         "marker": {
          "color": "#B6E880",
          "symbol": "circle"
         },
         "mode": "markers",
         "name": "Thailand",
         "orientation": "v",
         "showlegend": true,
         "type": "scatter",
         "x": [
          2270
         ],
         "xaxis": "x",
         "y": [
          7
         ],
         "yaxis": "y"
        },
        {
         "hovertemplate": "Country=Greece<br>Cases in the last 7 days/1M pop=%{x}<br>Deaths in the last 7 days/1M pop=%{y}<extra></extra>",
         "legendgroup": "Greece",
         "marker": {
          "color": "#FF97FF",
          "symbol": "circle"
         },
         "mode": "markers",
         "name": "Greece",
         "orientation": "v",
         "showlegend": true,
         "type": "scatter",
         "x": [
          13659
         ],
         "xaxis": "x",
         "y": [
          38
         ],
         "yaxis": "y"
        },
        {
         "hovertemplate": "Country=New Zealand<br>Cases in the last 7 days/1M pop=%{x}<br>Deaths in the last 7 days/1M pop=%{y}<extra></extra>",
         "legendgroup": "New Zealand",
         "marker": {
          "color": "#FECB52",
          "symbol": "circle"
         },
         "mode": "markers",
         "name": "New Zealand",
         "orientation": "v",
         "showlegend": true,
         "type": "scatter",
         "x": [
          27462
         ],
         "xaxis": "x",
         "y": [
          4
         ],
         "yaxis": "y"
        },
        {
         "hovertemplate": "Country=Indonesia<br>Cases in the last 7 days/1M pop=%{x}<br>Deaths in the last 7 days/1M pop=%{y}<extra></extra>",
         "legendgroup": "Indonesia",
         "marker": {
          "color": "#636efa",
          "symbol": "circle"
         },
         "mode": "markers",
         "name": "Indonesia",
         "orientation": "v",
         "showlegend": true,
         "type": "scatter",
         "x": [
          467
         ],
         "xaxis": "x",
         "y": [
          7
         ],
         "yaxis": "y"
        },
        {
         "hovertemplate": "Country=Chile<br>Cases in the last 7 days/1M pop=%{x}<br>Deaths in the last 7 days/1M pop=%{y}<extra></extra>",
         "legendgroup": "Chile",
         "marker": {
          "color": "#EF553B",
          "symbol": "circle"
         },
         "mode": "markers",
         "name": "Chile",
         "orientation": "v",
         "showlegend": true,
         "type": "scatter",
         "x": [
          5707
         ],
         "xaxis": "x",
         "y": [
          40
         ],
         "yaxis": "y"
        },
        {
         "hovertemplate": "Country=Singapore<br>Cases in the last 7 days/1M pop=%{x}<br>Deaths in the last 7 days/1M pop=%{y}<extra></extra>",
         "legendgroup": "Singapore",
         "marker": {
          "color": "#00cc96",
          "symbol": "circle"
         },
         "mode": "markers",
         "name": "Singapore",
         "orientation": "v",
         "showlegend": true,
         "type": "scatter",
         "x": [
          17228
         ],
         "xaxis": "x",
         "y": [
          12
         ],
         "yaxis": "y"
        },
        {
         "hovertemplate": "Country=Spain<br>Cases in the last 7 days/1M pop=%{x}<br>Deaths in the last 7 days/1M pop=%{y}<extra></extra>",
         "legendgroup": "Spain",
         "marker": {
          "color": "#ab63fa",
          "symbol": "circle"
         },
         "mode": "markers",
         "name": "Spain",
         "orientation": "v",
         "showlegend": true,
         "type": "scatter",
         "x": [
          1871
         ],
         "xaxis": "x",
         "y": [
          12
         ],
         "yaxis": "y"
        },
        {
         "hovertemplate": "Country=Denmark<br>Cases in the last 7 days/1M pop=%{x}<br>Deaths in the last 7 days/1M pop=%{y}<extra></extra>",
         "legendgroup": "Denmark",
         "marker": {
          "color": "#FFA15A",
          "symbol": "circle"
         },
         "mode": "markers",
         "name": "Denmark",
         "orientation": "v",
         "showlegend": true,
         "type": "scatter",
         "x": [
          13337
         ],
         "xaxis": "x",
         "y": [
          50
         ],
         "yaxis": "y"
        },
        {
         "hovertemplate": "Country=Poland<br>Cases in the last 7 days/1M pop=%{x}<br>Deaths in the last 7 days/1M pop=%{y}<extra></extra>",
         "legendgroup": "Poland",
         "marker": {
          "color": "#19d3f3",
          "symbol": "circle"
         },
         "mode": "markers",
         "name": "Poland",
         "orientation": "v",
         "showlegend": true,
         "type": "scatter",
         "x": [
          2029
         ],
         "xaxis": "x",
         "y": [
          24
         ],
         "yaxis": "y"
        },
        {
         "hovertemplate": "Country=Finland<br>Cases in the last 7 days/1M pop=%{x}<br>Deaths in the last 7 days/1M pop=%{y}<extra></extra>",
         "legendgroup": "Finland",
         "marker": {
          "color": "#FF6692",
          "symbol": "circle"
         },
         "mode": "markers",
         "name": "Finland",
         "orientation": "v",
         "showlegend": true,
         "type": "scatter",
         "x": [
          12055
         ],
         "xaxis": "x",
         "y": [
          26
         ],
         "yaxis": "y"
        },
        {
         "hovertemplate": "Country=Slovakia<br>Cases in the last 7 days/1M pop=%{x}<br>Deaths in the last 7 days/1M pop=%{y}<extra></extra>",
         "legendgroup": "Slovakia",
         "marker": {
          "color": "#B6E880",
          "symbol": "circle"
         },
         "mode": "markers",
         "name": "Slovakia",
         "orientation": "v",
         "showlegend": true,
         "type": "scatter",
         "x": [
          11635
         ],
         "xaxis": "x",
         "y": [
          45
         ],
         "yaxis": "y"
        },
        {
         "hovertemplate": "Country=Belgium<br>Cases in the last 7 days/1M pop=%{x}<br>Deaths in the last 7 days/1M pop=%{y}<extra></extra>",
         "legendgroup": "Belgium",
         "marker": {
          "color": "#FF97FF",
          "symbol": "circle"
         },
         "mode": "markers",
         "name": "Belgium",
         "orientation": "v",
         "showlegend": true,
         "type": "scatter",
         "x": [
          4859
         ],
         "xaxis": "x",
         "y": [
          13
         ],
         "yaxis": "y"
        },
        {
         "hovertemplate": "Country=Czechia<br>Cases in the last 7 days/1M pop=%{x}<br>Deaths in the last 7 days/1M pop=%{y}<extra></extra>",
         "legendgroup": "Czechia",
         "marker": {
          "color": "#FECB52",
          "symbol": "circle"
         },
         "mode": "markers",
         "name": "Czechia",
         "orientation": "v",
         "showlegend": true,
         "type": "scatter",
         "x": [
          4995
         ],
         "xaxis": "x",
         "y": [
          18
         ],
         "yaxis": "y"
        },
        {
         "hovertemplate": "Country=Israel<br>Cases in the last 7 days/1M pop=%{x}<br>Deaths in the last 7 days/1M pop=%{y}<extra></extra>",
         "legendgroup": "Israel",
         "marker": {
          "color": "#636efa",
          "symbol": "circle"
         },
         "mode": "markers",
         "name": "Israel",
         "orientation": "v",
         "showlegend": true,
         "type": "scatter",
         "x": [
          4801
         ],
         "xaxis": "x",
         "y": [
          8
         ],
         "yaxis": "y"
        },
        {
         "hovertemplate": "Country=Portugal<br>Cases in the last 7 days/1M pop=%{x}<br>Deaths in the last 7 days/1M pop=%{y}<extra></extra>",
         "legendgroup": "Portugal",
         "marker": {
          "color": "#EF553B",
          "symbol": "circle"
         },
         "mode": "markers",
         "name": "Portugal",
         "orientation": "v",
         "showlegend": true,
         "type": "scatter",
         "x": [
          4184
         ],
         "xaxis": "x",
         "y": [
          7
         ],
         "yaxis": "y"
        },
        {
         "hovertemplate": "Country=Mexico<br>Cases in the last 7 days/1M pop=%{x}<br>Deaths in the last 7 days/1M pop=%{y}<extra></extra>",
         "legendgroup": "Mexico",
         "marker": {
          "color": "#00cc96",
          "symbol": "circle"
         },
         "mode": "markers",
         "name": "Mexico",
         "orientation": "v",
         "showlegend": true,
         "type": "scatter",
         "x": [
          319
         ],
         "xaxis": "x",
         "y": [
          9
         ],
         "yaxis": "y"
        },
        {
         "hovertemplate": "Country=Norway<br>Cases in the last 7 days/1M pop=%{x}<br>Deaths in the last 7 days/1M pop=%{y}<extra></extra>",
         "legendgroup": "Norway",
         "marker": {
          "color": "#ab63fa",
          "symbol": "circle"
         },
         "mode": "markers",
         "name": "Norway",
         "orientation": "v",
         "showlegend": true,
         "type": "scatter",
         "x": [
          7571
         ],
         "xaxis": "x",
         "y": [
          2
         ],
         "yaxis": "y"
        },
        {
         "hovertemplate": "Country=Latvia<br>Cases in the last 7 days/1M pop=%{x}<br>Deaths in the last 7 days/1M pop=%{y}<extra></extra>",
         "legendgroup": "Latvia",
         "marker": {
          "color": "#FFA15A",
          "symbol": "circle"
         },
         "mode": "markers",
         "name": "Latvia",
         "orientation": "v",
         "showlegend": true,
         "type": "scatter",
         "x": [
          21773
         ],
         "xaxis": "x",
         "y": [
          45
         ],
         "yaxis": "y"
        },
        {
         "hovertemplate": "Country=Canada<br>Cases in the last 7 days/1M pop=%{x}<br>Deaths in the last 7 days/1M pop=%{y}<extra></extra>",
         "legendgroup": "Canada",
         "marker": {
          "color": "#19d3f3",
          "symbol": "circle"
         },
         "mode": "markers",
         "name": "Canada",
         "orientation": "v",
         "showlegend": true,
         "type": "scatter",
         "x": [
          919
         ],
         "xaxis": "x",
         "y": [
          8
         ],
         "yaxis": "y"
        },
        {
         "hovertemplate": "Country=Argentina<br>Cases in the last 7 days/1M pop=%{x}<br>Deaths in the last 7 days/1M pop=%{y}<extra></extra>",
         "legendgroup": "Argentina",
         "marker": {
          "color": "#FF6692",
          "symbol": "circle"
         },
         "mode": "markers",
         "name": "Argentina",
         "orientation": "v",
         "showlegend": true,
         "type": "scatter",
         "x": [
          723
         ],
         "xaxis": "x",
         "y": [
          9
         ],
         "yaxis": "y"
        },
        {
         "hovertemplate": "Country=Ukraine<br>Cases in the last 7 days/1M pop=%{x}<br>Deaths in the last 7 days/1M pop=%{y}<extra></extra>",
         "legendgroup": "Ukraine",
         "marker": {
          "color": "#B6E880",
          "symbol": "circle"
         },
         "mode": "markers",
         "name": "Ukraine",
         "orientation": "v",
         "showlegend": true,
         "type": "scatter",
         "x": [
          725
         ],
         "xaxis": "x",
         "y": [
          12
         ],
         "yaxis": "y"
        },
        {
         "hovertemplate": "Country=Ireland<br>Cases in the last 7 days/1M pop=%{x}<br>Deaths in the last 7 days/1M pop=%{y}<extra></extra>",
         "legendgroup": "Ireland",
         "marker": {
          "color": "#FF97FF",
          "symbol": "circle"
         },
         "mode": "markers",
         "name": "Ireland",
         "orientation": "v",
         "showlegend": true,
         "type": "scatter",
         "x": [
          6190
         ],
         "xaxis": "x",
         "y": [
          11
         ],
         "yaxis": "y"
        },
        {
         "hovertemplate": "Country=Iran<br>Cases in the last 7 days/1M pop=%{x}<br>Deaths in the last 7 days/1M pop=%{y}<extra></extra>",
         "legendgroup": "Iran",
         "marker": {
          "color": "#FECB52",
          "symbol": "circle"
         },
         "mode": "markers",
         "name": "Iran",
         "orientation": "v",
         "showlegend": true,
         "type": "scatter",
         "x": [
          356
         ],
         "xaxis": "x",
         "y": [
          11
         ],
         "yaxis": "y"
        },
        {
         "hovertemplate": "Country=Lithuania<br>Cases in the last 7 days/1M pop=%{x}<br>Deaths in the last 7 days/1M pop=%{y}<extra></extra>",
         "legendgroup": "Lithuania",
         "marker": {
          "color": "#636efa",
          "symbol": "circle"
         },
         "mode": "markers",
         "name": "Lithuania",
         "orientation": "v",
         "showlegend": true,
         "type": "scatter",
         "x": [
          11247
         ],
         "xaxis": "x",
         "y": [
          44
         ],
         "yaxis": "y"
        },
        {
         "hovertemplate": "Country=Jordan<br>Cases in the last 7 days/1M pop=%{x}<br>Deaths in the last 7 days/1M pop=%{y}<extra></extra>",
         "legendgroup": "Jordan",
         "marker": {
          "color": "#EF553B",
          "symbol": "circle"
         },
         "mode": "markers",
         "name": "Jordan",
         "orientation": "v",
         "showlegend": true,
         "type": "scatter",
         "x": [
          2685
         ],
         "xaxis": "x",
         "y": [
          8
         ],
         "yaxis": "y"
        },
        {
         "hovertemplate": "Country=India<br>Cases in the last 7 days/1M pop=%{x}<br>Deaths in the last 7 days/1M pop=%{y}<extra></extra>",
         "legendgroup": "India",
         "marker": {
          "color": "#00cc96",
          "symbol": "circle"
         },
         "mode": "markers",
         "name": "India",
         "orientation": "v",
         "showlegend": true,
         "type": "scatter",
         "x": [
          18
         ],
         "xaxis": "x",
         "y": [
          0.5
         ],
         "yaxis": "y"
        },
        {
         "hovertemplate": "Country=Romania<br>Cases in the last 7 days/1M pop=%{x}<br>Deaths in the last 7 days/1M pop=%{y}<extra></extra>",
         "legendgroup": "Romania",
         "marker": {
          "color": "#ab63fa",
          "symbol": "circle"
         },
         "mode": "markers",
         "name": "Romania",
         "orientation": "v",
         "showlegend": true,
         "type": "scatter",
         "x": [
          1190
         ],
         "xaxis": "x",
         "y": [
          19
         ],
         "yaxis": "y"
        },
        {
         "hovertemplate": "Country=Cyprus<br>Cases in the last 7 days/1M pop=%{x}<br>Deaths in the last 7 days/1M pop=%{y}<extra></extra>",
         "legendgroup": "Cyprus",
         "marker": {
          "color": "#FFA15A",
          "symbol": "circle"
         },
         "mode": "markers",
         "name": "Cyprus",
         "orientation": "v",
         "showlegend": true,
         "type": "scatter",
         "x": [
          17968
         ],
         "xaxis": "x",
         "y": [
          20
         ],
         "yaxis": "y"
        },
        {
         "hovertemplate": "Country=Brunei<br>Cases in the last 7 days/1M pop=%{x}<br>Deaths in the last 7 days/1M pop=%{y}<extra></extra>",
         "legendgroup": "Brunei",
         "marker": {
          "color": "#19d3f3",
          "symbol": "circle"
         },
         "mode": "markers",
         "name": "Brunei",
         "orientation": "v",
         "showlegend": true,
         "type": "scatter",
         "x": [
          47993
         ],
         "xaxis": "x",
         "y": [
          52
         ],
         "yaxis": "y"
        },
        {
         "hovertemplate": "Country=Iceland<br>Cases in the last 7 days/1M pop=%{x}<br>Deaths in the last 7 days/1M pop=%{y}<extra></extra>",
         "legendgroup": "Iceland",
         "marker": {
          "color": "#FF6692",
          "symbol": "circle"
         },
         "mode": "markers",
         "name": "Iceland",
         "orientation": "v",
         "showlegend": true,
         "type": "scatter",
         "x": [
          45760
         ],
         "xaxis": "x",
         "y": [
          29
         ],
         "yaxis": "y"
        },
        {
         "hovertemplate": "Country=Estonia<br>Cases in the last 7 days/1M pop=%{x}<br>Deaths in the last 7 days/1M pop=%{y}<extra></extra>",
         "legendgroup": "Estonia",
         "marker": {
          "color": "#B6E880",
          "symbol": "circle"
         },
         "mode": "markers",
         "name": "Estonia",
         "orientation": "v",
         "showlegend": true,
         "type": "scatter",
         "x": [
          11285
         ],
         "xaxis": "x",
         "y": [
          45
         ],
         "yaxis": "y"
        },
        {
         "hovertemplate": "Country=Serbia<br>Cases in the last 7 days/1M pop=%{x}<br>Deaths in the last 7 days/1M pop=%{y}<extra></extra>",
         "legendgroup": "Serbia",
         "marker": {
          "color": "#FF97FF",
          "symbol": "circle"
         },
         "mode": "markers",
         "name": "Serbia",
         "orientation": "v",
         "showlegend": true,
         "type": "scatter",
         "x": [
          1715
         ],
         "xaxis": "x",
         "y": [
          16
         ],
         "yaxis": "y"
        },
        {
         "hovertemplate": "Country=Slovenia<br>Cases in the last 7 days/1M pop=%{x}<br>Deaths in the last 7 days/1M pop=%{y}<extra></extra>",
         "legendgroup": "Slovenia",
         "marker": {
          "color": "#FECB52",
          "symbol": "circle"
         },
         "mode": "markers",
         "name": "Slovenia",
         "orientation": "v",
         "showlegend": true,
         "type": "scatter",
         "x": [
          6862
         ],
         "xaxis": "x",
         "y": [
          22
         ],
         "yaxis": "y"
        },
        {
         "hovertemplate": "Country=Guatemala<br>Cases in the last 7 days/1M pop=%{x}<br>Deaths in the last 7 days/1M pop=%{y}<extra></extra>",
         "legendgroup": "Guatemala",
         "marker": {
          "color": "#636efa",
          "symbol": "circle"
         },
         "mode": "markers",
         "name": "Guatemala",
         "orientation": "v",
         "showlegend": true,
         "type": "scatter",
         "x": [
          673
         ],
         "xaxis": "x",
         "y": [
          4
         ],
         "yaxis": "y"
        },
        {
         "hovertemplate": "Country=Bulgaria<br>Cases in the last 7 days/1M pop=%{x}<br>Deaths in the last 7 days/1M pop=%{y}<extra></extra>",
         "legendgroup": "Bulgaria",
         "marker": {
          "color": "#EF553B",
          "symbol": "circle"
         },
         "mode": "markers",
         "name": "Bulgaria",
         "orientation": "v",
         "showlegend": true,
         "type": "scatter",
         "x": [
          1654
         ],
         "xaxis": "x",
         "y": [
          35
         ],
         "yaxis": "y"
        },
        {
         "hovertemplate": "Country=Martinique<br>Cases in the last 7 days/1M pop=%{x}<br>Deaths in the last 7 days/1M pop=%{y}<extra></extra>",
         "legendgroup": "Martinique",
         "marker": {
          "color": "#00cc96",
          "symbol": "circle"
         },
         "mode": "markers",
         "name": "Martinique",
         "orientation": "v",
         "showlegend": true,
         "type": "scatter",
         "x": [
          27403
         ],
         "xaxis": "x",
         "y": [
          13
         ],
         "yaxis": "y"
        },
        {
         "hovertemplate": "Country=Belarus<br>Cases in the last 7 days/1M pop=%{x}<br>Deaths in the last 7 days/1M pop=%{y}<extra></extra>",
         "legendgroup": "Belarus",
         "marker": {
          "color": "#ab63fa",
          "symbol": "circle"
         },
         "mode": "markers",
         "name": "Belarus",
         "orientation": "v",
         "showlegend": true,
         "type": "scatter",
         "x": [
          1072
         ],
         "xaxis": "x",
         "y": [
          10
         ],
         "yaxis": "y"
        },
        {
         "hovertemplate": "Country=South Africa<br>Cases in the last 7 days/1M pop=%{x}<br>Deaths in the last 7 days/1M pop=%{y}<extra></extra>",
         "legendgroup": "South Africa",
         "marker": {
          "color": "#FFA15A",
          "symbol": "circle"
         },
         "mode": "markers",
         "name": "South Africa",
         "orientation": "v",
         "showlegend": true,
         "type": "scatter",
         "x": [
          166
         ],
         "xaxis": "x",
         "y": [
          2
         ],
         "yaxis": "y"
        },
        {
         "hovertemplate": "Country=Bahrain<br>Cases in the last 7 days/1M pop=%{x}<br>Deaths in the last 7 days/1M pop=%{y}<extra></extra>",
         "legendgroup": "Bahrain",
         "marker": {
          "color": "#19d3f3",
          "symbol": "circle"
         },
         "mode": "markers",
         "name": "Bahrain",
         "orientation": "v",
         "showlegend": true,
         "type": "scatter",
         "x": [
          5528
         ],
         "xaxis": "x",
         "y": [
          2
         ],
         "yaxis": "y"
        },
        {
         "hovertemplate": "Country=Uruguay<br>Cases in the last 7 days/1M pop=%{x}<br>Deaths in the last 7 days/1M pop=%{y}<extra></extra>",
         "legendgroup": "Uruguay",
         "marker": {
          "color": "#FF6692",
          "symbol": "circle"
         },
         "mode": "markers",
         "name": "Uruguay",
         "orientation": "v",
         "showlegend": true,
         "type": "scatter",
         "x": [
          2794
         ],
         "xaxis": "x",
         "y": [
          15
         ],
         "yaxis": "y"
        },
        {
         "hovertemplate": "Country=Georgia<br>Cases in the last 7 days/1M pop=%{x}<br>Deaths in the last 7 days/1M pop=%{y}<extra></extra>",
         "legendgroup": "Georgia",
         "marker": {
          "color": "#B6E880",
          "symbol": "circle"
         },
         "mode": "markers",
         "name": "Georgia",
         "orientation": "v",
         "showlegend": true,
         "type": "scatter",
         "x": [
          2438
         ],
         "xaxis": "x",
         "y": [
          43
         ],
         "yaxis": "y"
        },
        {
         "hovertemplate": "Country=Croatia<br>Cases in the last 7 days/1M pop=%{x}<br>Deaths in the last 7 days/1M pop=%{y}<extra></extra>",
         "legendgroup": "Croatia",
         "marker": {
          "color": "#FF97FF",
          "symbol": "circle"
         },
         "mode": "markers",
         "name": "Croatia",
         "orientation": "v",
         "showlegend": true,
         "type": "scatter",
         "x": [
          2349
         ],
         "xaxis": "x",
         "y": [
          30
         ],
         "yaxis": "y"
        },
        {
         "hovertemplate": "Country=Peru<br>Cases in the last 7 days/1M pop=%{x}<br>Deaths in the last 7 days/1M pop=%{y}<extra></extra>",
         "legendgroup": "Peru",
         "marker": {
          "color": "#FECB52",
          "symbol": "circle"
         },
         "mode": "markers",
         "name": "Peru",
         "orientation": "v",
         "showlegend": true,
         "type": "scatter",
         "x": [
          261
         ],
         "xaxis": "x",
         "y": [
          13
         ],
         "yaxis": "y"
        },
        {
         "hovertemplate": "Country=Hungary<br>Cases in the last 7 days/1M pop=%{x}<br>Deaths in the last 7 days/1M pop=%{y}<extra></extra>",
         "legendgroup": "Hungary",
         "marker": {
          "color": "#636efa",
          "symbol": "circle"
         },
         "mode": "markers",
         "name": "Hungary",
         "orientation": "v",
         "showlegend": true,
         "type": "scatter",
         "x": [
          880
         ],
         "xaxis": "x",
         "y": [
          23
         ],
         "yaxis": "y"
        },
        {
         "hovertemplate": "Country=Réunion<br>Cases in the last 7 days/1M pop=%{x}<br>Deaths in the last 7 days/1M pop=%{y}<extra></extra>",
         "legendgroup": "Réunion",
         "marker": {
          "color": "#EF553B",
          "symbol": "circle"
         },
         "mode": "markers",
         "name": "Réunion",
         "orientation": "v",
         "showlegend": true,
         "type": "scatter",
         "x": [
          8850
         ],
         "xaxis": "x",
         "y": [
          15
         ],
         "yaxis": "y"
        },
        {
         "hovertemplate": "Country=Costa Rica<br>Cases in the last 7 days/1M pop=%{x}<br>Deaths in the last 7 days/1M pop=%{y}<extra></extra>",
         "legendgroup": "Costa Rica",
         "marker": {
          "color": "#00cc96",
          "symbol": "circle"
         },
         "mode": "markers",
         "name": "Costa Rica",
         "orientation": "v",
         "showlegend": true,
         "type": "scatter",
         "x": [
          1473
         ],
         "xaxis": "x",
         "y": [
          13
         ],
         "yaxis": "y"
        },
        {
         "hovertemplate": "Country=Ecuador<br>Cases in the last 7 days/1M pop=%{x}<br>Deaths in the last 7 days/1M pop=%{y}<extra></extra>",
         "legendgroup": "Ecuador",
         "marker": {
          "color": "#ab63fa",
          "symbol": "circle"
         },
         "mode": "markers",
         "name": "Ecuador",
         "orientation": "v",
         "showlegend": true,
         "type": "scatter",
         "x": [
          410
         ],
         "xaxis": "x",
         "y": [
          2
         ],
         "yaxis": "y"
        },
        {
         "hovertemplate": "Country=Myanmar<br>Cases in the last 7 days/1M pop=%{x}<br>Deaths in the last 7 days/1M pop=%{y}<extra></extra>",
         "legendgroup": "Myanmar",
         "marker": {
          "color": "#FFA15A",
          "symbol": "circle"
         },
         "mode": "markers",
         "name": "Myanmar",
         "orientation": "v",
         "showlegend": true,
         "type": "scatter",
         "x": [
          120
         ],
         "xaxis": "x",
         "y": [
          0.4
         ],
         "yaxis": "y"
        },
        {
         "hovertemplate": "Country=Luxembourg<br>Cases in the last 7 days/1M pop=%{x}<br>Deaths in the last 7 days/1M pop=%{y}<extra></extra>",
         "legendgroup": "Luxembourg",
         "marker": {
          "color": "#19d3f3",
          "symbol": "circle"
         },
         "mode": "markers",
         "name": "Luxembourg",
         "orientation": "v",
         "showlegend": true,
         "type": "scatter",
         "x": [
          9278
         ],
         "xaxis": "x",
         "y": [
          11
         ],
         "yaxis": "y"
        },
        {
         "hovertemplate": "Country=Lebanon<br>Cases in the last 7 days/1M pop=%{x}<br>Deaths in the last 7 days/1M pop=%{y}<extra></extra>",
         "legendgroup": "Lebanon",
         "marker": {
          "color": "#FF6692",
          "symbol": "circle"
         },
         "mode": "markers",
         "name": "Lebanon",
         "orientation": "v",
         "showlegend": true,
         "type": "scatter",
         "x": [
          865
         ],
         "xaxis": "x",
         "y": [
          7
         ],
         "yaxis": "y"
        },
        {
         "hovertemplate": "Country=Sweden<br>Cases in the last 7 days/1M pop=%{x}<br>Deaths in the last 7 days/1M pop=%{y}<extra></extra>",
         "legendgroup": "Sweden",
         "marker": {
          "color": "#B6E880",
          "symbol": "circle"
         },
         "mode": "markers",
         "name": "Sweden",
         "orientation": "v",
         "showlegend": true,
         "type": "scatter",
         "x": [
          566
         ],
         "xaxis": "x",
         "y": [
          2
         ],
         "yaxis": "y"
        },
        {
         "hovertemplate": "Country=China<br>Cases in the last 7 days/1M pop=%{x}<br>Deaths in the last 7 days/1M pop=%{y}<extra></extra>",
         "legendgroup": "China",
         "marker": {
          "color": "#FF97FF",
          "symbol": "circle"
         },
         "mode": "markers",
         "name": "China",
         "orientation": "v",
         "showlegend": true,
         "type": "scatter",
         "x": [
          4
         ],
         "xaxis": "x",
         "y": [
          0
         ],
         "yaxis": "y"
        },
        {
         "hovertemplate": "Country=Tunisia<br>Cases in the last 7 days/1M pop=%{x}<br>Deaths in the last 7 days/1M pop=%{y}<extra></extra>",
         "legendgroup": "Tunisia",
         "marker": {
          "color": "#FECB52",
          "symbol": "circle"
         },
         "mode": "markers",
         "name": "Tunisia",
         "orientation": "v",
         "showlegend": true,
         "type": "scatter",
         "x": [
          409
         ],
         "xaxis": "x",
         "y": [
          9
         ],
         "yaxis": "y"
        },
        {
         "hovertemplate": "Country=Colombia<br>Cases in the last 7 days/1M pop=%{x}<br>Deaths in the last 7 days/1M pop=%{y}<extra></extra>",
         "legendgroup": "Colombia",
         "marker": {
          "color": "#636efa",
          "symbol": "circle"
         },
         "mode": "markers",
         "name": "Colombia",
         "orientation": "v",
         "showlegend": true,
         "type": "scatter",
         "x": [
          89
         ],
         "xaxis": "x",
         "y": [
          4
         ],
         "yaxis": "y"
        },
        {
         "hovertemplate": "Country=Iraq<br>Cases in the last 7 days/1M pop=%{x}<br>Deaths in the last 7 days/1M pop=%{y}<extra></extra>",
         "legendgroup": "Iraq",
         "marker": {
          "color": "#EF553B",
          "symbol": "circle"
         },
         "mode": "markers",
         "name": "Iraq",
         "orientation": "v",
         "showlegend": true,
         "type": "scatter",
         "x": [
          106
         ],
         "xaxis": "x",
         "y": [
          0.9
         ],
         "yaxis": "y"
        },
        {
         "hovertemplate": "Country=Pakistan<br>Cases in the last 7 days/1M pop=%{x}<br>Deaths in the last 7 days/1M pop=%{y}<extra></extra>",
         "legendgroup": "Pakistan",
         "marker": {
          "color": "#00cc96",
          "symbol": "circle"
         },
         "mode": "markers",
         "name": "Pakistan",
         "orientation": "v",
         "showlegend": true,
         "type": "scatter",
         "x": [
          18
         ],
         "xaxis": "x",
         "y": [
          0.2
         ],
         "yaxis": "y"
        },
        {
         "hovertemplate": "Country=Sri Lanka<br>Cases in the last 7 days/1M pop=%{x}<br>Deaths in the last 7 days/1M pop=%{y}<extra></extra>",
         "legendgroup": "Sri Lanka",
         "marker": {
          "color": "#ab63fa",
          "symbol": "circle"
         },
         "mode": "markers",
         "name": "Sri Lanka",
         "orientation": "v",
         "showlegend": true,
         "type": "scatter",
         "x": [
          186
         ],
         "xaxis": "x",
         "y": [
          3
         ],
         "yaxis": "y"
        },
        {
         "hovertemplate": "Country=Cuba<br>Cases in the last 7 days/1M pop=%{x}<br>Deaths in the last 7 days/1M pop=%{y}<extra></extra>",
         "legendgroup": "Cuba",
         "marker": {
          "color": "#FFA15A",
          "symbol": "circle"
         },
         "mode": "markers",
         "name": "Cuba",
         "orientation": "v",
         "showlegend": true,
         "type": "scatter",
         "x": [
          345
         ],
         "xaxis": "x",
         "y": [
          0.2
         ],
         "yaxis": "y"
        },
        {
         "hovertemplate": "Country=Bhutan<br>Cases in the last 7 days/1M pop=%{x}<br>Deaths in the last 7 days/1M pop=%{y}<extra></extra>",
         "legendgroup": "Bhutan",
         "marker": {
          "color": "#19d3f3",
          "symbol": "circle"
         },
         "mode": "markers",
         "name": "Bhutan",
         "orientation": "v",
         "showlegend": true,
         "type": "scatter",
         "x": [
          4495
         ],
         "xaxis": "x",
         "y": [
          0
         ],
         "yaxis": "y"
        },
        {
         "hovertemplate": "Country=Egypt<br>Cases in the last 7 days/1M pop=%{x}<br>Deaths in the last 7 days/1M pop=%{y}<extra></extra>",
         "legendgroup": "Egypt",
         "marker": {
          "color": "#FF6692",
          "symbol": "circle"
         },
         "mode": "markers",
         "name": "Egypt",
         "orientation": "v",
         "showlegend": true,
         "type": "scatter",
         "x": [
          33
         ],
         "xaxis": "x",
         "y": [
          0.5
         ],
         "yaxis": "y"
        },
        {
         "hovertemplate": "Country=Channel Islands<br>Cases in the last 7 days/1M pop=%{x}<br>Deaths in the last 7 days/1M pop=%{y}<extra></extra>",
         "legendgroup": "Channel Islands",
         "marker": {
          "color": "#B6E880",
          "symbol": "circle"
         },
         "mode": "markers",
         "name": "Channel Islands",
         "orientation": "v",
         "showlegend": true,
         "type": "scatter",
         "x": [
          18920
         ],
         "xaxis": "x",
         "y": [
          6
         ],
         "yaxis": "y"
        },
        {
         "hovertemplate": "Country=Zimbabwe<br>Cases in the last 7 days/1M pop=%{x}<br>Deaths in the last 7 days/1M pop=%{y}<extra></extra>",
         "legendgroup": "Zimbabwe",
         "marker": {
          "color": "#FF97FF",
          "symbol": "circle"
         },
         "mode": "markers",
         "name": "Zimbabwe",
         "orientation": "v",
         "showlegend": true,
         "type": "scatter",
         "x": [
          210
         ],
         "xaxis": "x",
         "y": [
          1
         ],
         "yaxis": "y"
        },
        {
         "hovertemplate": "Country=Honduras<br>Cases in the last 7 days/1M pop=%{x}<br>Deaths in the last 7 days/1M pop=%{y}<extra></extra>",
         "legendgroup": "Honduras",
         "marker": {
          "color": "#FECB52",
          "symbol": "circle"
         },
         "mode": "markers",
         "name": "Honduras",
         "orientation": "v",
         "showlegend": true,
         "type": "scatter",
         "x": [
          298
         ],
         "xaxis": "x",
         "y": [
          5
         ],
         "yaxis": "y"
        },
        {
         "hovertemplate": "Country=Philippines<br>Cases in the last 7 days/1M pop=%{x}<br>Deaths in the last 7 days/1M pop=%{y}<extra></extra>",
         "legendgroup": "Philippines",
         "marker": {
          "color": "#636efa",
          "symbol": "circle"
         },
         "mode": "markers",
         "name": "Philippines",
         "orientation": "v",
         "showlegend": true,
         "type": "scatter",
         "x": [
          27
         ],
         "xaxis": "x",
         "y": [
          5
         ],
         "yaxis": "y"
        },
        {
         "hovertemplate": "Country=Trinidad and Tobago<br>Cases in the last 7 days/1M pop=%{x}<br>Deaths in the last 7 days/1M pop=%{y}<extra></extra>",
         "legendgroup": "Trinidad and Tobago",
         "marker": {
          "color": "#EF553B",
          "symbol": "circle"
         },
         "mode": "markers",
         "name": "Trinidad and Tobago",
         "orientation": "v",
         "showlegend": true,
         "type": "scatter",
         "x": [
          1861
         ],
         "xaxis": "x",
         "y": [
          15
         ],
         "yaxis": "y"
        },
        {
         "hovertemplate": "Country=Moldova<br>Cases in the last 7 days/1M pop=%{x}<br>Deaths in the last 7 days/1M pop=%{y}<extra></extra>",
         "legendgroup": "Moldova",
         "marker": {
          "color": "#00cc96",
          "symbol": "circle"
         },
         "mode": "markers",
         "name": "Moldova",
         "orientation": "v",
         "showlegend": true,
         "type": "scatter",
         "x": [
          645
         ],
         "xaxis": "x",
         "y": [
          14
         ],
         "yaxis": "y"
        },
        {
         "hovertemplate": "Country=UAE<br>Cases in the last 7 days/1M pop=%{x}<br>Deaths in the last 7 days/1M pop=%{y}<extra></extra>",
         "legendgroup": "UAE",
         "marker": {
          "color": "#ab63fa",
          "symbol": "circle"
         },
         "mode": "markers",
         "name": "UAE",
         "orientation": "v",
         "showlegend": true,
         "type": "scatter",
         "x": [
          241
         ],
         "xaxis": "x",
         "y": [
          0
         ],
         "yaxis": "y"
        },
        {
         "hovertemplate": "Country=Bolivia<br>Cases in the last 7 days/1M pop=%{x}<br>Deaths in the last 7 days/1M pop=%{y}<extra></extra>",
         "legendgroup": "Bolivia",
         "marker": {
          "color": "#FFA15A",
          "symbol": "circle"
         },
         "mode": "markers",
         "name": "Bolivia",
         "orientation": "v",
         "showlegend": true,
         "type": "scatter",
         "x": [
          200
         ],
         "xaxis": "x",
         "y": [
          0.8
         ],
         "yaxis": "y"
        },
        {
         "hovertemplate": "Country=Laos<br>Cases in the last 7 days/1M pop=%{x}<br>Deaths in the last 7 days/1M pop=%{y}<extra></extra>",
         "legendgroup": "Laos",
         "marker": {
          "color": "#19d3f3",
          "symbol": "circle"
         },
         "mode": "markers",
         "name": "Laos",
         "orientation": "v",
         "showlegend": true,
         "type": "scatter",
         "x": [
          318
         ],
         "xaxis": "x",
         "y": [
          1
         ],
         "yaxis": "y"
        },
        {
         "hovertemplate": "Country=Kuwait<br>Cases in the last 7 days/1M pop=%{x}<br>Deaths in the last 7 days/1M pop=%{y}<extra></extra>",
         "legendgroup": "Kuwait",
         "marker": {
          "color": "#FF6692",
          "symbol": "circle"
         },
         "mode": "markers",
         "name": "Kuwait",
         "orientation": "v",
         "showlegend": true,
         "type": "scatter",
         "x": [
          536
         ],
         "xaxis": "x",
         "y": [
          1
         ],
         "yaxis": "y"
        },
        {
         "hovertemplate": "Country=Bangladesh<br>Cases in the last 7 days/1M pop=%{x}<br>Deaths in the last 7 days/1M pop=%{y}<extra></extra>",
         "legendgroup": "Bangladesh",
         "marker": {
          "color": "#B6E880",
          "symbol": "circle"
         },
         "mode": "markers",
         "name": "Bangladesh",
         "orientation": "v",
         "showlegend": true,
         "type": "scatter",
         "x": [
          12
         ],
         "xaxis": "x",
         "y": [
          0.1
         ],
         "yaxis": "y"
        },
        {
         "hovertemplate": "Country=Guadeloupe<br>Cases in the last 7 days/1M pop=%{x}<br>Deaths in the last 7 days/1M pop=%{y}<extra></extra>",
         "legendgroup": "Guadeloupe",
         "marker": {
          "color": "#FF97FF",
          "symbol": "circle"
         },
         "mode": "markers",
         "name": "Guadeloupe",
         "orientation": "v",
         "showlegend": true,
         "type": "scatter",
         "x": [
          4907
         ],
         "xaxis": "x",
         "y": [
          15
         ],
         "yaxis": "y"
        },
        {
         "hovertemplate": "Country=Paraguay<br>Cases in the last 7 days/1M pop=%{x}<br>Deaths in the last 7 days/1M pop=%{y}<extra></extra>",
         "legendgroup": "Paraguay",
         "marker": {
          "color": "#FECB52",
          "symbol": "circle"
         },
         "mode": "markers",
         "name": "Paraguay",
         "orientation": "v",
         "showlegend": true,
         "type": "scatter",
         "x": [
          255
         ],
         "xaxis": "x",
         "y": [
          9
         ],
         "yaxis": "y"
        },
        {
         "hovertemplate": "Country=Panama<br>Cases in the last 7 days/1M pop=%{x}<br>Deaths in the last 7 days/1M pop=%{y}<extra></extra>",
         "legendgroup": "Panama",
         "marker": {
          "color": "#636efa",
          "symbol": "circle"
         },
         "mode": "markers",
         "name": "Panama",
         "orientation": "v",
         "showlegend": true,
         "type": "scatter",
         "x": [
          418
         ],
         "xaxis": "x",
         "y": [
          5
         ],
         "yaxis": "y"
        },
        {
         "hovertemplate": "Country=Libya<br>Cases in the last 7 days/1M pop=%{x}<br>Deaths in the last 7 days/1M pop=%{y}<extra></extra>",
         "legendgroup": "Libya",
         "marker": {
          "color": "#EF553B",
          "symbol": "circle"
         },
         "mode": "markers",
         "name": "Libya",
         "orientation": "v",
         "showlegend": true,
         "type": "scatter",
         "x": [
          263
         ],
         "xaxis": "x",
         "y": [
          6
         ],
         "yaxis": "y"
        },
        {
         "hovertemplate": "Country=North Macedonia<br>Cases in the last 7 days/1M pop=%{x}<br>Deaths in the last 7 days/1M pop=%{y}<extra></extra>",
         "legendgroup": "North Macedonia",
         "marker": {
          "color": "#00cc96",
          "symbol": "circle"
         },
         "mode": "markers",
         "name": "North Macedonia",
         "orientation": "v",
         "showlegend": true,
         "type": "scatter",
         "x": [
          872
         ],
         "xaxis": "x",
         "y": [
          31
         ],
         "yaxis": "y"
        },
        {
         "hovertemplate": "Country=Maldives<br>Cases in the last 7 days/1M pop=%{x}<br>Deaths in the last 7 days/1M pop=%{y}<extra></extra>",
         "legendgroup": "Maldives",
         "marker": {
          "color": "#ab63fa",
          "symbol": "circle"
         },
         "mode": "markers",
         "name": "Maldives",
         "orientation": "v",
         "showlegend": true,
         "type": "scatter",
         "x": [
          2863
         ],
         "xaxis": "x",
         "y": [
          0
         ],
         "yaxis": "y"
        },
        {
         "hovertemplate": "Country=Cambodia<br>Cases in the last 7 days/1M pop=%{x}<br>Deaths in the last 7 days/1M pop=%{y}<extra></extra>",
         "legendgroup": "Cambodia",
         "marker": {
          "color": "#FFA15A",
          "symbol": "circle"
         },
         "mode": "markers",
         "name": "Cambodia",
         "orientation": "v",
         "showlegend": true,
         "type": "scatter",
         "x": [
          88
         ],
         "xaxis": "x",
         "y": [
          0.3
         ],
         "yaxis": "y"
        },
        {
         "hovertemplate": "Country=Venezuela<br>Cases in the last 7 days/1M pop=%{x}<br>Deaths in the last 7 days/1M pop=%{y}<extra></extra>",
         "legendgroup": "Venezuela",
         "marker": {
          "color": "#19d3f3",
          "symbol": "circle"
         },
         "mode": "markers",
         "name": "Venezuela",
         "orientation": "v",
         "showlegend": true,
         "type": "scatter",
         "x": [
          53
         ],
         "xaxis": "x",
         "y": [
          0.3
         ],
         "yaxis": "y"
        },
        {
         "hovertemplate": "Country=Oman<br>Cases in the last 7 days/1M pop=%{x}<br>Deaths in the last 7 days/1M pop=%{y}<extra></extra>",
         "legendgroup": "Oman",
         "marker": {
          "color": "#FF6692",
          "symbol": "circle"
         },
         "mode": "markers",
         "name": "Oman",
         "orientation": "v",
         "showlegend": true,
         "type": "scatter",
         "x": [
          280
         ],
         "xaxis": "x",
         "y": [
          0.2
         ],
         "yaxis": "y"
        },
        {
         "hovertemplate": "Country=French Polynesia<br>Cases in the last 7 days/1M pop=%{x}<br>Deaths in the last 7 days/1M pop=%{y}<extra></extra>",
         "legendgroup": "French Polynesia",
         "marker": {
          "color": "#B6E880",
          "symbol": "circle"
         },
         "mode": "markers",
         "name": "French Polynesia",
         "orientation": "v",
         "showlegend": true,
         "type": "scatter",
         "x": [
          5150
         ],
         "xaxis": "x",
         "y": [
          7
         ],
         "yaxis": "y"
        },
        {
         "hovertemplate": "Country=Azerbaijan<br>Cases in the last 7 days/1M pop=%{x}<br>Deaths in the last 7 days/1M pop=%{y}<extra></extra>",
         "legendgroup": "Azerbaijan",
         "marker": {
          "color": "#FF97FF",
          "symbol": "circle"
         },
         "mode": "markers",
         "name": "Azerbaijan",
         "orientation": "v",
         "showlegend": true,
         "type": "scatter",
         "x": [
          130
         ],
         "xaxis": "x",
         "y": [
          8
         ],
         "yaxis": "y"
        },
        {
         "hovertemplate": "Country=New Caledonia<br>Cases in the last 7 days/1M pop=%{x}<br>Deaths in the last 7 days/1M pop=%{y}<extra></extra>",
         "legendgroup": "New Caledonia",
         "marker": {
          "color": "#FECB52",
          "symbol": "circle"
         },
         "mode": "markers",
         "name": "New Caledonia",
         "orientation": "v",
         "showlegend": true,
         "type": "scatter",
         "x": [
          4587
         ],
         "xaxis": "x",
         "y": [
          10
         ],
         "yaxis": "y"
        },
        {
         "hovertemplate": "Country=Mauritius<br>Cases in the last 7 days/1M pop=%{x}<br>Deaths in the last 7 days/1M pop=%{y}<extra></extra>",
         "legendgroup": "Mauritius",
         "marker": {
          "color": "#636efa",
          "symbol": "circle"
         },
         "mode": "markers",
         "name": "Mauritius",
         "orientation": "v",
         "showlegend": true,
         "type": "scatter",
         "x": [
          1028
         ],
         "xaxis": "x",
         "y": [
          24
         ],
         "yaxis": "y"
        },
        {
         "hovertemplate": "Country=Isle of Man<br>Cases in the last 7 days/1M pop=%{x}<br>Deaths in the last 7 days/1M pop=%{y}<extra></extra>",
         "legendgroup": "Isle of Man",
         "marker": {
          "color": "#EF553B",
          "symbol": "circle"
         },
         "mode": "markers",
         "name": "Isle of Man",
         "orientation": "v",
         "showlegend": true,
         "type": "scatter",
         "x": [
          15257
         ],
         "xaxis": "x",
         "y": [
          12
         ],
         "yaxis": "y"
        },
        {
         "hovertemplate": "Country=Zambia<br>Cases in the last 7 days/1M pop=%{x}<br>Deaths in the last 7 days/1M pop=%{y}<extra></extra>",
         "legendgroup": "Zambia",
         "marker": {
          "color": "#00cc96",
          "symbol": "circle"
         },
         "mode": "markers",
         "name": "Zambia",
         "orientation": "v",
         "showlegend": true,
         "type": "scatter",
         "x": [
          67
         ],
         "xaxis": "x",
         "y": [
          0.1
         ],
         "yaxis": "y"
        },
        {
         "hovertemplate": "Country=Palestine<br>Cases in the last 7 days/1M pop=%{x}<br>Deaths in the last 7 days/1M pop=%{y}<extra></extra>",
         "legendgroup": "Palestine",
         "marker": {
          "color": "#ab63fa",
          "symbol": "circle"
         },
         "mode": "markers",
         "name": "Palestine",
         "orientation": "v",
         "showlegend": true,
         "type": "scatter",
         "x": [
          240
         ],
         "xaxis": "x",
         "y": [
          6
         ],
         "yaxis": "y"
        },
        {
         "hovertemplate": "Country=Afghanistan<br>Cases in the last 7 days/1M pop=%{x}<br>Deaths in the last 7 days/1M pop=%{y}<extra></extra>",
         "legendgroup": "Afghanistan",
         "marker": {
          "color": "#FFA15A",
          "symbol": "circle"
         },
         "mode": "markers",
         "name": "Afghanistan",
         "orientation": "v",
         "showlegend": true,
         "type": "scatter",
         "x": [
          31
         ],
         "xaxis": "x",
         "y": [
          0.5
         ],
         "yaxis": "y"
        },
        {
         "hovertemplate": "Country=Saudi Arabia<br>Cases in the last 7 days/1M pop=%{x}<br>Deaths in the last 7 days/1M pop=%{y}<extra></extra>",
         "legendgroup": "Saudi Arabia",
         "marker": {
          "color": "#19d3f3",
          "symbol": "circle"
         },
         "mode": "markers",
         "name": "Saudi Arabia",
         "orientation": "v",
         "showlegend": true,
         "type": "scatter",
         "x": [
          34
         ],
         "xaxis": "x",
         "y": [
          0.3
         ],
         "yaxis": "y"
        },
        {
         "hovertemplate": "Country=Mongolia<br>Cases in the last 7 days/1M pop=%{x}<br>Deaths in the last 7 days/1M pop=%{y}<extra></extra>",
         "legendgroup": "Mongolia",
         "marker": {
          "color": "#FF6692",
          "symbol": "circle"
         },
         "mode": "markers",
         "name": "Mongolia",
         "orientation": "v",
         "showlegend": true,
         "type": "scatter",
         "x": [
          312
         ],
         "xaxis": "x",
         "y": [
          0.3
         ],
         "yaxis": "y"
        },
        {
         "hovertemplate": "Country=Liechtenstein<br>Cases in the last 7 days/1M pop=%{x}<br>Deaths in the last 7 days/1M pop=%{y}<extra></extra>",
         "legendgroup": "Liechtenstein",
         "marker": {
          "color": "#B6E880",
          "symbol": "circle"
         },
         "mode": "markers",
         "name": "Liechtenstein",
         "orientation": "v",
         "showlegend": true,
         "type": "scatter",
         "x": [
          27144
         ],
         "xaxis": "x",
         "y": [
          26
         ],
         "yaxis": "y"
        },
        {
         "hovertemplate": "Country=Malta<br>Cases in the last 7 days/1M pop=%{x}<br>Deaths in the last 7 days/1M pop=%{y}<extra></extra>",
         "legendgroup": "Malta",
         "marker": {
          "color": "#FF97FF",
          "symbol": "circle"
         },
         "mode": "markers",
         "name": "Malta",
         "orientation": "v",
         "showlegend": true,
         "type": "scatter",
         "x": [
          2322
         ],
         "xaxis": "x",
         "y": [
          14
         ],
         "yaxis": "y"
        },
        {
         "hovertemplate": "Country=Solomon Islands<br>Cases in the last 7 days/1M pop=%{x}<br>Deaths in the last 7 days/1M pop=%{y}<extra></extra>",
         "legendgroup": "Solomon Islands",
         "marker": {
          "color": "#FECB52",
          "symbol": "circle"
         },
         "mode": "markers",
         "name": "Solomon Islands",
         "orientation": "v",
         "showlegend": true,
         "type": "scatter",
         "x": [
          1361
         ],
         "xaxis": "x",
         "y": [
          3
         ],
         "yaxis": "y"
        },
        {
         "hovertemplate": "Country=Barbados<br>Cases in the last 7 days/1M pop=%{x}<br>Deaths in the last 7 days/1M pop=%{y}<extra></extra>",
         "legendgroup": "Barbados",
         "marker": {
          "color": "#636efa",
          "symbol": "circle"
         },
         "mode": "markers",
         "name": "Barbados",
         "orientation": "v",
         "showlegend": true,
         "type": "scatter",
         "x": [
          3063
         ],
         "xaxis": "x",
         "y": [
          14
         ],
         "yaxis": "y"
        },
        {
         "hovertemplate": "Country=Bosnia and Herzegovina<br>Cases in the last 7 days/1M pop=%{x}<br>Deaths in the last 7 days/1M pop=%{y}<extra></extra>",
         "legendgroup": "Bosnia and Herzegovina",
         "marker": {
          "color": "#EF553B",
          "symbol": "circle"
         },
         "mode": "markers",
         "name": "Bosnia and Herzegovina",
         "orientation": "v",
         "showlegend": true,
         "type": "scatter",
         "x": [
          271
         ],
         "xaxis": "x",
         "y": [
          18
         ],
         "yaxis": "y"
        },
        {
         "hovertemplate": "Country=Tonga<br>Cases in the last 7 days/1M pop=%{x}<br>Deaths in the last 7 days/1M pop=%{y}<extra></extra>",
         "legendgroup": "Tonga",
         "marker": {
          "color": "#00cc96",
          "symbol": "circle"
         },
         "mode": "markers",
         "name": "Tonga",
         "orientation": "v",
         "showlegend": true,
         "type": "scatter",
         "x": [
          7992
         ],
         "xaxis": "x",
         "y": [
          19
         ],
         "yaxis": "y"
        },
        {
         "hovertemplate": "Country=Qatar<br>Cases in the last 7 days/1M pop=%{x}<br>Deaths in the last 7 days/1M pop=%{y}<extra></extra>",
         "legendgroup": "Qatar",
         "marker": {
          "color": "#ab63fa",
          "symbol": "circle"
         },
         "mode": "markers",
         "name": "Qatar",
         "orientation": "v",
         "showlegend": true,
         "type": "scatter",
         "x": [
          300
         ],
         "xaxis": "x",
         "y": [
          2
         ],
         "yaxis": "y"
        },
        {
         "hovertemplate": "Country=Ghana<br>Cases in the last 7 days/1M pop=%{x}<br>Deaths in the last 7 days/1M pop=%{y}<extra></extra>",
         "legendgroup": "Ghana",
         "marker": {
          "color": "#FFA15A",
          "symbol": "circle"
         },
         "mode": "markers",
         "name": "Ghana",
         "orientation": "v",
         "showlegend": true,
         "type": "scatter",
         "x": [
          21
         ],
         "xaxis": "x",
         "y": [
          0.1
         ],
         "yaxis": "y"
        },
        {
         "hovertemplate": "Country=Kazakhstan<br>Cases in the last 7 days/1M pop=%{x}<br>Deaths in the last 7 days/1M pop=%{y}<extra></extra>",
         "legendgroup": "Kazakhstan",
         "marker": {
          "color": "#19d3f3",
          "symbol": "circle"
         },
         "mode": "markers",
         "name": "Kazakhstan",
         "orientation": "v",
         "showlegend": true,
         "type": "scatter",
         "x": [
          34
         ],
         "xaxis": "x",
         "y": [
          0.7
         ],
         "yaxis": "y"
        },
        {
         "hovertemplate": "Country=Dominican Republic<br>Cases in the last 7 days/1M pop=%{x}<br>Deaths in the last 7 days/1M pop=%{y}<extra></extra>",
         "legendgroup": "Dominican Republic",
         "marker": {
          "color": "#FF6692",
          "symbol": "circle"
         },
         "mode": "markers",
         "name": "Dominican Republic",
         "orientation": "v",
         "showlegend": true,
         "type": "scatter",
         "x": [
          58
         ],
         "xaxis": "x",
         "y": [
          0.3
         ],
         "yaxis": "y"
        },
        {
         "hovertemplate": "Country=Armenia<br>Cases in the last 7 days/1M pop=%{x}<br>Deaths in the last 7 days/1M pop=%{y}<extra></extra>",
         "legendgroup": "Armenia",
         "marker": {
          "color": "#B6E880",
          "symbol": "circle"
         },
         "mode": "markers",
         "name": "Armenia",
         "orientation": "v",
         "showlegend": true,
         "type": "scatter",
         "x": [
          209
         ],
         "xaxis": "x",
         "y": [
          9
         ],
         "yaxis": "y"
        },
        {
         "hovertemplate": "Country=Montenegro<br>Cases in the last 7 days/1M pop=%{x}<br>Deaths in the last 7 days/1M pop=%{y}<extra></extra>",
         "legendgroup": "Montenegro",
         "marker": {
          "color": "#FF97FF",
          "symbol": "circle"
         },
         "mode": "markers",
         "name": "Montenegro",
         "orientation": "v",
         "showlegend": true,
         "type": "scatter",
         "x": [
          958
         ],
         "xaxis": "x",
         "y": [
          11
         ],
         "yaxis": "y"
        },
        {
         "hovertemplate": "Country=Taiwan<br>Cases in the last 7 days/1M pop=%{x}<br>Deaths in the last 7 days/1M pop=%{y}<extra></extra>",
         "legendgroup": "Taiwan",
         "marker": {
          "color": "#FECB52",
          "symbol": "circle"
         },
         "mode": "markers",
         "name": "Taiwan",
         "orientation": "v",
         "showlegend": true,
         "type": "scatter",
         "x": [
          21
         ],
         "xaxis": "x",
         "y": [
          0
         ],
         "yaxis": "y"
        },
        {
         "hovertemplate": "Country=Albania<br>Cases in the last 7 days/1M pop=%{x}<br>Deaths in the last 7 days/1M pop=%{y}<extra></extra>",
         "legendgroup": "Albania",
         "marker": {
          "color": "#636efa",
          "symbol": "circle"
         },
         "mode": "markers",
         "name": "Albania",
         "orientation": "v",
         "showlegend": true,
         "type": "scatter",
         "x": [
          153
         ],
         "xaxis": "x",
         "y": [
          0.7
         ],
         "yaxis": "y"
        },
        {
         "hovertemplate": "Country=Morocco<br>Cases in the last 7 days/1M pop=%{x}<br>Deaths in the last 7 days/1M pop=%{y}<extra></extra>",
         "legendgroup": "Morocco",
         "marker": {
          "color": "#EF553B",
          "symbol": "circle"
         },
         "mode": "markers",
         "name": "Morocco",
         "orientation": "v",
         "showlegend": true,
         "type": "scatter",
         "x": [
          11
         ],
         "xaxis": "x",
         "y": [
          0.6
         ],
         "yaxis": "y"
        },
        {
         "hovertemplate": "Country=Nepal<br>Cases in the last 7 days/1M pop=%{x}<br>Deaths in the last 7 days/1M pop=%{y}<extra></extra>",
         "legendgroup": "Nepal",
         "marker": {
          "color": "#00cc96",
          "symbol": "circle"
         },
         "mode": "markers",
         "name": "Nepal",
         "orientation": "v",
         "showlegend": true,
         "type": "scatter",
         "x": [
          14
         ],
         "xaxis": "x",
         "y": [
          0.1
         ],
         "yaxis": "y"
        },
        {
         "hovertemplate": "Country=Nigeria<br>Cases in the last 7 days/1M pop=%{x}<br>Deaths in the last 7 days/1M pop=%{y}<extra></extra>",
         "legendgroup": "Nigeria",
         "marker": {
          "color": "#ab63fa",
          "symbol": "circle"
         },
         "mode": "markers",
         "name": "Nigeria",
         "orientation": "v",
         "showlegend": true,
         "type": "scatter",
         "x": [
          2
         ],
         "xaxis": "x",
         "y": [
          0
         ],
         "yaxis": "y"
        },
        {
         "hovertemplate": "Country=Curaçao<br>Cases in the last 7 days/1M pop=%{x}<br>Deaths in the last 7 days/1M pop=%{y}<extra></extra>",
         "legendgroup": "Curaçao",
         "marker": {
          "color": "#FFA15A",
          "symbol": "circle"
         },
         "mode": "markers",
         "name": "Curaçao",
         "orientation": "v",
         "showlegend": true,
         "type": "scatter",
         "x": [
          1973
         ],
         "xaxis": "x",
         "y": [
          6
         ],
         "yaxis": "y"
        },
        {
         "hovertemplate": "Country=Syria<br>Cases in the last 7 days/1M pop=%{x}<br>Deaths in the last 7 days/1M pop=%{y}<extra></extra>",
         "legendgroup": "Syria",
         "marker": {
          "color": "#19d3f3",
          "symbol": "circle"
         },
         "mode": "markers",
         "name": "Syria",
         "orientation": "v",
         "showlegend": true,
         "type": "scatter",
         "x": [
          17
         ],
         "xaxis": "x",
         "y": [
          1
         ],
         "yaxis": "y"
        },
        {
         "hovertemplate": "Country=Uzbekistan<br>Cases in the last 7 days/1M pop=%{x}<br>Deaths in the last 7 days/1M pop=%{y}<extra></extra>",
         "legendgroup": "Uzbekistan",
         "marker": {
          "color": "#FF6692",
          "symbol": "circle"
         },
         "mode": "markers",
         "name": "Uzbekistan",
         "orientation": "v",
         "showlegend": true,
         "type": "scatter",
         "x": [
          9
         ],
         "xaxis": "x",
         "y": [
          0
         ],
         "yaxis": "y"
        },
        {
         "hovertemplate": "Country=French Guiana<br>Cases in the last 7 days/1M pop=%{x}<br>Deaths in the last 7 days/1M pop=%{y}<extra></extra>",
         "legendgroup": "French Guiana",
         "marker": {
          "color": "#B6E880",
          "symbol": "circle"
         },
         "mode": "markers",
         "name": "French Guiana",
         "orientation": "v",
         "showlegend": true,
         "type": "scatter",
         "x": [
          904
         ],
         "xaxis": "x",
         "y": [
          0
         ],
         "yaxis": "y"
        },
        {
         "hovertemplate": "Country=Dominica<br>Cases in the last 7 days/1M pop=%{x}<br>Deaths in the last 7 days/1M pop=%{y}<extra></extra>",
         "legendgroup": "Dominica",
         "marker": {
          "color": "#FF97FF",
          "symbol": "circle"
         },
         "mode": "markers",
         "name": "Dominica",
         "orientation": "v",
         "showlegend": true,
         "type": "scatter",
         "x": [
          3887
         ],
         "xaxis": "x",
         "y": [
          14
         ],
         "yaxis": "y"
        },
        {
         "hovertemplate": "Country=Monaco<br>Cases in the last 7 days/1M pop=%{x}<br>Deaths in the last 7 days/1M pop=%{y}<extra></extra>",
         "legendgroup": "Monaco",
         "marker": {
          "color": "#FECB52",
          "symbol": "circle"
         },
         "mode": "markers",
         "name": "Monaco",
         "orientation": "v",
         "showlegend": true,
         "type": "scatter",
         "x": [
          6522
         ],
         "xaxis": "x",
         "y": [
          25
         ],
         "yaxis": "y"
        },
        {
         "hovertemplate": "Country=Gibraltar<br>Cases in the last 7 days/1M pop=%{x}<br>Deaths in the last 7 days/1M pop=%{y}<extra></extra>",
         "legendgroup": "Gibraltar",
         "marker": {
          "color": "#636efa",
          "symbol": "circle"
         },
         "mode": "markers",
         "name": "Gibraltar",
         "orientation": "v",
         "showlegend": true,
         "type": "scatter",
         "x": [
          7484
         ],
         "xaxis": "x",
         "y": [
          0
         ],
         "yaxis": "y"
        },
        {
         "hovertemplate": "Country=Suriname<br>Cases in the last 7 days/1M pop=%{x}<br>Deaths in the last 7 days/1M pop=%{y}<extra></extra>",
         "legendgroup": "Suriname",
         "marker": {
          "color": "#EF553B",
          "symbol": "circle"
         },
         "mode": "markers",
         "name": "Suriname",
         "orientation": "v",
         "showlegend": true,
         "type": "scatter",
         "x": [
          423
         ],
         "xaxis": "x",
         "y": [
          5
         ],
         "yaxis": "y"
        },
        {
         "hovertemplate": "Country=Bermuda<br>Cases in the last 7 days/1M pop=%{x}<br>Deaths in the last 7 days/1M pop=%{y}<extra></extra>",
         "legendgroup": "Bermuda",
         "marker": {
          "color": "#00cc96",
          "symbol": "circle"
         },
         "mode": "markers",
         "name": "Bermuda",
         "orientation": "v",
         "showlegend": true,
         "type": "scatter",
         "x": [
          3975
         ],
         "xaxis": "x",
         "y": [
          32
         ],
         "yaxis": "y"
        },
        {
         "hovertemplate": "Country=Vanuatu<br>Cases in the last 7 days/1M pop=%{x}<br>Deaths in the last 7 days/1M pop=%{y}<extra></extra>",
         "legendgroup": "Vanuatu",
         "marker": {
          "color": "#ab63fa",
          "symbol": "circle"
         },
         "mode": "markers",
         "name": "Vanuatu",
         "orientation": "v",
         "showlegend": true,
         "type": "scatter",
         "x": [
          752
         ],
         "xaxis": "x",
         "y": [
          0
         ],
         "yaxis": "y"
        },
        {
         "hovertemplate": "Country=Cook Islands<br>Cases in the last 7 days/1M pop=%{x}<br>Deaths in the last 7 days/1M pop=%{y}<extra></extra>",
         "legendgroup": "Cook Islands",
         "marker": {
          "color": "#FFA15A",
          "symbol": "circle"
         },
         "mode": "markers",
         "name": "Cook Islands",
         "orientation": "v",
         "showlegend": true,
         "type": "scatter",
         "x": [
          13530
         ],
         "xaxis": "x",
         "y": [
          0
         ],
         "yaxis": "y"
        },
        {
         "hovertemplate": "Country=Ethiopia<br>Cases in the last 7 days/1M pop=%{x}<br>Deaths in the last 7 days/1M pop=%{y}<extra></extra>",
         "legendgroup": "Ethiopia",
         "marker": {
          "color": "#19d3f3",
          "symbol": "circle"
         },
         "mode": "markers",
         "name": "Ethiopia",
         "orientation": "v",
         "showlegend": true,
         "type": "scatter",
         "x": [
          2
         ],
         "xaxis": "x",
         "y": [
          0.1
         ],
         "yaxis": "y"
        },
        {
         "hovertemplate": "Country=San Marino<br>Cases in the last 7 days/1M pop=%{x}<br>Deaths in the last 7 days/1M pop=%{y}<extra></extra>",
         "legendgroup": "San Marino",
         "marker": {
          "color": "#FF6692",
          "symbol": "circle"
         },
         "mode": "markers",
         "name": "San Marino",
         "orientation": "v",
         "showlegend": true,
         "type": "scatter",
         "x": [
          5961
         ],
         "xaxis": "x",
         "y": [
          0
         ],
         "yaxis": "y"
        },
        {
         "hovertemplate": "Country=Seychelles<br>Cases in the last 7 days/1M pop=%{x}<br>Deaths in the last 7 days/1M pop=%{y}<extra></extra>",
         "legendgroup": "Seychelles",
         "marker": {
          "color": "#B6E880",
          "symbol": "circle"
         },
         "mode": "markers",
         "name": "Seychelles",
         "orientation": "v",
         "showlegend": true,
         "type": "scatter",
         "x": [
          2033
         ],
         "xaxis": "x",
         "y": [
          0
         ],
         "yaxis": "y"
        },
        {
         "hovertemplate": "Country=Belize<br>Cases in the last 7 days/1M pop=%{x}<br>Deaths in the last 7 days/1M pop=%{y}<extra></extra>",
         "legendgroup": "Belize",
         "marker": {
          "color": "#FF97FF",
          "symbol": "circle"
         },
         "mode": "markers",
         "name": "Belize",
         "orientation": "v",
         "showlegend": true,
         "type": "scatter",
         "x": [
          476
         ],
         "xaxis": "x",
         "y": [
          2
         ],
         "yaxis": "y"
        },
        {
         "hovertemplate": "Country=Saint Pierre Miquelon<br>Cases in the last 7 days/1M pop=%{x}<br>Deaths in the last 7 days/1M pop=%{y}<extra></extra>",
         "legendgroup": "Saint Pierre Miquelon",
         "marker": {
          "color": "#FECB52",
          "symbol": "circle"
         },
         "mode": "markers",
         "name": "Saint Pierre Miquelon",
         "orientation": "v",
         "showlegend": true,
         "type": "scatter",
         "x": [
          33241
         ],
         "xaxis": "x",
         "y": [
          0
         ],
         "yaxis": "y"
        },
        {
         "hovertemplate": "Country=DRC<br>Cases in the last 7 days/1M pop=%{x}<br>Deaths in the last 7 days/1M pop=%{y}<extra></extra>",
         "legendgroup": "DRC",
         "marker": {
          "color": "#636efa",
          "symbol": "circle"
         },
         "mode": "markers",
         "name": "DRC",
         "orientation": "v",
         "showlegend": true,
         "type": "scatter",
         "x": [
          2
         ],
         "xaxis": "x",
         "y": [
          0
         ],
         "yaxis": "y"
        },
        {
         "hovertemplate": "Country=Jamaica<br>Cases in the last 7 days/1M pop=%{x}<br>Deaths in the last 7 days/1M pop=%{y}<extra></extra>",
         "legendgroup": "Jamaica",
         "marker": {
          "color": "#EF553B",
          "symbol": "circle"
         },
         "mode": "markers",
         "name": "Jamaica",
         "orientation": "v",
         "showlegend": true,
         "type": "scatter",
         "x": [
          63
         ],
         "xaxis": "x",
         "y": [
          7
         ],
         "yaxis": "y"
        },
        {
         "hovertemplate": "Country=Andorra<br>Cases in the last 7 days/1M pop=%{x}<br>Deaths in the last 7 days/1M pop=%{y}<extra></extra>",
         "legendgroup": "Andorra",
         "marker": {
          "color": "#00cc96",
          "symbol": "circle"
         },
         "mode": "markers",
         "name": "Andorra",
         "orientation": "v",
         "showlegend": true,
         "type": "scatter",
         "x": [
          2246
         ],
         "xaxis": "x",
         "y": [
          13
         ],
         "yaxis": "y"
        },
        {
         "hovertemplate": "Country=Algeria<br>Cases in the last 7 days/1M pop=%{x}<br>Deaths in the last 7 days/1M pop=%{y}<extra></extra>",
         "legendgroup": "Algeria",
         "marker": {
          "color": "#ab63fa",
          "symbol": "circle"
         },
         "mode": "markers",
         "name": "Algeria",
         "orientation": "v",
         "showlegend": true,
         "type": "scatter",
         "x": [
          4
         ],
         "xaxis": "x",
         "y": [
          0.2
         ],
         "yaxis": "y"
        },
        {
         "hovertemplate": "Country=Eswatini<br>Cases in the last 7 days/1M pop=%{x}<br>Deaths in the last 7 days/1M pop=%{y}<extra></extra>",
         "legendgroup": "Eswatini",
         "marker": {
          "color": "#FFA15A",
          "symbol": "circle"
         },
         "mode": "markers",
         "name": "Eswatini",
         "orientation": "v",
         "showlegend": true,
         "type": "scatter",
         "x": [
          129
         ],
         "xaxis": "x",
         "y": [
          0.8
         ],
         "yaxis": "y"
        },
        {
         "hovertemplate": "Country=Angola<br>Cases in the last 7 days/1M pop=%{x}<br>Deaths in the last 7 days/1M pop=%{y}<extra></extra>",
         "legendgroup": "Angola",
         "marker": {
          "color": "#19d3f3",
          "symbol": "circle"
         },
         "mode": "markers",
         "name": "Angola",
         "orientation": "v",
         "showlegend": true,
         "type": "scatter",
         "x": [
          4
         ],
         "xaxis": "x",
         "y": [
          0
         ],
         "yaxis": "y"
        },
        {
         "hovertemplate": "Country=Uganda<br>Cases in the last 7 days/1M pop=%{x}<br>Deaths in the last 7 days/1M pop=%{y}<extra></extra>",
         "legendgroup": "Uganda",
         "marker": {
          "color": "#FF6692",
          "symbol": "circle"
         },
         "mode": "markers",
         "name": "Uganda",
         "orientation": "v",
         "showlegend": true,
         "type": "scatter",
         "x": [
          2
         ],
         "xaxis": "x",
         "y": [
          0
         ],
         "yaxis": "y"
        },
        {
         "hovertemplate": "Country=Tanzania<br>Cases in the last 7 days/1M pop=%{x}<br>Deaths in the last 7 days/1M pop=%{y}<extra></extra>",
         "legendgroup": "Tanzania",
         "marker": {
          "color": "#B6E880",
          "symbol": "circle"
         },
         "mode": "markers",
         "name": "Tanzania",
         "orientation": "v",
         "showlegend": true,
         "type": "scatter",
         "x": [
          2
         ],
         "xaxis": "x",
         "y": [
          0
         ],
         "yaxis": "y"
        },
        {
         "hovertemplate": "Country=Kenya<br>Cases in the last 7 days/1M pop=%{x}<br>Deaths in the last 7 days/1M pop=%{y}<extra></extra>",
         "legendgroup": "Kenya",
         "marker": {
          "color": "#FF97FF",
          "symbol": "circle"
         },
         "mode": "markers",
         "name": "Kenya",
         "orientation": "v",
         "showlegend": true,
         "type": "scatter",
         "x": [
          2
         ],
         "xaxis": "x",
         "y": [
          0.1
         ],
         "yaxis": "y"
        },
        {
         "hovertemplate": "Country=Kyrgyzstan<br>Cases in the last 7 days/1M pop=%{x}<br>Deaths in the last 7 days/1M pop=%{y}<extra></extra>",
         "legendgroup": "Kyrgyzstan",
         "marker": {
          "color": "#FECB52",
          "symbol": "circle"
         },
         "mode": "markers",
         "name": "Kyrgyzstan",
         "orientation": "v",
         "showlegend": true,
         "type": "scatter",
         "x": [
          15
         ],
         "xaxis": "x",
         "y": [
          1
         ],
         "yaxis": "y"
        },
        {
         "hovertemplate": "Country=Nicaragua<br>Cases in the last 7 days/1M pop=%{x}<br>Deaths in the last 7 days/1M pop=%{y}<extra></extra>",
         "legendgroup": "Nicaragua",
         "marker": {
          "color": "#636efa",
          "symbol": "circle"
         },
         "mode": "markers",
         "name": "Nicaragua",
         "orientation": "v",
         "showlegend": true,
         "type": "scatter",
         "x": [
          15
         ],
         "xaxis": "x",
         "y": [
          0.1
         ],
         "yaxis": "y"
        },
        {
         "hovertemplate": "Country=Burundi<br>Cases in the last 7 days/1M pop=%{x}<br>Deaths in the last 7 days/1M pop=%{y}<extra></extra>",
         "legendgroup": "Burundi",
         "marker": {
          "color": "#EF553B",
          "symbol": "circle"
         },
         "mode": "markers",
         "name": "Burundi",
         "orientation": "v",
         "showlegend": true,
         "type": "scatter",
         "x": [
          8
         ],
         "xaxis": "x",
         "y": [
          0
         ],
         "yaxis": "y"
        },
        {
         "hovertemplate": "Country=Namibia<br>Cases in the last 7 days/1M pop=%{x}<br>Deaths in the last 7 days/1M pop=%{y}<extra></extra>",
         "legendgroup": "Namibia",
         "marker": {
          "color": "#00cc96",
          "symbol": "circle"
         },
         "mode": "markers",
         "name": "Namibia",
         "orientation": "v",
         "showlegend": true,
         "type": "scatter",
         "x": [
          34
         ],
         "xaxis": "x",
         "y": [
          0
         ],
         "yaxis": "y"
        },
        {
         "hovertemplate": "Country=Sudan<br>Cases in the last 7 days/1M pop=%{x}<br>Deaths in the last 7 days/1M pop=%{y}<extra></extra>",
         "legendgroup": "Sudan",
         "marker": {
          "color": "#ab63fa",
          "symbol": "circle"
         },
         "mode": "markers",
         "name": "Sudan",
         "orientation": "v",
         "showlegend": true,
         "type": "scatter",
         "x": [
          2
         ],
         "xaxis": "x",
         "y": [
          0.2
         ],
         "yaxis": "y"
        },
        {
         "hovertemplate": "Country=Guyana<br>Cases in the last 7 days/1M pop=%{x}<br>Deaths in the last 7 days/1M pop=%{y}<extra></extra>",
         "legendgroup": "Guyana",
         "marker": {
          "color": "#FFA15A",
          "symbol": "circle"
         },
         "mode": "markers",
         "name": "Guyana",
         "orientation": "v",
         "showlegend": true,
         "type": "scatter",
         "x": [
          107
         ],
         "xaxis": "x",
         "y": [
          3
         ],
         "yaxis": "y"
        },
        {
         "hovertemplate": "Country=Madagascar<br>Cases in the last 7 days/1M pop=%{x}<br>Deaths in the last 7 days/1M pop=%{y}<extra></extra>",
         "legendgroup": "Madagascar",
         "marker": {
          "color": "#19d3f3",
          "symbol": "circle"
         },
         "mode": "markers",
         "name": "Madagascar",
         "orientation": "v",
         "showlegend": true,
         "type": "scatter",
         "x": [
          3
         ],
         "xaxis": "x",
         "y": [
          0.1
         ],
         "yaxis": "y"
        },
        {
         "hovertemplate": "Country=Haiti<br>Cases in the last 7 days/1M pop=%{x}<br>Deaths in the last 7 days/1M pop=%{y}<extra></extra>",
         "legendgroup": "Haiti",
         "marker": {
          "color": "#FF6692",
          "symbol": "circle"
         },
         "mode": "markers",
         "name": "Haiti",
         "orientation": "v",
         "showlegend": true,
         "type": "scatter",
         "x": [
          7
         ],
         "xaxis": "x",
         "y": [
          0.3
         ],
         "yaxis": "y"
        },
        {
         "hovertemplate": "Country=Greenland<br>Cases in the last 7 days/1M pop=%{x}<br>Deaths in the last 7 days/1M pop=%{y}<extra></extra>",
         "legendgroup": "Greenland",
         "marker": {
          "color": "#B6E880",
          "symbol": "circle"
         },
         "mode": "markers",
         "name": "Greenland",
         "orientation": "v",
         "showlegend": true,
         "type": "scatter",
         "x": [
          1212
         ],
         "xaxis": "x",
         "y": [
          0
         ],
         "yaxis": "y"
        },
        {
         "hovertemplate": "Country=Lesotho<br>Cases in the last 7 days/1M pop=%{x}<br>Deaths in the last 7 days/1M pop=%{y}<extra></extra>",
         "legendgroup": "Lesotho",
         "marker": {
          "color": "#FF97FF",
          "symbol": "circle"
         },
         "mode": "markers",
         "name": "Lesotho",
         "orientation": "v",
         "showlegend": true,
         "type": "scatter",
         "x": [
          31
         ],
         "xaxis": "x",
         "y": [
          0
         ],
         "yaxis": "y"
        },
        {
         "hovertemplate": "Country=Aruba<br>Cases in the last 7 days/1M pop=%{x}<br>Deaths in the last 7 days/1M pop=%{y}<extra></extra>",
         "legendgroup": "Aruba",
         "marker": {
          "color": "#FECB52",
          "symbol": "circle"
         },
         "mode": "markers",
         "name": "Aruba",
         "orientation": "v",
         "showlegend": true,
         "type": "scatter",
         "x": [
          595
         ],
         "xaxis": "x",
         "y": [
          0
         ],
         "yaxis": "y"
        },
        {
         "hovertemplate": "Country=Cayman Islands<br>Cases in the last 7 days/1M pop=%{x}<br>Deaths in the last 7 days/1M pop=%{y}<extra></extra>",
         "legendgroup": "Cayman Islands",
         "marker": {
          "color": "#636efa",
          "symbol": "circle"
         },
         "mode": "markers",
         "name": "Cayman Islands",
         "orientation": "v",
         "showlegend": true,
         "type": "scatter",
         "x": [
          895
         ],
         "xaxis": "x",
         "y": [
          0
         ],
         "yaxis": "y"
        },
        {
         "hovertemplate": "Country=Malawi<br>Cases in the last 7 days/1M pop=%{x}<br>Deaths in the last 7 days/1M pop=%{y}<extra></extra>",
         "legendgroup": "Malawi",
         "marker": {
          "color": "#EF553B",
          "symbol": "circle"
         },
         "mode": "markers",
         "name": "Malawi",
         "orientation": "v",
         "showlegend": true,
         "type": "scatter",
         "x": [
          3
         ],
         "xaxis": "x",
         "y": [
          0.2
         ],
         "yaxis": "y"
        },
        {
         "hovertemplate": "Country=Saint Lucia<br>Cases in the last 7 days/1M pop=%{x}<br>Deaths in the last 7 days/1M pop=%{y}<extra></extra>",
         "legendgroup": "Saint Lucia",
         "marker": {
          "color": "#00cc96",
          "symbol": "circle"
         },
         "mode": "markers",
         "name": "Saint Lucia",
         "orientation": "v",
         "showlegend": true,
         "type": "scatter",
         "x": [
          313
         ],
         "xaxis": "x",
         "y": [
          16
         ],
         "yaxis": "y"
        },
        {
         "hovertemplate": "Country=Palau<br>Cases in the last 7 days/1M pop=%{x}<br>Deaths in the last 7 days/1M pop=%{y}<extra></extra>",
         "legendgroup": "Palau",
         "marker": {
          "color": "#ab63fa",
          "symbol": "circle"
         },
         "mode": "markers",
         "name": "Palau",
         "orientation": "v",
         "showlegend": true,
         "type": "scatter",
         "x": [
          3180
         ],
         "xaxis": "x",
         "y": [
          0
         ],
         "yaxis": "y"
        },
        {
         "hovertemplate": "Country=South Sudan<br>Cases in the last 7 days/1M pop=%{x}<br>Deaths in the last 7 days/1M pop=%{y}<extra></extra>",
         "legendgroup": "South Sudan",
         "marker": {
          "color": "#FFA15A",
          "symbol": "circle"
         },
         "mode": "markers",
         "name": "South Sudan",
         "orientation": "v",
         "showlegend": true,
         "type": "scatter",
         "x": [
          4
         ],
         "xaxis": "x",
         "y": [
          0.1
         ],
         "yaxis": "y"
        },
        {
         "hovertemplate": "Country=Fiji<br>Cases in the last 7 days/1M pop=%{x}<br>Deaths in the last 7 days/1M pop=%{y}<extra></extra>",
         "legendgroup": "Fiji",
         "marker": {
          "color": "#19d3f3",
          "symbol": "circle"
         },
         "mode": "markers",
         "name": "Fiji",
         "orientation": "v",
         "showlegend": true,
         "type": "scatter",
         "x": [
          52
         ],
         "xaxis": "x",
         "y": [
          0
         ],
         "yaxis": "y"
        },
        {
         "hovertemplate": "Country=Sint Maarten<br>Cases in the last 7 days/1M pop=%{x}<br>Deaths in the last 7 days/1M pop=%{y}<extra></extra>",
         "legendgroup": "Sint Maarten",
         "marker": {
          "color": "#FF6692",
          "symbol": "circle"
         },
         "mode": "markers",
         "name": "Sint Maarten",
         "orientation": "v",
         "showlegend": true,
         "type": "scatter",
         "x": [
          984
         ],
         "xaxis": "x",
         "y": [
          0
         ],
         "yaxis": "y"
        },
        {
         "hovertemplate": "Country=Ivory Coast<br>Cases in the last 7 days/1M pop=%{x}<br>Deaths in the last 7 days/1M pop=%{y}<extra></extra>",
         "legendgroup": "Ivory Coast",
         "marker": {
          "color": "#B6E880",
          "symbol": "circle"
         },
         "mode": "markers",
         "name": "Ivory Coast",
         "orientation": "v",
         "showlegend": true,
         "type": "scatter",
         "x": [
          2
         ],
         "xaxis": "x",
         "y": [
          0
         ],
         "yaxis": "y"
        },
        {
         "hovertemplate": "Country=Kiribati<br>Cases in the last 7 days/1M pop=%{x}<br>Deaths in the last 7 days/1M pop=%{y}<extra></extra>",
         "legendgroup": "Kiribati",
         "marker": {
          "color": "#FF97FF",
          "symbol": "circle"
         },
         "mode": "markers",
         "name": "Kiribati",
         "orientation": "v",
         "showlegend": true,
         "type": "scatter",
         "x": [
          343
         ],
         "xaxis": "x",
         "y": [
          8
         ],
         "yaxis": "y"
        },
        {
         "hovertemplate": "Country=Mayotte<br>Cases in the last 7 days/1M pop=%{x}<br>Deaths in the last 7 days/1M pop=%{y}<extra></extra>",
         "legendgroup": "Mayotte",
         "marker": {
          "color": "#FECB52",
          "symbol": "circle"
         },
         "mode": "markers",
         "name": "Mayotte",
         "orientation": "v",
         "showlegend": true,
         "type": "scatter",
         "x": [
          148
         ],
         "xaxis": "x",
         "y": [
          0
         ],
         "yaxis": "y"
        },
        {
         "hovertemplate": "Country=Rwanda<br>Cases in the last 7 days/1M pop=%{x}<br>Deaths in the last 7 days/1M pop=%{y}<extra></extra>",
         "legendgroup": "Rwanda",
         "marker": {
          "color": "#636efa",
          "symbol": "circle"
         },
         "mode": "markers",
         "name": "Rwanda",
         "orientation": "v",
         "showlegend": true,
         "type": "scatter",
         "x": [
          3
         ],
         "xaxis": "x",
         "y": [
          0
         ],
         "yaxis": "y"
        },
        {
         "hovertemplate": "Country=Caribbean Netherlands<br>Cases in the last 7 days/1M pop=%{x}<br>Deaths in the last 7 days/1M pop=%{y}<extra></extra>",
         "legendgroup": "Caribbean Netherlands",
         "marker": {
          "color": "#EF553B",
          "symbol": "circle"
         },
         "mode": "markers",
         "name": "Caribbean Netherlands",
         "orientation": "v",
         "showlegend": true,
         "type": "scatter",
         "x": [
          1464
         ],
         "xaxis": "x",
         "y": [
          0
         ],
         "yaxis": "y"
        },
        {
         "hovertemplate": "Country=Mozambique<br>Cases in the last 7 days/1M pop=%{x}<br>Deaths in the last 7 days/1M pop=%{y}<extra></extra>",
         "legendgroup": "Mozambique",
         "marker": {
          "color": "#00cc96",
          "symbol": "circle"
         },
         "mode": "markers",
         "name": "Mozambique",
         "orientation": "v",
         "showlegend": true,
         "type": "scatter",
         "x": [
          1
         ],
         "xaxis": "x",
         "y": [
          0.1
         ],
         "yaxis": "y"
        },
        {
         "hovertemplate": "Country=Senegal<br>Cases in the last 7 days/1M pop=%{x}<br>Deaths in the last 7 days/1M pop=%{y}<extra></extra>",
         "legendgroup": "Senegal",
         "marker": {
          "color": "#ab63fa",
          "symbol": "circle"
         },
         "mode": "markers",
         "name": "Senegal",
         "orientation": "v",
         "showlegend": true,
         "type": "scatter",
         "x": [
          2
         ],
         "xaxis": "x",
         "y": [
          0.1
         ],
         "yaxis": "y"
        },
        {
         "hovertemplate": "Country=Guinea-Bissau<br>Cases in the last 7 days/1M pop=%{x}<br>Deaths in the last 7 days/1M pop=%{y}<extra></extra>",
         "legendgroup": "Guinea-Bissau",
         "marker": {
          "color": "#FFA15A",
          "symbol": "circle"
         },
         "mode": "markers",
         "name": "Guinea-Bissau",
         "orientation": "v",
         "showlegend": true,
         "type": "scatter",
         "x": [
          17
         ],
         "xaxis": "x",
         "y": [
          0.5
         ],
         "yaxis": "y"
        },
        {
         "hovertemplate": "Country=Timor-Leste<br>Cases in the last 7 days/1M pop=%{x}<br>Deaths in the last 7 days/1M pop=%{y}<extra></extra>",
         "legendgroup": "Timor-Leste",
         "marker": {
          "color": "#19d3f3",
          "symbol": "circle"
         },
         "mode": "markers",
         "name": "Timor-Leste",
         "orientation": "v",
         "showlegend": true,
         "type": "scatter",
         "x": [
          22
         ],
         "xaxis": "x",
         "y": [
          0
         ],
         "yaxis": "y"
        },
        {
         "hovertemplate": "Country=Congo<br>Cases in the last 7 days/1M pop=%{x}<br>Deaths in the last 7 days/1M pop=%{y}<extra></extra>",
         "legendgroup": "Congo",
         "marker": {
          "color": "#FF6692",
          "symbol": "circle"
         },
         "mode": "markers",
         "name": "Congo",
         "orientation": "v",
         "showlegend": true,
         "type": "scatter",
         "x": [
          5
         ],
         "xaxis": "x",
         "y": [
          0
         ],
         "yaxis": "y"
        },
        {
         "hovertemplate": "Country=Togo<br>Cases in the last 7 days/1M pop=%{x}<br>Deaths in the last 7 days/1M pop=%{y}<extra></extra>",
         "legendgroup": "Togo",
         "marker": {
          "color": "#B6E880",
          "symbol": "circle"
         },
         "mode": "markers",
         "name": "Togo",
         "orientation": "v",
         "showlegend": true,
         "type": "scatter",
         "x": [
          3
         ],
         "xaxis": "x",
         "y": [
          0
         ],
         "yaxis": "y"
        },
        {
         "hovertemplate": "Country=Mali<br>Cases in the last 7 days/1M pop=%{x}<br>Deaths in the last 7 days/1M pop=%{y}<extra></extra>",
         "legendgroup": "Mali",
         "marker": {
          "color": "#FF97FF",
          "symbol": "circle"
         },
         "mode": "markers",
         "name": "Mali",
         "orientation": "v",
         "showlegend": true,
         "type": "scatter",
         "x": [
          1
         ],
         "xaxis": "x",
         "y": [
          0
         ],
         "yaxis": "y"
        },
        {
         "hovertemplate": "Country=Bahamas<br>Cases in the last 7 days/1M pop=%{x}<br>Deaths in the last 7 days/1M pop=%{y}<extra></extra>",
         "legendgroup": "Bahamas",
         "marker": {
          "color": "#FECB52",
          "symbol": "circle"
         },
         "mode": "markers",
         "name": "Bahamas",
         "orientation": "v",
         "showlegend": true,
         "type": "scatter",
         "x": [
          55
         ],
         "xaxis": "x",
         "y": [
          5
         ],
         "yaxis": "y"
        },
        {
         "hovertemplate": "Country=Anguilla<br>Cases in the last 7 days/1M pop=%{x}<br>Deaths in the last 7 days/1M pop=%{y}<extra></extra>",
         "legendgroup": "Anguilla",
         "marker": {
          "color": "#636efa",
          "symbol": "circle"
         },
         "mode": "markers",
         "name": "Anguilla",
         "orientation": "v",
         "showlegend": true,
         "type": "scatter",
         "x": [
          1379
         ],
         "xaxis": "x",
         "y": [
          0
         ],
         "yaxis": "y"
        },
        {
         "hovertemplate": "Country=Comoros<br>Cases in the last 7 days/1M pop=%{x}<br>Deaths in the last 7 days/1M pop=%{y}<extra></extra>",
         "legendgroup": "Comoros",
         "marker": {
          "color": "#EF553B",
          "symbol": "circle"
         },
         "mode": "markers",
         "name": "Comoros",
         "orientation": "v",
         "showlegend": true,
         "type": "scatter",
         "x": [
          23
         ],
         "xaxis": "x",
         "y": [
          0
         ],
         "yaxis": "y"
        },
        {
         "hovertemplate": "Country=Djibouti<br>Cases in the last 7 days/1M pop=%{x}<br>Deaths in the last 7 days/1M pop=%{y}<extra></extra>",
         "legendgroup": "Djibouti",
         "marker": {
          "color": "#00cc96",
          "symbol": "circle"
         },
         "mode": "markers",
         "name": "Djibouti",
         "orientation": "v",
         "showlegend": true,
         "type": "scatter",
         "x": [
          18
         ],
         "xaxis": "x",
         "y": [
          0
         ],
         "yaxis": "y"
        },
        {
         "hovertemplate": "Country=Gambia<br>Cases in the last 7 days/1M pop=%{x}<br>Deaths in the last 7 days/1M pop=%{y}<extra></extra>",
         "legendgroup": "Gambia",
         "marker": {
          "color": "#ab63fa",
          "symbol": "circle"
         },
         "mode": "markers",
         "name": "Gambia",
         "orientation": "v",
         "showlegend": true,
         "type": "scatter",
         "x": [
          7
         ],
         "xaxis": "x",
         "y": [
          0
         ],
         "yaxis": "y"
        },
        {
         "hovertemplate": "Country=Niger<br>Cases in the last 7 days/1M pop=%{x}<br>Deaths in the last 7 days/1M pop=%{y}<extra></extra>",
         "legendgroup": "Niger",
         "marker": {
          "color": "#FFA15A",
          "symbol": "circle"
         },
         "mode": "markers",
         "name": "Niger",
         "orientation": "v",
         "showlegend": true,
         "type": "scatter",
         "x": [
          0.5
         ],
         "xaxis": "x",
         "y": [
          0
         ],
         "yaxis": "y"
        },
        {
         "hovertemplate": "Country=British Virgin Islands<br>Cases in the last 7 days/1M pop=%{x}<br>Deaths in the last 7 days/1M pop=%{y}<extra></extra>",
         "legendgroup": "British Virgin Islands",
         "marker": {
          "color": "#19d3f3",
          "symbol": "circle"
         },
         "mode": "markers",
         "name": "British Virgin Islands",
         "orientation": "v",
         "showlegend": true,
         "type": "scatter",
         "x": [
          425
         ],
         "xaxis": "x",
         "y": [
          0
         ],
         "yaxis": "y"
        },
        {
         "hovertemplate": "Country=Liberia<br>Cases in the last 7 days/1M pop=%{x}<br>Deaths in the last 7 days/1M pop=%{y}<extra></extra>",
         "legendgroup": "Liberia",
         "marker": {
          "color": "#FF6692",
          "symbol": "circle"
         },
         "mode": "markers",
         "name": "Liberia",
         "orientation": "v",
         "showlegend": true,
         "type": "scatter",
         "x": [
          2
         ],
         "xaxis": "x",
         "y": [
          0
         ],
         "yaxis": "y"
        },
        {
         "hovertemplate": "Country=Yemen<br>Cases in the last 7 days/1M pop=%{x}<br>Deaths in the last 7 days/1M pop=%{y}<extra></extra>",
         "legendgroup": "Yemen",
         "marker": {
          "color": "#B6E880",
          "symbol": "circle"
         },
         "mode": "markers",
         "name": "Yemen",
         "orientation": "v",
         "showlegend": true,
         "type": "scatter",
         "x": [
          0.4
         ],
         "xaxis": "x",
         "y": [
          0
         ],
         "yaxis": "y"
        },
        {
         "hovertemplate": "Country=Antigua and Barbuda<br>Cases in the last 7 days/1M pop=%{x}<br>Deaths in the last 7 days/1M pop=%{y}<extra></extra>",
         "legendgroup": "Antigua and Barbuda",
         "marker": {
          "color": "#FF97FF",
          "symbol": "circle"
         },
         "mode": "markers",
         "name": "Antigua and Barbuda",
         "orientation": "v",
         "showlegend": true,
         "type": "scatter",
         "x": [
          111
         ],
         "xaxis": "x",
         "y": [
          0
         ],
         "yaxis": "y"
        },
        {
         "hovertemplate": "Country=Gabon<br>Cases in the last 7 days/1M pop=%{x}<br>Deaths in the last 7 days/1M pop=%{y}<extra></extra>",
         "legendgroup": "Gabon",
         "marker": {
          "color": "#FECB52",
          "symbol": "circle"
         },
         "mode": "markers",
         "name": "Gabon",
         "orientation": "v",
         "showlegend": true,
         "type": "scatter",
         "x": [
          5
         ],
         "xaxis": "x",
         "y": [
          0
         ],
         "yaxis": "y"
        },
        {
         "hovertemplate": "Country=Cabo Verde<br>Cases in the last 7 days/1M pop=%{x}<br>Deaths in the last 7 days/1M pop=%{y}<extra></extra>",
         "legendgroup": "Cabo Verde",
         "marker": {
          "color": "#636efa",
          "symbol": "circle"
         },
         "mode": "markers",
         "name": "Cabo Verde",
         "orientation": "v",
         "showlegend": true,
         "type": "scatter",
         "x": [
          16
         ],
         "xaxis": "x",
         "y": [
          0
         ],
         "yaxis": "y"
        },
        {
         "hovertemplate": "Country=Chad<br>Cases in the last 7 days/1M pop=%{x}<br>Deaths in the last 7 days/1M pop=%{y}<extra></extra>",
         "legendgroup": "Chad",
         "marker": {
          "color": "#EF553B",
          "symbol": "circle"
         },
         "mode": "markers",
         "name": "Chad",
         "orientation": "v",
         "showlegend": true,
         "type": "scatter",
         "x": [
          0.5
         ],
         "xaxis": "x",
         "y": [
          0
         ],
         "yaxis": "y"
        },
        {
         "hovertemplate": "Country=Guinea<br>Cases in the last 7 days/1M pop=%{x}<br>Deaths in the last 7 days/1M pop=%{y}<extra></extra>",
         "legendgroup": "Guinea",
         "marker": {
          "color": "#00cc96",
          "symbol": "circle"
         },
         "mode": "markers",
         "name": "Guinea",
         "orientation": "v",
         "showlegend": true,
         "type": "scatter",
         "x": [
          0.6
         ],
         "xaxis": "x",
         "y": [
          0
         ],
         "yaxis": "y"
        },
        {
         "hovertemplate": "Country=Mauritania<br>Cases in the last 7 days/1M pop=%{x}<br>Deaths in the last 7 days/1M pop=%{y}<extra></extra>",
         "legendgroup": "Mauritania",
         "marker": {
          "color": "#ab63fa",
          "symbol": "circle"
         },
         "mode": "markers",
         "name": "Mauritania",
         "orientation": "v",
         "showlegend": true,
         "type": "scatter",
         "x": [
          1
         ],
         "xaxis": "x",
         "y": [
          0.2
         ],
         "yaxis": "y"
        },
        {
         "hovertemplate": "Country=Samoa<br>Cases in the last 7 days/1M pop=%{x}<br>Deaths in the last 7 days/1M pop=%{y}<extra></extra>",
         "legendgroup": "Samoa",
         "marker": {
          "color": "#FFA15A",
          "symbol": "circle"
         },
         "mode": "markers",
         "name": "Samoa",
         "orientation": "v",
         "showlegend": true,
         "type": "scatter",
         "x": [
          35
         ],
         "xaxis": "x",
         "y": [
          0
         ],
         "yaxis": "y"
        },
        {
         "hovertemplate": "Country=Turks and Caicos<br>Cases in the last 7 days/1M pop=%{x}<br>Deaths in the last 7 days/1M pop=%{y}<extra></extra>",
         "legendgroup": "Turks and Caicos",
         "marker": {
          "color": "#19d3f3",
          "symbol": "circle"
         },
         "mode": "markers",
         "name": "Turks and Caicos",
         "orientation": "v",
         "showlegend": true,
         "type": "scatter",
         "x": [
          177
         ],
         "xaxis": "x",
         "y": [
          0
         ],
         "yaxis": "y"
        },
        {
         "hovertemplate": "Country=Eritrea<br>Cases in the last 7 days/1M pop=%{x}<br>Deaths in the last 7 days/1M pop=%{y}<extra></extra>",
         "legendgroup": "Eritrea",
         "marker": {
          "color": "#FF6692",
          "symbol": "circle"
         },
         "mode": "markers",
         "name": "Eritrea",
         "orientation": "v",
         "showlegend": true,
         "type": "scatter",
         "x": [
          2
         ],
         "xaxis": "x",
         "y": [
          0
         ],
         "yaxis": "y"
        },
        {
         "hovertemplate": "Country=Saint Kitts and Nevis<br>Cases in the last 7 days/1M pop=%{x}<br>Deaths in the last 7 days/1M pop=%{y}<extra></extra>",
         "legendgroup": "Saint Kitts and Nevis",
         "marker": {
          "color": "#B6E880",
          "symbol": "circle"
         },
         "mode": "markers",
         "name": "Saint Kitts and Nevis",
         "orientation": "v",
         "showlegend": true,
         "type": "scatter",
         "x": [
          93
         ],
         "xaxis": "x",
         "y": [
          0
         ],
         "yaxis": "y"
        },
        {
         "hovertemplate": "Country=Equatorial Guinea<br>Cases in the last 7 days/1M pop=%{x}<br>Deaths in the last 7 days/1M pop=%{y}<extra></extra>",
         "legendgroup": "Equatorial Guinea",
         "marker": {
          "color": "#FF97FF",
          "symbol": "circle"
         },
         "mode": "markers",
         "name": "Equatorial Guinea",
         "orientation": "v",
         "showlegend": true,
         "type": "scatter",
         "x": [
          3
         ],
         "xaxis": "x",
         "y": [
          0
         ],
         "yaxis": "y"
        },
        {
         "hovertemplate": "Country=Falkland Islands<br>Cases in the last 7 days/1M pop=%{x}<br>Deaths in the last 7 days/1M pop=%{y}<extra></extra>",
         "legendgroup": "Falkland Islands",
         "marker": {
          "color": "#FECB52",
          "symbol": "circle"
         },
         "mode": "markers",
         "name": "Falkland Islands",
         "orientation": "v",
         "showlegend": true,
         "type": "scatter",
         "x": [
          821
         ],
         "xaxis": "x",
         "y": [
          0
         ],
         "yaxis": "y"
        },
        {
         "hovertemplate": "Country=Montserrat<br>Cases in the last 7 days/1M pop=%{x}<br>Deaths in the last 7 days/1M pop=%{y}<extra></extra>",
         "legendgroup": "Montserrat",
         "marker": {
          "color": "#636efa",
          "symbol": "circle"
         },
         "mode": "markers",
         "name": "Montserrat",
         "orientation": "v",
         "showlegend": true,
         "type": "scatter",
         "x": [
          400
         ],
         "xaxis": "x",
         "y": [
          0
         ],
         "yaxis": "y"
        },
        {
         "hovertemplate": "Country=Sao Tome and Principe<br>Cases in the last 7 days/1M pop=%{x}<br>Deaths in the last 7 days/1M pop=%{y}<extra></extra>",
         "legendgroup": "Sao Tome and Principe",
         "marker": {
          "color": "#EF553B",
          "symbol": "circle"
         },
         "mode": "markers",
         "name": "Sao Tome and Principe",
         "orientation": "v",
         "showlegend": true,
         "type": "scatter",
         "x": [
          9
         ],
         "xaxis": "x",
         "y": [
          0
         ],
         "yaxis": "y"
        },
        {
         "hovertemplate": "Country=Sierra Leone<br>Cases in the last 7 days/1M pop=%{x}<br>Deaths in the last 7 days/1M pop=%{y}<extra></extra>",
         "legendgroup": "Sierra Leone",
         "marker": {
          "color": "#00cc96",
          "symbol": "circle"
         },
         "mode": "markers",
         "name": "Sierra Leone",
         "orientation": "v",
         "showlegend": true,
         "type": "scatter",
         "x": [
          0.2
         ],
         "xaxis": "x",
         "y": [
          0
         ],
         "yaxis": "y"
        },
        {
         "hovertemplate": "Country=Niue<br>Cases in the last 7 days/1M pop=%{x}<br>Deaths in the last 7 days/1M pop=%{y}<extra></extra>",
         "legendgroup": "Niue",
         "marker": {
          "color": "#ab63fa",
          "symbol": "circle"
         },
         "mode": "markers",
         "name": "Niue",
         "orientation": "v",
         "showlegend": true,
         "type": "scatter",
         "x": [
          608
         ],
         "xaxis": "x",
         "y": [
          0
         ],
         "yaxis": "y"
        },
        {
         "hovertemplate": "Country=St. Vincent Grenadines<br>Cases in the last 7 days/1M pop=%{x}<br>Deaths in the last 7 days/1M pop=%{y}<extra></extra>",
         "legendgroup": "St. Vincent Grenadines",
         "marker": {
          "color": "#FFA15A",
          "symbol": "circle"
         },
         "mode": "markers",
         "name": "St. Vincent Grenadines",
         "orientation": "v",
         "showlegend": true,
         "type": "scatter",
         "x": [
          9
         ],
         "xaxis": "x",
         "y": [
          0
         ],
         "yaxis": "y"
        },
        {
         "hovertemplate": "Country=Macao<br>Cases in the last 7 days/1M pop=%{x}<br>Deaths in the last 7 days/1M pop=%{y}<extra></extra>",
         "legendgroup": "Macao",
         "marker": {
          "color": "#19d3f3",
          "symbol": "circle"
         },
         "mode": "markers",
         "name": "Macao",
         "orientation": "v",
         "showlegend": true,
         "type": "scatter",
         "x": [
          0
         ],
         "xaxis": "x",
         "y": [
          0
         ],
         "yaxis": "y"
        },
        {
         "hovertemplate": "Country=Benin<br>Cases in the last 7 days/1M pop=%{x}<br>Deaths in the last 7 days/1M pop=%{y}<extra></extra>",
         "legendgroup": "Benin",
         "marker": {
          "color": "#FF6692",
          "symbol": "circle"
         },
         "mode": "markers",
         "name": "Benin",
         "orientation": "v",
         "showlegend": true,
         "type": "scatter",
         "x": [
          0
         ],
         "xaxis": "x",
         "y": [
          0
         ],
         "yaxis": "y"
        },
        {
         "hovertemplate": "Country=Cameroon<br>Cases in the last 7 days/1M pop=%{x}<br>Deaths in the last 7 days/1M pop=%{y}<extra></extra>",
         "legendgroup": "Cameroon",
         "marker": {
          "color": "#B6E880",
          "symbol": "circle"
         },
         "mode": "markers",
         "name": "Cameroon",
         "orientation": "v",
         "showlegend": true,
         "type": "scatter",
         "x": [
          0
         ],
         "xaxis": "x",
         "y": [
          0
         ],
         "yaxis": "y"
        },
        {
         "hovertemplate": "Country=CAR<br>Cases in the last 7 days/1M pop=%{x}<br>Deaths in the last 7 days/1M pop=%{y}<extra></extra>",
         "legendgroup": "CAR",
         "marker": {
          "color": "#FF97FF",
          "symbol": "circle"
         },
         "mode": "markers",
         "name": "CAR",
         "orientation": "v",
         "showlegend": true,
         "type": "scatter",
         "x": [
          0
         ],
         "xaxis": "x",
         "y": [
          0
         ],
         "yaxis": "y"
        },
        {
         "hovertemplate": "Country=El Salvador<br>Cases in the last 7 days/1M pop=%{x}<br>Deaths in the last 7 days/1M pop=%{y}<extra></extra>",
         "legendgroup": "El Salvador",
         "marker": {
          "color": "#FECB52",
          "symbol": "circle"
         },
         "mode": "markers",
         "name": "El Salvador",
         "orientation": "v",
         "showlegend": true,
         "type": "scatter",
         "x": [
          0
         ],
         "xaxis": "x",
         "y": [
          2
         ],
         "yaxis": "y"
        },
        {
         "hovertemplate": "Country=Papua New Guinea<br>Cases in the last 7 days/1M pop=%{x}<br>Deaths in the last 7 days/1M pop=%{y}<extra></extra>",
         "legendgroup": "Papua New Guinea",
         "marker": {
          "color": "#636efa",
          "symbol": "circle"
         },
         "mode": "markers",
         "name": "Papua New Guinea",
         "orientation": "v",
         "showlegend": true,
         "type": "scatter",
         "x": [
          0
         ],
         "xaxis": "x",
         "y": [
          0
         ],
         "yaxis": "y"
        },
        {
         "hovertemplate": "Country=St. Barth<br>Cases in the last 7 days/1M pop=%{x}<br>Deaths in the last 7 days/1M pop=%{y}<extra></extra>",
         "legendgroup": "St. Barth",
         "marker": {
          "color": "#EF553B",
          "symbol": "circle"
         },
         "mode": "markers",
         "name": "St. Barth",
         "orientation": "v",
         "showlegend": true,
         "type": "scatter",
         "x": [
          0
         ],
         "xaxis": "x",
         "y": [
          0
         ],
         "yaxis": "y"
        },
        {
         "hovertemplate": "Country=Saint Martin<br>Cases in the last 7 days/1M pop=%{x}<br>Deaths in the last 7 days/1M pop=%{y}<extra></extra>",
         "legendgroup": "Saint Martin",
         "marker": {
          "color": "#00cc96",
          "symbol": "circle"
         },
         "mode": "markers",
         "name": "Saint Martin",
         "orientation": "v",
         "showlegend": true,
         "type": "scatter",
         "x": [
          0
         ],
         "xaxis": "x",
         "y": [
          0
         ],
         "yaxis": "y"
        },
        {
         "hovertemplate": "Country=Somalia<br>Cases in the last 7 days/1M pop=%{x}<br>Deaths in the last 7 days/1M pop=%{y}<extra></extra>",
         "legendgroup": "Somalia",
         "marker": {
          "color": "#ab63fa",
          "symbol": "circle"
         },
         "mode": "markers",
         "name": "Somalia",
         "orientation": "v",
         "showlegend": true,
         "type": "scatter",
         "x": [
          0
         ],
         "xaxis": "x",
         "y": [
          0
         ],
         "yaxis": "y"
        }
       ],
       "layout": {
        "height": 500,
        "legend": {
         "title": {
          "text": "Country"
         },
         "tracegroupgap": 0
        },
        "template": {
         "data": {
          "bar": [
           {
            "error_x": {
             "color": "#2a3f5f"
            },
            "error_y": {
             "color": "#2a3f5f"
            },
            "marker": {
             "line": {
              "color": "#E5ECF6",
              "width": 0.5
             },
             "pattern": {
              "fillmode": "overlay",
              "size": 10,
              "solidity": 0.2
             }
            },
            "type": "bar"
           }
          ],
          "barpolar": [
           {
            "marker": {
             "line": {
              "color": "#E5ECF6",
              "width": 0.5
             },
             "pattern": {
              "fillmode": "overlay",
              "size": 10,
              "solidity": 0.2
             }
            },
            "type": "barpolar"
           }
          ],
          "carpet": [
           {
            "aaxis": {
             "endlinecolor": "#2a3f5f",
             "gridcolor": "white",
             "linecolor": "white",
             "minorgridcolor": "white",
             "startlinecolor": "#2a3f5f"
            },
            "baxis": {
             "endlinecolor": "#2a3f5f",
             "gridcolor": "white",
             "linecolor": "white",
             "minorgridcolor": "white",
             "startlinecolor": "#2a3f5f"
            },
            "type": "carpet"
           }
          ],
          "choropleth": [
           {
            "colorbar": {
             "outlinewidth": 0,
             "ticks": ""
            },
            "type": "choropleth"
           }
          ],
          "contour": [
           {
            "colorbar": {
             "outlinewidth": 0,
             "ticks": ""
            },
            "colorscale": [
             [
              0,
              "#0d0887"
             ],
             [
              0.1111111111111111,
              "#46039f"
             ],
             [
              0.2222222222222222,
              "#7201a8"
             ],
             [
              0.3333333333333333,
              "#9c179e"
             ],
             [
              0.4444444444444444,
              "#bd3786"
             ],
             [
              0.5555555555555556,
              "#d8576b"
             ],
             [
              0.6666666666666666,
              "#ed7953"
             ],
             [
              0.7777777777777778,
              "#fb9f3a"
             ],
             [
              0.8888888888888888,
              "#fdca26"
             ],
             [
              1,
              "#f0f921"
             ]
            ],
            "type": "contour"
           }
          ],
          "contourcarpet": [
           {
            "colorbar": {
             "outlinewidth": 0,
             "ticks": ""
            },
            "type": "contourcarpet"
           }
          ],
          "heatmap": [
           {
            "colorbar": {
             "outlinewidth": 0,
             "ticks": ""
            },
            "colorscale": [
             [
              0,
              "#0d0887"
             ],
             [
              0.1111111111111111,
              "#46039f"
             ],
             [
              0.2222222222222222,
              "#7201a8"
             ],
             [
              0.3333333333333333,
              "#9c179e"
             ],
             [
              0.4444444444444444,
              "#bd3786"
             ],
             [
              0.5555555555555556,
              "#d8576b"
             ],
             [
              0.6666666666666666,
              "#ed7953"
             ],
             [
              0.7777777777777778,
              "#fb9f3a"
             ],
             [
              0.8888888888888888,
              "#fdca26"
             ],
             [
              1,
              "#f0f921"
             ]
            ],
            "type": "heatmap"
           }
          ],
          "heatmapgl": [
           {
            "colorbar": {
             "outlinewidth": 0,
             "ticks": ""
            },
            "colorscale": [
             [
              0,
              "#0d0887"
             ],
             [
              0.1111111111111111,
              "#46039f"
             ],
             [
              0.2222222222222222,
              "#7201a8"
             ],
             [
              0.3333333333333333,
              "#9c179e"
             ],
             [
              0.4444444444444444,
              "#bd3786"
             ],
             [
              0.5555555555555556,
              "#d8576b"
             ],
             [
              0.6666666666666666,
              "#ed7953"
             ],
             [
              0.7777777777777778,
              "#fb9f3a"
             ],
             [
              0.8888888888888888,
              "#fdca26"
             ],
             [
              1,
              "#f0f921"
             ]
            ],
            "type": "heatmapgl"
           }
          ],
          "histogram": [
           {
            "marker": {
             "pattern": {
              "fillmode": "overlay",
              "size": 10,
              "solidity": 0.2
             }
            },
            "type": "histogram"
           }
          ],
          "histogram2d": [
           {
            "colorbar": {
             "outlinewidth": 0,
             "ticks": ""
            },
            "colorscale": [
             [
              0,
              "#0d0887"
             ],
             [
              0.1111111111111111,
              "#46039f"
             ],
             [
              0.2222222222222222,
              "#7201a8"
             ],
             [
              0.3333333333333333,
              "#9c179e"
             ],
             [
              0.4444444444444444,
              "#bd3786"
             ],
             [
              0.5555555555555556,
              "#d8576b"
             ],
             [
              0.6666666666666666,
              "#ed7953"
             ],
             [
              0.7777777777777778,
              "#fb9f3a"
             ],
             [
              0.8888888888888888,
              "#fdca26"
             ],
             [
              1,
              "#f0f921"
             ]
            ],
            "type": "histogram2d"
           }
          ],
          "histogram2dcontour": [
           {
            "colorbar": {
             "outlinewidth": 0,
             "ticks": ""
            },
            "colorscale": [
             [
              0,
              "#0d0887"
             ],
             [
              0.1111111111111111,
              "#46039f"
             ],
             [
              0.2222222222222222,
              "#7201a8"
             ],
             [
              0.3333333333333333,
              "#9c179e"
             ],
             [
              0.4444444444444444,
              "#bd3786"
             ],
             [
              0.5555555555555556,
              "#d8576b"
             ],
             [
              0.6666666666666666,
              "#ed7953"
             ],
             [
              0.7777777777777778,
              "#fb9f3a"
             ],
             [
              0.8888888888888888,
              "#fdca26"
             ],
             [
              1,
              "#f0f921"
             ]
            ],
            "type": "histogram2dcontour"
           }
          ],
          "mesh3d": [
           {
            "colorbar": {
             "outlinewidth": 0,
             "ticks": ""
            },
            "type": "mesh3d"
           }
          ],
          "parcoords": [
           {
            "line": {
             "colorbar": {
              "outlinewidth": 0,
              "ticks": ""
             }
            },
            "type": "parcoords"
           }
          ],
          "pie": [
           {
            "automargin": true,
            "type": "pie"
           }
          ],
          "scatter": [
           {
            "marker": {
             "colorbar": {
              "outlinewidth": 0,
              "ticks": ""
             }
            },
            "type": "scatter"
           }
          ],
          "scatter3d": [
           {
            "line": {
             "colorbar": {
              "outlinewidth": 0,
              "ticks": ""
             }
            },
            "marker": {
             "colorbar": {
              "outlinewidth": 0,
              "ticks": ""
             }
            },
            "type": "scatter3d"
           }
          ],
          "scattercarpet": [
           {
            "marker": {
             "colorbar": {
              "outlinewidth": 0,
              "ticks": ""
             }
            },
            "type": "scattercarpet"
           }
          ],
          "scattergeo": [
           {
            "marker": {
             "colorbar": {
              "outlinewidth": 0,
              "ticks": ""
             }
            },
            "type": "scattergeo"
           }
          ],
          "scattergl": [
           {
            "marker": {
             "colorbar": {
              "outlinewidth": 0,
              "ticks": ""
             }
            },
            "type": "scattergl"
           }
          ],
          "scattermapbox": [
           {
            "marker": {
             "colorbar": {
              "outlinewidth": 0,
              "ticks": ""
             }
            },
            "type": "scattermapbox"
           }
          ],
          "scatterpolar": [
           {
            "marker": {
             "colorbar": {
              "outlinewidth": 0,
              "ticks": ""
             }
            },
            "type": "scatterpolar"
           }
          ],
          "scatterpolargl": [
           {
            "marker": {
             "colorbar": {
              "outlinewidth": 0,
              "ticks": ""
             }
            },
            "type": "scatterpolargl"
           }
          ],
          "scatterternary": [
           {
            "marker": {
             "colorbar": {
              "outlinewidth": 0,
              "ticks": ""
             }
            },
            "type": "scatterternary"
           }
          ],
          "surface": [
           {
            "colorbar": {
             "outlinewidth": 0,
             "ticks": ""
            },
            "colorscale": [
             [
              0,
              "#0d0887"
             ],
             [
              0.1111111111111111,
              "#46039f"
             ],
             [
              0.2222222222222222,
              "#7201a8"
             ],
             [
              0.3333333333333333,
              "#9c179e"
             ],
             [
              0.4444444444444444,
              "#bd3786"
             ],
             [
              0.5555555555555556,
              "#d8576b"
             ],
             [
              0.6666666666666666,
              "#ed7953"
             ],
             [
              0.7777777777777778,
              "#fb9f3a"
             ],
             [
              0.8888888888888888,
              "#fdca26"
             ],
             [
              1,
              "#f0f921"
             ]
            ],
            "type": "surface"
           }
          ],
          "table": [
           {
            "cells": {
             "fill": {
              "color": "#EBF0F8"
             },
             "line": {
              "color": "white"
             }
            },
            "header": {
             "fill": {
              "color": "#C8D4E3"
             },
             "line": {
              "color": "white"
             }
            },
            "type": "table"
           }
          ]
         },
         "layout": {
          "annotationdefaults": {
           "arrowcolor": "#2a3f5f",
           "arrowhead": 0,
           "arrowwidth": 1
          },
          "autotypenumbers": "strict",
          "coloraxis": {
           "colorbar": {
            "outlinewidth": 0,
            "ticks": ""
           }
          },
          "colorscale": {
           "diverging": [
            [
             0,
             "#8e0152"
            ],
            [
             0.1,
             "#c51b7d"
            ],
            [
             0.2,
             "#de77ae"
            ],
            [
             0.3,
             "#f1b6da"
            ],
            [
             0.4,
             "#fde0ef"
            ],
            [
             0.5,
             "#f7f7f7"
            ],
            [
             0.6,
             "#e6f5d0"
            ],
            [
             0.7,
             "#b8e186"
            ],
            [
             0.8,
             "#7fbc41"
            ],
            [
             0.9,
             "#4d9221"
            ],
            [
             1,
             "#276419"
            ]
           ],
           "sequential": [
            [
             0,
             "#0d0887"
            ],
            [
             0.1111111111111111,
             "#46039f"
            ],
            [
             0.2222222222222222,
             "#7201a8"
            ],
            [
             0.3333333333333333,
             "#9c179e"
            ],
            [
             0.4444444444444444,
             "#bd3786"
            ],
            [
             0.5555555555555556,
             "#d8576b"
            ],
            [
             0.6666666666666666,
             "#ed7953"
            ],
            [
             0.7777777777777778,
             "#fb9f3a"
            ],
            [
             0.8888888888888888,
             "#fdca26"
            ],
            [
             1,
             "#f0f921"
            ]
           ],
           "sequentialminus": [
            [
             0,
             "#0d0887"
            ],
            [
             0.1111111111111111,
             "#46039f"
            ],
            [
             0.2222222222222222,
             "#7201a8"
            ],
            [
             0.3333333333333333,
             "#9c179e"
            ],
            [
             0.4444444444444444,
             "#bd3786"
            ],
            [
             0.5555555555555556,
             "#d8576b"
            ],
            [
             0.6666666666666666,
             "#ed7953"
            ],
            [
             0.7777777777777778,
             "#fb9f3a"
            ],
            [
             0.8888888888888888,
             "#fdca26"
            ],
            [
             1,
             "#f0f921"
            ]
           ]
          },
          "colorway": [
           "#636efa",
           "#EF553B",
           "#00cc96",
           "#ab63fa",
           "#FFA15A",
           "#19d3f3",
           "#FF6692",
           "#B6E880",
           "#FF97FF",
           "#FECB52"
          ],
          "font": {
           "color": "#2a3f5f"
          },
          "geo": {
           "bgcolor": "white",
           "lakecolor": "white",
           "landcolor": "#E5ECF6",
           "showlakes": true,
           "showland": true,
           "subunitcolor": "white"
          },
          "hoverlabel": {
           "align": "left"
          },
          "hovermode": "closest",
          "mapbox": {
           "style": "light"
          },
          "paper_bgcolor": "white",
          "plot_bgcolor": "#E5ECF6",
          "polar": {
           "angularaxis": {
            "gridcolor": "white",
            "linecolor": "white",
            "ticks": ""
           },
           "bgcolor": "#E5ECF6",
           "radialaxis": {
            "gridcolor": "white",
            "linecolor": "white",
            "ticks": ""
           }
          },
          "scene": {
           "xaxis": {
            "backgroundcolor": "#E5ECF6",
            "gridcolor": "white",
            "gridwidth": 2,
            "linecolor": "white",
            "showbackground": true,
            "ticks": "",
            "zerolinecolor": "white"
           },
           "yaxis": {
            "backgroundcolor": "#E5ECF6",
            "gridcolor": "white",
            "gridwidth": 2,
            "linecolor": "white",
            "showbackground": true,
            "ticks": "",
            "zerolinecolor": "white"
           },
           "zaxis": {
            "backgroundcolor": "#E5ECF6",
            "gridcolor": "white",
            "gridwidth": 2,
            "linecolor": "white",
            "showbackground": true,
            "ticks": "",
            "zerolinecolor": "white"
           }
          },
          "shapedefaults": {
           "line": {
            "color": "#2a3f5f"
           }
          },
          "ternary": {
           "aaxis": {
            "gridcolor": "white",
            "linecolor": "white",
            "ticks": ""
           },
           "baxis": {
            "gridcolor": "white",
            "linecolor": "white",
            "ticks": ""
           },
           "bgcolor": "#E5ECF6",
           "caxis": {
            "gridcolor": "white",
            "linecolor": "white",
            "ticks": ""
           }
          },
          "title": {
           "x": 0.05
          },
          "xaxis": {
           "automargin": true,
           "gridcolor": "white",
           "linecolor": "white",
           "ticks": "",
           "title": {
            "standoff": 15
           },
           "zerolinecolor": "white",
           "zerolinewidth": 2
          },
          "yaxis": {
           "automargin": true,
           "gridcolor": "white",
           "linecolor": "white",
           "ticks": "",
           "title": {
            "standoff": 15
           },
           "zerolinecolor": "white",
           "zerolinewidth": 2
          }
         }
        },
        "title": {
         "text": "With 1M POP"
        },
        "width": 1200,
        "xaxis": {
         "anchor": "y",
         "domain": [
          0,
          1
         ],
         "title": {
          "text": "Cases in the last 7 days/1M pop"
         }
        },
        "yaxis": {
         "anchor": "x",
         "domain": [
          0,
          1
         ],
         "title": {
          "text": "Deaths in the last 7 days/1M pop"
         }
        }
       }
      }
     },
     "metadata": {},
     "output_type": "display_data"
    }
   ],
   "source": [
    "scatterplot_df_week = df_covid_by_week[['Country','Cases in the last 7 days/1M pop','Deaths in the last 7 days/1M pop']]\n",
    "fig = px.scatter(scatterplot_df_week, x='Cases in the last 7 days/1M pop', y='Deaths in the last 7 days/1M pop',color='Country',title='With 1M POP')\n",
    "fig.update_layout(height=500, width=1200)\n",
    "fig.show()"
   ]
  },
  {
   "cell_type": "markdown",
   "metadata": {},
   "source": [
    "---"
   ]
  },
  {
   "cell_type": "markdown",
   "metadata": {},
   "source": [
    "### Heatmap"
   ]
  },
  {
   "cell_type": "markdown",
   "metadata": {},
   "source": [
    "Heatmap được sử dụng để trực quan độ nóng của 6 châu lục về trường dữ liệu số ca nhiễm mới mỗi ngày. \n",
    "\n",
    "Các trường dữ liệu MỚI khác đều có chung mô hình nên không cần phải trực quan."
   ]
  },
  {
   "cell_type": "code",
   "execution_count": 89,
   "metadata": {},
   "outputs": [],
   "source": [
    "heatmapplot_day_df = df_covid_by_day_plots.groupby(by=['Date','Continent']).sum().reset_index()\n",
    "heatmapplot_day_df = heatmapplot_day_df[heatmapplot_day_df['NewCases'] != 0]\n",
    "heatmapplot_day_df['Date'] = heatmapplot_day_df['Date'].dt.strftime('%d-%m')\n",
    "heatmapplot_day_df['Date'] = pd.Categorical(heatmapplot_day_df['Date'],categories=heatmapplot_day_df['Date'].unique(),ordered=True)"
   ]
  },
  {
   "cell_type": "code",
   "execution_count": 90,
   "metadata": {},
   "outputs": [
    {
     "data": {
      "text/plain": [
       "Text(0.5, 1.0, 'Số ca nhiễm mới mỗi ngày')"
      ]
     },
     "execution_count": 90,
     "metadata": {},
     "output_type": "execute_result"
    },
    {
     "data": {
      "image/png": "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",
      "text/plain": [
       "<Figure size 432x288 with 2 Axes>"
      ]
     },
     "metadata": {},
     "output_type": "display_data"
    }
   ],
   "source": [
    "heatmapplot_day_df_NewCases = heatmapplot_day_df.pivot_table(index='Continent',columns='Date',values='NewCases')\n",
    "ax = sns.heatmap(heatmapplot_day_df_NewCases)\n",
    "ax.set_title(\"Số ca nhiễm mới mỗi ngày\")"
   ]
  }
 ],
 "metadata": {
  "interpreter": {
   "hash": "b89b5cfaba6639976dc87ff2fec6d58faec662063367e2c229c520fe71072417"
  },
  "kernelspec": {
   "display_name": "Python 3 (ipykernel)",
   "language": "python",
   "name": "python3"
  },
  "language_info": {
   "codemirror_mode": {
    "name": "ipython",
    "version": 3
   },
   "file_extension": ".py",
   "mimetype": "text/x-python",
   "name": "python",
   "nbconvert_exporter": "python",
   "pygments_lexer": "ipython3",
   "version": "3.10.2"
  }
 },
 "nbformat": 4,
 "nbformat_minor": 2
}
